{
 "cells": [
  {
   "cell_type": "code",
   "execution_count": 3,
   "metadata": {},
   "outputs": [],
   "source": [
    "from selenium import webdriver\n",
    "from selenium.webdriver.chrome.options import Options\n",
    "from selenium.webdriver.chrome.service import Service\n",
    "from selenium.webdriver.common.by import By\n",
    "import time\n",
    "import pandas as pd\n",
    "import csv\n",
    "import glob\n",
    "\n",
    "def enable_download_headless(browser,\n",
    "                             download_dir):\n",
    "    browser.command_executor._commands[\"send_command\"] = (\n",
    "        \"POST\",'/session/$sessionId/chromium/send_command'\n",
    "        )\n",
    "    params = {'cmd':'Page.setDownloadBehavior',\n",
    "              'params': {'behavior': 'allow', 'downloadPath': download_dir}}\n",
    "    browser.execute(\"send_command\", params)\n",
    "\n",
    "dw_path = \"/home/anton/dima_experiments/esimo_loader/test_folder/\"\n",
    "options = Options()\n",
    "# set profile for chrome\n",
    "options = Options()\n",
    "options.add_argument(\"--disable-notifications\")\n",
    "options.add_argument('--no-sandbox')\n",
    "options.add_argument('--verbose')\n",
    "options.add_experimental_option(\"prefs\", {\n",
    "    \"download.default_directory\": f'{dw_path}',\n",
    "    \"download.prompt_for_download\": False,\n",
    "    \"download.directory_upgrade\": True,\n",
    "})\n",
    "options.add_argument('--disable-gpu')\n",
    "options.add_argument('--disable-software-rasterizer')\n",
    "options.add_argument('--headless')\n",
    "\n",
    "driver = webdriver.Chrome(service=Service(\"/usr/bin/chromedriver\"),\n",
    "                          options=options)\n",
    "\n",
    "enable_download_headless(driver, f\"{dw_path}\")\n",
    "\n",
    "esimo = 'http://portal.esimo.ru'\n",
    "viewer = 'dataview/viewresource?resourceId=RU_RIHMI-WDC_1325_1'\n",
    "website = f'{esimo}/{viewer}'\n",
    "driver.get(website)\n",
    "time.sleep(240)\n",
    "driver.find_element(by=By.CSS_SELECTOR,\n",
    "                    value=\"div.portlet-form-button.portlet-icon.icon-tools\").click()\n",
    "time.sleep(180)\n",
    "driver.find_element(by=By.CSS_SELECTOR,\n",
    "                    value=\"#display-analytics-export-csv\").click()\n",
    "time.sleep(180)\n",
    "\n",
    "driver.quit()\n",
    "\n",
    "\n"
   ]
  },
  {
   "attachments": {},
   "cell_type": "markdown",
   "metadata": {},
   "source": [
    "## Initial level observations"
   ]
  },
  {
   "cell_type": "code",
   "execution_count": 8,
   "metadata": {},
   "outputs": [],
   "source": [
    "# saver\n",
    "with open('./data.csv', newline='') as csvfile:\n",
    "    data = csv.reader(csvfile, delimiter=',', quotechar='\"')\n",
    "    res_str = next(data)\n",
    "\n",
    "res_str = [word.replace(',', '') for word in res_str]\n",
    "\n",
    "file = pd.read_csv('./data.csv',\n",
    "                   sep=',', names=res_str,\n",
    "                   skiprows=1, skipfooter=1,\n",
    "                   on_bad_lines='skip',\n",
    "                   quotechar='\"',\n",
    "                   engine='python', encoding='utf-8')\n",
    "\n",
    "group_gauge = file.groupby(\n",
    "    by='Платформа: идентификатор локальный').groups\n",
    "\n",
    "result_folder = '/home/anton/dima_experiments/geo_data/esimo_data'\n",
    "\n",
    "for gauge_id, loc_index in group_gauge.items():\n",
    "\n",
    "    gauge = file.loc[loc_index][['Платформа: идентификатор локальный',\n",
    "                                 'Дата и время',\n",
    "                                 'Уровень воды над нулем поста']]\n",
    "    gauge = gauge.rename(\n",
    "        columns={'Платформа: идентификатор локальный': 'gauge_id',\n",
    "                 'Дата и время': 'date',\n",
    "                 'Уровень воды над нулем поста': 'level'})\n",
    "    gauge['date'] = pd.to_datetime(gauge['date'])\n",
    "    gauge = gauge.set_index('date')\n",
    "    res = gauge[['level']].groupby(by=pd.Grouper(freq='1d')).mean()\n",
    "    res.to_csv(f'{result_folder}/{gauge_id}.csv')"
   ]
  },
  {
   "attachments": {},
   "cell_type": "markdown",
   "metadata": {},
   "source": [
    "## Extend with new upload from ESIMO"
   ]
  },
  {
   "cell_type": "code",
   "execution_count": 18,
   "metadata": {},
   "outputs": [],
   "source": [
    "hdd = '/home/anton/dima_experiments'\n"
   ]
  },
  {
   "cell_type": "code",
   "execution_count": 20,
   "metadata": {},
   "outputs": [
    {
     "data": {
      "text/plain": [
       "True"
      ]
     },
     "execution_count": 20,
     "metadata": {},
     "output_type": "execute_result"
    }
   ],
   "source": [
    "not bool(glob.glob(f'{hdd}/geo_data/esimo_data/*.csv'))"
   ]
  },
  {
   "cell_type": "code",
   "execution_count": 21,
   "metadata": {},
   "outputs": [
    {
     "data": {
      "text/plain": [
       "False"
      ]
     },
     "execution_count": 21,
     "metadata": {},
     "output_type": "execute_result"
    }
   ],
   "source": [
    "bool(glob.glob(f'{hdd}/geo_data/esimo_data/*.csv'))"
   ]
  },
  {
   "cell_type": "code",
   "execution_count": 22,
   "metadata": {},
   "outputs": [
    {
     "data": {
      "text/plain": [
       "[]"
      ]
     },
     "execution_count": 22,
     "metadata": {},
     "output_type": "execute_result"
    }
   ],
   "source": [
    "glob.glob(f'{hdd}/geo_data/esimo_data/*.csv')"
   ]
  },
  {
   "cell_type": "code",
   "execution_count": 12,
   "metadata": {},
   "outputs": [],
   "source": [
    "# merger\n",
    "existed_vals = glob.glob(f'{result_folder}/*.csv')\n"
   ]
  },
  {
   "cell_type": "code",
   "execution_count": 13,
   "metadata": {},
   "outputs": [],
   "source": [
    "with open('./dw_folder/data.csv', newline='') as csv_new_file:\n",
    "    data = csv.reader(csv_new_file, delimiter=',', quotechar='\"')\n",
    "    res_str = next(data)\n",
    "\n",
    "res_str = [word.replace(',', '') for word in res_str]\n",
    "\n",
    "new_file = pd.read_csv('./test_folder/data.csv',\n",
    "                       sep=',', names=res_str,\n",
    "                       skiprows=1, skipfooter=1,\n",
    "                       on_bad_lines='skip',\n",
    "                       quotechar='\"',\n",
    "                       engine='python', encoding='utf-8')\n",
    "\n",
    "group_gauge = new_file.groupby(\n",
    "    by='Платформа: идентификатор локальный').groups"
   ]
  },
  {
   "cell_type": "code",
   "execution_count": 14,
   "metadata": {},
   "outputs": [],
   "source": [
    "for gauge_id, loc_index in group_gauge.items():\n",
    "\n",
    "    new_gauge = new_file.loc[loc_index][['Платформа: идентификатор локальный',\n",
    "                                 'Дата и время',\n",
    "                                 'Уровень воды над нулем поста']]\n",
    "    new_gauge = new_gauge.rename(\n",
    "        columns={'Платформа: идентификатор локальный': 'gauge_id',\n",
    "                 'Дата и время': 'date',\n",
    "                 'Уровень воды над нулем поста': 'level'})\n",
    "    new_gauge['date'] = pd.to_datetime(new_gauge['date'])\n",
    "    new_gauge = new_gauge.set_index('date')\n",
    "    new_res = new_gauge[['level']].groupby(by=pd.Grouper(freq='1d')).mean()\n",
    "    try:\n",
    "        old_res = pd.read_csv(f'{result_folder}/{gauge_id}.csv')\n",
    "        old_res['date'] = pd.to_datetime(old_res['date'])\n",
    "        old_res = old_res.set_index('date')\n",
    "        \n",
    "        res = old_res.combine_first(new_res)\n",
    "        res.to_csv(f'{result_folder}/{gauge_id}.csv')\n",
    "    except FileNotFoundError:\n",
    "        new_res.to_csv(f'{result_folder}/{gauge_id}.csv')\n",
    "    \n"
   ]
  }
 ],
 "metadata": {
  "kernelspec": {
   "display_name": "esimo_parser",
   "language": "python",
   "name": "python3"
  },
  "language_info": {
   "codemirror_mode": {
    "name": "ipython",
    "version": 3
   },
   "file_extension": ".py",
   "mimetype": "text/x-python",
   "name": "python",
   "nbconvert_exporter": "python",
   "pygments_lexer": "ipython3",
   "version": "3.10.9"
  },
  "orig_nbformat": 4,
  "vscode": {
   "interpreter": {
    "hash": "a3174276b947f3be06bd3d677037f95db1c46a2b30aa1fb045bd547222b2266d"
   }
  }
 },
 "nbformat": 4,
 "nbformat_minor": 2
}
