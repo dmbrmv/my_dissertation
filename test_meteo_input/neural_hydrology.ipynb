{
 "cells": [
  {
   "cell_type": "code",
   "execution_count": 1,
   "metadata": {},
   "outputs": [],
   "source": [
    "%load_ext autoreload\n",
    "%autoreload 2\n",
    "%load_ext tensorboard"
   ]
  },
  {
   "cell_type": "code",
   "execution_count": 2,
   "metadata": {},
   "outputs": [
    {
     "name": "stdout",
     "output_type": "stream",
     "text": [
      "Using device: cuda\n",
      "\n",
      "NVIDIA GeForce RTX 3080 Ti\n",
      "Memory Usage:\n",
      "Allocated: 0.0 GB\n",
      "Cached:    0.0 GB\n"
     ]
    }
   ],
   "source": [
    "import glob\n",
    "import gc\n",
    "\n",
    "import torch\n",
    "import xarray as xr\n",
    "from neuralhydrology.nh_run import start_run, eval_run\n",
    "from scripts.file_manipulator import file_rewriter\n",
    "\n",
    "from pathlib import Path\n",
    "\n",
    "import random\n",
    "random.seed(42)\n",
    "# setting device on GPU if available, else CPU\n",
    "device = torch.device('cuda' if torch.cuda.is_available() else 'cpu')\n",
    "print('Using device:', device)\n",
    "print()\n",
    "\n",
    "#Additional Info when using cuda\n",
    "if device.type == 'cuda':\n",
    "    print(torch.cuda.get_device_name(0))\n",
    "    print('Memory Usage:')\n",
    "    print('Allocated:', round(torch.cuda.memory_allocated(0)/1024**3,1), 'GB')\n",
    "    print('Cached:   ', round(torch.cuda.memory_reserved(0)/1024**3,1), 'GB')\n",
    "ts_dir = Path('../geo_data/time_series')"
   ]
  },
  {
   "attachments": {},
   "cell_type": "markdown",
   "metadata": {},
   "source": [
    "### Run for different configs\n"
   ]
  },
  {
   "attachments": {},
   "cell_type": "markdown",
   "metadata": {},
   "source": [
    "#### ERA5 precipitation"
   ]
  },
  {
   "attachments": {},
   "cell_type": "markdown",
   "metadata": {},
   "source": [
    "##### train"
   ]
  },
  {
   "cell_type": "code",
   "execution_count": 3,
   "metadata": {},
   "outputs": [
    {
     "name": "stderr",
     "output_type": "stream",
     "text": [
      "/workspaces/my_dissertation/test_meteo_input/scripts/file_manipulator.py:16: RuntimeWarning: divide by zero encountered in true_divide\n",
      "  condition_2 = max([max(value/ds_file[hydro_target].to_numpy())\n",
      "/workspaces/my_dissertation/test_meteo_input/scripts/file_manipulator.py:16: RuntimeWarning: invalid value encountered in true_divide\n",
      "  condition_2 = max([max(value/ds_file[hydro_target].to_numpy())\n",
      "/workspaces/my_dissertation/test_meteo_input/scripts/file_manipulator.py:16: RuntimeWarning: divide by zero encountered in true_divide\n",
      "  condition_2 = max([max(value/ds_file[hydro_target].to_numpy())\n",
      "/workspaces/my_dissertation/test_meteo_input/scripts/file_manipulator.py:16: RuntimeWarning: invalid value encountered in true_divide\n",
      "  condition_2 = max([max(value/ds_file[hydro_target].to_numpy())\n",
      "/workspaces/my_dissertation/test_meteo_input/scripts/file_manipulator.py:16: RuntimeWarning: divide by zero encountered in true_divide\n",
      "  condition_2 = max([max(value/ds_file[hydro_target].to_numpy())\n",
      "/workspaces/my_dissertation/test_meteo_input/scripts/file_manipulator.py:16: RuntimeWarning: invalid value encountered in true_divide\n",
      "  condition_2 = max([max(value/ds_file[hydro_target].to_numpy())\n",
      "/workspaces/my_dissertation/test_meteo_input/scripts/file_manipulator.py:16: RuntimeWarning: divide by zero encountered in true_divide\n",
      "  condition_2 = max([max(value/ds_file[hydro_target].to_numpy())\n",
      "/workspaces/my_dissertation/test_meteo_input/scripts/file_manipulator.py:16: RuntimeWarning: invalid value encountered in true_divide\n",
      "  condition_2 = max([max(value/ds_file[hydro_target].to_numpy())\n"
     ]
    },
    {
     "name": "stdout",
     "output_type": "stream",
     "text": [
      "2023-04-02 14:34:48,082: Logging to runs_q_cms/era5_prcp_0204_143448/output.log initialized.\n",
      "2023-04-02 14:34:48,082: ### Folder structure created at runs_q_cms/era5_prcp_0204_143448\n",
      "2023-04-02 14:34:48,083: ### Run configurations for era5_prcp\n",
      "2023-04-02 14:34:48,083: experiment_name: era5_prcp\n",
      "2023-04-02 14:34:48,083: run_dir: runs_q_cms/era5_prcp_0204_143448\n",
      "2023-04-02 14:34:48,084: train_basin_file: openf_basins.txt\n",
      "2023-04-02 14:34:48,084: validation_basin_file: openf_basins.txt\n",
      "2023-04-02 14:34:48,084: test_basin_file: openf_basins.txt\n",
      "2023-04-02 14:34:48,085: train_start_date: 2008-01-01 00:00:00\n",
      "2023-04-02 14:34:48,085: train_end_date: 2016-12-31 00:00:00\n",
      "2023-04-02 14:34:48,085: validation_start_date: 2017-01-01 00:00:00\n",
      "2023-04-02 14:34:48,086: validation_end_date: 2018-12-31 00:00:00\n",
      "2023-04-02 14:34:48,086: test_start_date: 2019-01-01 00:00:00\n",
      "2023-04-02 14:34:48,086: test_end_date: 2020-12-31 00:00:00\n",
      "2023-04-02 14:34:48,087: per_basin_train_periods_file: None\n",
      "2023-04-02 14:34:48,087: per_basin_validation_periods_file: None\n",
      "2023-04-02 14:34:48,087: per_basin_test_periods_file: None\n",
      "2023-04-02 14:34:48,088: seed: 42\n",
      "2023-04-02 14:34:48,088: device: cuda:0\n",
      "2023-04-02 14:34:48,088: validate_every: 3\n",
      "2023-04-02 14:34:48,089: validate_n_random_basins: 1148\n",
      "2023-04-02 14:34:48,089: cache_validation_data: True\n",
      "2023-04-02 14:34:48,090: metrics: ['NSE', 'KGE']\n",
      "2023-04-02 14:34:48,090: model: cudalstm\n",
      "2023-04-02 14:34:48,090: checkpoint_path: None\n",
      "2023-04-02 14:34:48,091: head: regression\n",
      "2023-04-02 14:34:48,091: output_activation: linear\n",
      "2023-04-02 14:34:48,091: hidden_size: 420\n",
      "2023-04-02 14:34:48,092: initial_forget_bias: 6\n",
      "2023-04-02 14:34:48,092: output_dropout: 0.42\n",
      "2023-04-02 14:34:48,093: optimizer: Adam\n",
      "2023-04-02 14:34:48,093: loss: NSE\n",
      "2023-04-02 14:34:48,093: regularization: None\n",
      "2023-04-02 14:34:48,094: learning_rate: {0: 0.001, 10: 0.0005, 20: 0.0001}\n",
      "2023-04-02 14:34:48,094: batch_size: 256\n",
      "2023-04-02 14:34:48,095: epochs: 42\n",
      "2023-04-02 14:34:48,095: target_noise_std: None\n",
      "2023-04-02 14:34:48,096: clip_gradient_norm: 1\n",
      "2023-04-02 14:34:48,096: predict_last_n: 1\n",
      "2023-04-02 14:34:48,096: seq_length: 365\n",
      "2023-04-02 14:34:48,097: num_workers: 8\n",
      "2023-04-02 14:34:48,097: log_interval: 3\n",
      "2023-04-02 14:34:48,097: log_tensorboard: True\n",
      "2023-04-02 14:34:48,098: log_n_figures: None\n",
      "2023-04-02 14:34:48,098: save_weights_every: 3\n",
      "2023-04-02 14:34:48,098: save_validation_results: True\n",
      "2023-04-02 14:34:48,099: dataset: generic\n",
      "2023-04-02 14:34:48,099: data_dir: ../geo_data\n",
      "2023-04-02 14:34:48,100: save_train_data: True\n",
      "2023-04-02 14:34:48,100: train_data_file: None\n",
      "2023-04-02 14:34:48,101: forcings: None\n",
      "2023-04-02 14:34:48,101: dynamic_inputs: ['t_max_e5', 't_min_e5', 'prcp_e5']\n",
      "2023-04-02 14:34:48,101: target_variables: ['q_cms_s']\n",
      "2023-04-02 14:34:48,102: static_attributes: ['for_pc_sse', 'crp_pc_sse', 'pst_pc_sse', 'inu_pc_ult', 'ire_pc_sse', 'lka_pc_use', 'lkv_mc_usu', 'rev_mc_usu', 'gwt_cm_sav', 'prm_pc_sse', 'sgr_dk_sav', 'slp_dg_sav', 'cly_pc_sav', 'slt_pc_sav', 'snd_pc_sav', 'kar_pc_sse', 'urb_pc_sse', 'ws_area', 'ele_mt_sav']\n",
      "2023-04-02 14:34:48,102: additional_feature_files: None\n",
      "2023-04-02 14:34:48,102: evolving_attributes: None\n",
      "2023-04-02 14:34:48,103: use_basin_id_encoding: False\n",
      "2023-04-02 14:34:48,103: number_of_basins: 970\n",
      "2023-04-02 14:34:48,104: train_dir: runs_q_cms/era5_prcp_0204_143448/train_data\n",
      "2023-04-02 14:34:48,105: img_log_dir: runs_q_cms/era5_prcp_0204_143448/img_log\n",
      "2023-04-02 14:34:48,105: ### Device cuda:0 will be used for training\n",
      "2023-04-02 14:34:48,310: Loading basin data into xarray data set.\n",
      "100%|██████████| 970/970 [00:19<00:00, 49.89it/s]\n",
      "2023-04-02 14:35:08,810: Calculating target variable stds per basin\n",
      " 35%|███▌      | 341/970 [00:00<00:00, 1706.86it/s]"
     ]
    },
    {
     "name": "stderr",
     "output_type": "stream",
     "text": [
      "/opt/conda/lib/python3.9/site-packages/neuralhydrology/datasetzoo/basedataset.py:460: UserWarning: Creating a tensor from a list of numpy.ndarrays is extremely slow. Please consider converting the list to a single numpy.ndarray with numpy.array() before converting to a tensor. (Triggered internally at /opt/conda/conda-bld/pytorch_1666643016022/work/torch/csrc/utils/tensor_new.cpp:230.)\n",
      "  per_basin_target_stds = torch.tensor([np.nanstd(obs, axis=1)], dtype=torch.float32)\n"
     ]
    },
    {
     "name": "stdout",
     "output_type": "stream",
     "text": [
      "100%|██████████| 970/970 [00:00<00:00, 1682.72it/s]\n",
      "2023-04-02 14:35:09,461: Create lookup table and convert to pytorch tensor\n",
      "100%|██████████| 970/970 [00:13<00:00, 74.20it/s]\n",
      "2023-04-02 14:35:22,536: These basins do not have a single valid sample in the train period: ['2106', '49135', '5664', '71277']\n",
      "# Epoch 1: 100%|██████████| 11034/11034 [09:20<00:00, 19.70it/s, Loss: 0.0000]\n",
      "2023-04-02 14:44:45,282: Epoch 1 average loss: 0.000219878975983442\n",
      "# Epoch 2: 100%|██████████| 11034/11034 [09:31<00:00, 19.31it/s, Loss: 0.0000]\n",
      "2023-04-02 14:54:16,691: Epoch 2 average loss: 7.912604801787595e-06\n",
      "# Epoch 3: 100%|██████████| 11034/11034 [09:22<00:00, 19.61it/s, Loss: 0.0000]\n",
      "2023-04-02 15:03:39,425: Epoch 3 average loss: 5.152022366751072e-06\n",
      "# Validation:  21%|██▏       | 208/970 [00:25<01:31,  8.33it/s]2023-04-02 15:04:05,512: Basin 2106 All simulated values are NaN, thus metrics will be NaN, too.\n",
      "# Validation:  34%|███▍      | 331/970 [00:40<01:15,  8.46it/s]2023-04-02 15:04:20,521: Basin 49135 All simulated values are NaN, thus metrics will be NaN, too.\n",
      "# Validation:  38%|███▊      | 365/970 [00:45<01:14,  8.15it/s]2023-04-02 15:04:24,776: Basin 5664 All simulated values are NaN, thus metrics will be NaN, too.\n",
      "# Validation:  48%|████▊     | 466/970 [00:57<01:00,  8.37it/s]2023-04-02 15:04:37,162: Basin 71277 All simulated values are NaN, thus metrics will be NaN, too.\n",
      "# Validation: 100%|██████████| 970/970 [01:59<00:00,  8.15it/s]\n",
      "2023-04-02 15:05:38,633: Stored results at runs_q_cms/era5_prcp_0204_143448/validation/model_epoch003/validation_results.p\n",
      "2023-04-02 15:05:38,649: Epoch 3 average validation loss: 0.00000 -- Median validation metrics: NSE: -0.48947, KGE: -0.54725\n",
      "# Epoch 4: 100%|██████████| 11034/11034 [08:46<00:00, 20.96it/s, Loss: 0.0000]\n",
      "2023-04-02 15:14:25,194: Epoch 4 average loss: 0.0002335028109274472\n",
      "# Epoch 5: 100%|██████████| 11034/11034 [08:46<00:00, 20.94it/s, Loss: 0.0000]\n",
      "2023-04-02 15:23:12,036: Epoch 5 average loss: 2.790968947955305e-06\n",
      "# Epoch 6: 100%|██████████| 11034/11034 [08:46<00:00, 20.94it/s, Loss: 0.0000]\n",
      "2023-04-02 15:31:58,930: Epoch 6 average loss: 1.3706756295594226e-06\n",
      "# Validation:  21%|██▏       | 208/970 [00:13<00:48, 15.73it/s]2023-04-02 15:32:12,943: Basin 2106 All simulated values are NaN, thus metrics will be NaN, too.\n",
      "# Validation:  34%|███▍      | 330/970 [00:22<00:43, 14.58it/s]2023-04-02 15:32:21,428: Basin 49135 All simulated values are NaN, thus metrics will be NaN, too.\n",
      "# Validation:  38%|███▊      | 364/970 [00:24<00:41, 14.67it/s]2023-04-02 15:32:23,841: Basin 5664 All simulated values are NaN, thus metrics will be NaN, too.\n",
      "# Validation:  48%|████▊     | 466/970 [00:31<00:34, 14.41it/s]2023-04-02 15:32:30,892: Basin 71277 All simulated values are NaN, thus metrics will be NaN, too.\n",
      "# Validation: 100%|██████████| 970/970 [01:04<00:00, 15.01it/s]\n",
      "2023-04-02 15:33:03,671: Stored results at runs_q_cms/era5_prcp_0204_143448/validation/model_epoch006/validation_results.p\n",
      "2023-04-02 15:33:03,678: Epoch 6 average validation loss: 0.00000 -- Median validation metrics: NSE: -0.25271, KGE: -0.26613\n",
      "# Epoch 7: 100%|██████████| 11034/11034 [08:46<00:00, 20.95it/s, Loss: 0.0000]\n",
      "2023-04-02 15:41:50,252: Epoch 7 average loss: 1.037751583690837e-06\n",
      "# Epoch 8: 100%|██████████| 11034/11034 [08:46<00:00, 20.98it/s, Loss: 0.0000]\n",
      "2023-04-02 15:50:36,309: Epoch 8 average loss: 0.00017338983612189218\n",
      "# Epoch 9: 100%|██████████| 11034/11034 [08:47<00:00, 20.93it/s, Loss: 0.0000]\n",
      "2023-04-02 15:59:23,377: Epoch 9 average loss: 2.5602476623519342e-05\n",
      "# Validation:  21%|██▏       | 208/970 [00:13<00:48, 15.69it/s]2023-04-02 15:59:37,528: Basin 2106 All simulated values are NaN, thus metrics will be NaN, too.\n",
      "# Validation:  34%|███▍      | 330/970 [00:22<00:44, 14.35it/s]2023-04-02 15:59:46,065: Basin 49135 All simulated values are NaN, thus metrics will be NaN, too.\n",
      "# Validation:  38%|███▊      | 364/970 [00:24<00:41, 14.61it/s]2023-04-02 15:59:48,486: Basin 5664 All simulated values are NaN, thus metrics will be NaN, too.\n",
      "# Validation:  48%|████▊     | 466/970 [00:31<00:34, 14.64it/s]2023-04-02 15:59:55,513: Basin 71277 All simulated values are NaN, thus metrics will be NaN, too.\n",
      "# Validation: 100%|██████████| 970/970 [01:04<00:00, 14.93it/s]\n",
      "2023-04-02 16:00:28,504: Stored results at runs_q_cms/era5_prcp_0204_143448/validation/model_epoch009/validation_results.p\n",
      "2023-04-02 16:00:28,513: Epoch 9 average validation loss: 0.00000 -- Median validation metrics: NSE: -0.65637, KGE: -0.63657\n",
      "2023-04-02 16:00:28,513: Setting learning rate to 0.0005\n",
      "# Epoch 10: 100%|██████████| 11034/11034 [08:47<00:00, 20.93it/s, Loss: 0.0000]\n",
      "2023-04-02 16:09:15,771: Epoch 10 average loss: 3.6051909395256086e-06\n",
      "# Epoch 11: 100%|██████████| 11034/11034 [08:46<00:00, 20.94it/s, Loss: 0.0000]\n",
      "2023-04-02 16:18:02,652: Epoch 11 average loss: 1.3641189367766086e-06\n",
      "# Epoch 12: 100%|██████████| 11034/11034 [08:46<00:00, 20.95it/s, Loss: 0.0000]\n",
      "2023-04-02 16:26:49,310: Epoch 12 average loss: 9.766447175747915e-07\n",
      "# Validation:  21%|██▏       | 208/970 [00:13<00:49, 15.51it/s]2023-04-02 16:27:03,412: Basin 2106 All simulated values are NaN, thus metrics will be NaN, too.\n",
      "# Validation:  34%|███▍      | 330/970 [00:22<00:43, 14.62it/s]2023-04-02 16:27:11,918: Basin 49135 All simulated values are NaN, thus metrics will be NaN, too.\n",
      "# Validation:  38%|███▊      | 364/970 [00:24<00:41, 14.56it/s]2023-04-02 16:27:14,333: Basin 5664 All simulated values are NaN, thus metrics will be NaN, too.\n",
      "# Validation:  48%|████▊     | 466/970 [00:31<00:34, 14.63it/s]2023-04-02 16:27:21,351: Basin 71277 All simulated values are NaN, thus metrics will be NaN, too.\n",
      "# Validation: 100%|██████████| 970/970 [01:04<00:00, 14.96it/s]\n",
      "2023-04-02 16:27:54,298: Stored results at runs_q_cms/era5_prcp_0204_143448/validation/model_epoch012/validation_results.p\n",
      "2023-04-02 16:27:54,306: Epoch 12 average validation loss: 0.00000 -- Median validation metrics: NSE: -0.36294, KGE: -0.37173\n",
      "# Epoch 13: 100%|██████████| 11034/11034 [08:48<00:00, 20.90it/s, Loss: 0.0000]\n",
      "2023-04-02 16:36:42,329: Epoch 13 average loss: 1.0995248167961026e-06\n",
      "# Epoch 14: 100%|██████████| 11034/11034 [08:47<00:00, 20.90it/s, Loss: 0.0000]\n",
      "2023-04-02 16:45:30,247: Epoch 14 average loss: 6.535102051439348e-07\n",
      "# Epoch 15: 100%|██████████| 11034/11034 [08:47<00:00, 20.91it/s, Loss: 0.0000]\n",
      "2023-04-02 16:54:17,881: Epoch 15 average loss: 4.765362004360493e-07\n",
      "# Validation:  21%|██▏       | 208/970 [00:13<00:48, 15.70it/s]2023-04-02 16:54:32,030: Basin 2106 All simulated values are NaN, thus metrics will be NaN, too.\n",
      "# Validation:  34%|███▍      | 330/970 [00:22<00:43, 14.58it/s]2023-04-02 16:54:40,569: Basin 49135 All simulated values are NaN, thus metrics will be NaN, too.\n",
      "# Validation:  38%|███▊      | 364/970 [00:24<00:41, 14.54it/s]2023-04-02 16:54:42,999: Basin 5664 All simulated values are NaN, thus metrics will be NaN, too.\n",
      "# Validation:  48%|████▊     | 466/970 [00:31<00:34, 14.69it/s]2023-04-02 16:54:49,987: Basin 71277 All simulated values are NaN, thus metrics will be NaN, too.\n",
      "# Validation: 100%|██████████| 970/970 [01:04<00:00, 14.93it/s]\n",
      "2023-04-02 16:55:23,000: Stored results at runs_q_cms/era5_prcp_0204_143448/validation/model_epoch015/validation_results.p\n",
      "2023-04-02 16:55:23,008: Epoch 15 average validation loss: 0.00000 -- Median validation metrics: NSE: 0.41881, KGE: 0.36797\n",
      "# Epoch 16: 100%|██████████| 11034/11034 [08:47<00:00, 20.91it/s, Loss: 0.0000]\n",
      "2023-04-02 17:04:10,711: Epoch 16 average loss: 4.057785139238111e-07\n",
      "# Epoch 17: 100%|██████████| 11034/11034 [08:47<00:00, 20.91it/s, Loss: 0.0000]\n",
      "2023-04-02 17:12:58,416: Epoch 17 average loss: 3.6079653322839166e-07\n",
      "# Epoch 18: 100%|██████████| 11034/11034 [08:48<00:00, 20.89it/s, Loss: 0.0000]\n",
      "2023-04-02 17:21:46,680: Epoch 18 average loss: 3.247101738684453e-07\n",
      "# Validation:  21%|██▏       | 208/970 [00:13<00:48, 15.69it/s]2023-04-02 17:22:00,761: Basin 2106 All simulated values are NaN, thus metrics will be NaN, too.\n",
      "# Validation:  34%|███▍      | 330/970 [00:22<00:44, 14.51it/s]2023-04-02 17:22:09,280: Basin 49135 All simulated values are NaN, thus metrics will be NaN, too.\n",
      "# Validation:  38%|███▊      | 364/970 [00:24<00:40, 14.81it/s]2023-04-02 17:22:11,660: Basin 5664 All simulated values are NaN, thus metrics will be NaN, too.\n",
      "# Validation:  48%|████▊     | 466/970 [00:31<00:34, 14.61it/s]2023-04-02 17:22:18,676: Basin 71277 All simulated values are NaN, thus metrics will be NaN, too.\n",
      "# Validation: 100%|██████████| 970/970 [01:04<00:00, 14.92it/s]\n",
      "2023-04-02 17:22:51,804: Stored results at runs_q_cms/era5_prcp_0204_143448/validation/model_epoch018/validation_results.p\n",
      "2023-04-02 17:22:51,812: Epoch 18 average validation loss: 0.00000 -- Median validation metrics: NSE: 0.59217, KGE: 0.58068\n",
      "# Epoch 19: 100%|██████████| 11034/11034 [08:48<00:00, 20.88it/s, Loss: 0.0000]\n",
      "2023-04-02 17:31:40,277: Epoch 19 average loss: 3.1666962930444987e-07\n",
      "2023-04-02 17:31:40,278: Setting learning rate to 0.0001\n",
      "# Epoch 20: 100%|██████████| 11034/11034 [08:48<00:00, 20.87it/s, Loss: 0.0000]\n",
      "2023-04-02 17:40:29,030: Epoch 20 average loss: 2.4082410735224567e-07\n",
      "# Epoch 21: 100%|██████████| 11034/11034 [08:48<00:00, 20.88it/s, Loss: 0.0000]\n",
      "2023-04-02 17:49:17,603: Epoch 21 average loss: 2.3355961584488078e-07\n",
      "# Validation:  21%|██▏       | 208/970 [00:13<00:48, 15.56it/s]2023-04-02 17:49:31,684: Basin 2106 All simulated values are NaN, thus metrics will be NaN, too.\n",
      "# Validation:  34%|███▍      | 330/970 [00:22<00:43, 14.62it/s]2023-04-02 17:49:40,197: Basin 49135 All simulated values are NaN, thus metrics will be NaN, too.\n",
      "# Validation:  38%|███▊      | 364/970 [00:24<00:41, 14.72it/s]2023-04-02 17:49:42,603: Basin 5664 All simulated values are NaN, thus metrics will be NaN, too.\n",
      "# Validation:  48%|████▊     | 466/970 [00:31<00:34, 14.51it/s]2023-04-02 17:49:49,630: Basin 71277 All simulated values are NaN, thus metrics will be NaN, too.\n",
      "# Validation: 100%|██████████| 970/970 [01:04<00:00, 14.99it/s]\n",
      "2023-04-02 17:50:22,459: Stored results at runs_q_cms/era5_prcp_0204_143448/validation/model_epoch021/validation_results.p\n",
      "2023-04-02 17:50:22,467: Epoch 21 average validation loss: 0.00000 -- Median validation metrics: NSE: 0.63658, KGE: 0.63510\n",
      "# Epoch 22: 100%|██████████| 11034/11034 [08:47<00:00, 20.90it/s, Loss: 0.0000]\n",
      "2023-04-02 17:59:10,467: Epoch 22 average loss: 2.2878629183456313e-07\n",
      "# Epoch 23: 100%|██████████| 11034/11034 [08:47<00:00, 20.90it/s, Loss: 0.0000]\n",
      "2023-04-02 18:07:58,460: Epoch 23 average loss: 2.252392984072963e-07\n",
      "# Epoch 24: 100%|██████████| 11034/11034 [08:47<00:00, 20.91it/s, Loss: 0.0000]\n",
      "2023-04-02 18:16:46,149: Epoch 24 average loss: 2.2193367597837945e-07\n",
      "# Validation:  21%|██▏       | 208/970 [00:13<00:48, 15.72it/s]2023-04-02 18:17:00,263: Basin 2106 All simulated values are NaN, thus metrics will be NaN, too.\n",
      "# Validation:  34%|███▍      | 330/970 [00:22<00:43, 14.83it/s]2023-04-02 18:17:08,751: Basin 49135 All simulated values are NaN, thus metrics will be NaN, too.\n",
      "# Validation:  38%|███▊      | 364/970 [00:24<00:39, 15.43it/s]2023-04-02 18:17:11,118: Basin 5664 All simulated values are NaN, thus metrics will be NaN, too.\n",
      "# Validation:  48%|████▊     | 466/970 [00:31<00:33, 14.98it/s]2023-04-02 18:17:17,809: Basin 71277 All simulated values are NaN, thus metrics will be NaN, too.\n",
      "# Validation: 100%|██████████| 970/970 [01:04<00:00, 15.05it/s]\n",
      "2023-04-02 18:17:51,335: Stored results at runs_q_cms/era5_prcp_0204_143448/validation/model_epoch024/validation_results.p\n",
      "2023-04-02 18:17:51,343: Epoch 24 average validation loss: 0.00000 -- Median validation metrics: NSE: 0.64971, KGE: 0.62947\n",
      "# Epoch 25: 100%|██████████| 11034/11034 [08:48<00:00, 20.88it/s, Loss: 0.0000]\n",
      "2023-04-02 18:26:39,724: Epoch 25 average loss: 2.1899667046958538e-07\n",
      "# Epoch 26: 100%|██████████| 11034/11034 [08:48<00:00, 20.90it/s, Loss: 0.0000]\n",
      "2023-04-02 18:35:27,734: Epoch 26 average loss: 2.1638840384380413e-07\n",
      "# Epoch 27: 100%|██████████| 11034/11034 [08:48<00:00, 20.87it/s, Loss: 0.0000]\n",
      "2023-04-02 18:44:16,339: Epoch 27 average loss: 2.1418621409123566e-07\n",
      "# Validation:  21%|██▏       | 208/970 [00:14<00:48, 15.70it/s]2023-04-02 18:44:30,549: Basin 2106 All simulated values are NaN, thus metrics will be NaN, too.\n",
      "# Validation:  34%|███▍      | 330/970 [00:22<00:43, 14.58it/s]2023-04-02 18:44:39,034: Basin 49135 All simulated values are NaN, thus metrics will be NaN, too.\n",
      "# Validation:  38%|███▊      | 364/970 [00:24<00:39, 15.27it/s]2023-04-02 18:44:41,429: Basin 5664 All simulated values are NaN, thus metrics will be NaN, too.\n",
      "# Validation:  48%|████▊     | 466/970 [00:31<00:32, 15.50it/s]2023-04-02 18:44:48,015: Basin 71277 All simulated values are NaN, thus metrics will be NaN, too.\n",
      "# Validation: 100%|██████████| 970/970 [01:04<00:00, 14.95it/s]\n",
      "2023-04-02 18:45:21,343: Stored results at runs_q_cms/era5_prcp_0204_143448/validation/model_epoch027/validation_results.p\n",
      "2023-04-02 18:45:21,351: Epoch 27 average validation loss: 0.00000 -- Median validation metrics: NSE: 0.64298, KGE: 0.61794\n",
      "# Epoch 28: 100%|██████████| 11034/11034 [08:54<00:00, 20.65it/s, Loss: 0.0000]\n",
      "2023-04-02 18:54:15,601: Epoch 28 average loss: 2.1136954908072735e-07\n",
      "# Epoch 29: 100%|██████████| 11034/11034 [09:10<00:00, 20.06it/s, Loss: 0.0000]\n",
      "2023-04-02 19:03:25,753: Epoch 29 average loss: 2.0931162419574757e-07\n",
      "# Epoch 30: 100%|██████████| 11034/11034 [09:20<00:00, 19.67it/s, Loss: 0.0000]\n",
      "2023-04-02 19:12:46,716: Epoch 30 average loss: 2.075109368655703e-07\n",
      "# Validation:  21%|██▏       | 208/970 [00:15<00:55, 13.72it/s]2023-04-02 19:13:02,266: Basin 2106 All simulated values are NaN, thus metrics will be NaN, too.\n",
      "# Validation:  34%|███▍      | 330/970 [00:24<00:47, 13.43it/s]2023-04-02 19:13:11,479: Basin 49135 All simulated values are NaN, thus metrics will be NaN, too.\n",
      "# Validation:  38%|███▊      | 364/970 [00:27<00:43, 13.87it/s]2023-04-02 19:13:14,040: Basin 5664 All simulated values are NaN, thus metrics will be NaN, too.\n",
      "# Validation:  48%|████▊     | 466/970 [00:34<00:35, 14.04it/s]2023-04-02 19:13:21,381: Basin 71277 All simulated values are NaN, thus metrics will be NaN, too.\n",
      "# Validation: 100%|██████████| 970/970 [01:11<00:00, 13.63it/s]\n",
      "2023-04-02 19:13:58,027: Stored results at runs_q_cms/era5_prcp_0204_143448/validation/model_epoch030/validation_results.p\n",
      "2023-04-02 19:13:58,036: Epoch 30 average validation loss: 0.00000 -- Median validation metrics: NSE: 0.65060, KGE: 0.65765\n",
      "# Epoch 31: 100%|██████████| 11034/11034 [09:00<00:00, 20.41it/s, Loss: 0.0000]\n",
      "2023-04-02 19:22:58,713: Epoch 31 average loss: 2.0577615362920805e-07\n",
      "# Epoch 32: 100%|██████████| 11034/11034 [08:35<00:00, 21.39it/s, Loss: 0.0000]\n",
      "2023-04-02 19:31:34,611: Epoch 32 average loss: 2.0422650453331692e-07\n",
      "# Epoch 33: 100%|██████████| 11034/11034 [09:09<00:00, 20.09it/s, Loss: 0.0000]\n",
      "2023-04-02 19:40:43,828: Epoch 33 average loss: 2.0226794733571827e-07\n",
      "# Validation:  21%|██▏       | 208/970 [00:14<00:51, 14.76it/s]2023-04-02 19:40:58,095: Basin 2106 All simulated values are NaN, thus metrics will be NaN, too.\n",
      "# Validation:  34%|███▍      | 330/970 [00:22<00:41, 15.24it/s]2023-04-02 19:41:06,566: Basin 49135 All simulated values are NaN, thus metrics will be NaN, too.\n",
      "# Validation:  38%|███▊      | 364/970 [00:25<00:42, 14.32it/s]2023-04-02 19:41:09,090: Basin 5664 All simulated values are NaN, thus metrics will be NaN, too.\n",
      "# Validation:  48%|████▊     | 466/970 [00:31<00:34, 14.42it/s]2023-04-02 19:41:15,850: Basin 71277 All simulated values are NaN, thus metrics will be NaN, too.\n",
      "# Validation: 100%|██████████| 970/970 [01:06<00:00, 14.61it/s]\n",
      "2023-04-02 19:41:50,360: Stored results at runs_q_cms/era5_prcp_0204_143448/validation/model_epoch033/validation_results.p\n",
      "2023-04-02 19:41:50,368: Epoch 33 average validation loss: 0.00000 -- Median validation metrics: NSE: 0.65035, KGE: 0.65457\n",
      "# Epoch 34: 100%|██████████| 11034/11034 [09:26<00:00, 19.48it/s, Loss: 0.0000]\n",
      "2023-04-02 19:51:16,798: Epoch 34 average loss: 2.011060065938798e-07\n",
      "# Epoch 35: 100%|██████████| 11034/11034 [09:32<00:00, 19.27it/s, Loss: 0.0000]\n",
      "2023-04-02 20:00:49,389: Epoch 35 average loss: 1.9919845104045146e-07\n",
      "# Epoch 36: 100%|██████████| 11034/11034 [09:35<00:00, 19.17it/s, Loss: 0.0000]\n",
      "2023-04-02 20:10:24,989: Epoch 36 average loss: 1.976441221300521e-07\n",
      "# Validation:  21%|██▏       | 208/970 [00:15<00:58, 13.00it/s]2023-04-02 20:10:41,121: Basin 2106 All simulated values are NaN, thus metrics will be NaN, too.\n",
      "# Validation:  34%|███▍      | 330/970 [00:25<00:48, 13.31it/s]2023-04-02 20:10:50,471: Basin 49135 All simulated values are NaN, thus metrics will be NaN, too.\n",
      "# Validation:  38%|███▊      | 364/970 [00:27<00:43, 13.83it/s]2023-04-02 20:10:53,077: Basin 5664 All simulated values are NaN, thus metrics will be NaN, too.\n",
      "# Validation:  48%|████▊     | 466/970 [00:35<00:36, 13.68it/s]2023-04-02 20:11:00,513: Basin 71277 All simulated values are NaN, thus metrics will be NaN, too.\n",
      "# Validation: 100%|██████████| 970/970 [01:12<00:00, 13.34it/s]\n",
      "2023-04-02 20:11:37,839: Stored results at runs_q_cms/era5_prcp_0204_143448/validation/model_epoch036/validation_results.p\n",
      "2023-04-02 20:11:37,847: Epoch 36 average validation loss: 0.00000 -- Median validation metrics: NSE: 0.65079, KGE: 0.65642\n",
      "# Epoch 37: 100%|██████████| 11034/11034 [08:49<00:00, 20.83it/s, Loss: 0.0000]\n",
      "2023-04-02 20:20:27,570: Epoch 37 average loss: 1.966472728912461e-07\n",
      "# Epoch 38: 100%|██████████| 11034/11034 [09:24<00:00, 19.53it/s, Loss: 0.0000]\n",
      "2023-04-02 20:29:52,526: Epoch 38 average loss: 1.9459505384828434e-07\n",
      "# Epoch 39: 100%|██████████| 11034/11034 [08:41<00:00, 21.16it/s, Loss: 0.0000]\n",
      "2023-04-02 20:38:33,871: Epoch 39 average loss: 1.9368981484544044e-07\n",
      "# Validation:  21%|██▏       | 208/970 [00:12<00:44, 16.97it/s]2023-04-02 20:38:46,239: Basin 2106 All simulated values are NaN, thus metrics will be NaN, too.\n",
      "# Validation:  34%|███▍      | 330/970 [00:19<00:38, 16.69it/s]2023-04-02 20:38:53,647: Basin 49135 All simulated values are NaN, thus metrics will be NaN, too.\n",
      "# Validation:  38%|███▊      | 364/970 [00:21<00:36, 16.80it/s]2023-04-02 20:38:55,750: Basin 5664 All simulated values are NaN, thus metrics will be NaN, too.\n",
      "# Validation:  48%|████▊     | 466/970 [00:27<00:30, 16.71it/s]2023-04-02 20:39:01,842: Basin 71277 All simulated values are NaN, thus metrics will be NaN, too.\n",
      "# Validation: 100%|██████████| 970/970 [00:57<00:00, 16.83it/s]\n",
      "2023-04-02 20:39:31,636: Stored results at runs_q_cms/era5_prcp_0204_143448/validation/model_epoch039/validation_results.p\n",
      "2023-04-02 20:39:31,643: Epoch 39 average validation loss: 0.00000 -- Median validation metrics: NSE: 0.66786, KGE: 0.66571\n",
      "# Epoch 40: 100%|██████████| 11034/11034 [08:16<00:00, 22.21it/s, Loss: 0.0000]\n",
      "2023-04-02 20:47:48,364: Epoch 40 average loss: 1.9216346782727588e-07\n",
      "# Epoch 41: 100%|██████████| 11034/11034 [09:16<00:00, 19.83it/s, Loss: 0.0000]\n",
      "2023-04-02 20:57:04,828: Epoch 41 average loss: 1.9084922639099612e-07\n",
      "# Epoch 42: 100%|██████████| 11034/11034 [08:53<00:00, 20.68it/s, Loss: 0.0000]\n",
      "2023-04-02 21:05:58,352: Epoch 42 average loss: 1.895617138965362e-07\n",
      "# Validation:  21%|██▏       | 208/970 [00:14<00:54, 14.04it/s]2023-04-02 21:06:13,381: Basin 2106 All simulated values are NaN, thus metrics will be NaN, too.\n",
      "# Validation:  34%|███▍      | 330/970 [00:23<00:43, 14.74it/s]2023-04-02 21:06:22,023: Basin 49135 All simulated values are NaN, thus metrics will be NaN, too.\n",
      "# Validation:  38%|███▊      | 364/970 [00:25<00:40, 15.14it/s]2023-04-02 21:06:24,343: Basin 5664 All simulated values are NaN, thus metrics will be NaN, too.\n",
      "# Validation:  48%|████▊     | 466/970 [00:32<00:33, 15.12it/s]2023-04-02 21:06:31,479: Basin 71277 All simulated values are NaN, thus metrics will be NaN, too.\n",
      "# Validation: 100%|██████████| 970/970 [01:08<00:00, 14.22it/s]\n",
      "2023-04-02 21:07:06,705: Stored results at runs_q_cms/era5_prcp_0204_143448/validation/model_epoch042/validation_results.p\n",
      "2023-04-02 21:07:06,713: Epoch 42 average validation loss: 0.00000 -- Median validation metrics: NSE: 0.66530, KGE: 0.67424\n"
     ]
    }
   ],
   "source": [
    "file_rewriter(q_pathes=glob.glob('../geo_data/great_db/nc_all_q/*.nc'),\n",
    "              ts_dir=ts_dir,\n",
    "              hydro_target='q_cms_s',\n",
    "              meteo_predictors=['t_max_e5l', 't_min_e5l', 'prcp_e5'])\n",
    "if torch.cuda.is_available():\n",
    "    start_run(config_file=Path(\"./configs/era5_prcp_qms.yml\"))"
   ]
  },
  {
   "attachments": {},
   "cell_type": "markdown",
   "metadata": {},
   "source": [
    "##### test"
   ]
  },
  {
   "cell_type": "code",
   "execution_count": 4,
   "metadata": {},
   "outputs": [
    {
     "name": "stdout",
     "output_type": "stream",
     "text": [
      "2023-04-02 21:12:22,546: Using the model weights from runs_q_cms/era5_prcp_0204_143448/model_epoch042.pt\n",
      "# Evaluation:  21%|██▏       | 208/970 [00:28<01:48,  7.03it/s]2023-04-02 21:12:50,878: Basin 2106 All simulated values are NaN, thus metrics will be NaN, too.\n",
      "# Evaluation:  34%|███▍      | 331/970 [00:44<01:20,  7.97it/s]2023-04-02 21:13:07,053: Basin 49135 All simulated values are NaN, thus metrics will be NaN, too.\n",
      "# Evaluation:  38%|███▊      | 365/970 [00:48<01:18,  7.74it/s]2023-04-02 21:13:11,706: Basin 5664 All simulated values are NaN, thus metrics will be NaN, too.\n",
      "# Evaluation:  48%|████▊     | 466/970 [01:01<01:02,  8.02it/s]2023-04-02 21:13:24,522: Basin 71277 All simulated values are NaN, thus metrics will be NaN, too.\n",
      "# Evaluation: 100%|██████████| 970/970 [02:05<00:00,  7.70it/s]\n",
      "2023-04-02 21:14:28,589: Stored results at runs_q_cms/era5_prcp_0204_143448/test/model_epoch042/test_results.p\n"
     ]
    }
   ],
   "source": [
    "run_dir = Path(\"./runs_q_cms/era5_prcp_0204_143448/\")\n",
    "eval_run(run_dir=run_dir, period=\"test\")"
   ]
  },
  {
   "attachments": {},
   "cell_type": "markdown",
   "metadata": {},
   "source": [
    "#### ERA5-Land precipitation"
   ]
  },
  {
   "cell_type": "markdown",
   "metadata": {},
   "source": [
    "##### train"
   ]
  },
  {
   "cell_type": "code",
   "execution_count": null,
   "metadata": {},
   "outputs": [],
   "source": [
    "file_rewriter(q_pathes=glob.glob('../geo_data/great_db/nc_all_q/*.nc'),\n",
    "              ts_dir=ts_dir,\n",
    "              hydro_target='q_cms_s',\n",
    "              meteo_predictors=['t_max_e5l', 't_min_e5l', 'prcp_e5l'])\n",
    "if torch.cuda.is_available():\n",
    "    start_run(config_file=Path(\"./configs/era5_land_prcp_qms.yml\"))"
   ]
  },
  {
   "cell_type": "markdown",
   "metadata": {},
   "source": [
    "##### test"
   ]
  },
  {
   "cell_type": "code",
   "execution_count": 5,
   "metadata": {},
   "outputs": [
    {
     "name": "stdout",
     "output_type": "stream",
     "text": [
      "# Evaluation: 100%|██████████| 1136/1136 [02:15<00:00,  8.40it/s]\n"
     ]
    }
   ],
   "source": [
    "run_dir = Path(\"./runs_q_cms/era5_land_prcp_2803_125025\")\n",
    "eval_run(run_dir=run_dir, period=\"test\")"
   ]
  },
  {
   "attachments": {},
   "cell_type": "markdown",
   "metadata": {},
   "source": [
    "#### GPCP precipitation"
   ]
  },
  {
   "cell_type": "markdown",
   "metadata": {},
   "source": [
    "##### train"
   ]
  },
  {
   "cell_type": "code",
   "execution_count": null,
   "metadata": {},
   "outputs": [],
   "source": [
    "# gpcp\n",
    "file_rewriter(q_pathes=glob.glob('../geo_data/great_db/nc_all_q/*.nc'),\n",
    "              ts_dir=ts_dir,\n",
    "              hydro_target='q_cms_s',\n",
    "              meteo_predictors=['t_max_e5', 't_min_e5', 'prcp_gpcp'])\n",
    "if torch.cuda.is_available():\n",
    "    start_run(config_file=Path(\"./configs/gpcp_prcp_qms.yml\"))\n",
    "gc.collect()"
   ]
  },
  {
   "cell_type": "markdown",
   "metadata": {},
   "source": [
    "##### test"
   ]
  },
  {
   "cell_type": "code",
   "execution_count": 6,
   "metadata": {},
   "outputs": [
    {
     "name": "stdout",
     "output_type": "stream",
     "text": [
      "# Evaluation: 100%|██████████| 1136/1136 [02:14<00:00,  8.43it/s]\n"
     ]
    }
   ],
   "source": [
    "run_dir = Path(\"./runs_q_cms/gpcp_prcp_3003_063422\")\n",
    "eval_run(run_dir=run_dir, period=\"test\")"
   ]
  },
  {
   "attachments": {},
   "cell_type": "markdown",
   "metadata": {},
   "source": [
    "#### IMERG precipitation"
   ]
  },
  {
   "cell_type": "markdown",
   "metadata": {},
   "source": [
    "##### train"
   ]
  },
  {
   "cell_type": "code",
   "execution_count": null,
   "metadata": {},
   "outputs": [],
   "source": [
    "file_rewriter(q_pathes=glob.glob('../geo_data/great_db/nc_all_q/*.nc'),\n",
    "              ts_dir=ts_dir,\n",
    "              hydro_target='q_cms_s',\n",
    "              meteo_predictors=['t_max_e5', 't_min_e5', 'prcp_imerg'])\n",
    "if torch.cuda.is_available():\n",
    "    start_run(config_file=Path(\"./configs/imerg_prcp_qms.yml\"))\n",
    "gc.collect()"
   ]
  },
  {
   "cell_type": "markdown",
   "metadata": {},
   "source": [
    "##### test"
   ]
  },
  {
   "cell_type": "code",
   "execution_count": null,
   "metadata": {},
   "outputs": [],
   "source": [
    "run_dir = Path(\"./runs_q_cms/imerg_prcp_3003_135405\")\n",
    "eval_run(run_dir=run_dir, period=\"test\")"
   ]
  },
  {
   "attachments": {},
   "cell_type": "markdown",
   "metadata": {},
   "source": [
    "#### MSWEP precipitation"
   ]
  },
  {
   "cell_type": "markdown",
   "metadata": {},
   "source": [
    "##### train"
   ]
  },
  {
   "cell_type": "code",
   "execution_count": null,
   "metadata": {},
   "outputs": [],
   "source": [
    "file_rewriter(q_pathes=glob.glob('../geo_data/great_db/nc_all_q/*.nc'),\n",
    "              ts_dir=ts_dir,\n",
    "              hydro_target='q_cms_s',\n",
    "              meteo_predictors=['t_max_e5', 't_min_e5', 'prcp_mswep'],\n",
    "              possible_nans=1)\n",
    "if torch.cuda.is_available():\n",
    "    start_run(config_file=Path(\"./configs/mswep_prcp_qms.yml\"))\n",
    "gc.collect()"
   ]
  },
  {
   "cell_type": "markdown",
   "metadata": {},
   "source": [
    "##### test"
   ]
  },
  {
   "cell_type": "code",
   "execution_count": 8,
   "metadata": {},
   "outputs": [
    {
     "name": "stdout",
     "output_type": "stream",
     "text": [
      "# Evaluation: 100%|██████████| 1136/1136 [02:14<00:00,  8.46it/s]\n"
     ]
    }
   ],
   "source": [
    "run_dir = Path(\"./runs_q_cms/mswep_prcp_3103_073833\")\n",
    "eval_run(run_dir=run_dir, period=\"test\")"
   ]
  }
 ],
 "metadata": {
  "kernelspec": {
   "display_name": "base",
   "language": "python",
   "name": "python3"
  },
  "language_info": {
   "codemirror_mode": {
    "name": "ipython",
    "version": 3
   },
   "file_extension": ".py",
   "mimetype": "text/x-python",
   "name": "python",
   "nbconvert_exporter": "python",
   "pygments_lexer": "ipython3",
   "version": "3.9.12"
  },
  "orig_nbformat": 4,
  "vscode": {
   "interpreter": {
    "hash": "d4d1e4263499bec80672ea0156c357c1ee493ec2b1c70f0acce89fc37c4a6abe"
   }
  }
 },
 "nbformat": 4,
 "nbformat_minor": 2
}
