{
 "cells": [
  {
   "cell_type": "code",
   "execution_count": 1,
   "metadata": {},
   "outputs": [],
   "source": [
    "%load_ext autoreload\n",
    "%autoreload 2\n",
    "%load_ext tensorboard"
   ]
  },
  {
   "cell_type": "code",
   "execution_count": 11,
   "metadata": {},
   "outputs": [
    {
     "name": "stdout",
     "output_type": "stream",
     "text": [
      "Using device: cuda\n",
      "\n",
      "NVIDIA GeForce RTX 3080 Ti\n",
      "Memory Usage:\n",
      "Allocated: 0.0 GB\n",
      "Cached:    0.0 GB\n"
     ]
    }
   ],
   "source": [
    "import pandas as pd\n",
    "import glob\n",
    "import xarray as xr\n",
    "import glob\n",
    "\n",
    "import torch\n",
    "import xarray as xr\n",
    "from neuralhydrology.nh_run import start_run, eval_run\n",
    "from scripts.file_manipulator import file_rewriter\n",
    "\n",
    "from pathlib import Path\n",
    "\n",
    "import random\n",
    "random.seed(42)\n",
    "# setting device on GPU if available, else CPU\n",
    "device = torch.device('cuda' if torch.cuda.is_available() else 'cpu')\n",
    "print('Using device:', device)\n",
    "print()\n",
    "\n",
    "#Additional Info when using cuda\n",
    "if device.type == 'cuda':\n",
    "    print(torch.cuda.get_device_name(0))\n",
    "    print('Memory Usage:')\n",
    "    print('Allocated:', round(torch.cuda.memory_allocated(0)/1024**3,1), 'GB')\n",
    "    print('Cached:   ', round(torch.cuda.memory_reserved(0)/1024**3,1), 'GB')\n"
   ]
  },
  {
   "cell_type": "code",
   "execution_count": 9,
   "metadata": {},
   "outputs": [],
   "source": [
    "ts_dir = Path('../geo_data/time_series')\n",
    "\n",
    "# gpcp\n",
    "file_rewriter(q_pathes=glob.glob('../geo_data/great_db/nc_all_q/*.nc'),\n",
    "              ts_dir=ts_dir,\n",
    "              hydro_target='q_cms_s',\n",
    "              meteo_predictors=['t_max_e5', 't_min_e5', 'prcp_gpcp'])"
   ]
  },
  {
   "attachments": {},
   "cell_type": "markdown",
   "metadata": {},
   "source": [
    "### Basin file definition\n",
    "select all id's where 100% of discharge observations exists"
   ]
  },
  {
   "cell_type": "code",
   "execution_count": 10,
   "metadata": {},
   "outputs": [],
   "source": [
    "basins = [file.split('/')[-1][:-3] for\n",
    "          file in glob.glob('../geo_data/time_series/*.nc')]\n",
    "with open('./openf_basins.txt', 'w') as the_file:\n",
    "    for gauge_name in basins:\n",
    "        the_file.write(f'{int(gauge_name)}\\n')"
   ]
  },
  {
   "cell_type": "code",
   "execution_count": 6,
   "metadata": {},
   "outputs": [],
   "source": [
    "random.shuffle(basins)\n",
    "gauge_size = len(basins)\n",
    "\n",
    "train_gauges = basins[:int(len(basins) * 0.8)]\n",
    "with open('./basins_train.txt', 'w') as the_file:\n",
    "    for gauge_name in train_gauges:\n",
    "        the_file.write(f'{gauge_name}\\n')\n",
    "\n",
    "val_gauges = basins[int(gauge_size * 0.8)\n",
    "                        :int(gauge_size * 0.8) + int(gauge_size * 0.1)]\n",
    "with open('./basins_val.txt', 'w') as the_file:\n",
    "    for gauge_name in val_gauges:\n",
    "        the_file.write(f'{gauge_name}\\n')\n",
    "\n",
    "test_gauges = basins[int(gauge_size * 0.8) + int(gauge_size * 0.1):]\n",
    "with open('./basins_test.txt', 'w') as the_file:\n",
    "    for gauge_name in test_gauges:\n",
    "        the_file.write(f'{gauge_name}\\n')\n"
   ]
  },
  {
   "attachments": {},
   "cell_type": "markdown",
   "metadata": {},
   "source": [
    "### Run for different configs\n"
   ]
  },
  {
   "attachments": {},
   "cell_type": "markdown",
   "metadata": {},
   "source": [
    "#### ERA5 precipitation"
   ]
  },
  {
   "cell_type": "code",
   "execution_count": null,
   "metadata": {},
   "outputs": [],
   "source": [
    "file_rewriter(q_pathes=glob.glob('../geo_data/great_db/nc_all_q/*.nc'),\n",
    "              ts_dir=ts_dir,\n",
    "              hydro_target='q_cms_s',\n",
    "              meteo_predictors=['t_max_e5', 't_min_e5', 'prcp_e5'])\n",
    "if torch.cuda.is_available():\n",
    "    start_run(config_file=Path(\"./configs/era5_prcp_qms.yml\"))"
   ]
  },
  {
   "attachments": {},
   "cell_type": "markdown",
   "metadata": {},
   "source": [
    "#### ERA5-Land precipitation"
   ]
  },
  {
   "cell_type": "code",
   "execution_count": null,
   "metadata": {},
   "outputs": [],
   "source": [
    "file_rewriter(q_pathes=glob.glob('../geo_data/great_db/nc_all_q/*.nc'),\n",
    "              ts_dir=ts_dir,\n",
    "              hydro_target='q_cms_s',\n",
    "              meteo_predictors=['t_max_e5l', 't_min_e5l', 'prcp_e5l'])\n",
    "if torch.cuda.is_available():\n",
    "    start_run(config_file=Path(\"./configs/era5_land_prcp_qms.yml\"))"
   ]
  },
  {
   "attachments": {},
   "cell_type": "markdown",
   "metadata": {},
   "source": [
    "#### GPCP precipitation"
   ]
  },
  {
   "cell_type": "code",
   "execution_count": null,
   "metadata": {},
   "outputs": [],
   "source": [
    "# gpcp\n",
    "file_rewriter(q_pathes=glob.glob('../geo_data/great_db/nc_all_q/*.nc'),\n",
    "              ts_dir=ts_dir,\n",
    "              hydro_target='q_cms_s',\n",
    "              meteo_predictors=['t_max_e5', 't_min_e5', 'prcp_gpcp'])\n",
    "if torch.cuda.is_available():\n",
    "    start_run(config_file=Path(\"./configs/gpcp_prcp_qms.yml\"))"
   ]
  },
  {
   "attachments": {},
   "cell_type": "markdown",
   "metadata": {},
   "source": [
    "#### IMERG precipitation"
   ]
  },
  {
   "cell_type": "code",
   "execution_count": null,
   "metadata": {},
   "outputs": [],
   "source": [
    "file_rewriter(q_pathes=glob.glob('../geo_data/great_db/nc_all_q/*.nc'),\n",
    "              ts_dir=ts_dir,\n",
    "              hydro_target='q_cms_s',\n",
    "              meteo_predictors=['t_max_e5', 't_min_e5', 'prcp_imerg'])\n",
    "if torch.cuda.is_available():\n",
    "    start_run(config_file=Path(\"./configs/imerg_prcp_qms.yml\"))"
   ]
  },
  {
   "attachments": {},
   "cell_type": "markdown",
   "metadata": {},
   "source": [
    "#### MSWEP precipitation"
   ]
  },
  {
   "cell_type": "code",
   "execution_count": null,
   "metadata": {},
   "outputs": [],
   "source": [
    "file_rewriter(q_pathes=glob.glob('../geo_data/great_db/nc_all_q/*.nc'),\n",
    "              ts_dir=ts_dir,\n",
    "              hydro_target='q_cms_s',\n",
    "              meteo_predictors=['t_max_e5', 't_min_e5', 'prcp_mswep'])\n",
    "if torch.cuda.is_available():\n",
    "    start_run(config_file=Path(\"./configs/mswep_prcp_qms.yml\"))"
   ]
  }
 ],
 "metadata": {
  "kernelspec": {
   "display_name": "base",
   "language": "python",
   "name": "python3"
  },
  "language_info": {
   "codemirror_mode": {
    "name": "ipython",
    "version": 3
   },
   "file_extension": ".py",
   "mimetype": "text/x-python",
   "name": "python",
   "nbconvert_exporter": "python",
   "pygments_lexer": "ipython3",
   "version": "3.9.12"
  },
  "orig_nbformat": 4
 },
 "nbformat": 4,
 "nbformat_minor": 2
}
