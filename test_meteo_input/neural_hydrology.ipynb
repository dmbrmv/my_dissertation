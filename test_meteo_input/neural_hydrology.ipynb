{
 "cells": [
  {
   "cell_type": "code",
   "execution_count": 1,
   "metadata": {},
   "outputs": [],
   "source": [
    "%load_ext autoreload\n",
    "%autoreload 2"
   ]
  },
  {
   "cell_type": "code",
   "execution_count": 2,
   "metadata": {},
   "outputs": [
    {
     "name": "stdout",
     "output_type": "stream",
     "text": [
      "Using device: cuda\n",
      "\n",
      "NVIDIA GeForce RTX 3080 Ti\n",
      "Memory Usage:\n",
      "Allocated: 0.0 GB\n",
      "Cached:    0.0 GB\n"
     ]
    }
   ],
   "source": [
    "import glob\n",
    "import gc\n",
    "\n",
    "import torch\n",
    "import xarray as xr\n",
    "from neuralhydrology.nh_run import start_run, eval_run\n",
    "from scripts.file_manipulator import file_rewriter\n",
    "\n",
    "from pathlib import Path\n",
    "import geopandas as gpd\n",
    "\n",
    "import random\n",
    "random.seed(42)\n",
    "# setting device on GPU if available, else CPU\n",
    "device = torch.device('cuda' if torch.cuda.is_available() else 'cpu')\n",
    "print('Using device:', device)\n",
    "print()\n",
    "\n",
    "#Additional Info when using cuda\n",
    "if device.type == 'cuda':\n",
    "    print(torch.cuda.get_device_name(0))\n",
    "    print('Memory Usage:')\n",
    "    print('Allocated:', round(torch.cuda.memory_allocated(0)/1024**3,1), 'GB')\n",
    "    print('Cached:   ', round(torch.cuda.memory_reserved(0)/1024**3,1), 'GB')\n",
    "ts_dir = Path('../geo_data/time_series')"
   ]
  },
  {
   "attachments": {},
   "cell_type": "markdown",
   "metadata": {},
   "source": [
    "### Small and Medium"
   ]
  },
  {
   "cell_type": "code",
   "execution_count": 8,
   "metadata": {},
   "outputs": [],
   "source": [
    "ws_file = gpd.read_file('../geo_data/great_db/geometry/russia_ws.gpkg')\n",
    "ws_file = ws_file.set_index('gauge_id')\n",
    "ws_file = ws_file[ws_file['new_area'] <= 50000]"
   ]
  },
  {
   "attachments": {},
   "cell_type": "markdown",
   "metadata": {},
   "source": [
    "### Run for different configs\n"
   ]
  },
  {
   "attachments": {},
   "cell_type": "markdown",
   "metadata": {},
   "source": [
    "#### ERA5 precipitation"
   ]
  },
  {
   "attachments": {},
   "cell_type": "markdown",
   "metadata": {},
   "source": [
    "##### train"
   ]
  },
  {
   "cell_type": "code",
   "execution_count": null,
   "metadata": {},
   "outputs": [],
   "source": [
    "file_rewriter(file_pathes=glob.glob('../geo_data/great_db/nc_all_q/*.nc'),\n",
    "              ts_dir=ts_dir,\n",
    "              hydro_target='q_mm_day',\n",
    "              area_index=ws_file.index,\n",
    "              meteo_predictors=['t_max_e5l', 't_min_e5l', 'prcp_e5l'])\n",
    "\n",
    "if torch.cuda.is_available():\n",
    "    start_run(config_file=Path(\"./static_configs/era5_static_qmm.yml\"))\n"
   ]
  },
  {
   "attachments": {},
   "cell_type": "markdown",
   "metadata": {},
   "source": [
    "##### test"
   ]
  },
  {
   "cell_type": "code",
   "execution_count": 8,
   "metadata": {},
   "outputs": [
    {
     "name": "stdout",
     "output_type": "stream",
     "text": [
      "# Evaluation: 100%|██████████| 911/911 [01:32<00:00,  9.88it/s]\n"
     ]
    }
   ],
   "source": [
    "run_dir = Path(\"./runs_static/era5L_static_SmallMedium_0205_095021\")\n",
    "eval_run(run_dir=run_dir, period=\"test\", epoch=24)"
   ]
  },
  {
   "cell_type": "code",
   "execution_count": 9,
   "metadata": {},
   "outputs": [
    {
     "name": "stdout",
     "output_type": "stream",
     "text": [
      "# Evaluation: 100%|██████████| 911/911 [01:33<00:00,  9.72it/s]\n"
     ]
    }
   ],
   "source": [
    "run_dir = Path(\"./runs_static/era5_SmallMedium_1205_112433\")\n",
    "eval_run(run_dir=run_dir, period=\"test\", epoch=21)"
   ]
  },
  {
   "cell_type": "code",
   "execution_count": 10,
   "metadata": {},
   "outputs": [
    {
     "name": "stdout",
     "output_type": "stream",
     "text": [
      "# Evaluation: 100%|██████████| 911/911 [01:39<00:00,  9.17it/s]\n"
     ]
    }
   ],
   "source": [
    "run_dir = Path(\"./runs_static/gpcp_SmallMedium_1205_054740\")\n",
    "eval_run(run_dir=run_dir, period=\"test\", epoch=30)"
   ]
  },
  {
   "cell_type": "code",
   "execution_count": null,
   "metadata": {},
   "outputs": [],
   "source": [
    "run_dir = Path(\"./runs_static/imerg_SmallMedium_1205_085602\")\n",
    "eval_run(run_dir=run_dir, period=\"test\", epoch=30)"
   ]
  },
  {
   "cell_type": "code",
   "execution_count": 12,
   "metadata": {},
   "outputs": [
    {
     "name": "stdout",
     "output_type": "stream",
     "text": [
      "# Evaluation: 100%|██████████| 911/911 [01:32<00:00,  9.83it/s]\n"
     ]
    }
   ],
   "source": [
    "run_dir = Path(\"./runs_static/mswep_static_SmallMedium_0205_153244\")\n",
    "eval_run(run_dir=run_dir, period=\"test\", epoch=21)"
   ]
  },
  {
   "cell_type": "code",
   "execution_count": 28,
   "metadata": {},
   "outputs": [],
   "source": [
    "import pandas as pd\n",
    "import sys\n",
    "sys.path.append('/workspaces/my_dissertation/')\n",
    "obj = pd.read_pickle('./runs_static/era5L_static_SmallMedium_0205_095021/test/model_epoch024/test_results.p')\n",
    "for gauge in obj.keys():\n",
    "    obj[gauge]['1D']['xr'].to_dataframe().droplevel(1).to_csv(f'../conclusions/results/lstm_static/{gauge}.csv')"
   ]
  },
  {
   "cell_type": "code",
   "execution_count": 29,
   "metadata": {},
   "outputs": [],
   "source": [
    "import pandas as pd\n",
    "import sys\n",
    "sys.path.append('/workspaces/my_dissertation/')\n",
    "obj = pd.read_pickle('./runs_no_static/era5Land_prcp_0604_111347/test/model_epoch030/test_results.p')\n",
    "for gauge in obj.keys():\n",
    "    obj[gauge]['1D']['xr'].to_dataframe().droplevel(1).to_csv(f'../conclusions/results/lstm/{gauge}.csv')"
   ]
  },
  {
   "cell_type": "code",
   "execution_count": null,
   "metadata": {},
   "outputs": [],
   "source": []
  },
  {
   "cell_type": "code",
   "execution_count": 21,
   "metadata": {},
   "outputs": [
    {
     "data": {
      "text/plain": [
       "dict_keys(['10042', '10044', '10048', '10059', '10062', '10066', '10073', '10075', '10078', '10100', '10108', '10110', '10112', '10117', '10120', '10122', '10126', '10133', '10144', '10148', '10150', '10176', '10177', '10184', '10194', '10198', '10202', '10204', '10205', '10209', '10211', '10216', '10219', '10220', '10221', '10223', '10231', '10232', '10240', '10246', '10264', '10266', '10276', '10279', '10292', '10301', '10308', '10315', '10323', '10343', '10349', '10369', '10379', '10380', '10384', '10385', '10387', '10392', '10394', '10396', '10400', '10402', '10404', '10407', '10411', '10414', '10416', '10423', '10424', '10428', '10430', '10432', '10441', '10453', '10460', '10461', '10468', '10475', '10476', '10478', '10489', '10511', '10554', '10566', '10567', '10570', '10571', '10583', '10586', '10587', '10591', '10594', '10595', '10620', '10632', '10641', '10651', '10653', '10701', '10713', '11306', '11308', '11309', '11312', '11334', '11335', '11337', '11350', '11351', '11352', '11353', '11357', '11368', '11370', '11379', '11385', '11473', '11487', '11491', '11500', '11502', '1151', '11538', '11556', '11620', '11622', '11628', '11637', '11639', '11676', '12043', '12059', '12061', '12115', '12125', '12189', '12202', '12239', '12279', '12315', '12320', '12383', '12417', '12430', '12476', '12498', '12511', '12611', '12651', '1534', '1556', '1566', '1576', '1596', '1608', '19039', '19049', '19050', '19092', '19108', '19118', '19122', '19123', '19127', '19128', '19153', '19154', '19158', '19159', '19170', '19172', '19183', '19185', '19197', '19313', '19382', '2010', '2026', '2027', '2034', '2040', '2058', '2062', '2090', '2103', '2107', '2115', '2126', '2128', '2152', '2180', '2193', '2198', '2203', '2229', '2270', '3001', '3003', '3059', '3068', '3073', '3074', '3076', '3079', '3083', '3085', '3087', '3135', '3136', '3147', '3150', '3156', '3159', '3178', '3201', '3210', '3218', '3219', '3234', '3247', '3248', '3291', '3334', '3569', '3577', '3603', '3637', '3669', '4027', '4032', '4033', '4034', '4043', '4085', '4090', '4095', '4102', '4105', '4107', '4116', '4141', '4145', '4148', '4158', '4159', '4160', '4173', '4175', '4179', '4181', '4238', '48002', '48006', '48021', '48029', '48030', '48038', '48058', '48069', '48071', '48075', '48079', '48085', '48088', '48089', '48090', '48091', '48099', '48110', '48123', '49014', '49047', '49052', '49053', '49054', '49058', '49070', '49090', '49093', '49094', '49110', '49114', '49120', '49123', '49125', '49126', '49127', '49129', '49149', '5055', '5063', '5072', '5074', '5085', '5092', '5094', '5105', '5122', '5132', '5135', '5148', '5151', '5160', '5166', '5171', '5208', '5211', '5250', '5254', '5262', '5277', '5280', '5287', '5292', '5311', '5328', '5336', '5347', '5358', '5383', '5403', '5449', '5453', '5458', '5459', '5461', '5507', '5552', '5555', '5580', '5583', '5589', '5597', '5600', '5635', '5642', '5652', '5662', '5733', '5736', '5746', '5758', '5759', '6076', '6077', '6089', '6134', '6139', '6141', '6143', '6256', '6259', '6345', '6349', '6387', '6407', '6411', '6414', '6424', '6443', '6491', '6506', '6549', '6562', '70011', '7003', '7004', '7009', '7011', '70117', '70118', '7012', '70147', '7015', '70158', '7016', '70175', '7020', '70206', '70209', '70211', '70212', '70213', '70217', '7022', '7024', '70242', '70246', '70248', '70250', '70284', '70288', '7029', '7031', '70328', '70331', '70334', '70339', '7034', '70340', '70345', '70348', '7036', '70378', '70382', '7039', '70399', '70410', '70414', '70444', '70459', '70466', '70486', '70499', '70509', '70512', '70517', '70522', '70531', '70533', '70559', '7056', '70566', '70574', '70583', '70586', '70587', '70589', '70597', '7060', '70601', '70609', '70614', '70617', '7066', '7072', '7076', '7080', '7087', '7099', '71086', '71104', '71146', '71185', '71186', '71193', '71199', '71268', '7130', '7142', '7148', '7152', '7156', '7161', '7167', '7168', '7172', '7174', '7176', '7180', '7185', '7187', '7200', '72007', '72008', '7202', '7203', '72043', '72055', '72064', '72076', '72083', '72096', '72098', '72102', '72104', '72106', '72109', '72110', '72113', '72144', '72148', '72155', '72156', '72162', '72172', '72179', '72188', '72191', '72192', '72269', '72281', '72285', '72327', '72423', '72454', '72459', '72481', '72508', '72519', '72559', '72566', '72569', '72577', '72585', '72588', '72592', '72603', '72610', '72623', '72625', '72649', '72654', '72660', '72661', '72668', '72682', '72696', '72716', '72721', '72731', '72738', '72739', '72748', '72752', '72753', '72760', '72761', '73110', '74438', '75006', '75033', '75074', '75079', '75106', '75108', '75121', '75202', '75203', '75208', '75209', '75210', '75217', '75219', '75225', '75227', '75235', '75236', '75238', '75254', '75257', '75259', '75266', '75273', '75274', '75280', '75286', '75289', '75290', '75291', '75296', '75297', '75299', '75300', '75301', '75303', '75359', '75361', '75367', '75382', '75388', '75389', '75394', '75402', '75427', '75453', '75463', '75491', '75497', '75503', '75518', '75520', '75540', '75543', '75547', '75552', '75553', '75561', '75573', '75576', '75607', '75608', '75615', '75624', '75631', '75643', '75645', '75648', '75656', '75658', '75664', '75674', '75676', '75678', '75682', '75687', '75699', '75710', '75727', '75728', '75740', '75749', '75751', '75752', '75772', '75776', '76007', '76008', '76075', '76076', '76089', '76099', '76112', '76130', '76139', '76141', '76159', '76165', '76176', '76180', '76190', '76217', '76243', '76253', '76255', '76256', '76264', '76270', '76275', '76284', '76317', '76318', '76321', '76324', '76345', '76355', '76360', '76363', '76364', '76367', '76406', '76408', '76416', '76417', '76421', '76423', '76454', '76456', '76461', '76462', '76466', '76483', '76486', '76489', '76490', '76494', '76495', '76499', '76500', '76512', '76518', '76519', '76520', '76533', '76646', '76648', '76649', '76650', '76651', '76652', '76653', '76661', '76673', '76685', '76688', '76690', '76692', '76701', '77112', '77115', '77124', '77130', '77140', '77146', '77152', '77156', '77166', '77179', '77189', '77193', '77197', '77201', '77209', '77210', '77212', '77217', '77223', '77231', '77242', '77245', '77246', '77250', '77259', '77260', '77266', '77270', '77285', '77288', '77292', '77298', '77329', '77336', '77370', '77397', '77407', '77409', '78004', '78050', '78053', '78054', '78055', '78078', '78087', '78092', '78111', '78130', '78132', '78138', '78141', '78142', '78144', '78160', '78165', '78191', '78196', '78205', '78231', '78252', '78275', '78277', '78345', '78391', '78393', '78394', '78404', '78410', '78502', '78503', '78504', '78512', '78513', '78515', '78519', '78529', '78590', '78611', '78614', '78623', '79006', '79011', '79051', '79244', '79261', '79324', '79335', '80113', '80118', '80148', '80157', '80160', '80165', '80172', '80196', '80197', '80198', '80204', '80220', '80222', '80224', '80230', '80236', '80405', '80424', '80442', '80592', '8095', '8097', '8150', '8161', '8162', '8172', '8188', '82026', '82039', '82046', '82060', '8230', '8233', '8241', '8249', '8251', '8254', '8288', '8289', '8290', '8291', '8306', '83061', '83063', '8313', '83174', '8321', '83262', '83266', '83288', '83314', '83318', '8334', '83340', '83348', '83350', '83369', '83372', '8339', '83459', '8347', '8356', '8361', '8364', '8374', '8375', '8379', '8384', '84008', '84011', '84029', '84031', '84037', '8410', '8411', '84173', '84192', '84215', '84233', '84243', '84312', '84344', '84399', '84449', '8582', '9112', '9115', '9164', '9166', '9169', '9189', '9191', '9199', '9207', '9213', '9215', '9216', '9217', '9226', '9253', '9256', '9264', '9279', '9282', '9283', '9285', '9286', '9290', '9294', '9298', '9304', '9323', '9324', '9326', '9329', '9333', '9335', '9337', '9341', '9342', '9343', '9356', '9370', '9372', '9380', '9383', '9385', '9397', '9403', '9404', '9417', '9520', '9547', '9560', '9563', '9568'])"
      ]
     },
     "execution_count": 21,
     "metadata": {},
     "output_type": "execute_result"
    }
   ],
   "source": [
    "obj.keys()"
   ]
  },
  {
   "attachments": {},
   "cell_type": "markdown",
   "metadata": {},
   "source": [
    "#### ERA5-Land precipitation"
   ]
  },
  {
   "cell_type": "markdown",
   "metadata": {},
   "source": [
    "##### train"
   ]
  },
  {
   "cell_type": "code",
   "execution_count": 33,
   "metadata": {},
   "outputs": [],
   "source": [
    "hfile_rewriter(file_pathes=glob.glob('../geo_data/great_db/nc_all_q/*.nc'),\n",
    "              ts_dir=ts_dir,\n",
    "              hydro_target='q_mm_day',\n",
    "              area_index=ws_file.index,\n",
    "              meteo_predictors=['t_max_e5l', 't_min_e5l', 'prcp_e5l'])\n"
   ]
  },
  {
   "cell_type": "code",
   "execution_count": 34,
   "metadata": {},
   "outputs": [
    {
     "name": "stdout",
     "output_type": "stream",
     "text": [
      "2023-10-10 04:20:51,278: Logging to runs_static/era5L_static_SmallMedium_1010_042051/output.log initialized.\n",
      "2023-10-10 04:20:51,279: ### Folder structure created at runs_static/era5L_static_SmallMedium_1010_042051\n",
      "2023-10-10 04:20:51,279: ### Run configurations for era5L_static_SmallMedium\n",
      "2023-10-10 04:20:51,279: experiment_name: era5L_static_SmallMedium\n",
      "2023-10-10 04:20:51,280: run_dir: runs_static/era5L_static_SmallMedium_1010_042051\n",
      "2023-10-10 04:20:51,280: train_basin_file: openf_basins.txt\n",
      "2023-10-10 04:20:51,281: validation_basin_file: openf_basins.txt\n",
      "2023-10-10 04:20:51,281: test_basin_file: openf_basins.txt\n",
      "2023-10-10 04:20:51,281: train_start_date: 2009-01-01 00:00:00\n",
      "2023-10-10 04:20:51,281: train_end_date: 2016-12-31 00:00:00\n",
      "2023-10-10 04:20:51,282: validation_start_date: 2017-01-01 00:00:00\n",
      "2023-10-10 04:20:51,282: validation_end_date: 2018-12-31 00:00:00\n",
      "2023-10-10 04:20:51,282: test_start_date: 2009-01-01 00:00:00\n",
      "2023-10-10 04:20:51,283: test_end_date: 2016-12-31 00:00:00\n",
      "2023-10-10 04:20:51,283: per_basin_train_periods_file: None\n",
      "2023-10-10 04:20:51,284: per_basin_validation_periods_file: None\n",
      "2023-10-10 04:20:51,284: per_basin_test_periods_file: None\n",
      "2023-10-10 04:20:51,284: seed: 42\n",
      "2023-10-10 04:20:51,285: device: cuda:0\n",
      "2023-10-10 04:20:51,285: validate_every: 3\n",
      "2023-10-10 04:20:51,285: validate_n_random_basins: 1106\n",
      "2023-10-10 04:20:51,286: cache_validation_data: True\n",
      "2023-10-10 04:20:51,286: metrics: ['NSE', 'KGE']\n",
      "2023-10-10 04:20:51,286: model: cudalstm\n",
      "2023-10-10 04:20:51,287: checkpoint_path: None\n",
      "2023-10-10 04:20:51,287: head: regression\n",
      "2023-10-10 04:20:51,287: output_activation: linear\n",
      "2023-10-10 04:20:51,288: hidden_size: 256\n",
      "2023-10-10 04:20:51,288: initial_forget_bias: 6\n",
      "2023-10-10 04:20:51,288: output_dropout: 0.4\n",
      "2023-10-10 04:20:51,289: optimizer: Adam\n",
      "2023-10-10 04:20:51,289: loss: NSE\n",
      "2023-10-10 04:20:51,289: regularization: None\n",
      "2023-10-10 04:20:51,290: learning_rate: {0: 0.001, 10: 0.0005, 20: 0.0001}\n",
      "2023-10-10 04:20:51,290: batch_size: 256\n",
      "2023-10-10 04:20:51,290: epochs: 30\n",
      "2023-10-10 04:20:51,291: target_noise_std: None\n",
      "2023-10-10 04:20:51,291: clip_gradient_norm: 1\n",
      "2023-10-10 04:20:51,291: predict_last_n: 1\n",
      "2023-10-10 04:20:51,292: seq_length: 365\n",
      "2023-10-10 04:20:51,292: num_workers: 8\n",
      "2023-10-10 04:20:51,293: log_interval: 3\n",
      "2023-10-10 04:20:51,293: log_tensorboard: True\n",
      "2023-10-10 04:20:51,293: log_n_figures: None\n",
      "2023-10-10 04:20:51,294: save_weights_every: 3\n",
      "2023-10-10 04:20:51,294: save_validation_results: True\n",
      "2023-10-10 04:20:51,294: dataset: generic\n",
      "2023-10-10 04:20:51,295: data_dir: ../geo_data\n",
      "2023-10-10 04:20:51,295: save_train_data: True\n",
      "2023-10-10 04:20:51,295: train_data_file: None\n",
      "2023-10-10 04:20:51,296: forcings: None\n",
      "2023-10-10 04:20:51,296: dynamic_inputs: ['t_max_e5l', 't_min_e5l', 'prcp_e5l']\n",
      "2023-10-10 04:20:51,296: target_variables: ['q_mm_day']\n",
      "2023-10-10 04:20:51,297: static_attributes: ['for_pc_sse', 'crp_pc_sse', 'pst_pc_sse', 'inu_pc_ult', 'ire_pc_sse', 'lka_pc_use', 'lkv_mc_usu', 'rev_mc_usu', 'gwt_cm_sav', 'prm_pc_sse', 'sgr_dk_sav', 'slp_dg_sav', 'cly_pc_sav', 'slt_pc_sav', 'snd_pc_sav', 'kar_pc_sse', 'urb_pc_sse', 'ws_area', 'ele_mt_sav']\n",
      "2023-10-10 04:20:51,297: additional_feature_files: None\n",
      "2023-10-10 04:20:51,297: evolving_attributes: None\n",
      "2023-10-10 04:20:51,298: use_basin_id_encoding: False\n",
      "2023-10-10 04:20:51,298: number_of_basins: 919\n",
      "2023-10-10 04:20:51,298: train_dir: runs_static/era5L_static_SmallMedium_1010_042051/train_data\n",
      "2023-10-10 04:20:51,298: img_log_dir: runs_static/era5L_static_SmallMedium_1010_042051/img_log\n",
      "2023-10-10 04:20:51,299: ### Device cuda:0 will be used for training\n",
      "2023-10-10 04:20:51,438: Loading basin data into xarray data set.\n",
      "100%|██████████| 919/919 [00:17<00:00, 52.10it/s]\n",
      "2023-10-10 04:21:09,992: Calculating target variable stds per basin\n",
      "100%|██████████| 919/919 [00:00<00:00, 2135.38it/s]\n",
      "2023-10-10 04:21:10,486: Create lookup table and convert to pytorch tensor\n",
      "100%|██████████| 919/919 [00:11<00:00, 78.57it/s] \n",
      "# Epoch 1: 100%|██████████| 10490/10490 [05:39<00:00, 30.87it/s, Loss: 0.0001]\n",
      "2023-10-10 04:27:02,352: Epoch 1 average loss: avg_loss: 0.00122, avg_total_loss: 0.00122\n",
      "# Epoch 2: 100%|██████████| 10490/10490 [05:45<00:00, 30.37it/s, Loss: 0.0003]\n",
      "2023-10-10 04:32:47,814: Epoch 2 average loss: avg_loss: 0.00010, avg_total_loss: 0.00010\n",
      "# Epoch 3: 100%|██████████| 10490/10490 [05:50<00:00, 29.96it/s, Loss: 0.0000]\n",
      "2023-10-10 04:38:37,899: Epoch 3 average loss: avg_loss: 0.00012, avg_total_loss: 0.00012\n",
      "# Validation: 100%|██████████| 919/919 [01:13<00:00, 12.57it/s]\n",
      "2023-10-10 04:39:51,008: Stored metrics at runs_static/era5L_static_SmallMedium_1010_042051/validation/model_epoch003/validation_metrics.csv\n",
      "2023-10-10 04:39:51,111: Stored results at runs_static/era5L_static_SmallMedium_1010_042051/validation/model_epoch003/validation_results.p\n",
      "2023-10-10 04:39:51,121: Epoch 3 average validation loss: 0.00005 -- Median validation metrics: avg_loss: 0.00005, NSE: 0.54780, KGE: 0.54241\n",
      "# Epoch 4: 100%|██████████| 10490/10490 [05:53<00:00, 29.65it/s, Loss: 0.0000]\n",
      "2023-10-10 04:45:44,918: Epoch 4 average loss: avg_loss: 0.00005, avg_total_loss: 0.00005\n",
      "# Epoch 5: 100%|██████████| 10490/10490 [05:53<00:00, 29.67it/s, Loss: 0.0001]\n",
      "2023-10-10 04:51:38,423: Epoch 5 average loss: avg_loss: 0.00005, avg_total_loss: 0.00005\n",
      "# Epoch 6: 100%|██████████| 10490/10490 [05:53<00:00, 29.69it/s, Loss: 0.0000]\n",
      "2023-10-10 04:57:31,741: Epoch 6 average loss: avg_loss: 0.00004, avg_total_loss: 0.00004\n",
      "# Validation: 100%|██████████| 919/919 [00:54<00:00, 16.87it/s]\n",
      "2023-10-10 04:58:26,217: Stored metrics at runs_static/era5L_static_SmallMedium_1010_042051/validation/model_epoch006/validation_metrics.csv\n",
      "2023-10-10 04:58:26,320: Stored results at runs_static/era5L_static_SmallMedium_1010_042051/validation/model_epoch006/validation_results.p\n",
      "2023-10-10 04:58:26,329: Epoch 6 average validation loss: 0.00004 -- Median validation metrics: avg_loss: 0.00004, NSE: 0.61703, KGE: 0.60972\n",
      "# Epoch 7: 100%|██████████| 10490/10490 [06:56<00:00, 25.17it/s, Loss: 0.0000]\n",
      "2023-10-10 05:05:23,158: Epoch 7 average loss: avg_loss: 0.00004, avg_total_loss: 0.00004\n",
      "# Epoch 8: 100%|██████████| 10490/10490 [06:55<00:00, 25.26it/s, Loss: 0.0000]\n",
      "2023-10-10 05:12:18,486: Epoch 8 average loss: avg_loss: 0.00004, avg_total_loss: 0.00004\n",
      "# Epoch 9: 100%|██████████| 10490/10490 [06:55<00:00, 25.27it/s, Loss: 0.0001]\n",
      "2023-10-10 05:19:13,582: Epoch 9 average loss: avg_loss: 0.00015, avg_total_loss: 0.00015\n",
      "# Validation: 100%|██████████| 919/919 [00:52<00:00, 17.48it/s]\n",
      "2023-10-10 05:20:06,170: Stored metrics at runs_static/era5L_static_SmallMedium_1010_042051/validation/model_epoch009/validation_metrics.csv\n",
      "2023-10-10 05:20:06,289: Stored results at runs_static/era5L_static_SmallMedium_1010_042051/validation/model_epoch009/validation_results.p\n",
      "2023-10-10 05:20:06,297: Epoch 9 average validation loss: 0.00008 -- Median validation metrics: avg_loss: 0.00008, NSE: 0.46264, KGE: 0.43125\n",
      "2023-10-10 05:20:06,298: Setting learning rate to 0.0005\n",
      "# Epoch 10: 100%|██████████| 10490/10490 [06:48<00:00, 25.69it/s, Loss: 0.0000]\n",
      "2023-10-10 05:26:54,563: Epoch 10 average loss: avg_loss: 0.00005, avg_total_loss: 0.00005\n",
      "# Epoch 11: 100%|██████████| 10490/10490 [05:54<00:00, 29.61it/s, Loss: 0.0000]\n",
      "2023-10-10 05:32:48,897: Epoch 11 average loss: avg_loss: 0.00003, avg_total_loss: 0.00003\n",
      "# Epoch 12: 100%|██████████| 10490/10490 [05:59<00:00, 29.20it/s, Loss: 0.0000]\n",
      "2023-10-10 05:38:48,143: Epoch 12 average loss: avg_loss: 0.00003, avg_total_loss: 0.00003\n",
      "# Validation: 100%|██████████| 919/919 [00:47<00:00, 19.45it/s]\n",
      "2023-10-10 05:39:35,396: Stored metrics at runs_static/era5L_static_SmallMedium_1010_042051/validation/model_epoch012/validation_metrics.csv\n",
      "2023-10-10 05:39:35,499: Stored results at runs_static/era5L_static_SmallMedium_1010_042051/validation/model_epoch012/validation_results.p\n",
      "2023-10-10 05:39:35,509: Epoch 12 average validation loss: 0.00004 -- Median validation metrics: avg_loss: 0.00004, NSE: 0.68411, KGE: 0.65537\n",
      "# Epoch 13: 100%|██████████| 10490/10490 [06:28<00:00, 26.97it/s, Loss: 0.0000]\n",
      "2023-10-10 05:46:04,403: Epoch 13 average loss: avg_loss: 0.00003, avg_total_loss: 0.00003\n",
      "# Epoch 14: 100%|██████████| 10490/10490 [06:28<00:00, 26.98it/s, Loss: 0.0001]\n",
      "2023-10-10 05:52:33,227: Epoch 14 average loss: avg_loss: 0.00003, avg_total_loss: 0.00003\n",
      "# Epoch 15: 100%|██████████| 10490/10490 [06:40<00:00, 26.20it/s, Loss: 0.0001]\n",
      "2023-10-10 05:59:13,579: Epoch 15 average loss: avg_loss: 0.00006, avg_total_loss: 0.00006\n",
      "# Validation: 100%|██████████| 919/919 [00:44<00:00, 20.61it/s]\n",
      "2023-10-10 05:59:58,192: Stored metrics at runs_static/era5L_static_SmallMedium_1010_042051/validation/model_epoch015/validation_metrics.csv\n",
      "2023-10-10 05:59:58,291: Stored results at runs_static/era5L_static_SmallMedium_1010_042051/validation/model_epoch015/validation_results.p\n",
      "2023-10-10 05:59:58,300: Epoch 15 average validation loss: 0.00004 -- Median validation metrics: avg_loss: 0.00004, NSE: 0.62128, KGE: 0.57065\n",
      "# Epoch 16: 100%|██████████| 10490/10490 [06:39<00:00, 26.24it/s, Loss: 0.0001]\n",
      "2023-10-10 06:06:38,147: Epoch 16 average loss: avg_loss: 0.00005, avg_total_loss: 0.00005\n",
      "# Epoch 17: 100%|██████████| 10490/10490 [07:16<00:00, 24.02it/s, Loss: 0.0000]\n",
      "2023-10-10 06:13:54,788: Epoch 17 average loss: avg_loss: 0.00004, avg_total_loss: 0.00004\n",
      "# Epoch 18: 100%|██████████| 10490/10490 [06:00<00:00, 29.10it/s, Loss: 0.0000]\n",
      "2023-10-10 06:19:55,266: Epoch 18 average loss: avg_loss: 0.00003, avg_total_loss: 0.00003\n",
      "# Validation: 100%|██████████| 919/919 [00:46<00:00, 19.73it/s]\n",
      "2023-10-10 06:20:41,858: Stored metrics at runs_static/era5L_static_SmallMedium_1010_042051/validation/model_epoch018/validation_metrics.csv\n",
      "2023-10-10 06:20:41,955: Stored results at runs_static/era5L_static_SmallMedium_1010_042051/validation/model_epoch018/validation_results.p\n",
      "2023-10-10 06:20:41,964: Epoch 18 average validation loss: 0.00004 -- Median validation metrics: avg_loss: 0.00004, NSE: 0.68234, KGE: 0.65547\n",
      "# Epoch 19: 100%|██████████| 10490/10490 [05:55<00:00, 29.54it/s, Loss: 0.0000]\n",
      "2023-10-10 06:26:37,057: Epoch 19 average loss: avg_loss: 0.00003, avg_total_loss: 0.00003\n",
      "2023-10-10 06:26:37,057: Setting learning rate to 0.0001\n",
      "# Epoch 20: 100%|██████████| 10490/10490 [05:56<00:00, 29.43it/s, Loss: 0.0001]\n",
      "2023-10-10 06:32:33,451: Epoch 20 average loss: avg_loss: 0.00003, avg_total_loss: 0.00003\n",
      "# Epoch 21: 100%|██████████| 10490/10490 [05:31<00:00, 31.61it/s, Loss: 0.0000]\n",
      "2023-10-10 06:38:05,335: Epoch 21 average loss: avg_loss: 0.00002, avg_total_loss: 0.00002\n",
      "# Validation: 100%|██████████| 919/919 [00:50<00:00, 18.15it/s]\n",
      "2023-10-10 06:38:55,980: Stored metrics at runs_static/era5L_static_SmallMedium_1010_042051/validation/model_epoch021/validation_metrics.csv\n",
      "2023-10-10 06:38:56,097: Stored results at runs_static/era5L_static_SmallMedium_1010_042051/validation/model_epoch021/validation_results.p\n",
      "2023-10-10 06:38:56,107: Epoch 21 average validation loss: 0.00004 -- Median validation metrics: avg_loss: 0.00004, NSE: 0.70893, KGE: 0.69410\n",
      "# Epoch 22: 100%|██████████| 10490/10490 [05:58<00:00, 29.30it/s, Loss: 0.0000]\n",
      "2023-10-10 06:44:54,127: Epoch 22 average loss: avg_loss: 0.00002, avg_total_loss: 0.00002\n",
      "# Epoch 23: 100%|██████████| 10490/10490 [05:49<00:00, 29.99it/s, Loss: 0.0000]\n",
      "2023-10-10 06:50:43,960: Epoch 23 average loss: avg_loss: 0.00002, avg_total_loss: 0.00002\n",
      "# Epoch 24: 100%|██████████| 10490/10490 [05:54<00:00, 29.61it/s, Loss: 0.0000]\n",
      "2023-10-10 06:56:38,269: Epoch 24 average loss: avg_loss: 0.00002, avg_total_loss: 0.00002\n",
      "# Validation: 100%|██████████| 919/919 [00:46<00:00, 19.60it/s]\n",
      "2023-10-10 06:57:25,175: Stored metrics at runs_static/era5L_static_SmallMedium_1010_042051/validation/model_epoch024/validation_metrics.csv\n",
      "2023-10-10 06:57:25,289: Stored results at runs_static/era5L_static_SmallMedium_1010_042051/validation/model_epoch024/validation_results.p\n",
      "2023-10-10 06:57:25,298: Epoch 24 average validation loss: 0.00004 -- Median validation metrics: avg_loss: 0.00004, NSE: 0.70753, KGE: 0.70358\n",
      "# Epoch 25: 100%|██████████| 10490/10490 [06:19<00:00, 27.61it/s, Loss: 0.0001]\n",
      "2023-10-10 07:03:45,230: Epoch 25 average loss: avg_loss: 0.00002, avg_total_loss: 0.00002\n",
      "# Epoch 26: 100%|██████████| 10490/10490 [06:00<00:00, 29.07it/s, Loss: 0.0000]\n",
      "2023-10-10 07:09:46,106: Epoch 26 average loss: avg_loss: 0.00002, avg_total_loss: 0.00002\n",
      "# Epoch 27: 100%|██████████| 10490/10490 [06:04<00:00, 28.78it/s, Loss: 0.0000]\n",
      "2023-10-10 07:15:50,595: Epoch 27 average loss: avg_loss: 0.00002, avg_total_loss: 0.00002\n",
      "# Validation: 100%|██████████| 919/919 [00:47<00:00, 19.36it/s]\n",
      "2023-10-10 07:16:38,074: Stored metrics at runs_static/era5L_static_SmallMedium_1010_042051/validation/model_epoch027/validation_metrics.csv\n",
      "2023-10-10 07:16:38,185: Stored results at runs_static/era5L_static_SmallMedium_1010_042051/validation/model_epoch027/validation_results.p\n",
      "2023-10-10 07:16:38,195: Epoch 27 average validation loss: 0.00004 -- Median validation metrics: avg_loss: 0.00004, NSE: 0.70678, KGE: 0.69424\n",
      "# Epoch 28: 100%|██████████| 10490/10490 [05:56<00:00, 29.46it/s, Loss: 0.0000]\n",
      "2023-10-10 07:22:34,284: Epoch 28 average loss: avg_loss: 0.00002, avg_total_loss: 0.00002\n",
      "# Epoch 29: 100%|██████████| 10490/10490 [05:48<00:00, 30.07it/s, Loss: 0.0000]\n",
      "2023-10-10 07:28:23,175: Epoch 29 average loss: avg_loss: 0.00002, avg_total_loss: 0.00002\n",
      "# Epoch 30: 100%|██████████| 10490/10490 [06:14<00:00, 27.99it/s, Loss: 0.0000]\n",
      "2023-10-10 07:34:37,936: Epoch 30 average loss: avg_loss: 0.00002, avg_total_loss: 0.00002\n",
      "# Validation: 100%|██████████| 919/919 [00:48<00:00, 18.91it/s]\n",
      "2023-10-10 07:35:26,543: Stored metrics at runs_static/era5L_static_SmallMedium_1010_042051/validation/model_epoch030/validation_metrics.csv\n",
      "2023-10-10 07:35:26,651: Stored results at runs_static/era5L_static_SmallMedium_1010_042051/validation/model_epoch030/validation_results.p\n",
      "2023-10-10 07:35:26,660: Epoch 30 average validation loss: 0.00004 -- Median validation metrics: avg_loss: 0.00004, NSE: 0.70978, KGE: 0.68455\n"
     ]
    }
   ],
   "source": [
    "if torch.cuda.is_available():\n",
    "    start_run(config_file=Path(\"./static_configs/era5L_static_qmm.yml\"))"
   ]
  },
  {
   "cell_type": "markdown",
   "metadata": {},
   "source": [
    "##### test"
   ]
  },
  {
   "cell_type": "code",
   "execution_count": 35,
   "metadata": {},
   "outputs": [
    {
     "name": "stdout",
     "output_type": "stream",
     "text": [
      "2023-10-10 07:46:37,788: Using the model weights from runs_static/era5L_static_SmallMedium_1010_042051/model_epoch030.pt\n",
      "# Evaluation: 100%|██████████| 919/919 [03:11<00:00,  4.80it/s]\n",
      "2023-10-10 07:49:49,085: Stored metrics at runs_static/era5L_static_SmallMedium_1010_042051/test/model_epoch030/test_metrics.csv\n",
      "2023-10-10 07:49:49,343: Stored results at runs_static/era5L_static_SmallMedium_1010_042051/test/model_epoch030/test_results.p\n"
     ]
    }
   ],
   "source": [
    "run_dir = Path(\"./runs_static/era5L_static_SmallMedium_1010_042051/\")\n",
    "eval_run(run_dir=run_dir, period=\"test\")"
   ]
  },
  {
   "cell_type": "code",
   "execution_count": 39,
   "metadata": {},
   "outputs": [
    {
     "data": {
      "text/plain": [
       "0.8313676259144301"
      ]
     },
     "execution_count": 39,
     "metadata": {},
     "output_type": "execute_result"
    }
   ],
   "source": [
    "pd.read_csv('./runs_static/era5L_static_SmallMedium_1010_042051/test/model_epoch030/test_metrics.csv')['KGE'].median()"
   ]
  },
  {
   "attachments": {},
   "cell_type": "markdown",
   "metadata": {},
   "source": [
    "#### GPCP precipitation"
   ]
  },
  {
   "cell_type": "markdown",
   "metadata": {},
   "source": [
    "##### train"
   ]
  },
  {
   "cell_type": "code",
   "execution_count": null,
   "metadata": {},
   "outputs": [],
   "source": [
    "# gpcp\n",
    "file_rewriter(file_pathes=glob.glob('../geo_data/great_db/nc_all_q/*.nc'),\n",
    "              ts_dir=ts_dir,\n",
    "              hydro_target='q_mm_day',\n",
    "              area_index=ws_file.index,\n",
    "              meteo_predictors=['t_max_e5l', 't_min_e5l', 'prcp_gpcp'])\n",
    "if torch.cuda.is_available():\n",
    "    start_run(config_file=Path(\"./static_configs/gpcp_static_qmm.yml\"))\n",
    "gc.collect()"
   ]
  },
  {
   "cell_type": "markdown",
   "metadata": {},
   "source": [
    "##### test"
   ]
  },
  {
   "cell_type": "code",
   "execution_count": 32,
   "metadata": {},
   "outputs": [
    {
     "data": {
      "text/plain": [
       "0.1570385098457336"
      ]
     },
     "execution_count": 32,
     "metadata": {},
     "output_type": "execute_result"
    }
   ],
   "source": [
    "import pandas as pd\n",
    "\n",
    "pd.read_csv('/workspaces/my_dissertation/test_meteo_input/runs_static/era5L_static_SmallMedium_0205_095021/test/model_epoch024/test_metrics.csv')['NSE'].median()"
   ]
  },
  {
   "cell_type": "code",
   "execution_count": 26,
   "metadata": {},
   "outputs": [
    {
     "data": {
      "text/html": [
       "<div>\n",
       "<style scoped>\n",
       "    .dataframe tbody tr th:only-of-type {\n",
       "        vertical-align: middle;\n",
       "    }\n",
       "\n",
       "    .dataframe tbody tr th {\n",
       "        vertical-align: top;\n",
       "    }\n",
       "\n",
       "    .dataframe thead th {\n",
       "        text-align: right;\n",
       "    }\n",
       "</style>\n",
       "<table border=\"1\" class=\"dataframe\">\n",
       "  <thead>\n",
       "    <tr style=\"text-align: right;\">\n",
       "      <th></th>\n",
       "      <th>basin</th>\n",
       "      <th>NSE</th>\n",
       "      <th>KGE</th>\n",
       "    </tr>\n",
       "  </thead>\n",
       "  <tbody>\n",
       "    <tr>\n",
       "      <th>0</th>\n",
       "      <td>10042</td>\n",
       "      <td>0.883467</td>\n",
       "      <td>0.863114</td>\n",
       "    </tr>\n",
       "    <tr>\n",
       "      <th>1</th>\n",
       "      <td>10044</td>\n",
       "      <td>0.878522</td>\n",
       "      <td>0.864424</td>\n",
       "    </tr>\n",
       "    <tr>\n",
       "      <th>2</th>\n",
       "      <td>10048</td>\n",
       "      <td>0.714911</td>\n",
       "      <td>0.815650</td>\n",
       "    </tr>\n",
       "    <tr>\n",
       "      <th>3</th>\n",
       "      <td>10059</td>\n",
       "      <td>0.477258</td>\n",
       "      <td>0.569447</td>\n",
       "    </tr>\n",
       "    <tr>\n",
       "      <th>4</th>\n",
       "      <td>10062</td>\n",
       "      <td>0.861057</td>\n",
       "      <td>0.895324</td>\n",
       "    </tr>\n",
       "    <tr>\n",
       "      <th>...</th>\n",
       "      <td>...</td>\n",
       "      <td>...</td>\n",
       "      <td>...</td>\n",
       "    </tr>\n",
       "    <tr>\n",
       "      <th>906</th>\n",
       "      <td>9520</td>\n",
       "      <td>0.438342</td>\n",
       "      <td>0.420466</td>\n",
       "    </tr>\n",
       "    <tr>\n",
       "      <th>907</th>\n",
       "      <td>9547</td>\n",
       "      <td>0.642899</td>\n",
       "      <td>0.800934</td>\n",
       "    </tr>\n",
       "    <tr>\n",
       "      <th>908</th>\n",
       "      <td>9560</td>\n",
       "      <td>0.896094</td>\n",
       "      <td>0.887356</td>\n",
       "    </tr>\n",
       "    <tr>\n",
       "      <th>909</th>\n",
       "      <td>9563</td>\n",
       "      <td>0.260479</td>\n",
       "      <td>0.344932</td>\n",
       "    </tr>\n",
       "    <tr>\n",
       "      <th>910</th>\n",
       "      <td>9568</td>\n",
       "      <td>0.847749</td>\n",
       "      <td>0.831429</td>\n",
       "    </tr>\n",
       "  </tbody>\n",
       "</table>\n",
       "<p>911 rows × 3 columns</p>\n",
       "</div>"
      ],
      "text/plain": [
       "     basin       NSE       KGE\n",
       "0    10042  0.883467  0.863114\n",
       "1    10044  0.878522  0.864424\n",
       "2    10048  0.714911  0.815650\n",
       "3    10059  0.477258  0.569447\n",
       "4    10062  0.861057  0.895324\n",
       "..     ...       ...       ...\n",
       "906   9520  0.438342  0.420466\n",
       "907   9547  0.642899  0.800934\n",
       "908   9560  0.896094  0.887356\n",
       "909   9563  0.260479  0.344932\n",
       "910   9568  0.847749  0.831429\n",
       "\n",
       "[911 rows x 3 columns]"
      ]
     },
     "execution_count": 26,
     "metadata": {},
     "output_type": "execute_result"
    }
   ],
   "source": [
    "pd.read_csv('/workspaces/my_dissertation/test_meteo_input/runs_static/era5L_static_SmallMedium_0205_095021/test/model_epoch030/test_metrics.csv')"
   ]
  },
  {
   "cell_type": "code",
   "execution_count": 21,
   "metadata": {},
   "outputs": [],
   "source": [
    "file_rewriter(file_pathes=glob.glob('../geo_data/great_db/nc_all_q/*.nc'),\n",
    "              ts_dir=ts_dir,\n",
    "              hydro_target='q_mm_day',\n",
    "              area_index=ws_file.index,\n",
    "              meteo_predictors=['t_max_e5l', 't_min_e5l', 'prcp_e5l'])"
   ]
  },
  {
   "cell_type": "code",
   "execution_count": 29,
   "metadata": {},
   "outputs": [
    {
     "name": "stdout",
     "output_type": "stream",
     "text": [
      "# Evaluation:   0%|          | 0/919 [00:00<?, ?it/s]"
     ]
    },
    {
     "name": "stdout",
     "output_type": "stream",
     "text": [
      "# Evaluation: 100%|██████████| 919/919 [01:11<00:00, 12.89it/s]\n"
     ]
    }
   ],
   "source": [
    "run_dir = Path(\"./runs_static/era5L_static_SmallMedium_0205_095021/\")\n",
    "eval_run(run_dir=run_dir, period=\"test\", epoch=24)"
   ]
  },
  {
   "attachments": {},
   "cell_type": "markdown",
   "metadata": {},
   "source": [
    "#### IMERG precipitation"
   ]
  },
  {
   "cell_type": "markdown",
   "metadata": {},
   "source": [
    "##### train"
   ]
  },
  {
   "cell_type": "code",
   "execution_count": null,
   "metadata": {},
   "outputs": [],
   "source": [
    "file_rewriter(q_pathes=glob.glob('../geo_data/great_db/nc_all_q/*.nc'),\n",
    "              ts_dir=ts_dir,\n",
    "              hydro_target='q_mm_day',\n",
    "              area_index=ws_file.index,\n",
    "              meteo_predictors=['t_max_e5l', 't_min_e5l', 'prcp_imerg'])\n",
    "if torch.cuda.is_available():\n",
    "    start_run(config_file=Path(\"./static_configs/imerg_static_qmm.yml\"))\n",
    "gc.collect()\n"
   ]
  },
  {
   "cell_type": "code",
   "execution_count": null,
   "metadata": {},
   "outputs": [],
   "source": []
  },
  {
   "cell_type": "markdown",
   "metadata": {},
   "source": [
    "##### test"
   ]
  },
  {
   "cell_type": "code",
   "execution_count": null,
   "metadata": {},
   "outputs": [],
   "source": [
    "run_dir = Path(\"./runs_q_cms/imerg_prcp_3003_135405\")\n",
    "eval_run(run_dir=run_dir, period=\"test\")"
   ]
  },
  {
   "attachments": {},
   "cell_type": "markdown",
   "metadata": {},
   "source": [
    "#### MSWEP precipitation"
   ]
  },
  {
   "cell_type": "markdown",
   "metadata": {},
   "source": [
    "##### train"
   ]
  },
  {
   "cell_type": "code",
   "execution_count": null,
   "metadata": {},
   "outputs": [],
   "source": [
    "file_rewriter(file_pathes=glob.glob('../geo_data/great_db/nc_all_q/*.nc'),\n",
    "              ts_dir=ts_dir,\n",
    "              hydro_target='q_mm_day',\n",
    "              area_index=ws_file.index,\n",
    "              meteo_predictors=['t_max_e5l', 't_min_e5l', 'prcp_mswep'])\n",
    "if torch.cuda.is_available():\n",
    "    start_run(config_file=Path(\"./no_static_configs/mswep_qmm.yml\"))\n",
    "gc.collect()"
   ]
  },
  {
   "cell_type": "code",
   "execution_count": null,
   "metadata": {},
   "outputs": [],
   "source": [
    "file_rewriter(q_pathes=glob.glob('../geo_data/great_db/nc_all_q/*.nc'),\n",
    "              ts_dir=ts_dir,\n",
    "              hydro_target='q_mm_day',\n",
    "              area_index=ws_file.index,\n",
    "              meteo_predictors=['t_max_e5l', 't_min_e5l', 'prcp_mswep'])\n",
    "if torch.cuda.is_available():\n",
    "    start_run(config_file=Path(\"./static_configs/mswep_static_qmm.yml\"))\n",
    "gc.collect()"
   ]
  },
  {
   "cell_type": "markdown",
   "metadata": {},
   "source": [
    "##### test"
   ]
  },
  {
   "cell_type": "code",
   "execution_count": null,
   "metadata": {},
   "outputs": [],
   "source": [
    "run_dir = Path(\"./runs_q_cms/mswep_prcp_3103_073833\")\n",
    "eval_run(run_dir=run_dir, period=\"test\")"
   ]
  },
  {
   "attachments": {},
   "cell_type": "markdown",
   "metadata": {},
   "source": [
    "#### Level"
   ]
  },
  {
   "cell_type": "code",
   "execution_count": null,
   "metadata": {},
   "outputs": [],
   "source": [
    "file_rewriter(q_pathes=glob.glob('../geo_data/great_db/nc_all_h/*.nc'),\n",
    "              ts_dir=ts_dir,\n",
    "              hydro_target='lvl_mbs',\n",
    "              meteo_predictors=['t_max_e5l', 't_min_e5l', 'prcp_e5l'])\n",
    "if torch.cuda.is_available():\n",
    "    start_run(config_file=Path(\"./static_configs/era5L_static_level_mbs.yml\"))\n",
    "gc.collect()"
   ]
  },
  {
   "cell_type": "code",
   "execution_count": null,
   "metadata": {},
   "outputs": [],
   "source": [
    "file_rewriter(q_pathes=glob.glob('../geo_data/great_db/nc_all_h/*.nc'),\n",
    "              ts_dir=ts_dir,\n",
    "              hydro_target='lvl_sm',\n",
    "              meteo_predictors=['t_max_e5l', 't_min_e5l', 'prcp_e5l'])\n",
    "if torch.cuda.is_available():\n",
    "    start_run(config_file=Path(\"./static_configs/era5L_static_level_lvl_relative.yml\"))\n",
    "gc.collect()"
   ]
  },
  {
   "attachments": {},
   "cell_type": "markdown",
   "metadata": {},
   "source": [
    "### Blind forecast"
   ]
  },
  {
   "cell_type": "code",
   "execution_count": null,
   "metadata": {},
   "outputs": [],
   "source": [
    "partial_gauges = gpd.read_file(\n",
    "    '../geo_data/great_db/geometry/gauges_partial_q.gpkg')"
   ]
  },
  {
   "cell_type": "code",
   "execution_count": null,
   "metadata": {},
   "outputs": [],
   "source": [
    "with open('./basins_test.txt', 'w') as the_file:\n",
    "    for gauge_name in partial_gauges['gauge_id']:\n",
    "        the_file.write(f'{int(gauge_name)}\\n')\n",
    "# add train\n",
    "file_rewriter(q_pathes=glob.glob('../geo_data/great_db/nc_all_q/*.nc'),\n",
    "              ts_dir=ts_dir,\n",
    "              hydro_target='q_mm_day',\n",
    "              meteo_predictors=['t_max_e5l', 't_min_e5l', 'prcp_e5l'])\n",
    "# add test\n",
    "q_pathes = glob.glob('../geo_data/great_db/nc_concat/*.nc')\n",
    "for file in q_pathes:\n",
    "    gauge_id = file.split('/')[-1][:-3]\n",
    "    if gauge_id in list(partial_gauges['gauge_id']):\n",
    "        ds = xr.open_dataset(file)\n",
    "        filename = file.split('/')[-1]\n",
    "        try:\n",
    "            ds = ds.drop('gauge_id')\n",
    "            ds.to_netcdf(f'{ts_dir}/{filename}')\n",
    "        except ValueError:\n",
    "            continue\n",
    "        \n",
    "\n",
    "if torch.cuda.is_available():\n",
    "    start_run(config_file=Path(\"./static_configs/era5L_static_blind.yml\"))\n",
    "gc.collect()"
   ]
  },
  {
   "cell_type": "code",
   "execution_count": null,
   "metadata": {},
   "outputs": [],
   "source": [
    "# add test\n",
    "q_pathes = glob.glob('../geo_data/great_db/nc_concat/*.nc')\n",
    "for file in q_pathes:\n",
    "    gauge_id = file.split('/')[-1][:-3]\n",
    "    if gauge_id in list(partial_gauges['gauge_id']):\n",
    "        ds = xr.open_dataset(file)\n",
    "        filename = file.split('/')[-1]\n",
    "        try:\n",
    "            ds = ds.drop('gauge_id')\n",
    "            ds = ds.rename({'index': 'date'})\n",
    "            ds.to_netcdf(f'{ts_dir}/{filename}')\n",
    "        except ValueError:\n",
    "            continue\n",
    "# for gauge in partial_gauges['gauge_id']:\n",
    "    \n",
    "#     ds = xr.open_dataset(f'../geo_data/time_series/{gauge}.nc')\n",
    "    \n",
    "#     ds.to_netcdf(f'../geo_data/time_series/{gauge}.nc')\n",
    "    \n",
    "    "
   ]
  },
  {
   "cell_type": "code",
   "execution_count": null,
   "metadata": {},
   "outputs": [],
   "source": [
    "run_dir = Path(\"./runs_static/era5L_static_prcp_0904_152029/\")\n",
    "eval_run(run_dir=run_dir, period=\"test\", epoch=24)"
   ]
  },
  {
   "attachments": {},
   "cell_type": "markdown",
   "metadata": {},
   "source": [
    "### Bad regions"
   ]
  },
  {
   "attachments": {},
   "cell_type": "markdown",
   "metadata": {},
   "source": [
    "#### Kavkaz"
   ]
  },
  {
   "cell_type": "code",
   "execution_count": 11,
   "metadata": {},
   "outputs": [
    {
     "name": "stdout",
     "output_type": "stream",
     "text": [
      "2023-04-10 06:04:54,170: Logging to runs_bad_regions/era5L_kavkaz_1004_060454/output.log initialized.\n",
      "2023-04-10 06:04:54,171: ### Folder structure created at runs_bad_regions/era5L_kavkaz_1004_060454\n",
      "2023-04-10 06:04:54,171: ### Run configurations for era5L_kavkaz\n",
      "2023-04-10 06:04:54,171: experiment_name: era5L_kavkaz\n",
      "2023-04-10 06:04:54,172: run_dir: runs_bad_regions/era5L_kavkaz_1004_060454\n",
      "2023-04-10 06:04:54,172: train_basin_file: openf_basins.txt\n",
      "2023-04-10 06:04:54,173: validation_basin_file: openf_basins.txt\n",
      "2023-04-10 06:04:54,173: test_basin_file: openf_basins.txt\n",
      "2023-04-10 06:04:54,173: train_start_date: 2009-01-01 00:00:00\n",
      "2023-04-10 06:04:54,174: train_end_date: 2016-12-31 00:00:00\n",
      "2023-04-10 06:04:54,174: validation_start_date: 2017-01-01 00:00:00\n",
      "2023-04-10 06:04:54,174: validation_end_date: 2018-12-31 00:00:00\n",
      "2023-04-10 06:04:54,175: test_start_date: 2019-01-01 00:00:00\n",
      "2023-04-10 06:04:54,175: test_end_date: 2020-12-31 00:00:00\n",
      "2023-04-10 06:04:54,175: per_basin_train_periods_file: None\n",
      "2023-04-10 06:04:54,176: per_basin_validation_periods_file: None\n",
      "2023-04-10 06:04:54,176: per_basin_test_periods_file: None\n",
      "2023-04-10 06:04:54,177: seed: 42\n",
      "2023-04-10 06:04:54,177: device: cuda:0\n",
      "2023-04-10 06:04:54,177: validate_every: 3\n",
      "2023-04-10 06:04:54,178: validate_n_random_basins: 26\n",
      "2023-04-10 06:04:54,178: cache_validation_data: True\n",
      "2023-04-10 06:04:54,178: metrics: ['NSE', 'KGE']\n",
      "2023-04-10 06:04:54,179: model: cudalstm\n",
      "2023-04-10 06:04:54,179: checkpoint_path: None\n",
      "2023-04-10 06:04:54,179: head: regression\n",
      "2023-04-10 06:04:54,180: output_activation: linear\n",
      "2023-04-10 06:04:54,180: hidden_size: 256\n",
      "2023-04-10 06:04:54,180: initial_forget_bias: 6\n",
      "2023-04-10 06:04:54,181: output_dropout: 0.4\n",
      "2023-04-10 06:04:54,181: optimizer: Adam\n",
      "2023-04-10 06:04:54,181: loss: NSE\n",
      "2023-04-10 06:04:54,182: regularization: None\n",
      "2023-04-10 06:04:54,182: learning_rate: {0: 0.001, 10: 0.0005, 20: 0.0001}\n",
      "2023-04-10 06:04:54,182: batch_size: 256\n",
      "2023-04-10 06:04:54,183: epochs: 30\n",
      "2023-04-10 06:04:54,183: target_noise_std: None\n",
      "2023-04-10 06:04:54,183: clip_gradient_norm: 1\n",
      "2023-04-10 06:04:54,184: predict_last_n: 1\n",
      "2023-04-10 06:04:54,184: seq_length: 365\n",
      "2023-04-10 06:04:54,185: num_workers: 8\n",
      "2023-04-10 06:04:54,185: log_interval: 3\n",
      "2023-04-10 06:04:54,185: log_tensorboard: True\n",
      "2023-04-10 06:04:54,186: log_n_figures: None\n",
      "2023-04-10 06:04:54,186: save_weights_every: 3\n",
      "2023-04-10 06:04:54,186: save_validation_results: True\n",
      "2023-04-10 06:04:54,186: dataset: generic\n",
      "2023-04-10 06:04:54,187: data_dir: ../geo_data\n",
      "2023-04-10 06:04:54,187: save_train_data: True\n",
      "2023-04-10 06:04:54,187: train_data_file: None\n",
      "2023-04-10 06:04:54,188: forcings: None\n",
      "2023-04-10 06:04:54,188: dynamic_inputs: ['t_max_e5l', 't_min_e5l', 'prcp_e5l']\n",
      "2023-04-10 06:04:54,189: target_variables: ['q_mm_day']\n",
      "2023-04-10 06:04:54,189: static_attributes: ['for_pc_sse', 'crp_pc_sse', 'pst_pc_sse', 'inu_pc_ult', 'ire_pc_sse', 'lka_pc_use', 'lkv_mc_usu', 'rev_mc_usu', 'gwt_cm_sav', 'prm_pc_sse', 'sgr_dk_sav', 'slp_dg_sav', 'cly_pc_sav', 'slt_pc_sav', 'snd_pc_sav', 'kar_pc_sse', 'urb_pc_sse', 'ws_area', 'ele_mt_sav']\n",
      "2023-04-10 06:04:54,190: additional_feature_files: None\n",
      "2023-04-10 06:04:54,190: evolving_attributes: None\n",
      "2023-04-10 06:04:54,190: use_basin_id_encoding: False\n",
      "2023-04-10 06:04:54,191: number_of_basins: 24\n",
      "2023-04-10 06:04:54,191: train_dir: runs_bad_regions/era5L_kavkaz_1004_060454/train_data\n",
      "2023-04-10 06:04:54,192: img_log_dir: runs_bad_regions/era5L_kavkaz_1004_060454/img_log\n",
      "2023-04-10 06:04:54,192: ### Device cuda:0 will be used for training\n",
      "2023-04-10 06:04:54,236: Loading basin data into xarray data set.\n",
      "100%|██████████| 24/24 [00:00<00:00, 59.50it/s]\n",
      "2023-04-10 06:04:54,667: Calculating target variable stds per basin\n",
      "100%|██████████| 24/24 [00:00<00:00, 1392.38it/s]\n",
      "2023-04-10 06:04:54,688: Create lookup table and convert to pytorch tensor\n"
     ]
    },
    {
     "name": "stderr",
     "output_type": "stream",
     "text": [
      "/opt/conda/lib/python3.9/site-packages/neuralhydrology/datasetzoo/basedataset.py:460: UserWarning: Creating a tensor from a list of numpy.ndarrays is extremely slow. Please consider converting the list to a single numpy.ndarray with numpy.array() before converting to a tensor. (Triggered internally at /opt/conda/conda-bld/pytorch_1666643016022/work/torch/csrc/utils/tensor_new.cpp:230.)\n",
      "  per_basin_target_stds = torch.tensor([np.nanstd(obs, axis=1)], dtype=torch.float32)\n"
     ]
    },
    {
     "name": "stdout",
     "output_type": "stream",
     "text": [
      "100%|██████████| 24/24 [00:01<00:00, 17.17it/s]\n",
      "# Epoch 1: 100%|██████████| 274/274 [00:09<00:00, 28.06it/s, Loss: 0.0443]\n",
      "2023-04-10 06:05:08,684: Epoch 1 average loss: 0.14049608622045412\n",
      "# Epoch 2: 100%|██████████| 274/274 [00:09<00:00, 29.20it/s, Loss: 0.0867]\n",
      "2023-04-10 06:05:18,069: Epoch 2 average loss: 0.05810246545903004\n",
      "# Epoch 3: 100%|██████████| 274/274 [00:08<00:00, 30.46it/s, Loss: 0.0509]\n",
      "2023-04-10 06:05:27,068: Epoch 3 average loss: 0.054747352838842536\n",
      "# Validation: 100%|██████████| 24/24 [00:02<00:00,  9.32it/s]\n",
      "2023-04-10 06:05:29,662: Stored results at runs_bad_regions/era5L_kavkaz_1004_060454/validation/model_epoch003/validation_results.p\n",
      "2023-04-10 06:05:29,663: Epoch 3 average validation loss: 0.21241 -- Median validation metrics: NSE: -0.20049, KGE: -0.16853\n",
      "# Epoch 4: 100%|██████████| 274/274 [00:09<00:00, 30.22it/s, Loss: 0.0405]\n",
      "2023-04-10 06:05:38,733: Epoch 4 average loss: 0.05252450480921208\n",
      "# Epoch 5: 100%|██████████| 274/274 [00:09<00:00, 28.86it/s, Loss: 0.0899]\n",
      "2023-04-10 06:05:48,230: Epoch 5 average loss: 0.05070511269362739\n",
      "# Epoch 6: 100%|██████████| 274/274 [00:09<00:00, 28.96it/s, Loss: 0.0452]\n",
      "2023-04-10 06:05:57,692: Epoch 6 average loss: 0.04731735951491516\n",
      "# Validation: 100%|██████████| 24/24 [00:01<00:00, 21.90it/s]\n",
      "2023-04-10 06:05:58,799: Stored results at runs_bad_regions/era5L_kavkaz_1004_060454/validation/model_epoch006/validation_results.p\n",
      "2023-04-10 06:05:58,800: Epoch 6 average validation loss: 0.27346 -- Median validation metrics: NSE: -0.02676, KGE: -0.08491\n",
      "# Epoch 7: 100%|██████████| 274/274 [00:09<00:00, 28.89it/s, Loss: 0.0479]\n",
      "2023-04-10 06:06:08,286: Epoch 7 average loss: 0.04499803567101268\n",
      "# Epoch 8: 100%|██████████| 274/274 [00:09<00:00, 28.92it/s, Loss: 0.0266]\n",
      "2023-04-10 06:06:17,763: Epoch 8 average loss: 0.04325198471872476\n",
      "# Epoch 9: 100%|██████████| 274/274 [00:09<00:00, 28.80it/s, Loss: 0.0305]\n",
      "2023-04-10 06:06:27,277: Epoch 9 average loss: 0.040287718911023035\n",
      "# Validation: 100%|██████████| 24/24 [00:01<00:00, 21.73it/s]\n",
      "2023-04-10 06:06:28,394: Stored results at runs_bad_regions/era5L_kavkaz_1004_060454/validation/model_epoch009/validation_results.p\n",
      "2023-04-10 06:06:28,395: Epoch 9 average validation loss: 0.10534 -- Median validation metrics: NSE: -0.01932, KGE: 0.01632\n",
      "2023-04-10 06:06:28,396: Setting learning rate to 0.0005\n",
      "# Epoch 10: 100%|██████████| 274/274 [00:09<00:00, 29.16it/s, Loss: 0.0352]\n",
      "2023-04-10 06:06:37,794: Epoch 10 average loss: 0.037247421736591055\n",
      "# Epoch 11: 100%|██████████| 274/274 [00:09<00:00, 28.78it/s, Loss: 0.0301]\n",
      "2023-04-10 06:06:47,318: Epoch 11 average loss: 0.03631402590196498\n",
      "# Epoch 12: 100%|██████████| 274/274 [00:09<00:00, 28.80it/s, Loss: 0.0286]\n",
      "2023-04-10 06:06:56,834: Epoch 12 average loss: 0.034555618685201135\n",
      "# Validation: 100%|██████████| 24/24 [00:01<00:00, 21.92it/s]\n",
      "2023-04-10 06:06:57,941: Stored results at runs_bad_regions/era5L_kavkaz_1004_060454/validation/model_epoch012/validation_results.p\n",
      "2023-04-10 06:06:57,942: Epoch 12 average validation loss: 0.09276 -- Median validation metrics: NSE: 0.02335, KGE: 0.08614\n",
      "# Epoch 13: 100%|██████████| 274/274 [00:09<00:00, 28.68it/s, Loss: 0.0267]\n",
      "2023-04-10 06:07:07,498: Epoch 13 average loss: 0.033721293445105535\n",
      "# Epoch 14: 100%|██████████| 274/274 [00:09<00:00, 28.64it/s, Loss: 0.0323]\n",
      "2023-04-10 06:07:17,067: Epoch 14 average loss: 0.033870090196847266\n",
      "# Epoch 15: 100%|██████████| 274/274 [00:09<00:00, 28.72it/s, Loss: 0.0253]\n",
      "2023-04-10 06:07:26,608: Epoch 15 average loss: 0.032991328800137894\n",
      "# Validation: 100%|██████████| 24/24 [00:01<00:00, 21.78it/s]\n",
      "2023-04-10 06:07:27,722: Stored results at runs_bad_regions/era5L_kavkaz_1004_060454/validation/model_epoch015/validation_results.p\n",
      "2023-04-10 06:07:27,724: Epoch 15 average validation loss: 0.06593 -- Median validation metrics: NSE: 0.02774, KGE: 0.22521\n",
      "# Epoch 16: 100%|██████████| 274/274 [00:09<00:00, 28.76it/s, Loss: 0.0330]\n",
      "2023-04-10 06:07:37,252: Epoch 16 average loss: 0.03154496527039004\n",
      "# Epoch 17: 100%|██████████| 274/274 [00:09<00:00, 28.55it/s, Loss: 0.0245]\n",
      "2023-04-10 06:07:46,852: Epoch 17 average loss: 0.03181642880935195\n",
      "# Epoch 18: 100%|██████████| 274/274 [00:09<00:00, 28.54it/s, Loss: 0.0302]\n",
      "2023-04-10 06:07:56,454: Epoch 18 average loss: 0.030551828994640033\n",
      "# Validation: 100%|██████████| 24/24 [00:01<00:00, 21.88it/s]\n",
      "2023-04-10 06:07:57,563: Stored results at runs_bad_regions/era5L_kavkaz_1004_060454/validation/model_epoch018/validation_results.p\n",
      "2023-04-10 06:07:57,564: Epoch 18 average validation loss: 0.09426 -- Median validation metrics: NSE: 0.03369, KGE: 0.17908\n",
      "# Epoch 19: 100%|██████████| 274/274 [00:09<00:00, 28.73it/s, Loss: 0.0360]\n",
      "2023-04-10 06:08:07,104: Epoch 19 average loss: 0.030284341931152734\n",
      "2023-04-10 06:08:07,105: Setting learning rate to 0.0001\n",
      "# Epoch 20: 100%|██████████| 274/274 [00:08<00:00, 31.42it/s, Loss: 0.0251]\n",
      "2023-04-10 06:08:15,829: Epoch 20 average loss: 0.028340540510214812\n",
      "# Epoch 21: 100%|██████████| 274/274 [00:08<00:00, 33.67it/s, Loss: 0.0245]\n",
      "2023-04-10 06:08:23,968: Epoch 21 average loss: 0.027372158978841384\n",
      "# Validation: 100%|██████████| 24/24 [00:00<00:00, 24.80it/s]\n",
      "2023-04-10 06:08:24,948: Stored results at runs_bad_regions/era5L_kavkaz_1004_060454/validation/model_epoch021/validation_results.p\n",
      "2023-04-10 06:08:24,949: Epoch 21 average validation loss: 0.09219 -- Median validation metrics: NSE: 0.01520, KGE: 0.07811\n",
      "# Epoch 22: 100%|██████████| 274/274 [00:08<00:00, 33.94it/s, Loss: 0.0289]\n",
      "2023-04-10 06:08:33,024: Epoch 22 average loss: 0.026950761764208332\n",
      "# Epoch 23: 100%|██████████| 274/274 [00:08<00:00, 32.08it/s, Loss: 0.0265]\n",
      "2023-04-10 06:08:41,568: Epoch 23 average loss: 0.026744464249180182\n",
      "# Epoch 24: 100%|██████████| 274/274 [00:09<00:00, 29.76it/s, Loss: 0.0344]\n",
      "2023-04-10 06:08:50,778: Epoch 24 average loss: 0.026260877592339568\n",
      "# Validation: 100%|██████████| 24/24 [00:01<00:00, 21.98it/s]\n",
      "2023-04-10 06:08:51,882: Stored results at runs_bad_regions/era5L_kavkaz_1004_060454/validation/model_epoch024/validation_results.p\n",
      "2023-04-10 06:08:51,883: Epoch 24 average validation loss: 0.09227 -- Median validation metrics: NSE: 0.00079, KGE: -0.00898\n",
      "# Epoch 25: 100%|██████████| 274/274 [00:09<00:00, 28.83it/s, Loss: 0.0248]\n",
      "2023-04-10 06:09:01,389: Epoch 25 average loss: 0.025738690503920518\n",
      "# Epoch 26: 100%|██████████| 274/274 [00:09<00:00, 29.57it/s, Loss: 0.0181]\n",
      "2023-04-10 06:09:10,656: Epoch 26 average loss: 0.02580363448559694\n",
      "# Epoch 27: 100%|██████████| 274/274 [00:08<00:00, 33.69it/s, Loss: 0.0212]\n",
      "2023-04-10 06:09:18,792: Epoch 27 average loss: 0.02509215566581183\n",
      "# Validation: 100%|██████████| 24/24 [00:01<00:00, 22.80it/s]\n",
      "2023-04-10 06:09:19,858: Stored results at runs_bad_regions/era5L_kavkaz_1004_060454/validation/model_epoch027/validation_results.p\n",
      "2023-04-10 06:09:19,859: Epoch 27 average validation loss: 0.07512 -- Median validation metrics: NSE: 0.00372, KGE: 0.08218\n",
      "# Epoch 28: 100%|██████████| 274/274 [00:09<00:00, 30.22it/s, Loss: 0.0181]\n",
      "2023-04-10 06:09:28,928: Epoch 28 average loss: 0.024980282662504346\n",
      "# Epoch 29: 100%|██████████| 274/274 [00:09<00:00, 29.32it/s, Loss: 0.0241]\n",
      "2023-04-10 06:09:38,276: Epoch 29 average loss: 0.025051294656021753\n",
      "# Epoch 30: 100%|██████████| 274/274 [00:09<00:00, 28.70it/s, Loss: 0.0325]\n",
      "2023-04-10 06:09:47,827: Epoch 30 average loss: 0.02465122232866222\n",
      "# Validation: 100%|██████████| 24/24 [00:01<00:00, 21.70it/s]\n",
      "2023-04-10 06:09:48,946: Stored results at runs_bad_regions/era5L_kavkaz_1004_060454/validation/model_epoch030/validation_results.p\n",
      "2023-04-10 06:09:48,947: Epoch 30 average validation loss: 0.08671 -- Median validation metrics: NSE: 0.01438, KGE: 0.00529\n"
     ]
    },
    {
     "data": {
      "text/plain": [
       "28"
      ]
     },
     "execution_count": 11,
     "metadata": {},
     "output_type": "execute_result"
    }
   ],
   "source": [
    "gauges = gpd.read_file(\n",
    "    '../paper_visualisation/poor_gauges/kavkaz.gpkg')\n",
    "# add test\n",
    "q_pathes = glob.glob('../geo_data/great_db/nc_all_q/*.nc')\n",
    "gauge_list = list()\n",
    "for file in q_pathes:\n",
    "    gauge_id = file.split('/')[-1][:-3]\n",
    "    if gauge_id in list(gauges['gauge_id']):\n",
    "        gauge_list.append(file)\n",
    "        \n",
    "# add train\n",
    "file_rewriter(q_pathes=gauge_list,\n",
    "              ts_dir=ts_dir,\n",
    "              hydro_target='q_mm_day',\n",
    "              meteo_predictors=['t_max_e5l', 't_min_e5l', 'prcp_e5l'])\n",
    "\n",
    "if torch.cuda.is_available():\n",
    "    start_run(config_file=Path(\"./poor_perfom_configs/era5L_kavkaz_qmm.yml\"))\n",
    "gc.collect()"
   ]
  },
  {
   "cell_type": "code",
   "execution_count": 17,
   "metadata": {},
   "outputs": [],
   "source": [
    "gauges = gpd.read_file(\n",
    "    '../paper_visualisation/poor_gauges/volgo_don.gpkg')\n",
    "# add test\n",
    "q_pathes = glob.glob('../geo_data/great_db/nc_all_q/*.nc')\n",
    "gauge_list = list()\n",
    "for file in q_pathes:\n",
    "    gauge_id = file.split('/')[-1][:-3]\n",
    "    if gauge_id in list(gauges['gauge_id']):\n",
    "        gauge_list.append(file)\n",
    "        \n",
    "# add train\n",
    "file_rewriter(q_pathes=gauge_list,\n",
    "              ts_dir=ts_dir,\n",
    "              hydro_target='q_mm_day',\n",
    "              meteo_predictors=['t_max_e5l', 't_min_e5l', 'prcp_e5l'])"
   ]
  },
  {
   "attachments": {},
   "cell_type": "markdown",
   "metadata": {},
   "source": [
    "### Bad gauge filter"
   ]
  },
  {
   "cell_type": "code",
   "execution_count": 3,
   "metadata": {},
   "outputs": [
    {
     "name": "stderr",
     "output_type": "stream",
     "text": [
      "/opt/conda/lib/python3.10/site-packages/pandas/plotting/_matplotlib/core.py:512: RuntimeWarning: More than 20 figures have been opened. Figures created through the pyplot interface (`matplotlib.pyplot.figure`) are retained until explicitly closed and may consume too much memory. (To control this warning, see the rcParam `figure.max_open_warning`).\n",
      "  fig = self.plt.figure(figsize=self.figsize)\n"
     ]
    }
   ],
   "source": [
    "file_rewriter(q_pathes=glob.glob('../geo_data/great_db/nc_all_q/*.nc'),\n",
    "              ts_dir=ts_dir,\n",
    "              hydro_target='q_mm_day',\n",
    "              meteo_predictors=['t_max_e5', 't_min_e5', 'prcp_e5'])\n",
    "\n",
    "for file in glob.glob(f'{ts_dir}/*.nc'):\n",
    "    df = xr.open_dataset(file).to_dataframe()\n",
    "    my_plot = df[['q_mm_day']].plot();\n",
    "    \n",
    "    my_plot.set_title(f'{file}')"
   ]
  },
  {
   "cell_type": "code",
   "execution_count": null,
   "metadata": {},
   "outputs": [],
   "source": []
  },
  {
   "cell_type": "code",
   "execution_count": null,
   "metadata": {},
   "outputs": [],
   "source": []
  },
  {
   "cell_type": "code",
   "execution_count": null,
   "metadata": {},
   "outputs": [],
   "source": []
  },
  {
   "cell_type": "code",
   "execution_count": null,
   "metadata": {},
   "outputs": [],
   "source": []
  },
  {
   "cell_type": "code",
   "execution_count": null,
   "metadata": {},
   "outputs": [],
   "source": []
  },
  {
   "cell_type": "code",
   "execution_count": null,
   "metadata": {},
   "outputs": [],
   "source": []
  },
  {
   "cell_type": "code",
   "execution_count": null,
   "metadata": {},
   "outputs": [],
   "source": []
  },
  {
   "cell_type": "code",
   "execution_count": null,
   "metadata": {},
   "outputs": [],
   "source": []
  },
  {
   "attachments": {},
   "cell_type": "markdown",
   "metadata": {},
   "source": [
    "#### Ural"
   ]
  },
  {
   "cell_type": "code",
   "execution_count": 12,
   "metadata": {},
   "outputs": [
    {
     "name": "stdout",
     "output_type": "stream",
     "text": [
      "2023-04-10 06:09:49,184: PROJ: internal_proj_identify: /opt/conda/share/proj/proj.db contains DATABASE.LAYOUT.VERSION.MINOR = 0 whereas a number >= 2 is expected. It comes from another PROJ installation.\n",
      "2023-04-10 06:09:50,795: Logging to runs_bad_regions/era5L_ural_1004_060950/output.log initialized.\n",
      "2023-04-10 06:09:50,796: ### Folder structure created at runs_bad_regions/era5L_ural_1004_060950\n",
      "2023-04-10 06:09:50,796: ### Run configurations for era5L_ural\n",
      "2023-04-10 06:09:50,796: experiment_name: era5L_ural\n",
      "2023-04-10 06:09:50,796: run_dir: runs_bad_regions/era5L_ural_1004_060950\n",
      "2023-04-10 06:09:50,797: train_basin_file: openf_basins.txt\n",
      "2023-04-10 06:09:50,797: validation_basin_file: openf_basins.txt\n",
      "2023-04-10 06:09:50,798: test_basin_file: openf_basins.txt\n",
      "2023-04-10 06:09:50,798: train_start_date: 2009-01-01 00:00:00\n",
      "2023-04-10 06:09:50,799: train_end_date: 2016-12-31 00:00:00\n",
      "2023-04-10 06:09:50,799: validation_start_date: 2017-01-01 00:00:00\n",
      "2023-04-10 06:09:50,800: validation_end_date: 2018-12-31 00:00:00\n",
      "2023-04-10 06:09:50,800: test_start_date: 2019-01-01 00:00:00\n",
      "2023-04-10 06:09:50,801: test_end_date: 2020-12-31 00:00:00\n",
      "2023-04-10 06:09:50,801: per_basin_train_periods_file: None\n",
      "2023-04-10 06:09:50,802: per_basin_validation_periods_file: None\n",
      "2023-04-10 06:09:50,802: per_basin_test_periods_file: None\n",
      "2023-04-10 06:09:50,802: seed: 42\n",
      "2023-04-10 06:09:50,803: device: cuda:0\n",
      "2023-04-10 06:09:50,803: validate_every: 3\n",
      "2023-04-10 06:09:50,804: validate_n_random_basins: 43\n",
      "2023-04-10 06:09:50,804: cache_validation_data: True\n",
      "2023-04-10 06:09:50,804: metrics: ['NSE', 'KGE']\n",
      "2023-04-10 06:09:50,805: model: cudalstm\n",
      "2023-04-10 06:09:50,805: checkpoint_path: None\n",
      "2023-04-10 06:09:50,806: head: regression\n",
      "2023-04-10 06:09:50,806: output_activation: linear\n",
      "2023-04-10 06:09:50,807: hidden_size: 256\n",
      "2023-04-10 06:09:50,807: initial_forget_bias: 6\n",
      "2023-04-10 06:09:50,808: output_dropout: 0.4\n",
      "2023-04-10 06:09:50,808: optimizer: Adam\n",
      "2023-04-10 06:09:50,809: loss: NSE\n",
      "2023-04-10 06:09:50,809: regularization: None\n",
      "2023-04-10 06:09:50,810: learning_rate: {0: 0.001, 10: 0.0005, 20: 0.0001}\n",
      "2023-04-10 06:09:50,810: batch_size: 256\n",
      "2023-04-10 06:09:50,810: epochs: 30\n",
      "2023-04-10 06:09:50,811: target_noise_std: None\n",
      "2023-04-10 06:09:50,811: clip_gradient_norm: 1\n",
      "2023-04-10 06:09:50,811: predict_last_n: 1\n",
      "2023-04-10 06:09:50,812: seq_length: 365\n",
      "2023-04-10 06:09:50,812: num_workers: 8\n",
      "2023-04-10 06:09:50,813: log_interval: 3\n",
      "2023-04-10 06:09:50,813: log_tensorboard: True\n",
      "2023-04-10 06:09:50,813: log_n_figures: None\n",
      "2023-04-10 06:09:50,814: save_weights_every: 3\n",
      "2023-04-10 06:09:50,814: save_validation_results: True\n",
      "2023-04-10 06:09:50,814: dataset: generic\n",
      "2023-04-10 06:09:50,815: data_dir: ../geo_data\n",
      "2023-04-10 06:09:50,815: save_train_data: True\n",
      "2023-04-10 06:09:50,815: train_data_file: None\n",
      "2023-04-10 06:09:50,815: forcings: None\n",
      "2023-04-10 06:09:50,816: dynamic_inputs: ['t_max_e5l', 't_min_e5l', 'prcp_e5l']\n",
      "2023-04-10 06:09:50,816: target_variables: ['q_mm_day']\n",
      "2023-04-10 06:09:50,816: static_attributes: ['for_pc_sse', 'crp_pc_sse', 'pst_pc_sse', 'inu_pc_ult', 'ire_pc_sse', 'lka_pc_use', 'lkv_mc_usu', 'rev_mc_usu', 'gwt_cm_sav', 'prm_pc_sse', 'sgr_dk_sav', 'slp_dg_sav', 'cly_pc_sav', 'slt_pc_sav', 'snd_pc_sav', 'kar_pc_sse', 'urb_pc_sse', 'ws_area', 'ele_mt_sav']\n",
      "2023-04-10 06:09:50,817: additional_feature_files: None\n",
      "2023-04-10 06:09:50,817: evolving_attributes: None\n",
      "2023-04-10 06:09:50,817: use_basin_id_encoding: False\n",
      "2023-04-10 06:09:50,818: number_of_basins: 42\n",
      "2023-04-10 06:09:50,818: train_dir: runs_bad_regions/era5L_ural_1004_060950/train_data\n",
      "2023-04-10 06:09:50,818: img_log_dir: runs_bad_regions/era5L_ural_1004_060950/img_log\n",
      "2023-04-10 06:09:50,819: ### Device cuda:0 will be used for training\n",
      "2023-04-10 06:09:50,854: Loading basin data into xarray data set.\n",
      "100%|██████████| 42/42 [00:00<00:00, 56.79it/s]\n",
      "2023-04-10 06:09:51,632: Calculating target variable stds per basin\n",
      "100%|██████████| 42/42 [00:00<00:00, 1727.25it/s]\n",
      "2023-04-10 06:09:51,662: Create lookup table and convert to pytorch tensor\n",
      "100%|██████████| 42/42 [00:00<00:00, 81.37it/s] \n",
      "# Epoch 1: 100%|██████████| 480/480 [00:16<00:00, 29.55it/s, Loss: 0.0088]\n",
      "2023-04-10 06:10:08,495: Epoch 1 average loss: 0.030416731287550645\n",
      "# Epoch 2: 100%|██████████| 480/480 [00:16<00:00, 29.61it/s, Loss: 0.0051]\n",
      "2023-04-10 06:10:24,706: Epoch 2 average loss: 0.006782510439127994\n",
      "# Epoch 3: 100%|██████████| 480/480 [00:16<00:00, 29.73it/s, Loss: 0.0018]\n",
      "2023-04-10 06:10:40,855: Epoch 3 average loss: 0.006464550745052596\n",
      "# Validation: 100%|██████████| 42/42 [00:03<00:00, 10.68it/s]\n",
      "2023-04-10 06:10:44,799: Stored results at runs_bad_regions/era5L_ural_1004_060950/validation/model_epoch003/validation_results.p\n",
      "2023-04-10 06:10:44,800: Epoch 3 average validation loss: 0.00558 -- Median validation metrics: NSE: 0.08695, KGE: -0.03405\n",
      "# Epoch 4: 100%|██████████| 480/480 [00:16<00:00, 29.54it/s, Loss: 0.0059]\n",
      "2023-04-10 06:11:01,052: Epoch 4 average loss: 0.005991102374052085\n",
      "# Epoch 5: 100%|██████████| 480/480 [00:16<00:00, 29.58it/s, Loss: 0.0176]\n",
      "2023-04-10 06:11:17,280: Epoch 5 average loss: 0.005658966875004504\n",
      "# Epoch 6: 100%|██████████| 480/480 [00:16<00:00, 29.58it/s, Loss: 0.0025]\n",
      "2023-04-10 06:11:33,511: Epoch 6 average loss: 0.005393268596769\n",
      "# Validation: 100%|██████████| 42/42 [00:01<00:00, 22.18it/s]\n",
      "2023-04-10 06:11:35,418: Stored results at runs_bad_regions/era5L_ural_1004_060950/validation/model_epoch006/validation_results.p\n",
      "2023-04-10 06:11:35,419: Epoch 6 average validation loss: 0.00510 -- Median validation metrics: NSE: 0.22001, KGE: 0.33996\n",
      "# Epoch 7: 100%|██████████| 480/480 [00:16<00:00, 29.58it/s, Loss: 0.0015]\n",
      "2023-04-10 06:11:51,648: Epoch 7 average loss: 0.005218103049022223\n",
      "# Epoch 8: 100%|██████████| 480/480 [00:16<00:00, 29.50it/s, Loss: 0.0012]\n",
      "2023-04-10 06:12:07,919: Epoch 8 average loss: 0.005011893043168432\n",
      "# Epoch 9: 100%|██████████| 480/480 [00:16<00:00, 29.72it/s, Loss: 0.0033]\n",
      "2023-04-10 06:12:24,070: Epoch 9 average loss: 0.006356048214850792\n",
      "# Validation: 100%|██████████| 42/42 [00:01<00:00, 21.91it/s]\n",
      "2023-04-10 06:12:26,001: Stored results at runs_bad_regions/era5L_ural_1004_060950/validation/model_epoch009/validation_results.p\n",
      "2023-04-10 06:12:26,002: Epoch 9 average validation loss: 0.00498 -- Median validation metrics: NSE: 0.16544, KGE: 0.24337\n",
      "2023-04-10 06:12:26,003: Setting learning rate to 0.0005\n",
      "# Epoch 10: 100%|██████████| 480/480 [00:16<00:00, 29.47it/s, Loss: 0.0075]\n",
      "2023-04-10 06:12:42,295: Epoch 10 average loss: 0.004863691342203917\n",
      "# Epoch 11: 100%|██████████| 480/480 [00:16<00:00, 29.46it/s, Loss: 0.0014]\n",
      "2023-04-10 06:12:58,590: Epoch 11 average loss: 0.004669192539343688\n",
      "# Epoch 12: 100%|██████████| 480/480 [00:16<00:00, 29.48it/s, Loss: 0.0016]\n",
      "2023-04-10 06:13:14,877: Epoch 12 average loss: 0.004427898553452299\n",
      "# Validation: 100%|██████████| 42/42 [00:01<00:00, 23.19it/s]\n",
      "2023-04-10 06:13:16,702: Stored results at runs_bad_regions/era5L_ural_1004_060950/validation/model_epoch012/validation_results.p\n",
      "2023-04-10 06:13:16,704: Epoch 12 average validation loss: 0.00516 -- Median validation metrics: NSE: 0.25155, KGE: 0.38728\n",
      "# Epoch 13: 100%|██████████| 480/480 [00:15<00:00, 30.16it/s, Loss: 0.0135]\n",
      "2023-04-10 06:13:32,620: Epoch 13 average loss: 0.004199140051059658\n",
      "# Epoch 14: 100%|██████████| 480/480 [00:16<00:00, 29.87it/s, Loss: 0.0039]\n",
      "2023-04-10 06:13:48,690: Epoch 14 average loss: 0.004112011408748609\n",
      "# Epoch 15: 100%|██████████| 480/480 [00:15<00:00, 30.12it/s, Loss: 0.0016]\n",
      "2023-04-10 06:14:04,626: Epoch 15 average loss: 0.004085236514705078\n",
      "# Validation: 100%|██████████| 42/42 [00:01<00:00, 23.13it/s]\n",
      "2023-04-10 06:14:06,456: Stored results at runs_bad_regions/era5L_ural_1004_060950/validation/model_epoch015/validation_results.p\n",
      "2023-04-10 06:14:06,457: Epoch 15 average validation loss: 0.00496 -- Median validation metrics: NSE: 0.32865, KGE: 0.34062\n",
      "# Epoch 16: 100%|██████████| 480/480 [00:16<00:00, 29.59it/s, Loss: 0.0039]\n",
      "2023-04-10 06:14:22,679: Epoch 16 average loss: 0.003933374541641873\n",
      "# Epoch 17: 100%|██████████| 480/480 [00:16<00:00, 29.46it/s, Loss: 0.0033]\n",
      "2023-04-10 06:14:38,974: Epoch 17 average loss: 0.0038602379895261644\n",
      "# Epoch 18: 100%|██████████| 480/480 [00:16<00:00, 29.64it/s, Loss: 0.0065]\n",
      "2023-04-10 06:14:55,173: Epoch 18 average loss: 0.003731358331060619\n",
      "# Validation: 100%|██████████| 42/42 [00:01<00:00, 21.58it/s]\n",
      "2023-04-10 06:14:57,134: Stored results at runs_bad_regions/era5L_ural_1004_060950/validation/model_epoch018/validation_results.p\n",
      "2023-04-10 06:14:57,135: Epoch 18 average validation loss: 0.00468 -- Median validation metrics: NSE: 0.32994, KGE: 0.35766\n",
      "# Epoch 19: 100%|██████████| 480/480 [00:16<00:00, 29.85it/s, Loss: 0.0029]\n",
      "2023-04-10 06:15:13,221: Epoch 19 average loss: 0.0035834903703895788\n",
      "2023-04-10 06:15:13,221: Setting learning rate to 0.0001\n",
      "# Epoch 20: 100%|██████████| 480/480 [00:16<00:00, 29.48it/s, Loss: 0.0005]\n",
      "2023-04-10 06:15:29,505: Epoch 20 average loss: 0.003267953937756829\n",
      "# Epoch 21: 100%|██████████| 480/480 [00:15<00:00, 30.35it/s, Loss: 0.0032]\n",
      "2023-04-10 06:15:45,322: Epoch 21 average loss: 0.003146017733524786\n",
      "# Validation: 100%|██████████| 42/42 [00:01<00:00, 23.62it/s]\n",
      "2023-04-10 06:15:47,114: Stored results at runs_bad_regions/era5L_ural_1004_060950/validation/model_epoch021/validation_results.p\n",
      "2023-04-10 06:15:47,116: Epoch 21 average validation loss: 0.00510 -- Median validation metrics: NSE: 0.34081, KGE: 0.45447\n",
      "# Epoch 22: 100%|██████████| 480/480 [00:15<00:00, 30.39it/s, Loss: 0.0046]\n",
      "2023-04-10 06:16:02,913: Epoch 22 average loss: 0.0031463260084516756\n",
      "# Epoch 23: 100%|██████████| 480/480 [00:15<00:00, 30.43it/s, Loss: 0.0029]\n",
      "2023-04-10 06:16:18,691: Epoch 23 average loss: 0.003045792483680998\n",
      "# Epoch 24: 100%|██████████| 480/480 [00:15<00:00, 30.36it/s, Loss: 0.0009]\n",
      "2023-04-10 06:16:34,501: Epoch 24 average loss: 0.0030041037690049658\n",
      "# Validation: 100%|██████████| 42/42 [00:01<00:00, 23.32it/s]\n",
      "2023-04-10 06:16:36,316: Stored results at runs_bad_regions/era5L_ural_1004_060950/validation/model_epoch024/validation_results.p\n",
      "2023-04-10 06:16:36,317: Epoch 24 average validation loss: 0.00523 -- Median validation metrics: NSE: 0.32083, KGE: 0.47840\n",
      "# Epoch 25: 100%|██████████| 480/480 [00:15<00:00, 30.38it/s, Loss: 0.0031]\n",
      "2023-04-10 06:16:52,118: Epoch 25 average loss: 0.0029445011570108665\n",
      "# Epoch 26: 100%|██████████| 480/480 [00:15<00:00, 30.32it/s, Loss: 0.0021]\n",
      "2023-04-10 06:17:07,952: Epoch 26 average loss: 0.002915146597782344\n",
      "# Epoch 27: 100%|██████████| 480/480 [00:15<00:00, 30.32it/s, Loss: 0.0008]\n",
      "2023-04-10 06:17:23,786: Epoch 27 average loss: 0.002883520225562582\n",
      "# Validation: 100%|██████████| 42/42 [00:01<00:00, 23.67it/s]\n",
      "2023-04-10 06:17:25,575: Stored results at runs_bad_regions/era5L_ural_1004_060950/validation/model_epoch027/validation_results.p\n",
      "2023-04-10 06:17:25,577: Epoch 27 average validation loss: 0.00540 -- Median validation metrics: NSE: 0.24749, KGE: 0.48658\n",
      "# Epoch 28: 100%|██████████| 480/480 [00:16<00:00, 29.32it/s, Loss: 0.0038]\n",
      "2023-04-10 06:17:41,949: Epoch 28 average loss: 0.0028468680306711273\n",
      "# Epoch 29: 100%|██████████| 480/480 [00:15<00:00, 30.28it/s, Loss: 0.0020]\n",
      "2023-04-10 06:17:57,801: Epoch 29 average loss: 0.0027904018985282163\n",
      "# Epoch 30: 100%|██████████| 480/480 [00:15<00:00, 30.37it/s, Loss: 0.0008]\n",
      "2023-04-10 06:18:13,609: Epoch 30 average loss: 0.0027701637550004913\n",
      "# Validation: 100%|██████████| 42/42 [00:01<00:00, 23.66it/s]\n",
      "2023-04-10 06:18:15,398: Stored results at runs_bad_regions/era5L_ural_1004_060950/validation/model_epoch030/validation_results.p\n",
      "2023-04-10 06:18:15,400: Epoch 30 average validation loss: 0.01085 -- Median validation metrics: NSE: 0.23700, KGE: 0.52151\n"
     ]
    },
    {
     "data": {
      "text/plain": [
       "28"
      ]
     },
     "execution_count": 12,
     "metadata": {},
     "output_type": "execute_result"
    }
   ],
   "source": [
    "gauges = gpd.read_file(\n",
    "    '../paper_visualisation/poor_gauges/ural.gpkg')\n",
    "# add test\n",
    "q_pathes = glob.glob('../geo_data/great_db/nc_all_q/*.nc')\n",
    "gauge_list = list()\n",
    "for file in q_pathes:\n",
    "    gauge_id = file.split('/')[-1][:-3]\n",
    "    if gauge_id in list(gauges['gauge_id']):\n",
    "        gauge_list.append(file)\n",
    "        \n",
    "# add train\n",
    "file_rewriter(q_pathes=gauge_list,\n",
    "              ts_dir=ts_dir,\n",
    "              hydro_target='q_mm_day',\n",
    "              meteo_predictors=['t_max_e5l', 't_min_e5l', 'prcp_e5l'])\n",
    "\n",
    "if torch.cuda.is_available():\n",
    "    start_run(config_file=Path(\"./poor_perfom_configs/era5L_ural_qmm.yml\"))\n",
    "gc.collect()"
   ]
  },
  {
   "attachments": {},
   "cell_type": "markdown",
   "metadata": {},
   "source": [
    "#### VolgoDon"
   ]
  },
  {
   "cell_type": "code",
   "execution_count": 13,
   "metadata": {},
   "outputs": [
    {
     "name": "stdout",
     "output_type": "stream",
     "text": [
      "2023-04-10 06:18:15,646: PROJ: internal_proj_identify: /opt/conda/share/proj/proj.db contains DATABASE.LAYOUT.VERSION.MINOR = 0 whereas a number >= 2 is expected. It comes from another PROJ installation.\n",
      "2023-04-10 06:18:19,207: Logging to runs_bad_regions/era5L_volgoDon_1004_061819/output.log initialized.\n",
      "2023-04-10 06:18:19,208: ### Folder structure created at runs_bad_regions/era5L_volgoDon_1004_061819\n",
      "2023-04-10 06:18:19,208: ### Run configurations for era5L_volgoDon\n",
      "2023-04-10 06:18:19,208: experiment_name: era5L_volgoDon\n",
      "2023-04-10 06:18:19,209: run_dir: runs_bad_regions/era5L_volgoDon_1004_061819\n",
      "2023-04-10 06:18:19,209: train_basin_file: openf_basins.txt\n",
      "2023-04-10 06:18:19,209: validation_basin_file: openf_basins.txt\n",
      "2023-04-10 06:18:19,210: test_basin_file: openf_basins.txt\n",
      "2023-04-10 06:18:19,210: train_start_date: 2009-01-01 00:00:00\n",
      "2023-04-10 06:18:19,210: train_end_date: 2016-12-31 00:00:00\n",
      "2023-04-10 06:18:19,211: validation_start_date: 2017-01-01 00:00:00\n",
      "2023-04-10 06:18:19,211: validation_end_date: 2018-12-31 00:00:00\n",
      "2023-04-10 06:18:19,211: test_start_date: 2019-01-01 00:00:00\n",
      "2023-04-10 06:18:19,212: test_end_date: 2020-12-31 00:00:00\n",
      "2023-04-10 06:18:19,212: per_basin_train_periods_file: None\n",
      "2023-04-10 06:18:19,212: per_basin_validation_periods_file: None\n",
      "2023-04-10 06:18:19,213: per_basin_test_periods_file: None\n",
      "2023-04-10 06:18:19,213: seed: 42\n",
      "2023-04-10 06:18:19,213: device: cuda:0\n",
      "2023-04-10 06:18:19,214: validate_every: 3\n",
      "2023-04-10 06:18:19,214: validate_n_random_basins: 93\n",
      "2023-04-10 06:18:19,214: cache_validation_data: True\n",
      "2023-04-10 06:18:19,215: metrics: ['NSE', 'KGE']\n",
      "2023-04-10 06:18:19,215: model: cudalstm\n",
      "2023-04-10 06:18:19,215: checkpoint_path: None\n",
      "2023-04-10 06:18:19,216: head: regression\n",
      "2023-04-10 06:18:19,216: output_activation: linear\n",
      "2023-04-10 06:18:19,216: hidden_size: 256\n",
      "2023-04-10 06:18:19,217: initial_forget_bias: 6\n",
      "2023-04-10 06:18:19,217: output_dropout: 0.4\n",
      "2023-04-10 06:18:19,217: optimizer: Adam\n",
      "2023-04-10 06:18:19,218: loss: NSE\n",
      "2023-04-10 06:18:19,218: regularization: None\n",
      "2023-04-10 06:18:19,218: learning_rate: {0: 0.001, 10: 0.0005, 20: 0.0001}\n",
      "2023-04-10 06:18:19,219: batch_size: 256\n",
      "2023-04-10 06:18:19,219: epochs: 30\n",
      "2023-04-10 06:18:19,219: target_noise_std: None\n",
      "2023-04-10 06:18:19,220: clip_gradient_norm: 1\n",
      "2023-04-10 06:18:19,220: predict_last_n: 1\n",
      "2023-04-10 06:18:19,220: seq_length: 365\n",
      "2023-04-10 06:18:19,221: num_workers: 8\n",
      "2023-04-10 06:18:19,221: log_interval: 3\n",
      "2023-04-10 06:18:19,221: log_tensorboard: True\n",
      "2023-04-10 06:18:19,222: log_n_figures: None\n",
      "2023-04-10 06:18:19,222: save_weights_every: 3\n",
      "2023-04-10 06:18:19,222: save_validation_results: True\n",
      "2023-04-10 06:18:19,223: dataset: generic\n",
      "2023-04-10 06:18:19,223: data_dir: ../geo_data\n",
      "2023-04-10 06:18:19,223: save_train_data: True\n",
      "2023-04-10 06:18:19,224: train_data_file: None\n",
      "2023-04-10 06:18:19,224: forcings: None\n",
      "2023-04-10 06:18:19,225: dynamic_inputs: ['t_max_e5l', 't_min_e5l', 'prcp_e5l']\n",
      "2023-04-10 06:18:19,225: target_variables: ['q_mm_day']\n",
      "2023-04-10 06:18:19,225: static_attributes: ['for_pc_sse', 'crp_pc_sse', 'pst_pc_sse', 'inu_pc_ult', 'ire_pc_sse', 'lka_pc_use', 'lkv_mc_usu', 'rev_mc_usu', 'gwt_cm_sav', 'prm_pc_sse', 'sgr_dk_sav', 'slp_dg_sav', 'cly_pc_sav', 'slt_pc_sav', 'snd_pc_sav', 'kar_pc_sse', 'urb_pc_sse', 'ws_area', 'ele_mt_sav']\n",
      "2023-04-10 06:18:19,226: additional_feature_files: None\n",
      "2023-04-10 06:18:19,226: evolving_attributes: None\n",
      "2023-04-10 06:18:19,226: use_basin_id_encoding: False\n",
      "2023-04-10 06:18:19,227: number_of_basins: 93\n",
      "2023-04-10 06:18:19,227: train_dir: runs_bad_regions/era5L_volgoDon_1004_061819/train_data\n",
      "2023-04-10 06:18:19,227: img_log_dir: runs_bad_regions/era5L_volgoDon_1004_061819/img_log\n",
      "2023-04-10 06:18:19,228: ### Device cuda:0 will be used for training\n",
      "2023-04-10 06:18:19,270: Loading basin data into xarray data set.\n",
      "100%|██████████| 93/93 [00:01<00:00, 59.55it/s]\n",
      "2023-04-10 06:18:20,912: Calculating target variable stds per basin\n",
      "100%|██████████| 93/93 [00:00<00:00, 1801.81it/s]\n",
      "2023-04-10 06:18:20,972: Create lookup table and convert to pytorch tensor\n",
      "100%|██████████| 93/93 [00:01<00:00, 83.09it/s] \n",
      "# Epoch 1: 100%|██████████| 1062/1062 [00:33<00:00, 31.52it/s, Loss: 0.0976]\n",
      "2023-04-10 06:18:55,873: Epoch 1 average loss: 0.15812603317608043\n",
      "# Epoch 2: 100%|██████████| 1062/1062 [00:33<00:00, 31.83it/s, Loss: 0.0918]\n",
      "2023-04-10 06:19:29,235: Epoch 2 average loss: 0.1010354196761512\n",
      "# Epoch 3: 100%|██████████| 1062/1062 [00:33<00:00, 31.79it/s, Loss: 0.0832]\n",
      "2023-04-10 06:20:02,641: Epoch 3 average loss: 0.08768698142090788\n",
      "# Validation: 100%|██████████| 93/93 [00:08<00:00, 10.72it/s]\n",
      "2023-04-10 06:20:11,339: Stored results at runs_bad_regions/era5L_volgoDon_1004_061819/validation/model_epoch003/validation_results.p\n",
      "2023-04-10 06:20:11,341: Epoch 3 average validation loss: 0.18557 -- Median validation metrics: NSE: 0.36025, KGE: 0.42172\n",
      "# Epoch 4: 100%|██████████| 1062/1062 [00:33<00:00, 31.73it/s, Loss: 0.0389]\n",
      "2023-04-10 06:20:44,812: Epoch 4 average loss: 0.07853536327016977\n",
      "# Epoch 5: 100%|██████████| 1062/1062 [00:33<00:00, 31.76it/s, Loss: 0.1657]\n",
      "2023-04-10 06:21:18,258: Epoch 5 average loss: 0.07401136878050035\n",
      "# Epoch 6: 100%|██████████| 1062/1062 [00:33<00:00, 31.65it/s, Loss: 0.0557]\n",
      "2023-04-10 06:21:51,810: Epoch 6 average loss: 0.0690797046440778\n",
      "# Validation: 100%|██████████| 93/93 [00:03<00:00, 23.55it/s]\n",
      "2023-04-10 06:21:55,780: Stored results at runs_bad_regions/era5L_volgoDon_1004_061819/validation/model_epoch006/validation_results.p\n",
      "2023-04-10 06:21:55,782: Epoch 6 average validation loss: 0.20472 -- Median validation metrics: NSE: 0.41338, KGE: 0.51305\n",
      "# Epoch 7: 100%|██████████| 1062/1062 [00:33<00:00, 31.67it/s, Loss: 0.0360]\n",
      "2023-04-10 06:22:29,320: Epoch 7 average loss: 0.06479285681171242\n",
      "# Epoch 8: 100%|██████████| 1062/1062 [00:33<00:00, 31.82it/s, Loss: 0.0116]\n",
      "2023-04-10 06:23:02,693: Epoch 8 average loss: 0.06341859194223827\n",
      "# Epoch 9: 100%|██████████| 1062/1062 [00:33<00:00, 31.73it/s, Loss: 0.0388]\n",
      "2023-04-10 06:23:36,163: Epoch 9 average loss: 0.05913392555673665\n",
      "# Validation: 100%|██████████| 93/93 [00:03<00:00, 23.51it/s]\n",
      "2023-04-10 06:23:40,138: Stored results at runs_bad_regions/era5L_volgoDon_1004_061819/validation/model_epoch009/validation_results.p\n",
      "2023-04-10 06:23:40,140: Epoch 9 average validation loss: 0.36309 -- Median validation metrics: NSE: 0.35181, KGE: 0.44239\n",
      "2023-04-10 06:23:40,140: Setting learning rate to 0.0005\n",
      "# Epoch 10: 100%|██████████| 1062/1062 [00:33<00:00, 31.72it/s, Loss: 0.0811]\n",
      "2023-04-10 06:24:13,621: Epoch 10 average loss: 0.050767819009538875\n",
      "# Epoch 11: 100%|██████████| 1062/1062 [00:33<00:00, 31.72it/s, Loss: 0.0372]\n",
      "2023-04-10 06:24:47,108: Epoch 11 average loss: 0.0478563754812318\n",
      "# Epoch 12: 100%|██████████| 1062/1062 [00:33<00:00, 31.68it/s, Loss: 0.0155]\n",
      "2023-04-10 06:25:20,634: Epoch 12 average loss: 0.046059222551669554\n",
      "# Validation: 100%|██████████| 93/93 [00:03<00:00, 23.60it/s]\n",
      "2023-04-10 06:25:24,594: Stored results at runs_bad_regions/era5L_volgoDon_1004_061819/validation/model_epoch012/validation_results.p\n",
      "2023-04-10 06:25:24,595: Epoch 12 average validation loss: 0.37510 -- Median validation metrics: NSE: 0.41733, KGE: 0.51087\n",
      "# Epoch 13: 100%|██████████| 1062/1062 [00:33<00:00, 31.68it/s, Loss: 0.0124]\n",
      "2023-04-10 06:25:58,120: Epoch 13 average loss: 0.04456347757169938\n",
      "# Epoch 14: 100%|██████████| 1062/1062 [00:33<00:00, 31.87it/s, Loss: 0.0094]\n",
      "2023-04-10 06:26:31,440: Epoch 14 average loss: 0.04258522029489054\n",
      "# Epoch 15: 100%|██████████| 1062/1062 [00:34<00:00, 30.78it/s, Loss: 0.0244]\n",
      "2023-04-10 06:27:05,940: Epoch 15 average loss: 0.04555900148317751\n",
      "# Validation: 100%|██████████| 93/93 [00:04<00:00, 23.20it/s]\n",
      "2023-04-10 06:27:09,968: Stored results at runs_bad_regions/era5L_volgoDon_1004_061819/validation/model_epoch015/validation_results.p\n",
      "2023-04-10 06:27:09,969: Epoch 15 average validation loss: 0.33315 -- Median validation metrics: NSE: 0.31673, KGE: 0.44648\n",
      "# Epoch 16: 100%|██████████| 1062/1062 [00:34<00:00, 30.51it/s, Loss: 0.0796]\n",
      "2023-04-10 06:27:44,782: Epoch 16 average loss: 0.040933057934172075\n",
      "# Epoch 17: 100%|██████████| 1062/1062 [00:34<00:00, 30.46it/s, Loss: 0.0500]\n",
      "2023-04-10 06:28:19,651: Epoch 17 average loss: 0.03903088318675111\n",
      "# Epoch 18: 100%|██████████| 1062/1062 [00:34<00:00, 30.49it/s, Loss: 0.0220]\n",
      "2023-04-10 06:28:54,486: Epoch 18 average loss: 0.0387690418896225\n",
      "# Validation: 100%|██████████| 93/93 [00:04<00:00, 23.16it/s]\n",
      "2023-04-10 06:28:58,522: Stored results at runs_bad_regions/era5L_volgoDon_1004_061819/validation/model_epoch018/validation_results.p\n",
      "2023-04-10 06:28:58,524: Epoch 18 average validation loss: 0.54337 -- Median validation metrics: NSE: 0.50606, KGE: 0.51846\n",
      "# Epoch 19: 100%|██████████| 1062/1062 [00:34<00:00, 30.57it/s, Loss: 0.0396]\n",
      "2023-04-10 06:29:33,261: Epoch 19 average loss: 0.03766220258312079\n",
      "2023-04-10 06:29:33,262: Setting learning rate to 0.0001\n",
      "# Epoch 20: 100%|██████████| 1062/1062 [00:34<00:00, 30.50it/s, Loss: 0.0077]\n",
      "2023-04-10 06:30:08,080: Epoch 20 average loss: 0.033235804687768024\n",
      "# Epoch 21: 100%|██████████| 1062/1062 [00:34<00:00, 30.68it/s, Loss: 0.0223]\n",
      "2023-04-10 06:30:42,696: Epoch 21 average loss: 0.031971819690041064\n",
      "# Validation: 100%|██████████| 93/93 [00:03<00:00, 23.40it/s]\n",
      "2023-04-10 06:30:46,691: Stored results at runs_bad_regions/era5L_volgoDon_1004_061819/validation/model_epoch021/validation_results.p\n",
      "2023-04-10 06:30:46,693: Epoch 21 average validation loss: 0.48836 -- Median validation metrics: NSE: 0.47786, KGE: 0.47456\n",
      "# Epoch 22: 100%|██████████| 1062/1062 [00:34<00:00, 30.56it/s, Loss: 0.0065]\n",
      "2023-04-10 06:31:21,452: Epoch 22 average loss: 0.03136767069335585\n",
      "# Epoch 23: 100%|██████████| 1062/1062 [00:34<00:00, 30.49it/s, Loss: 0.0510]\n",
      "2023-04-10 06:31:56,291: Epoch 23 average loss: 0.030931862531117602\n",
      "# Epoch 24: 100%|██████████| 1062/1062 [00:34<00:00, 30.50it/s, Loss: 0.0433]\n",
      "2023-04-10 06:32:31,109: Epoch 24 average loss: 0.030187704332923542\n",
      "# Validation: 100%|██████████| 93/93 [00:03<00:00, 23.30it/s]\n",
      "2023-04-10 06:32:35,119: Stored results at runs_bad_regions/era5L_volgoDon_1004_061819/validation/model_epoch024/validation_results.p\n",
      "2023-04-10 06:32:35,121: Epoch 24 average validation loss: 0.55034 -- Median validation metrics: NSE: 0.47382, KGE: 0.46375\n",
      "# Epoch 25: 100%|██████████| 1062/1062 [00:34<00:00, 30.60it/s, Loss: 0.0389]\n",
      "2023-04-10 06:33:09,832: Epoch 25 average loss: 0.02968026307699132\n",
      "# Epoch 26: 100%|██████████| 1062/1062 [00:34<00:00, 30.53it/s, Loss: 0.0509]\n",
      "2023-04-10 06:33:44,621: Epoch 26 average loss: 0.02938743564694867\n",
      "# Epoch 27: 100%|██████████| 1062/1062 [00:34<00:00, 30.51it/s, Loss: 0.0239]\n",
      "2023-04-10 06:34:19,436: Epoch 27 average loss: 0.028976826476487427\n",
      "# Validation: 100%|██████████| 93/93 [00:03<00:00, 23.25it/s]\n",
      "2023-04-10 06:34:23,456: Stored results at runs_bad_regions/era5L_volgoDon_1004_061819/validation/model_epoch027/validation_results.p\n",
      "2023-04-10 06:34:23,457: Epoch 27 average validation loss: 0.47042 -- Median validation metrics: NSE: 0.44935, KGE: 0.47694\n",
      "# Epoch 28: 100%|██████████| 1062/1062 [00:34<00:00, 30.53it/s, Loss: 0.0155]\n",
      "2023-04-10 06:34:58,241: Epoch 28 average loss: 0.028690221741367587\n",
      "# Epoch 29: 100%|██████████| 1062/1062 [00:34<00:00, 30.65it/s, Loss: 0.0165]\n",
      "2023-04-10 06:35:32,890: Epoch 29 average loss: 0.028520587261717086\n",
      "# Epoch 30: 100%|██████████| 1062/1062 [00:33<00:00, 31.81it/s, Loss: 0.0269]\n",
      "2023-04-10 06:36:06,281: Epoch 30 average loss: 0.028311673776735945\n",
      "# Validation: 100%|██████████| 93/93 [00:03<00:00, 24.02it/s]\n",
      "2023-04-10 06:36:10,174: Stored results at runs_bad_regions/era5L_volgoDon_1004_061819/validation/model_epoch030/validation_results.p\n",
      "2023-04-10 06:36:10,175: Epoch 30 average validation loss: 0.60428 -- Median validation metrics: NSE: 0.43723, KGE: 0.51319\n"
     ]
    },
    {
     "data": {
      "text/plain": [
       "0"
      ]
     },
     "execution_count": 13,
     "metadata": {},
     "output_type": "execute_result"
    }
   ],
   "source": [
    "gauges = gpd.read_file(\n",
    "    '../paper_visualisation/poor_gauges/volgo_don.gpkg')\n",
    "# add test\n",
    "q_pathes = glob.glob('../geo_data/great_db/nc_all_q/*.nc')\n",
    "gauge_list = list()\n",
    "for file in q_pathes:\n",
    "    gauge_id = file.split('/')[-1][:-3]\n",
    "    if gauge_id in list(gauges['gauge_id']):\n",
    "        gauge_list.append(file)\n",
    "        \n",
    "# add train\n",
    "file_rewriter(q_pathes=gauge_list,\n",
    "              ts_dir=ts_dir,\n",
    "              hydro_target='q_mm_day',\n",
    "              meteo_predictors=['t_max_e5l', 't_min_e5l', 'prcp_e5l'])\n",
    "\n",
    "if torch.cuda.is_available():\n",
    "    start_run(config_file=Path(\"./poor_perfom_configs/era5L_volgoDon_qmm.yml\"))\n",
    "gc.collect()"
   ]
  },
  {
   "cell_type": "code",
   "execution_count": null,
   "metadata": {},
   "outputs": [],
   "source": [
    "\n"
   ]
  }
 ],
 "metadata": {
  "kernelspec": {
   "display_name": "base",
   "language": "python",
   "name": "python3"
  },
  "language_info": {
   "codemirror_mode": {
    "name": "ipython",
    "version": 3
   },
   "file_extension": ".py",
   "mimetype": "text/x-python",
   "name": "python",
   "nbconvert_exporter": "python",
   "pygments_lexer": "ipython3",
   "version": "3.10.13"
  },
  "orig_nbformat": 4,
  "vscode": {
   "interpreter": {
    "hash": "d4d1e4263499bec80672ea0156c357c1ee493ec2b1c70f0acce89fc37c4a6abe"
   }
  }
 },
 "nbformat": 4,
 "nbformat_minor": 2
}
