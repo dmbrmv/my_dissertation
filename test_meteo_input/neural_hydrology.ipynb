{
 "cells": [
  {
   "cell_type": "code",
   "execution_count": 1,
   "metadata": {},
   "outputs": [],
   "source": [
    "%load_ext autoreload\n",
    "%autoreload 2\n",
    "%load_ext tensorboard"
   ]
  },
  {
   "cell_type": "code",
   "execution_count": 2,
   "metadata": {},
   "outputs": [
    {
     "name": "stdout",
     "output_type": "stream",
     "text": [
      "Using device: cuda\n",
      "\n",
      "NVIDIA GeForce RTX 3080 Ti\n",
      "Memory Usage:\n",
      "Allocated: 0.0 GB\n",
      "Cached:    0.0 GB\n"
     ]
    }
   ],
   "source": [
    "import glob\n",
    "import gc\n",
    "\n",
    "import torch\n",
    "import xarray as xr\n",
    "from neuralhydrology.nh_run import start_run, eval_run\n",
    "from scripts.file_manipulator import file_rewriter\n",
    "\n",
    "from pathlib import Path\n",
    "\n",
    "import random\n",
    "random.seed(42)\n",
    "# setting device on GPU if available, else CPU\n",
    "device = torch.device('cuda' if torch.cuda.is_available() else 'cpu')\n",
    "print('Using device:', device)\n",
    "print()\n",
    "\n",
    "#Additional Info when using cuda\n",
    "if device.type == 'cuda':\n",
    "    print(torch.cuda.get_device_name(0))\n",
    "    print('Memory Usage:')\n",
    "    print('Allocated:', round(torch.cuda.memory_allocated(0)/1024**3,1), 'GB')\n",
    "    print('Cached:   ', round(torch.cuda.memory_reserved(0)/1024**3,1), 'GB')\n",
    "ts_dir = Path('../geo_data/time_series')"
   ]
  },
  {
   "attachments": {},
   "cell_type": "markdown",
   "metadata": {},
   "source": [
    "### Run for different configs\n"
   ]
  },
  {
   "attachments": {},
   "cell_type": "markdown",
   "metadata": {},
   "source": [
    "#### ERA5 precipitation"
   ]
  },
  {
   "attachments": {},
   "cell_type": "markdown",
   "metadata": {},
   "source": [
    "##### train"
   ]
  },
  {
   "cell_type": "code",
   "execution_count": 3,
   "metadata": {},
   "outputs": [
    {
     "name": "stdout",
     "output_type": "stream",
     "text": [
      "2023-04-05 06:30:34,933: Logging to runs_q_mm/era5_prcp_0504_063034/output.log initialized.\n",
      "2023-04-05 06:30:34,933: ### Folder structure created at runs_q_mm/era5_prcp_0504_063034\n",
      "2023-04-05 06:30:34,933: ### Run configurations for era5_prcp\n",
      "2023-04-05 06:30:34,934: experiment_name: era5_prcp\n",
      "2023-04-05 06:30:34,934: run_dir: runs_q_mm/era5_prcp_0504_063034\n",
      "2023-04-05 06:30:34,934: train_basin_file: openf_basins.txt\n",
      "2023-04-05 06:30:34,935: validation_basin_file: openf_basins.txt\n",
      "2023-04-05 06:30:34,935: test_basin_file: openf_basins.txt\n",
      "2023-04-05 06:30:34,936: train_start_date: 2008-01-01 00:00:00\n",
      "2023-04-05 06:30:34,936: train_end_date: 2016-12-31 00:00:00\n",
      "2023-04-05 06:30:34,936: validation_start_date: 2017-01-01 00:00:00\n",
      "2023-04-05 06:30:34,937: validation_end_date: 2018-12-31 00:00:00\n",
      "2023-04-05 06:30:34,937: test_start_date: 2019-01-01 00:00:00\n",
      "2023-04-05 06:30:34,938: test_end_date: 2020-12-31 00:00:00\n",
      "2023-04-05 06:30:34,938: per_basin_train_periods_file: None\n",
      "2023-04-05 06:30:34,938: per_basin_validation_periods_file: None\n",
      "2023-04-05 06:30:34,939: per_basin_test_periods_file: None\n",
      "2023-04-05 06:30:34,939: seed: 42\n",
      "2023-04-05 06:30:34,939: device: cuda:0\n",
      "2023-04-05 06:30:34,940: validate_every: 3\n",
      "2023-04-05 06:30:34,940: validate_n_random_basins: 1106\n",
      "2023-04-05 06:30:34,940: cache_validation_data: True\n",
      "2023-04-05 06:30:34,941: metrics: ['NSE', 'KGE']\n",
      "2023-04-05 06:30:34,941: model: cudalstm\n",
      "2023-04-05 06:30:34,941: checkpoint_path: None\n",
      "2023-04-05 06:30:34,942: head: regression\n",
      "2023-04-05 06:30:34,942: output_activation: linear\n",
      "2023-04-05 06:30:34,942: hidden_size: 256\n",
      "2023-04-05 06:30:34,943: initial_forget_bias: 6\n",
      "2023-04-05 06:30:34,943: output_dropout: 0.4\n",
      "2023-04-05 06:30:34,943: optimizer: Adam\n",
      "2023-04-05 06:30:34,944: loss: NSE\n",
      "2023-04-05 06:30:34,944: regularization: None\n",
      "2023-04-05 06:30:34,945: learning_rate: {0: 0.001, 10: 0.0005, 20: 0.0001}\n",
      "2023-04-05 06:30:34,945: batch_size: 256\n",
      "2023-04-05 06:30:34,945: epochs: 60\n",
      "2023-04-05 06:30:34,946: target_noise_std: None\n",
      "2023-04-05 06:30:34,946: clip_gradient_norm: 1\n",
      "2023-04-05 06:30:34,946: predict_last_n: 1\n",
      "2023-04-05 06:30:34,947: seq_length: 365\n",
      "2023-04-05 06:30:34,947: num_workers: 8\n",
      "2023-04-05 06:30:34,947: log_interval: 3\n",
      "2023-04-05 06:30:34,948: log_tensorboard: True\n",
      "2023-04-05 06:30:34,948: log_n_figures: None\n",
      "2023-04-05 06:30:34,948: save_weights_every: 3\n",
      "2023-04-05 06:30:34,949: save_validation_results: True\n",
      "2023-04-05 06:30:34,949: dataset: generic\n",
      "2023-04-05 06:30:34,949: data_dir: ../geo_data\n",
      "2023-04-05 06:30:34,949: save_train_data: True\n",
      "2023-04-05 06:30:34,950: train_data_file: None\n",
      "2023-04-05 06:30:34,950: forcings: None\n",
      "2023-04-05 06:30:34,950: dynamic_inputs: ['t_max_e5', 't_min_e5', 'prcp_e5']\n",
      "2023-04-05 06:30:34,951: target_variables: ['q_mm_day']\n",
      "2023-04-05 06:30:34,951: static_attributes: ['for_pc_sse', 'crp_pc_sse', 'pst_pc_sse', 'inu_pc_ult', 'ire_pc_sse', 'lka_pc_use', 'lkv_mc_usu', 'rev_mc_usu', 'gwt_cm_sav', 'prm_pc_sse', 'sgr_dk_sav', 'slp_dg_sav', 'cly_pc_sav', 'slt_pc_sav', 'snd_pc_sav', 'kar_pc_sse', 'urb_pc_sse', 'ws_area', 'ele_mt_sav']\n",
      "2023-04-05 06:30:34,951: additional_feature_files: None\n",
      "2023-04-05 06:30:34,952: evolving_attributes: None\n",
      "2023-04-05 06:30:34,952: use_basin_id_encoding: False\n",
      "2023-04-05 06:30:34,952: number_of_basins: 1106\n",
      "2023-04-05 06:30:34,953: train_dir: runs_q_mm/era5_prcp_0504_063034/train_data\n",
      "2023-04-05 06:30:34,953: img_log_dir: runs_q_mm/era5_prcp_0504_063034/img_log\n",
      "2023-04-05 06:30:34,953: ### Device cuda:0 will be used for training\n",
      "2023-04-05 06:30:35,155: Loading basin data into xarray data set.\n",
      "100%|██████████| 1106/1106 [00:21<00:00, 51.37it/s]\n",
      "2023-04-05 06:30:57,877: Calculating target variable stds per basin\n",
      "100%|██████████| 1106/1106 [00:00<00:00, 1742.01it/s]\n",
      "2023-04-05 06:30:58,594: Create lookup table and convert to pytorch tensor\n",
      "100%|██████████| 1106/1106 [00:14<00:00, 77.83it/s] \n"
     ]
    }
   ],
   "source": [
    "file_rewriter(q_pathes=glob.glob('../geo_data/great_db/nc_all_q/*.nc'),\n",
    "              ts_dir=ts_dir,\n",
    "              hydro_target='q_mm_day',\n",
    "              meteo_predictors=['t_max_e5', 't_min_e5', 'prcp_e5'])\n",
    "if torch.cuda.is_available():\n",
    "    start_run(config_file=Path(\"./configs/era5_qmm.yml\"))\n"
   ]
  },
  {
   "attachments": {},
   "cell_type": "markdown",
   "metadata": {},
   "source": [
    "##### test"
   ]
  },
  {
   "cell_type": "code",
   "execution_count": null,
   "metadata": {},
   "outputs": [],
   "source": [
    "run_dir = Path(\"./runs_q_mm/era5_prcp_0404_074943/\")\n",
    "eval_run(run_dir=run_dir, period=\"test\")"
   ]
  },
  {
   "cell_type": "code",
   "execution_count": null,
   "metadata": {},
   "outputs": [],
   "source": []
  },
  {
   "attachments": {},
   "cell_type": "markdown",
   "metadata": {},
   "source": [
    "#### ERA5-Land precipitation"
   ]
  },
  {
   "cell_type": "markdown",
   "metadata": {},
   "source": [
    "##### train"
   ]
  },
  {
   "cell_type": "code",
   "execution_count": null,
   "metadata": {},
   "outputs": [],
   "source": [
    "file_rewriter(q_pathes=glob.glob('../geo_data/great_db/nc_all_q/*.nc'),\n",
    "              ts_dir=ts_dir,\n",
    "              hydro_target='q_cms_s',\n",
    "              meteo_predictors=['t_max_e5l', 't_min_e5l', 'prcp_e5l'])\n",
    "if torch.cuda.is_available():\n",
    "    start_run(config_file=Path(\"./configs/era5_land_prcp_qms.yml\"))"
   ]
  },
  {
   "cell_type": "markdown",
   "metadata": {},
   "source": [
    "##### test"
   ]
  },
  {
   "cell_type": "code",
   "execution_count": null,
   "metadata": {},
   "outputs": [],
   "source": [
    "run_dir = Path(\"./runs_q_cms/era5_land_prcp_2803_125025\")\n",
    "eval_run(run_dir=run_dir, period=\"test\")"
   ]
  },
  {
   "attachments": {},
   "cell_type": "markdown",
   "metadata": {},
   "source": [
    "#### GPCP precipitation"
   ]
  },
  {
   "cell_type": "markdown",
   "metadata": {},
   "source": [
    "##### train"
   ]
  },
  {
   "cell_type": "code",
   "execution_count": null,
   "metadata": {},
   "outputs": [],
   "source": [
    "# gpcp\n",
    "file_rewriter(q_pathes=glob.glob('../geo_data/great_db/nc_all_q/*.nc'),\n",
    "              ts_dir=ts_dir,\n",
    "              hydro_target='q_cms_s',\n",
    "              meteo_predictors=['t_max_e5', 't_min_e5', 'prcp_gpcp'])\n",
    "if torch.cuda.is_available():\n",
    "    start_run(config_file=Path(\"./configs/gpcp_prcp_qms.yml\"))\n",
    "gc.collect()"
   ]
  },
  {
   "cell_type": "markdown",
   "metadata": {},
   "source": [
    "##### test"
   ]
  },
  {
   "cell_type": "code",
   "execution_count": 6,
   "metadata": {},
   "outputs": [
    {
     "name": "stdout",
     "output_type": "stream",
     "text": [
      "# Evaluation: 100%|██████████| 1136/1136 [02:14<00:00,  8.43it/s]\n"
     ]
    }
   ],
   "source": [
    "run_dir = Path(\"./runs_q_cms/gpcp_prcp_3003_063422\")\n",
    "eval_run(run_dir=run_dir, period=\"test\")"
   ]
  },
  {
   "attachments": {},
   "cell_type": "markdown",
   "metadata": {},
   "source": [
    "#### IMERG precipitation"
   ]
  },
  {
   "cell_type": "markdown",
   "metadata": {},
   "source": [
    "##### train"
   ]
  },
  {
   "cell_type": "code",
   "execution_count": null,
   "metadata": {},
   "outputs": [],
   "source": [
    "file_rewriter(q_pathes=glob.glob('../geo_data/great_db/nc_all_q/*.nc'),\n",
    "              ts_dir=ts_dir,\n",
    "              hydro_target='q_cms_s',\n",
    "              meteo_predictors=['t_max_e5', 't_min_e5', 'prcp_imerg'])\n",
    "if torch.cuda.is_available():\n",
    "    start_run(config_file=Path(\"./configs/imerg_prcp_qms.yml\"))\n",
    "gc.collect()"
   ]
  },
  {
   "cell_type": "markdown",
   "metadata": {},
   "source": [
    "##### test"
   ]
  },
  {
   "cell_type": "code",
   "execution_count": null,
   "metadata": {},
   "outputs": [],
   "source": [
    "run_dir = Path(\"./runs_q_cms/imerg_prcp_3003_135405\")\n",
    "eval_run(run_dir=run_dir, period=\"test\")"
   ]
  },
  {
   "attachments": {},
   "cell_type": "markdown",
   "metadata": {},
   "source": [
    "#### MSWEP precipitation"
   ]
  },
  {
   "cell_type": "markdown",
   "metadata": {},
   "source": [
    "##### train"
   ]
  },
  {
   "cell_type": "code",
   "execution_count": null,
   "metadata": {},
   "outputs": [],
   "source": [
    "file_rewriter(q_pathes=glob.glob('../geo_data/great_db/nc_all_q/*.nc'),\n",
    "              ts_dir=ts_dir,\n",
    "              hydro_target='q_mm_day',\n",
    "              meteo_predictors=['t_max_e5l', 't_min_e5l', 'prcp_mswep'])\n",
    "if torch.cuda.is_available():\n",
    "    start_run(config_file=Path(\"./configs/mswep_prcp_qmm.yml\"))\n",
    "gc.collect()"
   ]
  },
  {
   "cell_type": "markdown",
   "metadata": {},
   "source": [
    "##### test"
   ]
  },
  {
   "cell_type": "code",
   "execution_count": 8,
   "metadata": {},
   "outputs": [
    {
     "name": "stdout",
     "output_type": "stream",
     "text": [
      "# Evaluation: 100%|██████████| 1136/1136 [02:14<00:00,  8.46it/s]\n"
     ]
    }
   ],
   "source": [
    "run_dir = Path(\"./runs_q_cms/mswep_prcp_3103_073833\")\n",
    "eval_run(run_dir=run_dir, period=\"test\")"
   ]
  },
  {
   "cell_type": "code",
   "execution_count": null,
   "metadata": {},
   "outputs": [],
   "source": []
  },
  {
   "attachments": {},
   "cell_type": "markdown",
   "metadata": {},
   "source": [
    "#### Level"
   ]
  },
  {
   "cell_type": "code",
   "execution_count": null,
   "metadata": {},
   "outputs": [],
   "source": [
    "file_rewriter(q_pathes=glob.glob('../geo_data/great_db/nc_all_h/*.nc'),\n",
    "              ts_dir=ts_dir,\n",
    "              hydro_target='lvl_sm',\n",
    "              meteo_predictors=['t_max_e5l', 't_min_e5l', 'prcp_e5l'])\n",
    "if torch.cuda.is_available():\n",
    "    start_run(config_file=Path(\"./configs/e5l_sm.yml\"))\n",
    "gc.collect()"
   ]
  },
  {
   "cell_type": "markdown",
   "metadata": {},
   "source": [
    "##### test"
   ]
  },
  {
   "cell_type": "code",
   "execution_count": null,
   "metadata": {},
   "outputs": [],
   "source": []
  },
  {
   "attachments": {},
   "cell_type": "markdown",
   "metadata": {},
   "source": [
    "### Blind forecast"
   ]
  },
  {
   "cell_type": "code",
   "execution_count": null,
   "metadata": {},
   "outputs": [
    {
     "name": "stdout",
     "output_type": "stream",
     "text": [
      "2023-04-05 06:22:00,239: PROJ: internal_proj_identify: /opt/conda/share/proj/proj.db contains DATABASE.LAYOUT.VERSION.MINOR = 0 whereas a number >= 2 is expected. It comes from another PROJ installation.\n"
     ]
    }
   ],
   "source": [
    "import geopandas as gpd\n",
    "\n",
    "partial_gauges = gpd.read_file(\n",
    "    '../geo_data/great_db/geometry/gauges_partial_q.gpkg')\n",
    "\n",
    "with open('./basins_test.txt', 'w') as the_file:\n",
    "    for gauge_name in partial_gauges['gauge_id']:\n",
    "        the_file.write(f'{int(gauge_name)}\\n')"
   ]
  },
  {
   "cell_type": "code",
   "execution_count": null,
   "metadata": {},
   "outputs": [],
   "source": [
    "q_pathes = glob.glob('../geo_data/great_db/nc_concat/*.nc')\n",
    "for file in q_pathes:\n",
    "    gauge_id = file.split('/')[-1][:-3]\n",
    "    if gauge_id in list(partial_gauges['gauge_id']):\n",
    "        ds = xr.open_dataset(file)\n",
    "        filename = file.split('/')[-1]\n",
    "        try:\n",
    "            ds = ds.drop('gauge_id')\n",
    "            ds.to_netcdf(f'{ts_dir}/{filename}')\n",
    "        except ValueError:\n",
    "            continue\n",
    "\n",
    "file_rewriter(q_pathes=glob.glob('../geo_data/great_db/nc_all_q/*.nc'),\n",
    "              ts_dir=ts_dir,\n",
    "              hydro_target='q_mm_day',\n",
    "              meteo_predictors=['t_max_e5l', 't_min_e5l', 'prcp_e5l'])"
   ]
  },
  {
   "cell_type": "code",
   "execution_count": null,
   "metadata": {},
   "outputs": [],
   "source": [
    "if torch.cuda.is_available():\n",
    "    start_run(config_file=Path(\"./configs/e5l_mbs.yml\"))\n",
    "gc.collect()"
   ]
  },
  {
   "attachments": {},
   "cell_type": "markdown",
   "metadata": {},
   "source": [
    "### Bad regions"
   ]
  },
  {
   "cell_type": "markdown",
   "metadata": {},
   "source": []
  }
 ],
 "metadata": {
  "kernelspec": {
   "display_name": "base",
   "language": "python",
   "name": "python3"
  },
  "language_info": {
   "codemirror_mode": {
    "name": "ipython",
    "version": 3
   },
   "file_extension": ".py",
   "mimetype": "text/x-python",
   "name": "python",
   "nbconvert_exporter": "python",
   "pygments_lexer": "ipython3",
   "version": "3.9.12"
  },
  "orig_nbformat": 4,
  "vscode": {
   "interpreter": {
    "hash": "d4d1e4263499bec80672ea0156c357c1ee493ec2b1c70f0acce89fc37c4a6abe"
   }
  }
 },
 "nbformat": 4,
 "nbformat_minor": 2
}
