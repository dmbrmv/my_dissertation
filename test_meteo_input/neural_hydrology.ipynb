{
 "cells": [
  {
   "cell_type": "code",
   "execution_count": 15,
   "metadata": {},
   "outputs": [],
   "source": [
    "import glob\n",
    "\n",
    "import torch\n",
    "import xarray as xr\n",
    "from neuralhydrology.nh_run import start_run, eval_run\n",
    "\n",
    "from pathlib import Path\n",
    "\n",
    "import random\n",
    "random.seed(42)"
   ]
  },
  {
   "attachments": {},
   "cell_type": "markdown",
   "metadata": {},
   "source": [
    "### Basin file definition\n",
    "select all id's where 100% of discharge observations exists"
   ]
  },
  {
   "cell_type": "code",
   "execution_count": 7,
   "metadata": {},
   "outputs": [],
   "source": [
    "basins = [file.split('/')[-1][:-3] for\n",
    "          file in glob.glob('../geo_data/great_db/nc_all_q/*.nc')]\n",
    "with open('./openf_basins.txt', 'w') as the_file:\n",
    "    for gauge_name in basins:\n",
    "        the_file.write(f'{int(gauge_name)}\\n')"
   ]
  },
  {
   "cell_type": "code",
   "execution_count": 10,
   "metadata": {},
   "outputs": [],
   "source": [
    "random.shuffle(basins)\n",
    "gauge_size = len(basins)\n",
    "\n",
    "train_gauges = basins[:int(len(basins) * 0.8)]\n",
    "with open('./basins_train.txt', 'w') as the_file:\n",
    "    for gauge_name in train_gauges:\n",
    "        the_file.write(f'{gauge_name}\\n')\n",
    "\n",
    "val_gauges = basins[int(gauge_size * 0.8)\n",
    "                        :int(gauge_size * 0.8) + int(gauge_size * 0.1)]\n",
    "with open('./basins_val.txt', 'w') as the_file:\n",
    "    for gauge_name in val_gauges:\n",
    "        the_file.write(f'{gauge_name}\\n')\n",
    "\n",
    "test_gauges = basins[int(gauge_size * 0.8) + int(gauge_size * 0.1):]\n",
    "with open('./basins_test.txt', 'w') as the_file:\n",
    "    for gauge_name in test_gauges:\n",
    "        the_file.write(f'{gauge_name}\\n')\n"
   ]
  },
  {
   "attachments": {},
   "cell_type": "markdown",
   "metadata": {},
   "source": [
    "### Run for different configs\n"
   ]
  },
  {
   "attachments": {},
   "cell_type": "markdown",
   "metadata": {},
   "source": [
    "#### ERA5 precipitation"
   ]
  },
  {
   "cell_type": "code",
   "execution_count": null,
   "metadata": {},
   "outputs": [],
   "source": [
    "if torch.cuda.is_available():\n",
    "    start_run(config_file=Path(\"./configs/era5_prcp_qcms.yml\"))"
   ]
  },
  {
   "attachments": {},
   "cell_type": "markdown",
   "metadata": {},
   "source": [
    "#### ERA5-Land precipitation"
   ]
  },
  {
   "cell_type": "code",
   "execution_count": null,
   "metadata": {},
   "outputs": [],
   "source": [
    "if torch.cuda.is_available():\n",
    "    start_run(config_file=Path(\"./configs/era5_land_prcp_qms.yml\"))"
   ]
  },
  {
   "attachments": {},
   "cell_type": "markdown",
   "metadata": {},
   "source": [
    "#### GPCP precipitation"
   ]
  },
  {
   "cell_type": "code",
   "execution_count": null,
   "metadata": {},
   "outputs": [],
   "source": [
    "if torch.cuda.is_available():\n",
    "    start_run(config_file=Path(\"./configs/gpcp_prcp_qms.yml\"))"
   ]
  },
  {
   "attachments": {},
   "cell_type": "markdown",
   "metadata": {},
   "source": [
    "#### IMERG precipitation"
   ]
  },
  {
   "cell_type": "code",
   "execution_count": null,
   "metadata": {},
   "outputs": [],
   "source": [
    "if torch.cuda.is_available():\n",
    "    start_run(config_file=Path(\"./configs/imerg_prcp_qms.yml\"))"
   ]
  },
  {
   "attachments": {},
   "cell_type": "markdown",
   "metadata": {},
   "source": [
    "#### MSWEP precipitation"
   ]
  },
  {
   "cell_type": "code",
   "execution_count": null,
   "metadata": {},
   "outputs": [],
   "source": [
    "if torch.cuda.is_available():\n",
    "    start_run(config_file=Path(\"./configs/mswep_prcp_qms.yml\"))"
   ]
  }
 ],
 "metadata": {
  "kernelspec": {
   "display_name": "base",
   "language": "python",
   "name": "python3"
  },
  "language_info": {
   "codemirror_mode": {
    "name": "ipython",
    "version": 3
   },
   "file_extension": ".py",
   "mimetype": "text/x-python",
   "name": "python",
   "nbconvert_exporter": "python",
   "pygments_lexer": "ipython3",
   "version": "3.9.12"
  },
  "orig_nbformat": 4
 },
 "nbformat": 4,
 "nbformat_minor": 2
}
