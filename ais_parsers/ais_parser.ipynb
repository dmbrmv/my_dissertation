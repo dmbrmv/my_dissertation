{
 "cells": [
  {
   "cell_type": "code",
   "execution_count": 1,
   "metadata": {},
   "outputs": [],
   "source": [
    "%load_ext autoreload\n",
    "%autoreload 2"
   ]
  },
  {
   "cell_type": "code",
   "execution_count": 2,
   "metadata": {},
   "outputs": [],
   "source": [
    "import glob\n",
    "from pathlib import Path\n",
    "import pandas as pd\n",
    "import geopandas as gpd\n",
    "import numpy as np\n",
    "from tqdm.notebook import tqdm"
   ]
  },
  {
   "attachments": {},
   "cell_type": "markdown",
   "metadata": {},
   "source": [
    "# Parsing"
   ]
  },
  {
   "attachments": {},
   "cell_type": "markdown",
   "metadata": {},
   "source": [
    "### Levels"
   ]
  },
  {
   "cell_type": "code",
   "execution_count": 11,
   "metadata": {},
   "outputs": [],
   "source": [
    "geom_file = gpd.read_file(\n",
    "    '/workspaces/my_dissertation/geo_data/geometry/russia_ws.gpkg')\n",
    "geom_file = geom_file.set_index('gauge_id')"
   ]
  },
  {
   "cell_type": "code",
   "execution_count": 6,
   "metadata": {},
   "outputs": [
    {
     "data": {
      "text/html": [
       "<div>\n",
       "<style scoped>\n",
       "    .dataframe tbody tr th:only-of-type {\n",
       "        vertical-align: middle;\n",
       "    }\n",
       "\n",
       "    .dataframe tbody tr th {\n",
       "        vertical-align: top;\n",
       "    }\n",
       "\n",
       "    .dataframe thead th {\n",
       "        text-align: right;\n",
       "    }\n",
       "</style>\n",
       "<table border=\"1\" class=\"dataframe\">\n",
       "  <thead>\n",
       "    <tr style=\"text-align: right;\">\n",
       "      <th></th>\n",
       "      <th>name</th>\n",
       "      <th>height</th>\n",
       "    </tr>\n",
       "    <tr>\n",
       "      <th>gauge_id</th>\n",
       "      <th></th>\n",
       "      <th></th>\n",
       "    </tr>\n",
       "  </thead>\n",
       "  <tbody>\n",
       "    <tr>\n",
       "      <th>75389</th>\n",
       "      <td>ПРОТВА - P.ПPOTBA - C.CПAC-ЗAГOPЬE</td>\n",
       "      <td>119.04</td>\n",
       "    </tr>\n",
       "    <tr>\n",
       "      <th>75394</th>\n",
       "      <td>ОСЕТР - P.OCETP - Д.MAPKИHO</td>\n",
       "      <td>107.00</td>\n",
       "    </tr>\n",
       "    <tr>\n",
       "      <th>75395</th>\n",
       "      <td>МОСКВА - P.MOCKBA - Д.БAPCУKИ</td>\n",
       "      <td>183.00</td>\n",
       "    </tr>\n",
       "    <tr>\n",
       "      <th>75402</th>\n",
       "      <td>МОСКВА - P.MOCKBA - Г.ЗBEHИГOPOД</td>\n",
       "      <td>132.89</td>\n",
       "    </tr>\n",
       "    <tr>\n",
       "      <th>75403</th>\n",
       "      <td>МОСКВА - P.MOCKBA - C.ПETPOВО-ДAЛЬHEE</td>\n",
       "      <td>127.50</td>\n",
       "    </tr>\n",
       "    <tr>\n",
       "      <th>...</th>\n",
       "      <td>...</td>\n",
       "      <td>...</td>\n",
       "    </tr>\n",
       "    <tr>\n",
       "      <th>49048</th>\n",
       "      <td>Войница (Каарто-йоки, Терва-йоки) - P.BOЙHИЦA ...</td>\n",
       "      <td>101.17</td>\n",
       "    </tr>\n",
       "    <tr>\n",
       "      <th>49052</th>\n",
       "      <td>Ухта (Ухтуа-йоки, Ухтуска) - P.УXTA - ПГT KAЛE...</td>\n",
       "      <td>114.32</td>\n",
       "    </tr>\n",
       "    <tr>\n",
       "      <th>49053</th>\n",
       "      <td>Р.НОРВИ-ЙОКИ - P.HOPBИ-ЙOKИ - ПГT KAЛEBAЛA</td>\n",
       "      <td>104.00</td>\n",
       "    </tr>\n",
       "    <tr>\n",
       "      <th>49054</th>\n",
       "      <td>Керкешь - P.KEPKEШЬ - УCTЬE</td>\n",
       "      <td>109.84</td>\n",
       "    </tr>\n",
       "    <tr>\n",
       "      <th>49055</th>\n",
       "      <td>Чирко-Кемь (Чирка-Кемь) - P.ЧИPKO-KEMЬ - C.AHД...</td>\n",
       "      <td>135.45</td>\n",
       "    </tr>\n",
       "  </tbody>\n",
       "</table>\n",
       "<p>2448 rows × 2 columns</p>\n",
       "</div>"
      ],
      "text/plain": [
       "                                                       name  height\n",
       "gauge_id                                                           \n",
       "75389                    ПРОТВА - P.ПPOTBA - C.CПAC-ЗAГOPЬE  119.04\n",
       "75394                           ОСЕТР - P.OCETP - Д.MAPKИHO  107.00\n",
       "75395                         МОСКВА - P.MOCKBA - Д.БAPCУKИ  183.00\n",
       "75402                      МОСКВА - P.MOCKBA - Г.ЗBEHИГOPOД  132.89\n",
       "75403                 МОСКВА - P.MOCKBA - C.ПETPOВО-ДAЛЬHEE  127.50\n",
       "...                                                     ...     ...\n",
       "49048     Войница (Каарто-йоки, Терва-йоки) - P.BOЙHИЦA ...  101.17\n",
       "49052     Ухта (Ухтуа-йоки, Ухтуска) - P.УXTA - ПГT KAЛE...  114.32\n",
       "49053            Р.НОРВИ-ЙОКИ - P.HOPBИ-ЙOKИ - ПГT KAЛEBAЛA  104.00\n",
       "49054                           Керкешь - P.KEPKEШЬ - УCTЬE  109.84\n",
       "49055     Чирко-Кемь (Чирка-Кемь) - P.ЧИPKO-KEMЬ - C.AHД...  135.45\n",
       "\n",
       "[2448 rows x 2 columns]"
      ]
     },
     "execution_count": 6,
     "metadata": {},
     "output_type": "execute_result"
    }
   ],
   "source": [
    "heigh_bs = pd.read_csv('./data/levels/height_id.csv')\n",
    "heigh_bs = heigh_bs.rename(columns={'Unnamed: 0': 'gauge_id'})\n",
    "heigh_bs['gauge_id'] = list(map(str, heigh_bs['gauge_id']))\n",
    "heigh_bs = heigh_bs.set_index('gauge_id')\n",
    "heigh_bs = heigh_bs.drop_duplicates()\n",
    "heigh_bs"
   ]
  },
  {
   "cell_type": "code",
   "execution_count": 7,
   "metadata": {},
   "outputs": [],
   "source": [
    "level_storage = './data/levels/final'\n",
    "discharge_storage = './data/discharge/final'"
   ]
  },
  {
   "cell_type": "code",
   "execution_count": 21,
   "metadata": {},
   "outputs": [],
   "source": [
    "gauge = '9978'"
   ]
  },
  {
   "cell_type": "code",
   "execution_count": 22,
   "metadata": {},
   "outputs": [
    {
     "ename": "FileNotFoundError",
     "evalue": "[Errno 2] No such file or directory: './data/levels/final/9978.csv'",
     "output_type": "error",
     "traceback": [
      "\u001b[0;31m---------------------------------------------------------------------------\u001b[0m",
      "\u001b[0;31mFileNotFoundError\u001b[0m                         Traceback (most recent call last)",
      "Cell \u001b[0;32mIn[22], line 1\u001b[0m\n\u001b[0;32m----> 1\u001b[0m lvl_file \u001b[39m=\u001b[39m pd\u001b[39m.\u001b[39;49mread_csv(\u001b[39mf\u001b[39;49m\u001b[39m'\u001b[39;49m\u001b[39m{\u001b[39;49;00mlevel_storage\u001b[39m}\u001b[39;49;00m\u001b[39m/\u001b[39;49m\u001b[39m{\u001b[39;49;00mgauge\u001b[39m}\u001b[39;49;00m\u001b[39m.csv\u001b[39;49m\u001b[39m'\u001b[39;49m,\n\u001b[1;32m      2\u001b[0m                        index_col\u001b[39m=\u001b[39;49m\u001b[39m'\u001b[39;49m\u001b[39mdate\u001b[39;49m\u001b[39m'\u001b[39;49m)\n\u001b[1;32m      3\u001b[0m lvl_file\u001b[39m.\u001b[39mindex \u001b[39m=\u001b[39m pd\u001b[39m.\u001b[39mto_datetime(lvl_file\u001b[39m.\u001b[39mindex)\n\u001b[1;32m      4\u001b[0m lvl_bs \u001b[39m=\u001b[39m heigh_bs\u001b[39m.\u001b[39mloc[gauge, \u001b[39m'\u001b[39m\u001b[39mheight\u001b[39m\u001b[39m'\u001b[39m]\n",
      "File \u001b[0;32m/opt/conda/lib/python3.10/site-packages/pandas/util/_decorators.py:211\u001b[0m, in \u001b[0;36mdeprecate_kwarg.<locals>._deprecate_kwarg.<locals>.wrapper\u001b[0;34m(*args, **kwargs)\u001b[0m\n\u001b[1;32m    209\u001b[0m     \u001b[39melse\u001b[39;00m:\n\u001b[1;32m    210\u001b[0m         kwargs[new_arg_name] \u001b[39m=\u001b[39m new_arg_value\n\u001b[0;32m--> 211\u001b[0m \u001b[39mreturn\u001b[39;00m func(\u001b[39m*\u001b[39;49margs, \u001b[39m*\u001b[39;49m\u001b[39m*\u001b[39;49mkwargs)\n",
      "File \u001b[0;32m/opt/conda/lib/python3.10/site-packages/pandas/util/_decorators.py:331\u001b[0m, in \u001b[0;36mdeprecate_nonkeyword_arguments.<locals>.decorate.<locals>.wrapper\u001b[0;34m(*args, **kwargs)\u001b[0m\n\u001b[1;32m    325\u001b[0m \u001b[39mif\u001b[39;00m \u001b[39mlen\u001b[39m(args) \u001b[39m>\u001b[39m num_allow_args:\n\u001b[1;32m    326\u001b[0m     warnings\u001b[39m.\u001b[39mwarn(\n\u001b[1;32m    327\u001b[0m         msg\u001b[39m.\u001b[39mformat(arguments\u001b[39m=\u001b[39m_format_argument_list(allow_args)),\n\u001b[1;32m    328\u001b[0m         \u001b[39mFutureWarning\u001b[39;00m,\n\u001b[1;32m    329\u001b[0m         stacklevel\u001b[39m=\u001b[39mfind_stack_level(),\n\u001b[1;32m    330\u001b[0m     )\n\u001b[0;32m--> 331\u001b[0m \u001b[39mreturn\u001b[39;00m func(\u001b[39m*\u001b[39;49margs, \u001b[39m*\u001b[39;49m\u001b[39m*\u001b[39;49mkwargs)\n",
      "File \u001b[0;32m/opt/conda/lib/python3.10/site-packages/pandas/io/parsers/readers.py:950\u001b[0m, in \u001b[0;36mread_csv\u001b[0;34m(filepath_or_buffer, sep, delimiter, header, names, index_col, usecols, squeeze, prefix, mangle_dupe_cols, dtype, engine, converters, true_values, false_values, skipinitialspace, skiprows, skipfooter, nrows, na_values, keep_default_na, na_filter, verbose, skip_blank_lines, parse_dates, infer_datetime_format, keep_date_col, date_parser, dayfirst, cache_dates, iterator, chunksize, compression, thousands, decimal, lineterminator, quotechar, quoting, doublequote, escapechar, comment, encoding, encoding_errors, dialect, error_bad_lines, warn_bad_lines, on_bad_lines, delim_whitespace, low_memory, memory_map, float_precision, storage_options)\u001b[0m\n\u001b[1;32m    935\u001b[0m kwds_defaults \u001b[39m=\u001b[39m _refine_defaults_read(\n\u001b[1;32m    936\u001b[0m     dialect,\n\u001b[1;32m    937\u001b[0m     delimiter,\n\u001b[0;32m   (...)\u001b[0m\n\u001b[1;32m    946\u001b[0m     defaults\u001b[39m=\u001b[39m{\u001b[39m\"\u001b[39m\u001b[39mdelimiter\u001b[39m\u001b[39m\"\u001b[39m: \u001b[39m\"\u001b[39m\u001b[39m,\u001b[39m\u001b[39m\"\u001b[39m},\n\u001b[1;32m    947\u001b[0m )\n\u001b[1;32m    948\u001b[0m kwds\u001b[39m.\u001b[39mupdate(kwds_defaults)\n\u001b[0;32m--> 950\u001b[0m \u001b[39mreturn\u001b[39;00m _read(filepath_or_buffer, kwds)\n",
      "File \u001b[0;32m/opt/conda/lib/python3.10/site-packages/pandas/io/parsers/readers.py:605\u001b[0m, in \u001b[0;36m_read\u001b[0;34m(filepath_or_buffer, kwds)\u001b[0m\n\u001b[1;32m    602\u001b[0m _validate_names(kwds\u001b[39m.\u001b[39mget(\u001b[39m\"\u001b[39m\u001b[39mnames\u001b[39m\u001b[39m\"\u001b[39m, \u001b[39mNone\u001b[39;00m))\n\u001b[1;32m    604\u001b[0m \u001b[39m# Create the parser.\u001b[39;00m\n\u001b[0;32m--> 605\u001b[0m parser \u001b[39m=\u001b[39m TextFileReader(filepath_or_buffer, \u001b[39m*\u001b[39;49m\u001b[39m*\u001b[39;49mkwds)\n\u001b[1;32m    607\u001b[0m \u001b[39mif\u001b[39;00m chunksize \u001b[39mor\u001b[39;00m iterator:\n\u001b[1;32m    608\u001b[0m     \u001b[39mreturn\u001b[39;00m parser\n",
      "File \u001b[0;32m/opt/conda/lib/python3.10/site-packages/pandas/io/parsers/readers.py:1442\u001b[0m, in \u001b[0;36mTextFileReader.__init__\u001b[0;34m(self, f, engine, **kwds)\u001b[0m\n\u001b[1;32m   1439\u001b[0m     \u001b[39mself\u001b[39m\u001b[39m.\u001b[39moptions[\u001b[39m\"\u001b[39m\u001b[39mhas_index_names\u001b[39m\u001b[39m\"\u001b[39m] \u001b[39m=\u001b[39m kwds[\u001b[39m\"\u001b[39m\u001b[39mhas_index_names\u001b[39m\u001b[39m\"\u001b[39m]\n\u001b[1;32m   1441\u001b[0m \u001b[39mself\u001b[39m\u001b[39m.\u001b[39mhandles: IOHandles \u001b[39m|\u001b[39m \u001b[39mNone\u001b[39;00m \u001b[39m=\u001b[39m \u001b[39mNone\u001b[39;00m\n\u001b[0;32m-> 1442\u001b[0m \u001b[39mself\u001b[39m\u001b[39m.\u001b[39m_engine \u001b[39m=\u001b[39m \u001b[39mself\u001b[39;49m\u001b[39m.\u001b[39;49m_make_engine(f, \u001b[39mself\u001b[39;49m\u001b[39m.\u001b[39;49mengine)\n",
      "File \u001b[0;32m/opt/conda/lib/python3.10/site-packages/pandas/io/parsers/readers.py:1735\u001b[0m, in \u001b[0;36mTextFileReader._make_engine\u001b[0;34m(self, f, engine)\u001b[0m\n\u001b[1;32m   1733\u001b[0m     \u001b[39mif\u001b[39;00m \u001b[39m\"\u001b[39m\u001b[39mb\u001b[39m\u001b[39m\"\u001b[39m \u001b[39mnot\u001b[39;00m \u001b[39min\u001b[39;00m mode:\n\u001b[1;32m   1734\u001b[0m         mode \u001b[39m+\u001b[39m\u001b[39m=\u001b[39m \u001b[39m\"\u001b[39m\u001b[39mb\u001b[39m\u001b[39m\"\u001b[39m\n\u001b[0;32m-> 1735\u001b[0m \u001b[39mself\u001b[39m\u001b[39m.\u001b[39mhandles \u001b[39m=\u001b[39m get_handle(\n\u001b[1;32m   1736\u001b[0m     f,\n\u001b[1;32m   1737\u001b[0m     mode,\n\u001b[1;32m   1738\u001b[0m     encoding\u001b[39m=\u001b[39;49m\u001b[39mself\u001b[39;49m\u001b[39m.\u001b[39;49moptions\u001b[39m.\u001b[39;49mget(\u001b[39m\"\u001b[39;49m\u001b[39mencoding\u001b[39;49m\u001b[39m\"\u001b[39;49m, \u001b[39mNone\u001b[39;49;00m),\n\u001b[1;32m   1739\u001b[0m     compression\u001b[39m=\u001b[39;49m\u001b[39mself\u001b[39;49m\u001b[39m.\u001b[39;49moptions\u001b[39m.\u001b[39;49mget(\u001b[39m\"\u001b[39;49m\u001b[39mcompression\u001b[39;49m\u001b[39m\"\u001b[39;49m, \u001b[39mNone\u001b[39;49;00m),\n\u001b[1;32m   1740\u001b[0m     memory_map\u001b[39m=\u001b[39;49m\u001b[39mself\u001b[39;49m\u001b[39m.\u001b[39;49moptions\u001b[39m.\u001b[39;49mget(\u001b[39m\"\u001b[39;49m\u001b[39mmemory_map\u001b[39;49m\u001b[39m\"\u001b[39;49m, \u001b[39mFalse\u001b[39;49;00m),\n\u001b[1;32m   1741\u001b[0m     is_text\u001b[39m=\u001b[39;49mis_text,\n\u001b[1;32m   1742\u001b[0m     errors\u001b[39m=\u001b[39;49m\u001b[39mself\u001b[39;49m\u001b[39m.\u001b[39;49moptions\u001b[39m.\u001b[39;49mget(\u001b[39m\"\u001b[39;49m\u001b[39mencoding_errors\u001b[39;49m\u001b[39m\"\u001b[39;49m, \u001b[39m\"\u001b[39;49m\u001b[39mstrict\u001b[39;49m\u001b[39m\"\u001b[39;49m),\n\u001b[1;32m   1743\u001b[0m     storage_options\u001b[39m=\u001b[39;49m\u001b[39mself\u001b[39;49m\u001b[39m.\u001b[39;49moptions\u001b[39m.\u001b[39;49mget(\u001b[39m\"\u001b[39;49m\u001b[39mstorage_options\u001b[39;49m\u001b[39m\"\u001b[39;49m, \u001b[39mNone\u001b[39;49;00m),\n\u001b[1;32m   1744\u001b[0m )\n\u001b[1;32m   1745\u001b[0m \u001b[39massert\u001b[39;00m \u001b[39mself\u001b[39m\u001b[39m.\u001b[39mhandles \u001b[39mis\u001b[39;00m \u001b[39mnot\u001b[39;00m \u001b[39mNone\u001b[39;00m\n\u001b[1;32m   1746\u001b[0m f \u001b[39m=\u001b[39m \u001b[39mself\u001b[39m\u001b[39m.\u001b[39mhandles\u001b[39m.\u001b[39mhandle\n",
      "File \u001b[0;32m/opt/conda/lib/python3.10/site-packages/pandas/io/common.py:856\u001b[0m, in \u001b[0;36mget_handle\u001b[0;34m(path_or_buf, mode, encoding, compression, memory_map, is_text, errors, storage_options)\u001b[0m\n\u001b[1;32m    851\u001b[0m \u001b[39melif\u001b[39;00m \u001b[39misinstance\u001b[39m(handle, \u001b[39mstr\u001b[39m):\n\u001b[1;32m    852\u001b[0m     \u001b[39m# Check whether the filename is to be opened in binary mode.\u001b[39;00m\n\u001b[1;32m    853\u001b[0m     \u001b[39m# Binary mode does not support 'encoding' and 'newline'.\u001b[39;00m\n\u001b[1;32m    854\u001b[0m     \u001b[39mif\u001b[39;00m ioargs\u001b[39m.\u001b[39mencoding \u001b[39mand\u001b[39;00m \u001b[39m\"\u001b[39m\u001b[39mb\u001b[39m\u001b[39m\"\u001b[39m \u001b[39mnot\u001b[39;00m \u001b[39min\u001b[39;00m ioargs\u001b[39m.\u001b[39mmode:\n\u001b[1;32m    855\u001b[0m         \u001b[39m# Encoding\u001b[39;00m\n\u001b[0;32m--> 856\u001b[0m         handle \u001b[39m=\u001b[39m \u001b[39mopen\u001b[39;49m(\n\u001b[1;32m    857\u001b[0m             handle,\n\u001b[1;32m    858\u001b[0m             ioargs\u001b[39m.\u001b[39;49mmode,\n\u001b[1;32m    859\u001b[0m             encoding\u001b[39m=\u001b[39;49mioargs\u001b[39m.\u001b[39;49mencoding,\n\u001b[1;32m    860\u001b[0m             errors\u001b[39m=\u001b[39;49merrors,\n\u001b[1;32m    861\u001b[0m             newline\u001b[39m=\u001b[39;49m\u001b[39m\"\u001b[39;49m\u001b[39m\"\u001b[39;49m,\n\u001b[1;32m    862\u001b[0m         )\n\u001b[1;32m    863\u001b[0m     \u001b[39melse\u001b[39;00m:\n\u001b[1;32m    864\u001b[0m         \u001b[39m# Binary mode\u001b[39;00m\n\u001b[1;32m    865\u001b[0m         handle \u001b[39m=\u001b[39m \u001b[39mopen\u001b[39m(handle, ioargs\u001b[39m.\u001b[39mmode)\n",
      "\u001b[0;31mFileNotFoundError\u001b[0m: [Errno 2] No such file or directory: './data/levels/final/9978.csv'"
     ]
    }
   ],
   "source": [
    "lvl_file = pd.read_csv(f'{level_storage}/{gauge}.csv',\n",
    "                       index_col='date')\n",
    "lvl_file.index = pd.to_datetime(lvl_file.index)\n",
    "lvl_bs = heigh_bs.loc[gauge, 'height']\n",
    "\n",
    "lvl_file['lvl_mbs'] = lvl_bs + lvl_file['level']* 1e-2  # type: ignore\n",
    "lvl_file = lvl_file.rename(columns={'level': 'lvl_sm'})\n",
    "lvl_file = lvl_file[~lvl_file.index.duplicated(keep='first')]\n",
    "lvl_file"
   ]
  },
  {
   "cell_type": "code",
   "execution_count": 23,
   "metadata": {},
   "outputs": [
    {
     "data": {
      "text/html": [
       "<div>\n",
       "<style scoped>\n",
       "    .dataframe tbody tr th:only-of-type {\n",
       "        vertical-align: middle;\n",
       "    }\n",
       "\n",
       "    .dataframe tbody tr th {\n",
       "        vertical-align: top;\n",
       "    }\n",
       "\n",
       "    .dataframe thead th {\n",
       "        text-align: right;\n",
       "    }\n",
       "</style>\n",
       "<table border=\"1\" class=\"dataframe\">\n",
       "  <thead>\n",
       "    <tr style=\"text-align: right;\">\n",
       "      <th></th>\n",
       "      <th>q_cms_s</th>\n",
       "      <th>q_mm_day</th>\n",
       "    </tr>\n",
       "    <tr>\n",
       "      <th>date</th>\n",
       "      <th></th>\n",
       "      <th></th>\n",
       "    </tr>\n",
       "  </thead>\n",
       "  <tbody>\n",
       "    <tr>\n",
       "      <th>2008-01-01</th>\n",
       "      <td>NaN</td>\n",
       "      <td>NaN</td>\n",
       "    </tr>\n",
       "    <tr>\n",
       "      <th>2008-01-02</th>\n",
       "      <td>NaN</td>\n",
       "      <td>NaN</td>\n",
       "    </tr>\n",
       "    <tr>\n",
       "      <th>2008-01-03</th>\n",
       "      <td>NaN</td>\n",
       "      <td>NaN</td>\n",
       "    </tr>\n",
       "    <tr>\n",
       "      <th>2008-01-04</th>\n",
       "      <td>NaN</td>\n",
       "      <td>NaN</td>\n",
       "    </tr>\n",
       "    <tr>\n",
       "      <th>2008-01-05</th>\n",
       "      <td>NaN</td>\n",
       "      <td>NaN</td>\n",
       "    </tr>\n",
       "    <tr>\n",
       "      <th>...</th>\n",
       "      <td>...</td>\n",
       "      <td>...</td>\n",
       "    </tr>\n",
       "    <tr>\n",
       "      <th>2020-12-27</th>\n",
       "      <td>1080.0</td>\n",
       "      <td>0.508497</td>\n",
       "    </tr>\n",
       "    <tr>\n",
       "      <th>2020-12-28</th>\n",
       "      <td>1080.0</td>\n",
       "      <td>0.508497</td>\n",
       "    </tr>\n",
       "    <tr>\n",
       "      <th>2020-12-29</th>\n",
       "      <td>1080.0</td>\n",
       "      <td>0.508497</td>\n",
       "    </tr>\n",
       "    <tr>\n",
       "      <th>2020-12-30</th>\n",
       "      <td>1070.0</td>\n",
       "      <td>0.503788</td>\n",
       "    </tr>\n",
       "    <tr>\n",
       "      <th>2020-12-31</th>\n",
       "      <td>1070.0</td>\n",
       "      <td>0.503788</td>\n",
       "    </tr>\n",
       "  </tbody>\n",
       "</table>\n",
       "<p>4749 rows × 2 columns</p>\n",
       "</div>"
      ],
      "text/plain": [
       "            q_cms_s  q_mm_day\n",
       "date                         \n",
       "2008-01-01      NaN       NaN\n",
       "2008-01-02      NaN       NaN\n",
       "2008-01-03      NaN       NaN\n",
       "2008-01-04      NaN       NaN\n",
       "2008-01-05      NaN       NaN\n",
       "...             ...       ...\n",
       "2020-12-27   1080.0  0.508497\n",
       "2020-12-28   1080.0  0.508497\n",
       "2020-12-29   1080.0  0.508497\n",
       "2020-12-30   1070.0  0.503788\n",
       "2020-12-31   1070.0  0.503788\n",
       "\n",
       "[4749 rows x 2 columns]"
      ]
     },
     "execution_count": 23,
     "metadata": {},
     "output_type": "execute_result"
    }
   ],
   "source": [
    "dis_file = pd.read_csv(f'{discharge_storage}/{gauge}.csv',\n",
    "                    index_col='date')\n",
    "dis_file.index = pd.to_datetime(dis_file.index)\n",
    "ws_area = geom_file.loc[gauge, 'new_area']\n",
    "dis_file['q_mm_day'] = (dis_file['discharge'] * 86400)/(ws_area * 1e3)\n",
    "dis_file = dis_file.rename(columns={'discharge': 'q_cms_s'})\n",
    "dis_file = dis_file[~dis_file.index.duplicated(keep='first')]\n",
    "dis_file"
   ]
  },
  {
   "cell_type": "code",
   "execution_count": 19,
   "metadata": {},
   "outputs": [],
   "source": [
    "hydro_storage = '/workspaces/my_dissertation/geo_data/great_db/hydro_meteo'"
   ]
  },
  {
   "cell_type": "code",
   "execution_count": 24,
   "metadata": {},
   "outputs": [],
   "source": [
    "for gauge in heigh_bs.index:\n",
    "    try:\n",
    "        m_bs = heigh_bs.loc[gauge, 'height']\n",
    "        lvl_file = pd.read_csv(f'{level_storage}/{gauge}.csv',\n",
    "                               index_col='date')\n",
    "        lvl_file.index = pd.to_datetime(lvl_file.index)\n",
    "        lvl_bs = heigh_bs.loc[gauge, 'height']\n",
    "        lvl_file['lvl_mbs'] = lvl_bs + \\\n",
    "            lvl_file['level'] * 1e-2  # type: ignore\n",
    "        lvl_file = lvl_file.rename(columns={'level': 'lvl_sm'})\n",
    "        lvl_file = lvl_file[~lvl_file.index.duplicated(keep='first')]\n",
    "        lvl_file.to_csv(\n",
    "            f'{hydro_storage}/h/{gauge}.csv')\n",
    "    except FileNotFoundError:\n",
    "        lvl_file = pd.DataFrame()\n",
    "        lvl_file['date'] = pd.date_range(start='01/01/2008',\n",
    "                                         end='12/31/2020')\n",
    "        lvl_file = lvl_file.set_index('date')\n",
    "        lvl_file['lvl_sm'] = np.NaN\n",
    "        lvl_file['lvl_mbs'] = np.NaN\n",
    "\n",
    "    try:\n",
    "        dis_file = pd.read_csv(f'{discharge_storage}/{gauge}.csv',\n",
    "                               index_col='date')\n",
    "        dis_file.index = pd.to_datetime(dis_file.index)\n",
    "        try:\n",
    "            ws_area = geom_file.loc[gauge, 'new_area']\n",
    "        except KeyError:\n",
    "            ws_area = np.NaN\n",
    "        dis_file['q_mm_day'] = (dis_file['discharge'] * 86400)/(ws_area * 1e3)\n",
    "        dis_file = dis_file.rename(columns={'discharge': 'q_cms_s'})\n",
    "        dis_file = dis_file[~dis_file.index.duplicated(keep='first')]\n",
    "        dis_file.to_csv(\n",
    "            f'{hydro_storage}/q/{gauge}.csv')\n",
    "    except FileNotFoundError:\n",
    "        dis_file = pd.DataFrame()\n",
    "        dis_file.index = pd.date_range(start='01/01/2008',\n",
    "                                       end='12/31/2020')\n",
    "        dis_file['date'] = pd.date_range(start='01/01/2008',\n",
    "                                         end='12/31/2020')\n",
    "        dis_file = dis_file.set_index('date')\n",
    "        dis_file['q_cms_s'] = np.NaN\n",
    "        dis_file['q_mm_day'] = np.NaN\n",
    "\n",
    "    res_file = pd.concat([dis_file, lvl_file], axis=1)\n",
    "    res_file = res_file[['lvl_sm', 'q_cms_s', 'lvl_mbs', 'q_mm_day']]\n",
    "    res_file.to_csv(\n",
    "        f'{hydro_storage}/q_h/{gauge}.csv')\n"
   ]
  },
  {
   "cell_type": "code",
   "execution_count": null,
   "metadata": {},
   "outputs": [],
   "source": []
  }
 ],
 "metadata": {
  "kernelspec": {
   "display_name": "geo",
   "language": "python",
   "name": "python3"
  },
  "language_info": {
   "codemirror_mode": {
    "name": "ipython",
    "version": 3
   },
   "file_extension": ".py",
   "mimetype": "text/x-python",
   "name": "python",
   "nbconvert_exporter": "python",
   "pygments_lexer": "ipython3",
   "version": "3.10.8"
  },
  "orig_nbformat": 4,
  "vscode": {
   "interpreter": {
    "hash": "3fd069221a77c881bc3b78d5bfa6805632a61c0f10e5686bbe4a92542924dee2"
   }
  }
 },
 "nbformat": 4,
 "nbformat_minor": 2
}
