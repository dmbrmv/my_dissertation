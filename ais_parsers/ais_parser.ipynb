{
 "cells": [
  {
   "cell_type": "code",
   "execution_count": 1,
   "metadata": {},
   "outputs": [],
   "source": [
    "%load_ext autoreload\n",
    "%autoreload 2"
   ]
  },
  {
   "cell_type": "code",
   "execution_count": 3,
   "metadata": {},
   "outputs": [],
   "source": [
    "import glob\n",
    "from pathlib import Path\n",
    "import pandas as pd\n",
    "import geopandas as gpd\n",
    "import numpy as np\n",
    "from tqdm.notebook import tqdm\n",
    "import sys\n",
    "sys.path.append('/home/anton/dima_experiments/my_dissertation')\n",
    "from input_creator.scripts.readers import ais_reader, file_by_district"
   ]
  },
  {
   "cell_type": "code",
   "execution_count": 22,
   "metadata": {},
   "outputs": [
    {
     "data": {
      "text/plain": [
       "537"
      ]
     },
     "execution_count": 22,
     "metadata": {},
     "output_type": "execute_result"
    }
   ],
   "source": [
    "len(glob.glob('/home/anton/dima_experiments/my_dissertation/conceptual_runs/cal_res/gr4j/*.csv'))"
   ]
  },
  {
   "cell_type": "code",
   "execution_count": null,
   "metadata": {},
   "outputs": [],
   "source": []
  },
  {
   "cell_type": "code",
   "execution_count": 5,
   "metadata": {},
   "outputs": [
    {
     "data": {
      "text/html": [
       "<div>\n",
       "<style scoped>\n",
       "    .dataframe tbody tr th:only-of-type {\n",
       "        vertical-align: middle;\n",
       "    }\n",
       "\n",
       "    .dataframe tbody tr th {\n",
       "        vertical-align: top;\n",
       "    }\n",
       "\n",
       "    .dataframe thead th {\n",
       "        text-align: right;\n",
       "    }\n",
       "</style>\n",
       "<table border=\"1\" class=\"dataframe\">\n",
       "  <thead>\n",
       "    <tr style=\"text-align: right;\">\n",
       "      <th></th>\n",
       "      <th>name_ru</th>\n",
       "      <th>name_en</th>\n",
       "      <th>new_area</th>\n",
       "      <th>ais_dif</th>\n",
       "      <th>geometry</th>\n",
       "    </tr>\n",
       "    <tr>\n",
       "      <th>gauge_id</th>\n",
       "      <th></th>\n",
       "      <th></th>\n",
       "      <th></th>\n",
       "      <th></th>\n",
       "      <th></th>\n",
       "    </tr>\n",
       "  </thead>\n",
       "  <tbody>\n",
       "    <tr>\n",
       "      <th>9002</th>\n",
       "      <td>р.Енисей - г.Кызыл</td>\n",
       "      <td>r.Enisej - g.Kyzyl</td>\n",
       "      <td>115263.989</td>\n",
       "      <td>0.230</td>\n",
       "      <td>POLYGON ((96.87792 53.72792, 96.87792 53.72708...</td>\n",
       "    </tr>\n",
       "    <tr>\n",
       "      <th>9022</th>\n",
       "      <td>р.Енисей - пос.Никитино</td>\n",
       "      <td>r.Enisej - pos.Nikitino</td>\n",
       "      <td>184499.118</td>\n",
       "      <td>1.373</td>\n",
       "      <td>POLYGON ((96.87792 53.72708, 96.88042 53.72708...</td>\n",
       "    </tr>\n",
       "    <tr>\n",
       "      <th>9053</th>\n",
       "      <td>р.Енисей - пос.Базаиха</td>\n",
       "      <td>r.Enisej - pos.Bazaiha</td>\n",
       "      <td>302690.417</td>\n",
       "      <td>0.897</td>\n",
       "      <td>POLYGON ((92.38292 56.11042, 92.38292 56.10958...</td>\n",
       "    </tr>\n",
       "    <tr>\n",
       "      <th>9112</th>\n",
       "      <td>р.Большой Енисей - с.Тоора-Хем</td>\n",
       "      <td>r.Bol'shoj Enisej - s.Toora-Hem</td>\n",
       "      <td>15448.834</td>\n",
       "      <td>0.969</td>\n",
       "      <td>POLYGON ((97.07125 52.71625, 97.07125 52.71542...</td>\n",
       "    </tr>\n",
       "    <tr>\n",
       "      <th>9115</th>\n",
       "      <td>р.Большой Енисей - пос.Сейба</td>\n",
       "      <td>r.Bol'shoj Enisej - pos.Sejba</td>\n",
       "      <td>44934.891</td>\n",
       "      <td>0.751</td>\n",
       "      <td>POLYGON ((96.87792 53.72708, 96.88042 53.72708...</td>\n",
       "    </tr>\n",
       "    <tr>\n",
       "      <th>...</th>\n",
       "      <td>...</td>\n",
       "      <td>...</td>\n",
       "      <td>...</td>\n",
       "      <td>...</td>\n",
       "      <td>...</td>\n",
       "    </tr>\n",
       "    <tr>\n",
       "      <th>11056</th>\n",
       "      <td>р.Иртыш - г.Тобольск</td>\n",
       "      <td>r.Irtysh - g.Tobol'sk</td>\n",
       "      <td>1540451.386</td>\n",
       "      <td>2.697</td>\n",
       "      <td>POLYGON ((65.28125 59.37208, 65.28125 59.37125...</td>\n",
       "    </tr>\n",
       "    <tr>\n",
       "      <th>11061</th>\n",
       "      <td>р.Иртыш - г.Ханты-Мансийск</td>\n",
       "      <td>r.Irtysh - g.Hanty-Mansijsk</td>\n",
       "      <td>1694019.131</td>\n",
       "      <td>2.668</td>\n",
       "      <td>POLYGON ((62.66375 61.80542, 62.66542 61.80542...</td>\n",
       "    </tr>\n",
       "    <tr>\n",
       "      <th>11801</th>\n",
       "      <td>р.Обь - г.Салехард</td>\n",
       "      <td>r.Ob' - g.Salehard</td>\n",
       "      <td>3004250.818</td>\n",
       "      <td>1.839</td>\n",
       "      <td>POLYGON ((66.69042 66.42875, 66.69042 66.42792...</td>\n",
       "    </tr>\n",
       "    <tr>\n",
       "      <th>10031</th>\n",
       "      <td>р.Обь - с.Белогорье</td>\n",
       "      <td>r.Ob' - s.Belogor'e</td>\n",
       "      <td>2738297.601</td>\n",
       "      <td>1.795</td>\n",
       "      <td>POLYGON ((74.80958 63.03958, 74.80958 63.03875...</td>\n",
       "    </tr>\n",
       "    <tr>\n",
       "      <th>2027</th>\n",
       "      <td>р.Берш - с.Пущино</td>\n",
       "      <td>r.Bersh - s.Puschino</td>\n",
       "      <td>67.694</td>\n",
       "      <td>3.843</td>\n",
       "      <td>POLYGON ((157.97708 54.05625, 157.97792 54.056...</td>\n",
       "    </tr>\n",
       "  </tbody>\n",
       "</table>\n",
       "<p>2080 rows × 5 columns</p>\n",
       "</div>"
      ],
      "text/plain": [
       "                                 name_ru                          name_en  \\\n",
       "gauge_id                                                                    \n",
       "9002                  р.Енисей - г.Кызыл               r.Enisej - g.Kyzyl   \n",
       "9022             р.Енисей - пос.Никитино          r.Enisej - pos.Nikitino   \n",
       "9053              р.Енисей - пос.Базаиха           r.Enisej - pos.Bazaiha   \n",
       "9112      р.Большой Енисей - с.Тоора-Хем  r.Bol'shoj Enisej - s.Toora-Hem   \n",
       "9115        р.Большой Енисей - пос.Сейба    r.Bol'shoj Enisej - pos.Sejba   \n",
       "...                                  ...                              ...   \n",
       "11056               р.Иртыш - г.Тобольск            r.Irtysh - g.Tobol'sk   \n",
       "11061         р.Иртыш - г.Ханты-Мансийск      r.Irtysh - g.Hanty-Mansijsk   \n",
       "11801                 р.Обь - г.Салехард               r.Ob' - g.Salehard   \n",
       "10031                р.Обь - с.Белогорье              r.Ob' - s.Belogor'e   \n",
       "2027                   р.Берш - с.Пущино             r.Bersh - s.Puschino   \n",
       "\n",
       "             new_area  ais_dif  \\\n",
       "gauge_id                         \n",
       "9002       115263.989    0.230   \n",
       "9022       184499.118    1.373   \n",
       "9053       302690.417    0.897   \n",
       "9112        15448.834    0.969   \n",
       "9115        44934.891    0.751   \n",
       "...               ...      ...   \n",
       "11056     1540451.386    2.697   \n",
       "11061     1694019.131    2.668   \n",
       "11801     3004250.818    1.839   \n",
       "10031     2738297.601    1.795   \n",
       "2027           67.694    3.843   \n",
       "\n",
       "                                                   geometry  \n",
       "gauge_id                                                     \n",
       "9002      POLYGON ((96.87792 53.72792, 96.87792 53.72708...  \n",
       "9022      POLYGON ((96.87792 53.72708, 96.88042 53.72708...  \n",
       "9053      POLYGON ((92.38292 56.11042, 92.38292 56.10958...  \n",
       "9112      POLYGON ((97.07125 52.71625, 97.07125 52.71542...  \n",
       "9115      POLYGON ((96.87792 53.72708, 96.88042 53.72708...  \n",
       "...                                                     ...  \n",
       "11056     POLYGON ((65.28125 59.37208, 65.28125 59.37125...  \n",
       "11061     POLYGON ((62.66375 61.80542, 62.66542 61.80542...  \n",
       "11801     POLYGON ((66.69042 66.42875, 66.69042 66.42792...  \n",
       "10031     POLYGON ((74.80958 63.03958, 74.80958 63.03875...  \n",
       "2027      POLYGON ((157.97708 54.05625, 157.97792 54.056...  \n",
       "\n",
       "[2080 rows x 5 columns]"
      ]
     },
     "execution_count": 5,
     "metadata": {},
     "output_type": "execute_result"
    }
   ],
   "source": [
    "russia_ws = gpd.read_file('/home/anton/dima_experiments/my_dissertation/geo_data/great_db/geometry/russia_ws.gpkg')\n",
    "russia_ws = russia_ws.set_index('gauge_id')\n",
    "russia_ws"
   ]
  },
  {
   "attachments": {},
   "cell_type": "markdown",
   "metadata": {},
   "source": [
    "# Parsing"
   ]
  },
  {
   "cell_type": "code",
   "execution_count": 6,
   "metadata": {},
   "outputs": [
    {
     "data": {
      "text/html": [
       "<div>\n",
       "<style scoped>\n",
       "    .dataframe tbody tr th:only-of-type {\n",
       "        vertical-align: middle;\n",
       "    }\n",
       "\n",
       "    .dataframe tbody tr th {\n",
       "        vertical-align: top;\n",
       "    }\n",
       "\n",
       "    .dataframe thead th {\n",
       "        text-align: right;\n",
       "    }\n",
       "</style>\n",
       "<table border=\"1\" class=\"dataframe\">\n",
       "  <thead>\n",
       "    <tr style=\"text-align: right;\">\n",
       "      <th></th>\n",
       "      <th>name</th>\n",
       "      <th>height</th>\n",
       "    </tr>\n",
       "    <tr>\n",
       "      <th>gauge_id</th>\n",
       "      <th></th>\n",
       "      <th></th>\n",
       "    </tr>\n",
       "  </thead>\n",
       "  <tbody>\n",
       "    <tr>\n",
       "      <th>7003</th>\n",
       "      <td>Голоустная - р.Голоустная - с.Большое Голоустное</td>\n",
       "      <td>466.03</td>\n",
       "    </tr>\n",
       "    <tr>\n",
       "      <th>7004</th>\n",
       "      <td>Бугульдейка - р.Бугульдейка - д.Большая Бугуль...</td>\n",
       "      <td>468.50</td>\n",
       "    </tr>\n",
       "    <tr>\n",
       "      <th>7006</th>\n",
       "      <td>Анга - р.Анга - с.Еланцы</td>\n",
       "      <td>465.73</td>\n",
       "    </tr>\n",
       "    <tr>\n",
       "      <th>7008</th>\n",
       "      <td>Рель - р.Рель - с.Байкальское</td>\n",
       "      <td>477.14</td>\n",
       "    </tr>\n",
       "    <tr>\n",
       "      <th>7009</th>\n",
       "      <td>ТЫЯ - р.Тыя - гп Тыя</td>\n",
       "      <td>504.99</td>\n",
       "    </tr>\n",
       "    <tr>\n",
       "      <th>...</th>\n",
       "      <td>...</td>\n",
       "      <td>...</td>\n",
       "    </tr>\n",
       "    <tr>\n",
       "      <th>1103</th>\n",
       "      <td>без названия - руч.Морозова - Водопадный</td>\n",
       "      <td>1166.74</td>\n",
       "    </tr>\n",
       "    <tr>\n",
       "      <th>5472</th>\n",
       "      <td>Мули - р.Мули - пос.Высокогорный</td>\n",
       "      <td>448.88</td>\n",
       "    </tr>\n",
       "    <tr>\n",
       "      <th>6059</th>\n",
       "      <td>Газимур - р.Газимур - Газимурский Завод</td>\n",
       "      <td>677.74</td>\n",
       "    </tr>\n",
       "    <tr>\n",
       "      <th>2211</th>\n",
       "      <td>Палана - р.Палана - пос.Палана</td>\n",
       "      <td>6.30</td>\n",
       "    </tr>\n",
       "    <tr>\n",
       "      <th>74422</th>\n",
       "      <td>ПРЕГОЛЯ - р.Преголя, рук.Дейма - г.Гвардейск</td>\n",
       "      <td>-5.17</td>\n",
       "    </tr>\n",
       "  </tbody>\n",
       "</table>\n",
       "<p>2814 rows × 2 columns</p>\n",
       "</div>"
      ],
      "text/plain": [
       "                                                       name   height\n",
       "gauge_id                                                            \n",
       "7003       Голоустная - р.Голоустная - с.Большое Голоустное   466.03\n",
       "7004      Бугульдейка - р.Бугульдейка - д.Большая Бугуль...   468.50\n",
       "7006                               Анга - р.Анга - с.Еланцы   465.73\n",
       "7008                          Рель - р.Рель - с.Байкальское   477.14\n",
       "7009                                   ТЫЯ - р.Тыя - гп Тыя   504.99\n",
       "...                                                     ...      ...\n",
       "1103               без названия - руч.Морозова - Водопадный  1166.74\n",
       "5472                       Мули - р.Мули - пос.Высокогорный   448.88\n",
       "6059                Газимур - р.Газимур - Газимурский Завод   677.74\n",
       "2211                         Палана - р.Палана - пос.Палана     6.30\n",
       "74422          ПРЕГОЛЯ - р.Преголя, рук.Дейма - г.Гвардейск    -5.17\n",
       "\n",
       "[2814 rows x 2 columns]"
      ]
     },
     "execution_count": 6,
     "metadata": {},
     "output_type": "execute_result"
    }
   ],
   "source": [
    "height_bs = pd.read_csv('./data/height_gauge.csv',\n",
    "                        index_col='gauge_id')\n",
    "height_bs"
   ]
  },
  {
   "cell_type": "markdown",
   "metadata": {},
   "source": [
    "### From by year to time series "
   ]
  },
  {
   "attachments": {},
   "cell_type": "markdown",
   "metadata": {},
   "source": [
    "#### Level"
   ]
  },
  {
   "cell_type": "code",
   "execution_count": 6,
   "metadata": {},
   "outputs": [],
   "source": [
    "file_by_district(all_files=glob.glob('./data/res_levels/*/*.csv'),\n",
    "                 height_bs=height_bs,\n",
    "                 save_storage='../geo_data/great_db/ais_data',\n",
    "                 variable_tag='h')"
   ]
  },
  {
   "attachments": {},
   "cell_type": "markdown",
   "metadata": {},
   "source": [
    "#### Discharge"
   ]
  },
  {
   "cell_type": "code",
   "execution_count": 7,
   "metadata": {},
   "outputs": [],
   "source": [
    "file_by_district(all_files=glob.glob('./data/res_discharge/*/*.csv'),\n",
    "                 height_bs=height_bs,\n",
    "                 save_storage='../geo_data/great_db/ais_data',\n",
    "                 variable_tag='q')"
   ]
  },
  {
   "attachments": {},
   "cell_type": "markdown",
   "metadata": {},
   "source": [
    "#### All together"
   ]
  },
  {
   "cell_type": "code",
   "execution_count": 8,
   "metadata": {},
   "outputs": [],
   "source": [
    "level_storage = '../geo_data/great_db/ais_data/h'\n",
    "discharge_storage = '../geo_data/great_db/ais_data/q'\n",
    "res_storage = '../geo_data/great_db/ais_data/q_h'"
   ]
  },
  {
   "cell_type": "code",
   "execution_count": 17,
   "metadata": {},
   "outputs": [
    {
     "data": {
      "text/plain": [
       "2814"
      ]
     },
     "execution_count": 17,
     "metadata": {},
     "output_type": "execute_result"
    }
   ],
   "source": [
    "len(glob.glob('../geo_data/great_db/ais_data/q_h/*.csv'))"
   ]
  },
  {
   "cell_type": "code",
   "execution_count": 18,
   "metadata": {},
   "outputs": [
    {
     "name": "stdout",
     "output_type": "stream",
     "text": [
      "Для поста 2253 нет площади ):\n",
      "Для поста 83333 нет площади ):\n",
      "Для поста 83335 нет площади ):\n",
      "Для поста 83801 нет площади ):\n",
      "Для поста 83809 нет площади ):\n",
      "Для поста 83813 нет площади ):\n",
      "Для поста 83818 нет площади ):\n",
      "Для поста 83829 нет площади ):\n",
      "Для поста 83833 нет площади ):\n",
      "Для поста 81562 нет площади ):\n",
      "Для поста 81565 нет площади ):\n",
      "Для поста 81580 нет площади ):\n",
      "Для поста 81581 нет площади ):\n",
      "Для поста 81592 нет площади ):\n",
      "Для поста 81593 нет площади ):\n",
      "Для поста 81597 нет площади ):\n",
      "Для поста 81600 нет площади ):\n",
      "Для поста 81602 нет площади ):\n",
      "Для поста 81604 нет площади ):\n",
      "Для поста 81616 нет площади ):\n",
      "Для поста 81640 нет площади ):\n",
      "Для поста 81648 нет площади ):\n",
      "Для поста 81674 нет площади ):\n",
      "Для поста 81677 нет площади ):\n",
      "Для поста 81686 нет площади ):\n",
      "Для поста 81691 нет площади ):\n",
      "Для поста 81692 нет площади ):\n",
      "Для поста 81693 нет площади ):\n",
      "Для поста 81694 нет площади ):\n",
      "Для поста 81697 нет площади ):\n",
      "Для поста 81717 нет площади ):\n",
      "Для поста 81724 нет площади ):\n",
      "Для поста 81730 нет площади ):\n",
      "Для поста 81737 нет площади ):\n",
      "Для поста 81741 нет площади ):\n",
      "Для поста 81745 нет площади ):\n",
      "Для поста 81748 нет площади ):\n",
      "Для поста 81750 нет площади ):\n",
      "Для поста 81753 нет площади ):\n",
      "Для поста 81757 нет площади ):\n",
      "Для поста 81767 нет площади ):\n",
      "Для поста 81772 нет площади ):\n",
      "Для поста 3426 нет площади ):\n",
      "Для поста 76133 нет площади ):\n",
      "Для поста 74804 нет площади ):\n",
      "Для поста 2278 нет площади ):\n",
      "Для поста 2280 нет площади ):\n",
      "Для поста 72590 нет площади ):\n",
      "Для поста 72740 нет площади ):\n",
      "Для поста 84804 нет площади ):\n",
      "Для поста 84806 нет площади ):\n",
      "Для поста 7042 нет площади ):\n",
      "Для поста 11548 нет площади ):\n",
      "Для поста 9582 нет площади ):\n",
      "Для поста 74422 нет площади ):\n"
     ]
    }
   ],
   "source": [
    "for gauge in height_bs.index:\n",
    "    lvl_file = pd.read_csv(f'{level_storage}/{gauge}.csv',\n",
    "                            index_col='date')\n",
    "    lvl_file.index = pd.to_datetime(lvl_file.index)\n",
    "    lvl_bs = height_bs.loc[gauge, 'height']\n",
    "    lvl_file['lvl_mbs'] = lvl_bs + \\\n",
    "        lvl_file['level'] * 1e-2  # type: ignore\n",
    "    lvl_file = lvl_file.rename(columns={'level': 'lvl_sm'})\n",
    "    try:\n",
    "        dis_file = pd.read_csv(f'{discharge_storage}/{gauge}.csv',\n",
    "                               index_col='date')\n",
    "        dis_file.index = pd.to_datetime(dis_file.index)\n",
    "        try:\n",
    "            ws_area = russia_ws.loc[f'{gauge}', 'new_area']\n",
    "        except KeyError:\n",
    "            print(f'Для поста {gauge} нет площади ):')\n",
    "            ws_area = np.NaN\n",
    "        dis_file['q_mm_day'] = (dis_file['discharge'] * 86400)/(ws_area * 1e3)\n",
    "        dis_file = dis_file.rename(columns={'discharge': 'q_cms_s'})\n",
    "        res_file = pd.concat([dis_file, lvl_file], axis=1)\n",
    "        res_file = res_file[['lvl_sm', 'q_cms_s', 'lvl_mbs', 'q_mm_day']]\n",
    "        \n",
    "    except Exception:\n",
    "        dis_file = pd.DataFrame()\n",
    "        dis_file.index = pd.date_range(start='01/01/2008',\n",
    "                                       end='12/31/2020')\n",
    "        dis_file['date'] = pd.date_range(start='01/01/2008',\n",
    "                                         end='12/31/2020')\n",
    "        dis_file = dis_file.set_index('date')\n",
    "        dis_file['q_cms_s'] = np.NaN\n",
    "        dis_file['q_mm_day'] = np.NaN\n",
    "        res_file = pd.concat([dis_file, lvl_file], axis=1)\n",
    "        res_file = res_file[['lvl_sm', 'q_cms_s', 'lvl_mbs', 'q_mm_day']]\n",
    "\n",
    "    res_file.to_csv(f'{res_storage}/{gauge}.csv')\n",
    "\n",
    "        "
   ]
  },
  {
   "cell_type": "code",
   "execution_count": null,
   "metadata": {},
   "outputs": [],
   "source": []
  }
 ],
 "metadata": {
  "kernelspec": {
   "display_name": "geo",
   "language": "python",
   "name": "python3"
  },
  "language_info": {
   "codemirror_mode": {
    "name": "ipython",
    "version": 3
   },
   "file_extension": ".py",
   "mimetype": "text/x-python",
   "name": "python",
   "nbconvert_exporter": "python",
   "pygments_lexer": "ipython3",
   "version": "3.10.9"
  },
  "orig_nbformat": 4,
  "vscode": {
   "interpreter": {
    "hash": "3fd069221a77c881bc3b78d5bfa6805632a61c0f10e5686bbe4a92542924dee2"
   }
  }
 },
 "nbformat": 4,
 "nbformat_minor": 2
}
