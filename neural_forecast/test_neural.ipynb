{
 "cells": [
  {
   "cell_type": "code",
   "execution_count": 1,
   "metadata": {},
   "outputs": [],
   "source": [
    "%load_ext autoreload\n",
    "%autoreload 2"
   ]
  },
  {
   "cell_type": "code",
   "execution_count": 10,
   "metadata": {},
   "outputs": [
    {
     "name": "stdout",
     "output_type": "stream",
     "text": [
      "Using device: cuda\n",
      "\n",
      "NVIDIA GeForce RTX 3080 Ti\n",
      "Memory Usage:\n",
      "Allocated: 0.0 GB\n",
      "Cached:    0.0 GB\n"
     ]
    }
   ],
   "source": [
    "import gc\n",
    "import glob\n",
    "import json\n",
    "import random\n",
    "from functools import lru_cache\n",
    "from pathlib import Path\n",
    "\n",
    "import geopandas as gpd\n",
    "import numpy as np\n",
    "import pandas as pd\n",
    "import torch\n",
    "import xarray as xr\n",
    "from neuralhydrology.evaluation import get_tester\n",
    "from neuralhydrology.nh_run import eval_run, start_run\n",
    "from neuralhydrology.utils.config import Config\n",
    "from scripts.file_manipulator import test_rewriter, train_rewriter\n",
    "from tqdm.notebook import tqdm\n",
    "\n",
    "\n",
    "@lru_cache\n",
    "def read_ws(gpkg_path):\n",
    "    ws_file = gpd.read_file(filename=gpkg_path)\n",
    "    ws_file = ws_file.set_index(\"gauge_id\")\n",
    "\n",
    "    return ws_file\n",
    "\n",
    "\n",
    "# setting device on GPU if available, else CPU\n",
    "device = torch.device(\"cuda\" if torch.cuda.is_available() else \"cpu\")\n",
    "print(\"Using device:\", device)\n",
    "print()\n",
    "\n",
    "# Additional Info when using cuda\n",
    "if device.type == \"cuda\":\n",
    "    print(torch.cuda.get_device_name(0))\n",
    "    print(\"Memory Usage:\")\n",
    "    print(\"Allocated:\", round(torch.cuda.memory_allocated(0) / 1024**3, 1), \"GB\")\n",
    "    print(\"Cached:   \", round(torch.cuda.memory_reserved(0) / 1024**3, 1), \"GB\")"
   ]
  },
  {
   "cell_type": "markdown",
   "metadata": {},
   "source": [
    "### Single gauge quality"
   ]
  },
  {
   "cell_type": "code",
   "execution_count": 3,
   "metadata": {},
   "outputs": [],
   "source": [
    "meteo_inputs = [\"prcp_mswep\", \"t_max_e5l\", \"t_min_e5l\"]\n",
    "\n",
    "# q_mm_day or lvl_sm\n",
    "hydro_target = \"q_mm_day\"\n",
    "static_parameters = [\n",
    "    \"for_pc_sse\",\n",
    "    \"crp_pc_sse\",\n",
    "    \"inu_pc_ult\",\n",
    "    \"ire_pc_sse\",\n",
    "    \"lka_pc_use\",\n",
    "    \"prm_pc_sse\",\n",
    "    \"pst_pc_sse\",\n",
    "    \"cly_pc_sav\",\n",
    "    \"slt_pc_sav\",\n",
    "    \"snd_pc_sav\",\n",
    "    \"kar_pc_sse\",\n",
    "    \"urb_pc_sse\",\n",
    "    \"gwt_cm_sav\",\n",
    "    \"lkv_mc_usu\",\n",
    "    \"rev_mc_usu\",\n",
    "    \"ws_area\",\n",
    "    \"ele_mt_sav\",\n",
    "]\n",
    "nc_variable = \"nc_all_q\"\n",
    "\n",
    "ws_file = read_ws(\"../geo_data/geometry/russia_ws.gpkg\")\n",
    "\n",
    "# time series directory\n",
    "ts_dir = Path(\"../geo_data/time_series\")"
   ]
  },
  {
   "cell_type": "code",
   "execution_count": null,
   "metadata": {},
   "outputs": [],
   "source": [
    "configs = list(\n",
    "    Path(\"./model_runs/single_gauge/\").glob(\"*/cudalstm_q_mm_day*/config.yml\")\n",
    ")\n",
    "\n",
    "for cfg_path in tqdm(configs):\n",
    "    gauge_id = cfg_path.parents[1].stem\n",
    "    train_rewriter(\n",
    "        era_pathes=glob.glob(f\"../geo_data/ws_related_meteo/{nc_variable}/*.nc\"),\n",
    "        ts_dir=ts_dir,\n",
    "        hydro_target=hydro_target,\n",
    "        area_index=[gauge_id],\n",
    "        predictors=[*meteo_inputs],\n",
    "        possible_nans=1,\n",
    "    )\n",
    "    cfg = Config(cfg_path)\n",
    "    eval_run(run_dir=cfg.run_dir, period=\"test\", epoch=30)"
   ]
  },
  {
   "cell_type": "code",
   "execution_count": null,
   "metadata": {},
   "outputs": [],
   "source": []
  },
  {
   "cell_type": "code",
   "execution_count": null,
   "metadata": {},
   "outputs": [],
   "source": []
  },
  {
   "cell_type": "code",
   "execution_count": null,
   "metadata": {},
   "outputs": [],
   "source": []
  },
  {
   "cell_type": "code",
   "execution_count": null,
   "metadata": {},
   "outputs": [],
   "source": []
  },
  {
   "cell_type": "code",
   "execution_count": null,
   "metadata": {},
   "outputs": [],
   "source": []
  },
  {
   "cell_type": "code",
   "execution_count": null,
   "metadata": {},
   "outputs": [],
   "source": []
  },
  {
   "cell_type": "markdown",
   "metadata": {},
   "source": [
    "### Kge Loss Test"
   ]
  },
  {
   "cell_type": "code",
   "execution_count": 4,
   "metadata": {},
   "outputs": [
    {
     "ename": "NameError",
     "evalue": "name 'BaseLoss' is not defined",
     "output_type": "error",
     "traceback": [
      "\u001b[0;31m---------------------------------------------------------------------------\u001b[0m",
      "\u001b[0;31mNameError\u001b[0m                                 Traceback (most recent call last)",
      "Cell \u001b[0;32mIn[4], line 1\u001b[0m\n\u001b[0;32m----> 1\u001b[0m \u001b[38;5;28;01mclass\u001b[39;00m \u001b[38;5;21;01mKGELoss\u001b[39;00m(\u001b[43mBaseLoss\u001b[49m):\n\u001b[1;32m      2\u001b[0m \u001b[38;5;250m    \u001b[39m\u001b[38;5;124;03m\"\"\"_summary_\u001b[39;00m\n\u001b[1;32m      3\u001b[0m \n\u001b[1;32m      4\u001b[0m \u001b[38;5;124;03m    Args:\u001b[39;00m\n\u001b[1;32m      5\u001b[0m \u001b[38;5;124;03m        BaseLoss (_type_): _description_\u001b[39;00m\n\u001b[1;32m      6\u001b[0m \u001b[38;5;124;03m    \"\"\"\u001b[39;00m\n\u001b[1;32m      8\u001b[0m     \u001b[38;5;28;01mdef\u001b[39;00m \u001b[38;5;21m__init__\u001b[39m(\u001b[38;5;28mself\u001b[39m, cfg: Config, eps: \u001b[38;5;28mfloat\u001b[39m \u001b[38;5;241m=\u001b[39m \u001b[38;5;241m0.1\u001b[39m):\n",
      "\u001b[0;31mNameError\u001b[0m: name 'BaseLoss' is not defined"
     ]
    }
   ],
   "source": [
    "class KGELoss(BaseLoss):\n",
    "    \"\"\"_summary_\n",
    "\n",
    "    Args:\n",
    "        BaseLoss (_type_): _description_\n",
    "    \"\"\"\n",
    "\n",
    "    def __init__(self, cfg: Config, eps: float = 0.1):\n",
    "        super(KGELoss, self).__init__(\n",
    "            cfg,\n",
    "            prediction_keys=[\"y_hat\"],\n",
    "            ground_truth_keys=[\"y\"],\n",
    "            additional_data=[\"per_basin_target_stds\"],\n",
    "        )\n",
    "        self.eps = eps\n",
    "\n",
    "    def _get_loss(\n",
    "        self,\n",
    "        prediction: Dict[str, torch.Tensor],\n",
    "        ground_truth: Dict[str, torch.Tensor],\n",
    "        **kwargs,\n",
    "    ):\n",
    "        mask = ~torch.isnan(ground_truth[\"y\"])\n",
    "        y_hat = prediction[\"y_hat\"][mask]\n",
    "        y = ground_truth[\"y\"][mask]\n",
    "\n",
    "        y_mean = torch.mean(y)\n",
    "        y_hat_mean = torch.mean(y_hat)\n",
    "\n",
    "        r_num = torch.sum((y - y_mean) * (y_hat - y_hat_mean),\n",
    "                          dim=0, keepdim=True)\n",
    "        r_den = torch.sqrt(\n",
    "            torch.sum((y - y_hat_mean) ** 2, dim=0, keepdim=True)\n",
    "            * torch.sum(\n",
    "                (y_hat - y_mean) ** 2,\n",
    "            )\n",
    "        )\n",
    "        r = r_num / r_den\n",
    "\n",
    "        # calculate error in spread of flow alpha\n",
    "        alpha = torch.std(y, dim=0, keepdim=True) / torch.std(y_hat)\n",
    "        # calculate error in volume beta (bias of mean discharge)\n",
    "        beta = torch.sum(y, dim=0, keepdim=True) / torch.sum(y_hat)\n",
    "        # calculate the Kling-Gupta Efficiency KGE\n",
    "        kge_ = 1 - torch.sqrt((r - 1) ** 2 + (alpha - 1)\n",
    "                              ** 2 + (beta - 1) ** 2)\n",
    "\n",
    "        return kge_\n",
    "\n",
    "    @staticmethod\n",
    "    def _subset_additional_data(\n",
    "        additional_data: Dict[str, torch.Tensor], n_target: int\n",
    "    ) -> Dict[str, torch.Tensor]:\n",
    "        # here we need to subset the per_basin_target_stds. We slice to keep the shape of [bs, seq, 1]\n",
    "        return {\n",
    "            key: value[:, :, n_target: n_target + 1]\n",
    "            for key, value in additional_data.items()\n",
    "        }"
   ]
  },
  {
   "cell_type": "code",
   "execution_count": 7,
   "metadata": {},
   "outputs": [],
   "source": [
    "test_data = pd.read_csv(\"../conclusions/results/lstm_static/10044.csv\")\n",
    "y = torch.from_numpy(test_data[\"q_mm_day_obs\"].values)\n",
    "y_hat = torch.from_numpy(test_data[\"q_mm_day_sim\"].values)"
   ]
  },
  {
   "cell_type": "code",
   "execution_count": 41,
   "metadata": {},
   "outputs": [
    {
     "data": {
      "text/plain": [
       "tensor([0.8760], dtype=torch.float64)"
      ]
     },
     "execution_count": 41,
     "metadata": {},
     "output_type": "execute_result"
    }
   ],
   "source": [
    "y_mean = torch.mean(y)\n",
    "y_hat_mean = torch.mean(y_hat)\n",
    "\n",
    "r_num = torch.sum((y - y_mean) * (y_hat - y_hat_mean), dim=0, keepdim=True)\n",
    "r_den = torch.sqrt(\n",
    "    torch.sum((y - y_hat_mean) ** 2, dim=0, keepdim=True)\n",
    "    * torch.sum(\n",
    "        (y_hat - y_mean) ** 2,\n",
    "    )\n",
    ")\n",
    "r = r_num / r_den\n",
    "\n",
    "# calculate error in spread of flow alpha\n",
    "alpha = torch.std(y, dim=0, keepdim=True) / torch.std(y_hat)\n",
    "# calculate error in volume beta (bias of mean discharge)\n",
    "beta = torch.sum(y, dim=0, keepdim=True) / torch.sum(y_hat)\n",
    "# calculate the Kling-Gupta Efficiency KGE\n",
    "kge_ = 1 - torch.sqrt((r - 1) ** 2 + (alpha - 1) ** 2 + (beta - 1) ** 2)\n",
    "\n",
    "kge_"
   ]
  },
  {
   "cell_type": "code",
   "execution_count": 38,
   "metadata": {},
   "outputs": [],
   "source": [
    "def kge(predictions, targets):\n",
    "    sim_mean = np.mean(predictions, axis=0)\n",
    "    obs_mean = np.mean(targets)\n",
    "\n",
    "    r_num = np.sum((targets - sim_mean) * (predictions - obs_mean), axis=0)\n",
    "    r_den = np.sqrt(\n",
    "        np.sum((targets - sim_mean) ** 2, axis=0)\n",
    "        * np.sum(\n",
    "            (predictions - obs_mean) ** 2,\n",
    "        )\n",
    "    )\n",
    "    r = r_num / r_den\n",
    "    # calculate error in spread of flow alpha\n",
    "    alpha = np.std(targets, axis=0) / np.std(predictions)\n",
    "    # calculate error in volume beta (bias of mean discharge)\n",
    "    beta = np.sum(targets, axis=0) / np.sum(predictions)\n",
    "    # calculate the Kling-Gupta Efficiency KGE\n",
    "    kge_ = 1 - np.sqrt((r - 1) ** 2 + (alpha - 1) ** 2 + (beta - 1) ** 2)\n",
    "\n",
    "    return kge_, r, alpha, beta"
   ]
  },
  {
   "cell_type": "code",
   "execution_count": 39,
   "metadata": {},
   "outputs": [
    {
     "data": {
      "text/plain": [
       "(0.8711119626076467, 0.9320547578700302, 1.0654693685157903, 1.087802802010506)"
      ]
     },
     "execution_count": 39,
     "metadata": {},
     "output_type": "execute_result"
    }
   ],
   "source": [
    "import numpy as np\n",
    "\n",
    "kge(predictions=test_data[\"q_mm_day_sim\"], targets=test_data[\"q_mm_day_obs\"])"
   ]
  },
  {
   "cell_type": "code",
   "execution_count": 18,
   "metadata": {},
   "outputs": [
    {
     "data": {
      "image/png": "[encoded data removed]",
      "text/plain": [
       "<Figure size 640x480 with 1 Axes>"
      ]
     },
     "metadata": {},
     "output_type": "display_data"
    }
   ],
   "source": [
    "test_data.plot()"
   ]
  },
  {
   "cell_type": "markdown",
   "metadata": {},
   "source": [
    "### Prepare data with no misses on discharge and level"
   ]
  },
  {
   "cell_type": "code",
   "execution_count": null,
   "metadata": {},
   "outputs": [],
   "source": [
    "def xr_opener(file):\n",
    "    ds = xr.open_dataset(file)\n",
    "    if \"index\" in ds.coords:\n",
    "        ds = ds.rename({\"index\": \"date\"})\n",
    "    return ds\n",
    "\n",
    "\n",
    "files = glob.glob(f\"../geo_data/great_db/nc_concat/*.nc\")\n",
    "big_file = xr.concat([xr_opener(file) for file in files], dim=\"gauge_id\")\n",
    "for gauge in (\n",
    "    big_file[[\"q_mm_day\", \"lvl_mbs\"]].dropna(dim=\"gauge_id\")[\"gauge_id\"].values\n",
    "):\n",
    "    ds = big_file.sel(gauge_id=gauge)\n",
    "    ds.to_netcdf(f\"../geo_data/great_db/nc_all_q_h/{gauge}.nc\")"
   ]
  },
  {
   "cell_type": "markdown",
   "metadata": {},
   "source": [
    "### Prepare name lists for used variables and read geometry"
   ]
  },
  {
   "cell_type": "code",
   "execution_count": 4,
   "metadata": {},
   "outputs": [],
   "source": [
    "era_input = [\"prcp_e5l\", \"t_max_e5l\", \"t_min_e5l\"]\n",
    "# q_mm_day or lvl_mbs or lvl_sm\n",
    "hydro_target = \"lvl_sm\"\n",
    "q_h_relation = False\n",
    "\n",
    "if (hydro_target == \"lvl_mbs\") | (hydro_target == \"lvl_sm\"):\n",
    "    static_parameters = [\n",
    "        \"for_pc_sse\",\n",
    "        \"crp_pc_sse\",\n",
    "        \"inu_pc_ult\",\n",
    "        \"ire_pc_sse\",\n",
    "        \"lka_pc_use\",\n",
    "        \"prm_pc_sse\",\n",
    "        \"pst_pc_sse\",\n",
    "        \"cly_pc_sav\",\n",
    "        \"slt_pc_sav\",\n",
    "        \"snd_pc_sav\",\n",
    "        \"kar_pc_sse\",\n",
    "        \"urb_pc_sse\",\n",
    "        \"gwt_cm_sav\",\n",
    "        \"lkv_mc_usu\",\n",
    "        \"rev_mc_usu\",\n",
    "        \"sgr_dk_sav\",\n",
    "        \"slp_dg_sav\",\n",
    "        \"ws_area\",\n",
    "        \"ele_mt_sav\",\n",
    "        \"height_bs\",\n",
    "    ]\n",
    "    nc_variable = \"nc_all_h\"\n",
    "    if q_h_relation:\n",
    "        nc_variable = \"nc_all_q_h\"\n",
    "else:\n",
    "    static_parameters = [\n",
    "        \"for_pc_sse\",\n",
    "        \"crp_pc_sse\",\n",
    "        \"inu_pc_ult\",\n",
    "        \"ire_pc_sse\",\n",
    "        \"lka_pc_use\",\n",
    "        \"prm_pc_sse\",\n",
    "        \"pst_pc_sse\",\n",
    "        \"cly_pc_sav\",\n",
    "        \"slt_pc_sav\",\n",
    "        \"snd_pc_sav\",\n",
    "        \"kar_pc_sse\",\n",
    "        \"urb_pc_sse\",\n",
    "        \"gwt_cm_sav\",\n",
    "        \"lkv_mc_usu\",\n",
    "        \"rev_mc_usu\",\n",
    "        \"sgr_dk_sav\",\n",
    "        \"slp_dg_sav\",\n",
    "        \"ws_area\",\n",
    "        \"ele_mt_sav\",\n",
    "    ]\n",
    "    nc_variable = \"nc_all_q\"\n",
    "\n",
    "ws_file = gpd.read_file(\"../geo_data/great_db/geometry/russia_ws.gpkg\")\n",
    "ws_file = ws_file.set_index(\"gauge_id\")"
   ]
  },
  {
   "cell_type": "markdown",
   "metadata": {},
   "source": [
    "### Data preparation description\n",
    "\n",
    "#### Store in **time_series** directory every necessary file for train procedure\n",
    "It stores data about predictors (**prcp_e5l, t_max_e5l, t_min_e5l**) and predicats (**q_mm_day**)\n",
    "\n",
    "Design of the model builded up on **two** steps:\n",
    "\n",
    "**first**: create LSTM to predict future discharge (**q_mm_day**)\n",
    "\n",
    "**second**: create LSTM to predict future level (**lvl_mbs**) with information about predicted (**q_mm_day**) and (**prcp_e5l, t_max_e5l, t_min_e5l**)\n",
    "<br/><br/>\n",
    "\n",
    "This model allows to inference with cmip meteo data\n",
    "\n",
    "(**precipitation_{model}, daily_maximum_near_surface_air_temperature_{model}, daily_minimum_near_surface_air_temperature_{model}**)\n",
    "\n",
    "and previously predicted (**q_mm_day**)"
   ]
  },
  {
   "cell_type": "code",
   "execution_count": 5,
   "metadata": {},
   "outputs": [],
   "source": [
    "with open(\"./cmip_ranks.json\") as json_file:\n",
    "    cmip_models = json.load(json_file)\n",
    "cmip_models = list(cmip_models.values())\n",
    "\n",
    "meteo_inputs = dict()\n",
    "for model in cmip_models:\n",
    "    meteo_inputs[model] = [\n",
    "        f\"precipitation_{model}\",\n",
    "        f\"daily_maximum_near_surface_air_temperature_{model}\",\n",
    "        f\"daily_minimum_near_surface_air_temperature_{model}\",\n",
    "    ]\n",
    "# time series directory\n",
    "ts_dir = Path(\"../geo_data/time_series\")"
   ]
  },
  {
   "cell_type": "markdown",
   "metadata": {},
   "source": [
    "### NeuralHydrology train data\n",
    "Relies on config file. **Main** attention should be payed to **data_dir** argument\n",
    "This folder is the reference to place where all required data are stored\n",
    "\n",
    "<br><br/>\n",
    "Framework automaticcally seek for **time_series** folder which should contain data **for each gauge** in desired experiment\n",
    "and has all available meteo data in **.nc** format\n",
    "\n",
    "To inlude static parameters **data_dir** should also has **attributes** folder with **.csv** file for each used gauge as an index of this file\n",
    "\n"
   ]
  },
  {
   "cell_type": "code",
   "execution_count": null,
   "metadata": {},
   "outputs": [],
   "source": [
    "# write files for train procedure\n",
    "print(f\"train data for {hydro_target} with {nc_variable} initial data\")\n",
    "train_rewriter(\n",
    "    era_pathes=glob.glob(f\"../geo_data/great_db/{nc_variable}/*.nc\"),\n",
    "    ts_dir=ts_dir,\n",
    "    hydro_target=hydro_target,\n",
    "    area_index=ws_file.index,\n",
    "    predictors=era_input,\n",
    ")"
   ]
  },
  {
   "cell_type": "markdown",
   "metadata": {},
   "source": [
    "### Config setup\n",
    "\n",
    "Here we define files for **train**, **validation** and **test**\n",
    "\n",
    "It's possible to use different gauges for certain steps of model learn procedure,\n",
    "\n",
    "but in this example we'll use every possible gauge and split it **not in space**, but with **different time periods**\n",
    "\n",
    "'**train_start_date**': '01/01/2009',\n",
    "\n",
    "'**train_end_date**': '31/12/2016',\n",
    "\n",
    "'**validation_start_date**': '01/01/2017',\n",
    "\n",
    "'**validation_end_date**': '31/12/2018',\n",
    "\n",
    "'**test_start_date**': '01/01/2019',\n",
    "\n",
    "'**test_end_date**': '31/12/2020'\n"
   ]
  },
  {
   "cell_type": "code",
   "execution_count": null,
   "metadata": {},
   "outputs": [],
   "source": [
    "# define variables require to perform hindcast\n",
    "gauges = [file.split(\"/\")[-1][:-3] for file in glob.glob(f\"{ts_dir}/*.nc\")]\n",
    "random.shuffle(gauges)\n",
    "gauge_size = len(gauges)\n",
    "\n",
    "# with open('./every_basin.txt', 'w') as the_file:\n",
    "#     for gauge_name in gauges:\n",
    "#         the_file.write(f'{gauge_name}\\n')\n",
    "\n",
    "train_gauges = gauges[: int(len(gauges) * 0.8)]\n",
    "with open(\"./basins_train.txt\", \"w\") as the_file:\n",
    "    for gauge_name in train_gauges:\n",
    "        the_file.write(f\"{gauge_name}\\n\")\n",
    "\n",
    "val_gauges = gauges[\n",
    "    int(gauge_size * 0.8): int(gauge_size * 0.8) + int(gauge_size * 0.1)\n",
    "]\n",
    "with open(\"./basins_val.txt\", \"w\") as the_file:\n",
    "    for gauge_name in val_gauges:\n",
    "        the_file.write(f\"{gauge_name}\\n\")\n",
    "\n",
    "test_gauges = gauges[int(gauge_size * 0.8) + int(gauge_size * 0.1):]\n",
    "with open(\"./basins_test.txt\", \"w\") as the_file:\n",
    "    for gauge_name in test_gauges:\n",
    "        the_file.write(f\"{gauge_name}\\n\")\n",
    "\n",
    "cfg = Config(Path(\"./model_config.yml\"))\n",
    "# base model type [cudalstm, customlstm, ealstm, embcudalstm, mtslstm, gru, transformer]\n",
    "# (has to match the if statement in modelzoo/__init__.py)\n",
    "model_name = \"cudalstm\"\n",
    "cfg.update_config(\n",
    "    yml_path_or_dict={\n",
    "        # define storage and experiment\n",
    "        \"experiment_name\": f\"{model_name}_{hydro_target}\",\n",
    "        \"model\": f\"{model_name}\",\n",
    "        \"run_dir\": \"./\",\n",
    "        \"data_dir\": \"../geo_data/\",\n",
    "        # define inner parameters\n",
    "        \"static_attributes\": static_parameters,\n",
    "        \"dynamic_inputs\": era_input,\n",
    "        # 'hindcast_inputs': era_input,\n",
    "        # 'forecast_inputs': era_input,\n",
    "        \"target_variables\": [hydro_target],\n",
    "        # 'dynamics_embedding': {'type': 'fc', 'hiddens': [128, 64, 256],\n",
    "        #                       'activation': 'tanh', 'dropout': 0.2},\n",
    "        # 'statics_embedding': {'type': 'fc', 'hiddens': [128, 64, 256],\n",
    "        #                      'activation': 'tanh', 'dropout': 0.2},\n",
    "        # define files with gauge data\n",
    "        \"train_basin_file\": \"./every_basin.txt\",\n",
    "        \"validate_n_random_basins\": gauge_size,\n",
    "        \"validation_basin_file\": \"./every_basin.txt\",\n",
    "        \"test_basin_file\": \"./every_basin.txt\",\n",
    "        # define time periods\n",
    "        # 'seq_length': 14,\n",
    "        # 'forecast_seq_length': 10,\n",
    "        \"train_start_date\": \"01/01/2009\",\n",
    "        \"train_end_date\": \"31/12/2016\",\n",
    "        \"validation_start_date\": \"01/01/2017\",\n",
    "        \"validation_end_date\": \"31/12/2018\",\n",
    "        \"test_start_date\": \"01/01/2019\",\n",
    "        \"test_end_date\": \"31/12/2020\",\n",
    "    }\n",
    ")\n",
    "cfg.dump_config(\n",
    "    folder=Path(\"./launch_configs\"), filename=f\"{model_name}_{hydro_target}.yml\"\n",
    ")"
   ]
  },
  {
   "cell_type": "code",
   "execution_count": null,
   "metadata": {},
   "outputs": [],
   "source": [
    "if torch.cuda.is_available():\n",
    "    start_run(config_file=Path(\n",
    "        f\"./launch_configs/{model_name}_{hydro_target}.yml\"))"
   ]
  },
  {
   "cell_type": "markdown",
   "metadata": {},
   "source": [
    "### Test setup\n",
    "\n",
    "Main idea is to just replace meteo input from **era** with the **cmip's**\n",
    "\n",
    "So the learned weights of **era** model will be used with **cmip's** data\n",
    "\n",
    "\n",
    "We rewrite files in **time_series** directory \n",
    "with data for **desired** gauges and new **dynamic_inputs** from selected **cmip**"
   ]
  },
  {
   "cell_type": "code",
   "execution_count": 19,
   "metadata": {},
   "outputs": [
    {
     "name": "stdout",
     "output_type": "stream",
     "text": [
      "test data for lvl_sm with nc_all_h initial data\n"
     ]
    }
   ],
   "source": [
    "# get cmips\n",
    "cmip_path = \"../geo_data/cmip_concat_new/ssp_2_4_5/\"\n",
    "obs_pathes = glob.glob(\"../geo_data/great_db/nc_all_q_h/*.nc\")\n",
    "# get gauge id's\n",
    "with open(\"./delete_me_test.txt\", \"r\") as f:\n",
    "    res = [line.strip() for line in f]\n",
    "f.close()\n",
    "\n",
    "# write files for test procedure\n",
    "print(f\"test data for {hydro_target} with {nc_variable} initial data\")\n",
    "test_rewriter(\n",
    "    train_with_obs=obs_pathes,\n",
    "    cmip_storage=cmip_path,\n",
    "    test_index=res,\n",
    "    predictors=meteo_inputs[\"ec_earth3_veg_lr\"],\n",
    "    era_names=era_input,\n",
    "    ts_dir=ts_dir,\n",
    ")"
   ]
  },
  {
   "cell_type": "markdown",
   "metadata": {},
   "source": [
    "Update config that we get from **train** procedure\n",
    "\n",
    "with new **dynamic_iputs** from selected **cmip** and and new **test_start_date** and **test_end_date**"
   ]
  },
  {
   "cell_type": "code",
   "execution_count": 20,
   "metadata": {},
   "outputs": [],
   "source": [
    "cfg = Config(Path(\"./model_runs/cudalstm_lvl_sm_0809_073042/config.yml\"))\n",
    "# cfg.update_config(yml_path_or_dict = {'test_basin_file': '/workspaces/my_dissertation/neural_forecast/delete_me_test.txt',\n",
    "#                                       'test_start_date': '01/01/2018',\n",
    "#                                       'test_end_date': '31/12/2020',\n",
    "#                                       'dynamic_inputs': meteo_inputs['ec_earth3_veg_lr']})\n",
    "cfg.update_config(\n",
    "    yml_path_or_dict={\n",
    "        \"test_basin_file\": \"/workspaces/my_dissertation/neural_forecast/delete_me_test.txt\",\n",
    "        \"test_start_date\": \"01/01/2018\",\n",
    "        \"test_end_date\": \"31/12/2025\",\n",
    "    }\n",
    ")"
   ]
  },
  {
   "cell_type": "markdown",
   "metadata": {},
   "source": [
    "Run **test** on selected gauge"
   ]
  },
  {
   "cell_type": "code",
   "execution_count": 21,
   "metadata": {},
   "outputs": [
    {
     "name": "stdout",
     "output_type": "stream",
     "text": [
      "# Evaluation:   0%|          | 0/3 [00:00<?, ?it/s]"
     ]
    },
    {
     "name": "stdout",
     "output_type": "stream",
     "text": [
      "# Evaluation: 100%|██████████| 3/3 [00:01<00:00,  1.90it/s]\n"
     ]
    }
   ],
   "source": [
    "tester = get_tester(cfg=cfg, run_dir=cfg.run_dir,\n",
    "                    period=\"test\", init_model=True)\n",
    "pred_results = tester.evaluate(epoch=22, save_results=False)"
   ]
  },
  {
   "cell_type": "code",
   "execution_count": 23,
   "metadata": {},
   "outputs": [
    {
     "data": {
      "image/png": "[encoded data removed]",
      "text/plain": [
       "<Figure size 640x480 with 1 Axes>"
      ]
     },
     "metadata": {},
     "output_type": "display_data"
    }
   ],
   "source": [
    "pred_results[\"1151\"][\"1D\"][\"xr\"].to_dataframe().droplevel(1).plot()"
   ]
  },
  {
   "cell_type": "markdown",
   "metadata": {},
   "source": [
    "### Run ready models to get result (different meteo input)"
   ]
  },
  {
   "cell_type": "code",
   "execution_count": 18,
   "metadata": {},
   "outputs": [],
   "source": [
    "configs = list(Path(\"./model_runs/\").glob(\"cudalstm_q_mm_day*/config.yml\"))\n",
    "configs_names = [str(i).split(\"/\")[1].split(\"_no\")[0] for i in configs]\n",
    "best_epochs = [24, 24, 20, 26, 30]\n",
    "\n",
    "meteo_inputs = [\n",
    "    [\"prcp_gpcp\", \"t_max_e5l\", \"t_min_e5l\"],\n",
    "    [\"prcp_mswep\", \"t_max_e5l\", \"t_min_e5l\"],\n",
    "    [\"prcp_e5\", \"t_max_e5\", \"t_min_e5\"],\n",
    "    [\"prcp_e5l\", \"t_max_e5l\", \"t_min_e5l\"],\n",
    "    [\"prcp_mswep\", \"t_max_e5\", \"t_min_e5\"],\n",
    "]"
   ]
  },
  {
   "cell_type": "code",
   "execution_count": 4,
   "metadata": {},
   "outputs": [],
   "source": [
    "# q_mm_day or lvl_sm\n",
    "hydro_target = \"q_mm_day\"\n",
    "static_parameters = [\n",
    "    \"for_pc_sse\",\n",
    "    \"crp_pc_sse\",\n",
    "    \"inu_pc_ult\",\n",
    "    \"ire_pc_sse\",\n",
    "    \"lka_pc_use\",\n",
    "    \"prm_pc_sse\",\n",
    "    \"pst_pc_sse\",\n",
    "    \"cly_pc_sav\",\n",
    "    \"slt_pc_sav\",\n",
    "    \"snd_pc_sav\",\n",
    "    \"kar_pc_sse\",\n",
    "    \"urb_pc_sse\",\n",
    "    \"gwt_cm_sav\",\n",
    "    \"lkv_mc_usu\",\n",
    "    \"rev_mc_usu\",\n",
    "    \"ws_area\",\n",
    "    \"ele_mt_sav\",\n",
    "]\n",
    "nc_variable = \"nc_all_q\"\n",
    "\n",
    "ws_file = read_ws(\"../geo_data/geometry/russia_ws.gpkg\")\n",
    "\n",
    "# time series directory\n",
    "ts_dir = Path(\"../geo_data/time_series\")\n",
    "ts_dir.mkdir(exist_ok=True, parents=True)"
   ]
  },
  {
   "cell_type": "code",
   "execution_count": 6,
   "metadata": {},
   "outputs": [
    {
     "name": "stdout",
     "output_type": "stream",
     "text": [
      "train data for q_mm_day with nc_all_q initial data\n"
     ]
    }
   ],
   "source": [
    "# write files for train procedure\n",
    "print(f\"train data for {hydro_target} with {nc_variable} initial data\")\n",
    "train_rewriter(\n",
    "    era_pathes=glob.glob(f\"../geo_data/ws_related_meteo/{nc_variable}/*.nc\"),\n",
    "    ts_dir=ts_dir,\n",
    "    hydro_target=hydro_target,\n",
    "    area_index=ws_file.index,\n",
    "    predictors=[*meteo_inputs[0]],\n",
    "    possible_nans=1,\n",
    ")"
   ]
  },
  {
   "cell_type": "code",
   "execution_count": 7,
   "metadata": {},
   "outputs": [
    {
     "name": "stdout",
     "output_type": "stream",
     "text": [
      "# Evaluation:   0%|          | 0/1112 [00:00<?, ?it/s]"
     ]
    },
    {
     "name": "stdout",
     "output_type": "stream",
     "text": [
      "# Evaluation: 100%|██████████| 1112/1112 [01:23<00:00, 13.26it/s]\n"
     ]
    }
   ],
   "source": [
    "cfg = Config(Path(configs[0]))\n",
    "eval_run(run_dir=cfg.run_dir, period=\"test\", epoch=24)"
   ]
  },
  {
   "cell_type": "code",
   "execution_count": 14,
   "metadata": {},
   "outputs": [
    {
     "data": {
      "text/html": [
       "<div>\n",
       "<style scoped>\n",
       "    .dataframe tbody tr th:only-of-type {\n",
       "        vertical-align: middle;\n",
       "    }\n",
       "\n",
       "    .dataframe tbody tr th {\n",
       "        vertical-align: top;\n",
       "    }\n",
       "\n",
       "    .dataframe thead th {\n",
       "        text-align: right;\n",
       "    }\n",
       "</style>\n",
       "<table border=\"1\" class=\"dataframe\">\n",
       "  <thead>\n",
       "    <tr style=\"text-align: right;\">\n",
       "      <th></th>\n",
       "      <th>NSE</th>\n",
       "      <th>RMSE</th>\n",
       "      <th>KGE</th>\n",
       "    </tr>\n",
       "    <tr>\n",
       "      <th>gauge_id</th>\n",
       "      <th></th>\n",
       "      <th></th>\n",
       "      <th></th>\n",
       "    </tr>\n",
       "  </thead>\n",
       "  <tbody>\n",
       "    <tr>\n",
       "      <th>10006</th>\n",
       "      <td>0.849720</td>\n",
       "      <td>0.185374</td>\n",
       "      <td>0.799055</td>\n",
       "    </tr>\n",
       "    <tr>\n",
       "      <th>10015</th>\n",
       "      <td>0.734694</td>\n",
       "      <td>0.151716</td>\n",
       "      <td>0.850197</td>\n",
       "    </tr>\n",
       "    <tr>\n",
       "      <th>10021</th>\n",
       "      <td>0.935766</td>\n",
       "      <td>0.104635</td>\n",
       "      <td>0.930620</td>\n",
       "    </tr>\n",
       "    <tr>\n",
       "      <th>10042</th>\n",
       "      <td>0.779476</td>\n",
       "      <td>0.444436</td>\n",
       "      <td>0.881910</td>\n",
       "    </tr>\n",
       "    <tr>\n",
       "      <th>10044</th>\n",
       "      <td>0.763147</td>\n",
       "      <td>0.518024</td>\n",
       "      <td>0.858677</td>\n",
       "    </tr>\n",
       "    <tr>\n",
       "      <th>...</th>\n",
       "      <td>...</td>\n",
       "      <td>...</td>\n",
       "      <td>...</td>\n",
       "    </tr>\n",
       "    <tr>\n",
       "      <th>9546</th>\n",
       "      <td>0.514087</td>\n",
       "      <td>1.291043</td>\n",
       "      <td>0.438084</td>\n",
       "    </tr>\n",
       "    <tr>\n",
       "      <th>9547</th>\n",
       "      <td>0.286863</td>\n",
       "      <td>0.193869</td>\n",
       "      <td>0.483158</td>\n",
       "    </tr>\n",
       "    <tr>\n",
       "      <th>9560</th>\n",
       "      <td>0.836001</td>\n",
       "      <td>0.482180</td>\n",
       "      <td>0.679645</td>\n",
       "    </tr>\n",
       "    <tr>\n",
       "      <th>9563</th>\n",
       "      <td>0.183816</td>\n",
       "      <td>0.142797</td>\n",
       "      <td>0.553175</td>\n",
       "    </tr>\n",
       "    <tr>\n",
       "      <th>9568</th>\n",
       "      <td>0.489243</td>\n",
       "      <td>0.696266</td>\n",
       "      <td>0.527747</td>\n",
       "    </tr>\n",
       "  </tbody>\n",
       "</table>\n",
       "<p>1101 rows × 3 columns</p>\n",
       "</div>"
      ],
      "text/plain": [
       "               NSE      RMSE       KGE\n",
       "gauge_id                              \n",
       "10006     0.849720  0.185374  0.799055\n",
       "10015     0.734694  0.151716  0.850197\n",
       "10021     0.935766  0.104635  0.930620\n",
       "10042     0.779476  0.444436  0.881910\n",
       "10044     0.763147  0.518024  0.858677\n",
       "...            ...       ...       ...\n",
       "9546      0.514087  1.291043  0.438084\n",
       "9547      0.286863  0.193869  0.483158\n",
       "9560      0.836001  0.482180  0.679645\n",
       "9563      0.183816  0.142797  0.553175\n",
       "9568      0.489243  0.696266  0.527747\n",
       "\n",
       "[1101 rows x 3 columns]"
      ]
     },
     "execution_count": 14,
     "metadata": {},
     "output_type": "execute_result"
    }
   ],
   "source": [
    "f = pd.read_csv(metric_file)\n",
    "f = f.rename(columns={\"basin\": \"gauge_id\"})\n",
    "f[\"gauge_id\"] = f[\"gauge_id\"].astype(str)\n",
    "f = f.set_index(\"gauge_id\")\n",
    "f"
   ]
  },
  {
   "cell_type": "code",
   "execution_count": 17,
   "metadata": {},
   "outputs": [
    {
     "data": {
      "text/plain": [
       "'l'"
      ]
     },
     "execution_count": 17,
     "metadata": {},
     "output_type": "execute_result"
    }
   ],
   "source": [
    "configs_names"
   ]
  },
  {
   "cell_type": "code",
   "execution_count": 23,
   "metadata": {},
   "outputs": [
    {
     "name": "stdout",
     "output_type": "stream",
     "text": [
      "for cudalstm_q_mm_day_gpcp NSE = 0.582\n",
      "for cudalstm_q_mm_day_mswep NSE = 0.641\n",
      "for cudalstm_q_mm_day_era5 NSE = 0.631\n",
      "for cudalstm_q_mm_day_era5l NSE = 0.626\n",
      "for cudalstm_q_mm_day_mswep_era5 NSE = 0.636\n"
     ]
    }
   ],
   "source": [
    "for config_name, metric_file in zip(\n",
    "    configs_names,\n",
    "    list(Path(\"./model_runs/\").glob(\"cudalstm_q_mm_day*/test/*/test_metrics.csv\")),\n",
    "):\n",
    "    f = pd.read_csv(metric_file)\n",
    "    f = f.rename(columns={\"basin\": \"gauge_id\"})\n",
    "    f[\"gauge_id\"] = f[\"gauge_id\"].astype(str)\n",
    "    f = f.set_index(\"gauge_id\")\n",
    "    nse_med = f[\"NSE\"].median()\n",
    "    print(f\"for {config_name} NSE = {nse_med:.3f}\")\n",
    "    f.to_csv(f\"../conclusions/tables/{config_name}_res.csv\")"
   ]
  },
  {
   "cell_type": "code",
   "execution_count": 1,
   "metadata": {},
   "outputs": [],
   "source": [
    "import gc\n",
    "import glob\n",
    "import random\n",
    "from pathlib import Path\n",
    "\n",
    "import geopandas as gpd\n",
    "import torch\n",
    "from neuralhydrology.nh_run import start_run\n",
    "from neuralhydrology.utils.config import Config\n",
    "from scripts.file_manipulator import train_rewriter\n",
    "\n",
    "# era_input = [\"prcp_e5l\", \"t_max_e5l\", \"t_min_e5l\"]\n",
    "era_input = [\"prcp_mswep\", \"t_max_e5l\", \"t_min_e5l\"]\n",
    "# q_mm_day or lvl_sm\n",
    "hydro_target = \"q_mm_day\"\n",
    "q_h_relation = False\n",
    "\n",
    "if hydro_target == \"lvl_sm\":\n",
    "    static_parameters = [\n",
    "        \"for_pc_sse\",\n",
    "        \"crp_pc_sse\",\n",
    "        \"inu_pc_ult\",\n",
    "        \"ire_pc_sse\",\n",
    "        \"lka_pc_use\",\n",
    "        \"prm_pc_sse\",\n",
    "        \"pst_pc_sse\",\n",
    "        \"cly_pc_sav\",\n",
    "        \"slt_pc_sav\",\n",
    "        \"snd_pc_sav\",\n",
    "        \"kar_pc_sse\",\n",
    "        \"urb_pc_sse\",\n",
    "        \"gwt_cm_sav\",\n",
    "        \"lkv_mc_usu\",\n",
    "        \"rev_mc_usu\",\n",
    "        \"ws_area\",\n",
    "        \"ele_mt_sav\",\n",
    "        \"height_bs\",\n",
    "    ]\n",
    "    nc_variable = \"nc_all_h\"\n",
    "    if q_h_relation:\n",
    "        nc_variable = \"nc_all_q_h\"\n",
    "else:\n",
    "    static_parameters = [\n",
    "        \"for_pc_sse\",\n",
    "        \"crp_pc_sse\",\n",
    "        \"inu_pc_ult\",\n",
    "        \"ire_pc_sse\",\n",
    "        \"lka_pc_use\",\n",
    "        \"prm_pc_sse\",\n",
    "        \"pst_pc_sse\",\n",
    "        \"cly_pc_sav\",\n",
    "        \"slt_pc_sav\",\n",
    "        \"snd_pc_sav\",\n",
    "        \"kar_pc_sse\",\n",
    "        \"urb_pc_sse\",\n",
    "        \"gwt_cm_sav\",\n",
    "        \"lkv_mc_usu\",\n",
    "        \"rev_mc_usu\",\n",
    "        \"ws_area\",\n",
    "        \"ele_mt_sav\",\n",
    "    ]\n",
    "    nc_variable = \"nc_all_q\"\n",
    "\n",
    "ws_file = gpd.read_file(filename=\"../geo_data/geometry/russia_ws.gpkg\")\n",
    "ws_file = ws_file.set_index(\"gauge_id\")\n",
    "\n",
    "# time series directory\n",
    "ts_dir = Path(\"../geo_data/time_series\")\n",
    "ts_dir.mkdir(exist_ok=True, parents=True)\n",
    "# write files for train procedure"
   ]
  },
  {
   "cell_type": "code",
   "execution_count": null,
   "metadata": {},
   "outputs": [],
   "source": [
    "for gauge_id in ws_file.index:\n",
    "    print(f\"train data for {hydro_target} with {nc_variable} initial data\")\n",
    "    train_rewriter(\n",
    "        era_pathes=glob.glob(\n",
    "            f\"../geo_data/ws_related_meteo/{nc_variable}/*.nc\"),\n",
    "        ts_dir=ts_dir,\n",
    "        hydro_target=hydro_target,\n",
    "        area_index=[gauge_id],\n",
    "        predictors=[*era_input],\n",
    "        possible_nans=1,\n",
    "    )"
   ]
  },
  {
   "cell_type": "code",
   "execution_count": 5,
   "metadata": {},
   "outputs": [],
   "source": [
    "gauges = [file.split(\"/\")[-1][:-3] for file in glob.glob(f\"{ts_dir}/*.nc\")]\n",
    "\n",
    "random.shuffle(gauges)"
   ]
  },
  {
   "cell_type": "code",
   "execution_count": 10,
   "metadata": {},
   "outputs": [],
   "source": [
    "import pandas as pd\n",
    "\n",
    "test_f = pd.read_csv(\"../geo_data/attributes/static_with_height.csv\")\n",
    "test_f[\"gauge_id\"] = test_f[\"gauge_id\"].astype(str)\n",
    "test_f = test_f.set_index(\"gauge_id\")"
   ]
  },
  {
   "cell_type": "code",
   "execution_count": 14,
   "metadata": {},
   "outputs": [
    {
     "data": {
      "text/plain": [
       "True"
      ]
     },
     "execution_count": 14,
     "metadata": {},
     "output_type": "execute_result"
    }
   ],
   "source": [
    "isinstance(test_f.loc[\"9002\"], pd.Series)"
   ]
  },
  {
   "cell_type": "code",
   "execution_count": 60,
   "metadata": {},
   "outputs": [
    {
     "data": {
      "text/html": [
       "<div>\n",
       "<style scoped>\n",
       "    .dataframe tbody tr th:only-of-type {\n",
       "        vertical-align: middle;\n",
       "    }\n",
       "\n",
       "    .dataframe tbody tr th {\n",
       "        vertical-align: top;\n",
       "    }\n",
       "\n",
       "    .dataframe thead th {\n",
       "        text-align: right;\n",
       "    }\n",
       "</style>\n",
       "<table border=\"1\" class=\"dataframe\">\n",
       "  <thead>\n",
       "    <tr style=\"text-align: right;\">\n",
       "      <th></th>\n",
       "      <th>for_pc_sse</th>\n",
       "      <th>crp_pc_sse</th>\n",
       "      <th>inu_pc_ult</th>\n",
       "      <th>ire_pc_sse</th>\n",
       "      <th>lka_pc_use</th>\n",
       "      <th>prm_pc_sse</th>\n",
       "      <th>pst_pc_sse</th>\n",
       "      <th>cly_pc_sav</th>\n",
       "      <th>slt_pc_sav</th>\n",
       "      <th>snd_pc_sav</th>\n",
       "      <th>kar_pc_sse</th>\n",
       "      <th>urb_pc_sse</th>\n",
       "      <th>gwt_cm_sav</th>\n",
       "      <th>lkv_mc_usu</th>\n",
       "      <th>rev_mc_usu</th>\n",
       "      <th>sgr_dk_sav</th>\n",
       "      <th>slp_dg_sav</th>\n",
       "      <th>ws_area</th>\n",
       "      <th>ele_mt_sav</th>\n",
       "      <th>height_bs</th>\n",
       "    </tr>\n",
       "  </thead>\n",
       "  <tbody>\n",
       "    <tr>\n",
       "      <th>9002</th>\n",
       "      <td>71.405729</td>\n",
       "      <td>1.119471</td>\n",
       "      <td>0.884372</td>\n",
       "      <td>0.0</td>\n",
       "      <td>0.712373</td>\n",
       "      <td>54.037087</td>\n",
       "      <td>1.342302</td>\n",
       "      <td>10.445704</td>\n",
       "      <td>40.55478</td>\n",
       "      <td>49.022949</td>\n",
       "      <td>11.302106</td>\n",
       "      <td>0.038855</td>\n",
       "      <td>290.149989</td>\n",
       "      <td>436.800398</td>\n",
       "      <td>0.0</td>\n",
       "      <td>196.390061</td>\n",
       "      <td>11.175569</td>\n",
       "      <td>115263.989</td>\n",
       "      <td>1532.822907</td>\n",
       "      <td>615.5</td>\n",
       "    </tr>\n",
       "  </tbody>\n",
       "</table>\n",
       "</div>"
      ],
      "text/plain": [
       "      for_pc_sse  crp_pc_sse  inu_pc_ult  ire_pc_sse  lka_pc_use  prm_pc_sse   \n",
       "9002   71.405729    1.119471    0.884372         0.0    0.712373   54.037087  \\\n",
       "\n",
       "      pst_pc_sse  cly_pc_sav  slt_pc_sav  snd_pc_sav  kar_pc_sse  urb_pc_sse   \n",
       "9002    1.342302   10.445704    40.55478   49.022949   11.302106    0.038855  \\\n",
       "\n",
       "      gwt_cm_sav  lkv_mc_usu  rev_mc_usu  sgr_dk_sav  slp_dg_sav     ws_area   \n",
       "9002  290.149989  436.800398         0.0  196.390061   11.175569  115263.989  \\\n",
       "\n",
       "       ele_mt_sav  height_bs  \n",
       "9002  1532.822907      615.5  "
      ]
     },
     "execution_count": 60,
     "metadata": {},
     "output_type": "execute_result"
    }
   ],
   "source": [
    "initial_df"
   ]
  },
  {
   "cell_type": "code",
   "execution_count": 66,
   "metadata": {},
   "outputs": [],
   "source": [
    "initial_df = test_f.iloc[0, :].to_frame().T"
   ]
  },
  {
   "cell_type": "code",
   "execution_count": 80,
   "metadata": {},
   "outputs": [
    {
     "data": {
      "text/plain": [
       "93440"
      ]
     },
     "execution_count": 80,
     "metadata": {},
     "output_type": "execute_result"
    }
   ],
   "source": [
    "365 * 256"
   ]
  },
  {
   "cell_type": "code",
   "execution_count": 73,
   "metadata": {},
   "outputs": [
    {
     "data": {
      "text/html": [
       "<div>\n",
       "<style scoped>\n",
       "    .dataframe tbody tr th:only-of-type {\n",
       "        vertical-align: middle;\n",
       "    }\n",
       "\n",
       "    .dataframe tbody tr th {\n",
       "        vertical-align: top;\n",
       "    }\n",
       "\n",
       "    .dataframe thead th {\n",
       "        text-align: right;\n",
       "    }\n",
       "</style>\n",
       "<table border=\"1\" class=\"dataframe\">\n",
       "  <thead>\n",
       "    <tr style=\"text-align: right;\">\n",
       "      <th></th>\n",
       "      <th>9002</th>\n",
       "    </tr>\n",
       "  </thead>\n",
       "  <tbody>\n",
       "    <tr>\n",
       "      <th>for_pc_sse</th>\n",
       "      <td>71.405729</td>\n",
       "    </tr>\n",
       "    <tr>\n",
       "      <th>crp_pc_sse</th>\n",
       "      <td>1.119471</td>\n",
       "    </tr>\n",
       "    <tr>\n",
       "      <th>inu_pc_ult</th>\n",
       "      <td>0.884372</td>\n",
       "    </tr>\n",
       "    <tr>\n",
       "      <th>ire_pc_sse</th>\n",
       "      <td>0.000000</td>\n",
       "    </tr>\n",
       "    <tr>\n",
       "      <th>lka_pc_use</th>\n",
       "      <td>0.712373</td>\n",
       "    </tr>\n",
       "    <tr>\n",
       "      <th>prm_pc_sse</th>\n",
       "      <td>54.037087</td>\n",
       "    </tr>\n",
       "    <tr>\n",
       "      <th>pst_pc_sse</th>\n",
       "      <td>1.342302</td>\n",
       "    </tr>\n",
       "    <tr>\n",
       "      <th>cly_pc_sav</th>\n",
       "      <td>10.445704</td>\n",
       "    </tr>\n",
       "    <tr>\n",
       "      <th>slt_pc_sav</th>\n",
       "      <td>40.554780</td>\n",
       "    </tr>\n",
       "    <tr>\n",
       "      <th>snd_pc_sav</th>\n",
       "      <td>49.022949</td>\n",
       "    </tr>\n",
       "    <tr>\n",
       "      <th>kar_pc_sse</th>\n",
       "      <td>11.302106</td>\n",
       "    </tr>\n",
       "    <tr>\n",
       "      <th>urb_pc_sse</th>\n",
       "      <td>0.038855</td>\n",
       "    </tr>\n",
       "    <tr>\n",
       "      <th>gwt_cm_sav</th>\n",
       "      <td>290.149989</td>\n",
       "    </tr>\n",
       "    <tr>\n",
       "      <th>lkv_mc_usu</th>\n",
       "      <td>436.800398</td>\n",
       "    </tr>\n",
       "    <tr>\n",
       "      <th>rev_mc_usu</th>\n",
       "      <td>0.000000</td>\n",
       "    </tr>\n",
       "    <tr>\n",
       "      <th>sgr_dk_sav</th>\n",
       "      <td>196.390061</td>\n",
       "    </tr>\n",
       "    <tr>\n",
       "      <th>slp_dg_sav</th>\n",
       "      <td>11.175569</td>\n",
       "    </tr>\n",
       "    <tr>\n",
       "      <th>ws_area</th>\n",
       "      <td>115263.989000</td>\n",
       "    </tr>\n",
       "    <tr>\n",
       "      <th>ele_mt_sav</th>\n",
       "      <td>1532.822907</td>\n",
       "    </tr>\n",
       "    <tr>\n",
       "      <th>height_bs</th>\n",
       "      <td>615.500000</td>\n",
       "    </tr>\n",
       "  </tbody>\n",
       "</table>\n",
       "</div>"
      ],
      "text/plain": [
       "                     9002\n",
       "for_pc_sse      71.405729\n",
       "crp_pc_sse       1.119471\n",
       "inu_pc_ult       0.884372\n",
       "ire_pc_sse       0.000000\n",
       "lka_pc_use       0.712373\n",
       "prm_pc_sse      54.037087\n",
       "pst_pc_sse       1.342302\n",
       "cly_pc_sav      10.445704\n",
       "slt_pc_sav      40.554780\n",
       "snd_pc_sav      49.022949\n",
       "kar_pc_sse      11.302106\n",
       "urb_pc_sse       0.038855\n",
       "gwt_cm_sav     290.149989\n",
       "lkv_mc_usu     436.800398\n",
       "rev_mc_usu       0.000000\n",
       "sgr_dk_sav     196.390061\n",
       "slp_dg_sav      11.175569\n",
       "ws_area     115263.989000\n",
       "ele_mt_sav    1532.822907\n",
       "height_bs      615.500000"
      ]
     },
     "execution_count": 73,
     "metadata": {},
     "output_type": "execute_result"
    }
   ],
   "source": [
    "initial_df.T"
   ]
  }
 ],
 "metadata": {
  "kernelspec": {
   "display_name": "base",
   "language": "python",
   "name": "python3"
  },
  "language_info": {
   "codemirror_mode": {
    "name": "ipython",
    "version": 3
   },
   "file_extension": ".py",
   "mimetype": "text/x-python",
   "name": "python",
   "nbconvert_exporter": "python",
   "pygments_lexer": "ipython3",
   "version": "3.10.13"
  },
  "orig_nbformat": 4
 },
 "nbformat": 4,
 "nbformat_minor": 2
}
