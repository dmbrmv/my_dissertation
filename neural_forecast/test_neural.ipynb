{
 "cells": [
  {
   "cell_type": "code",
   "execution_count": 2,
   "metadata": {},
   "outputs": [],
   "source": [
    "%load_ext autoreload\n",
    "%autoreload 2"
   ]
  },
  {
   "cell_type": "code",
   "execution_count": 3,
   "metadata": {},
   "outputs": [],
   "source": [
    "from pathlib import Path\n",
    "import glob\n",
    "import gc\n",
    "import torch\n",
    "import json\n",
    "import random\n",
    "import xarray as xr\n",
    "import pandas as pd\n",
    "import geopandas as gpd\n",
    "from neuralhydrology.nh_run import start_run, eval_run\n",
    "from scripts.file_manipulator import train_rewriter, test_rewriter\n",
    "\n",
    "from neuralhydrology.evaluation import get_tester\n",
    "from neuralhydrology.utils.config import Config"
   ]
  },
  {
   "cell_type": "markdown",
   "metadata": {},
   "source": [
    "### Prepare data with no misses on discharge and level"
   ]
  },
  {
   "cell_type": "code",
   "execution_count": null,
   "metadata": {},
   "outputs": [],
   "source": [
    "def xr_opener(file):\n",
    "    ds = xr.open_dataset(file)\n",
    "    if 'index' in ds.coords:\n",
    "        ds = ds.rename({'index': 'date'})\n",
    "    return ds\n",
    "\n",
    "files = glob.glob(f'../geo_data/great_db/nc_concat/*.nc')\n",
    "big_file = xr.concat([xr_opener(file) for file in files],\n",
    "                     dim='gauge_id')\n",
    "for gauge in big_file[['q_mm_day', 'lvl_mbs']].dropna(dim='gauge_id')['gauge_id'].values:\n",
    "    ds = big_file.sel(gauge_id=gauge)\n",
    "    ds.to_netcdf(f'../geo_data/great_db/nc_all_q_h/{gauge}.nc')"
   ]
  },
  {
   "cell_type": "markdown",
   "metadata": {},
   "source": [
    "### Prepare name lists for used variables and read geometry"
   ]
  },
  {
   "cell_type": "code",
   "execution_count": 4,
   "metadata": {},
   "outputs": [],
   "source": [
    "era_input = ['prcp_e5l',  't_max_e5l', 't_min_e5l']\n",
    "# q_mm_day or lvl_mbs or lvl_sm\n",
    "hydro_target = 'lvl_sm'\n",
    "q_h_relation = False\n",
    "\n",
    "if (hydro_target == 'lvl_mbs') | (hydro_target == 'lvl_sm'):\n",
    "    static_parameters = ['for_pc_sse', 'crp_pc_sse',\n",
    "                         'inu_pc_ult', 'ire_pc_sse',\n",
    "                         'lka_pc_use', 'prm_pc_sse',\n",
    "                         'pst_pc_sse', 'cly_pc_sav',\n",
    "                         'slt_pc_sav', 'snd_pc_sav',\n",
    "                         'kar_pc_sse', 'urb_pc_sse',\n",
    "                         'gwt_cm_sav', 'lkv_mc_usu',\n",
    "                         'rev_mc_usu', 'sgr_dk_sav',\n",
    "                         'slp_dg_sav', 'ws_area',\n",
    "                         'ele_mt_sav', 'height_bs']\n",
    "    nc_variable = 'nc_all_h'\n",
    "    if q_h_relation:\n",
    "        nc_variable = 'nc_all_q_h'\n",
    "else:\n",
    "    static_parameters = ['for_pc_sse', 'crp_pc_sse',\n",
    "                         'inu_pc_ult', 'ire_pc_sse',\n",
    "                         'lka_pc_use', 'prm_pc_sse',\n",
    "                         'pst_pc_sse', 'cly_pc_sav',\n",
    "                         'slt_pc_sav', 'snd_pc_sav',\n",
    "                         'kar_pc_sse', 'urb_pc_sse',\n",
    "                         'gwt_cm_sav', 'lkv_mc_usu',\n",
    "                         'rev_mc_usu', 'sgr_dk_sav',\n",
    "                         'slp_dg_sav', 'ws_area',\n",
    "                         'ele_mt_sav']\n",
    "    nc_variable = 'nc_all_q'\n",
    "\n",
    "ws_file = gpd.read_file('../geo_data/great_db/geometry/russia_ws.gpkg')\n",
    "ws_file = ws_file.set_index('gauge_id')"
   ]
  },
  {
   "cell_type": "markdown",
   "metadata": {},
   "source": [
    "### Data preparation description\n",
    "\n",
    "#### Store in **time_series** directory every necessary file for train procedure\n",
    "It stores data about predictors (**prcp_e5l, t_max_e5l, t_min_e5l**) and predicats (**q_mm_day**)\n",
    "\n",
    "Design of the model builded up on **two** steps:\n",
    "\n",
    "**first**: create LSTM to predict future discharge (**q_mm_day**)\n",
    "\n",
    "**second**: create LSTM to predict future level (**lvl_mbs**) with information about predicted (**q_mm_day**) and (**prcp_e5l, t_max_e5l, t_min_e5l**)\n",
    "<br/><br/>\n",
    "\n",
    "This model allows to inference with cmip meteo data\n",
    "\n",
    "(**precipitation_{model}, daily_maximum_near_surface_air_temperature_{model}, daily_minimum_near_surface_air_temperature_{model}**)\n",
    "\n",
    "and previously predicted (**q_mm_day**)"
   ]
  },
  {
   "cell_type": "code",
   "execution_count": 5,
   "metadata": {},
   "outputs": [],
   "source": [
    "with open('./cmip_ranks.json') as json_file:\n",
    "    cmip_models = json.load(json_file)\n",
    "cmip_models = list(cmip_models.values())\n",
    "\n",
    "meteo_inputs = dict()\n",
    "for model in cmip_models:\n",
    "    meteo_inputs[model] = [f'precipitation_{model}',\n",
    "                           f'daily_maximum_near_surface_air_temperature_{model}',\n",
    "                           f'daily_minimum_near_surface_air_temperature_{model}']\n",
    "# time series directory\n",
    "ts_dir = Path('../geo_data/time_series')"
   ]
  },
  {
   "cell_type": "markdown",
   "metadata": {},
   "source": [
    "### NeuralHydrology train data\n",
    "Relies on config file. **Main** attention should be payed to **data_dir** argument\n",
    "This folder is the reference to place where all required data are stored\n",
    "\n",
    "<br><br/>\n",
    "Framework automaticcally seek for **time_series** folder which should contain data **for each gauge** in desired experiment\n",
    "and has all available meteo data in **.nc** format\n",
    "\n",
    "To inlude static parameters **data_dir** should also has **attributes** folder with **.csv** file for each used gauge as an index of this file\n",
    "\n"
   ]
  },
  {
   "cell_type": "code",
   "execution_count": null,
   "metadata": {},
   "outputs": [],
   "source": [
    "# write files for train procedure\n",
    "print(f'train data for {hydro_target} with {nc_variable} initial data')\n",
    "train_rewriter(era_pathes=glob.glob(\n",
    "    f'../geo_data/great_db/{nc_variable}/*.nc'),\n",
    "               ts_dir=ts_dir,\n",
    "               hydro_target=hydro_target,\n",
    "               area_index=ws_file.index,\n",
    "               predictors=era_input)"
   ]
  },
  {
   "cell_type": "markdown",
   "metadata": {},
   "source": [
    "### Config setup\n",
    "\n",
    "Here we define files for **train**, **validation** and **test**\n",
    "\n",
    "It's possible to use different gauges for certain steps of model learn procedure,\n",
    "\n",
    "but in this example we'll use every possible gauge and split it **not in space**, but with **different time periods**\n",
    "\n",
    "'**train_start_date**': '01/01/2009',\n",
    "\n",
    "'**train_end_date**': '31/12/2016',\n",
    "\n",
    "'**validation_start_date**': '01/01/2017',\n",
    "\n",
    "'**validation_end_date**': '31/12/2018',\n",
    "\n",
    "'**test_start_date**': '01/01/2019',\n",
    "\n",
    "'**test_end_date**': '31/12/2020'\n"
   ]
  },
  {
   "cell_type": "code",
   "execution_count": null,
   "metadata": {},
   "outputs": [],
   "source": [
    "# define variables require to perform hindcast\n",
    "gauges = [file.split('/')[-1][:-3] for\n",
    "          file in glob.glob(f'{ts_dir}/*.nc')]\n",
    "random.shuffle(gauges)\n",
    "gauge_size = len(gauges)\n",
    "\n",
    "# with open('./every_basin.txt', 'w') as the_file:\n",
    "#     for gauge_name in gauges:\n",
    "#         the_file.write(f'{gauge_name}\\n')\n",
    "\n",
    "train_gauges = gauges[\n",
    "    :int(len(gauges) * 0.8)]\n",
    "with open('./basins_train.txt', 'w') as the_file:\n",
    "    for gauge_name in train_gauges:\n",
    "        the_file.write(f'{gauge_name}\\n')\n",
    "\n",
    "val_gauges = gauges[\n",
    "    int(gauge_size * 0.8):int(gauge_size * 0.8) + int(gauge_size * 0.1)]\n",
    "with open('./basins_val.txt', 'w') as the_file:\n",
    "    for gauge_name in val_gauges:\n",
    "        the_file.write(f'{gauge_name}\\n')\n",
    "\n",
    "test_gauges = gauges[\n",
    "    int(gauge_size * 0.8) + int(gauge_size * 0.1):]\n",
    "with open('./basins_test.txt', 'w') as the_file:\n",
    "    for gauge_name in test_gauges:\n",
    "        the_file.write(f'{gauge_name}\\n')\n",
    "\n",
    "cfg = Config(Path('./model_config.yml'))\n",
    "# base model type [cudalstm, customlstm, ealstm, embcudalstm, mtslstm, gru, transformer]\n",
    "# (has to match the if statement in modelzoo/__init__.py)\n",
    "model_name = 'cudalstm'\n",
    "cfg.update_config(yml_path_or_dict={\n",
    "    # define storage and experiment\n",
    "    'experiment_name': f'{model_name}_{hydro_target}',\n",
    "    'model': f'{model_name}',\n",
    "    'run_dir': './',\n",
    "    'data_dir': '../geo_data/',\n",
    "    # define inner parameters\n",
    "    'static_attributes': static_parameters,\n",
    "    'dynamic_inputs': era_input,\n",
    "    # 'hindcast_inputs': era_input,\n",
    "    # 'forecast_inputs': era_input,\n",
    "    'target_variables': [hydro_target],\n",
    "    # 'dynamics_embedding': {'type': 'fc', 'hiddens': [128, 64, 256],\n",
    "    #                       'activation': 'tanh', 'dropout': 0.2},\n",
    "    # 'statics_embedding': {'type': 'fc', 'hiddens': [128, 64, 256],\n",
    "    #                      'activation': 'tanh', 'dropout': 0.2},    \n",
    "    # define files with gauge data\n",
    "    'train_basin_file': './every_basin.txt',\n",
    "    'validate_n_random_basins': gauge_size,\n",
    "    'validation_basin_file': './every_basin.txt',\n",
    "    'test_basin_file': './every_basin.txt',\n",
    "    # define time periods\n",
    "    # 'seq_length': 14,\n",
    "    # 'forecast_seq_length': 10,\n",
    "    'train_start_date': '01/01/2009',\n",
    "    'train_end_date': '31/12/2016',\n",
    "    'validation_start_date': '01/01/2017',\n",
    "    'validation_end_date': '31/12/2018',\n",
    "    'test_start_date': '01/01/2019',\n",
    "    'test_end_date': '31/12/2020'})\n",
    "cfg.dump_config(folder=Path('./launch_configs'),\n",
    "                filename=f'{model_name}_{hydro_target}.yml')"
   ]
  },
  {
   "cell_type": "code",
   "execution_count": null,
   "metadata": {},
   "outputs": [],
   "source": [
    "if torch.cuda.is_available():\n",
    "    start_run(config_file=Path(\n",
    "        f'./launch_configs/{model_name}_{hydro_target}.yml'))"
   ]
  },
  {
   "cell_type": "markdown",
   "metadata": {},
   "source": [
    "### Test setup\n",
    "\n",
    "Main idea is to just replace meteo input from **era** with the **cmip's**\n",
    "\n",
    "So the learned weights of **era** model will be used with **cmip's** data\n",
    "\n",
    "\n",
    "We rewrite files in **time_series** directory \n",
    "with data for **desired** gauges and new **dynamic_inputs** from selected **cmip**"
   ]
  },
  {
   "cell_type": "code",
   "execution_count": null,
   "metadata": {},
   "outputs": [],
   "source": [
    "meteo_inputs"
   ]
  },
  {
   "cell_type": "code",
   "execution_count": 19,
   "metadata": {},
   "outputs": [
    {
     "name": "stdout",
     "output_type": "stream",
     "text": [
      "test data for lvl_sm with nc_all_h initial data\n"
     ]
    }
   ],
   "source": [
    "# get cmips\n",
    "cmip_path = '../geo_data/cmip_concat_new/ssp_2_4_5/'\n",
    "obs_pathes = glob.glob('../geo_data/great_db/nc_all_q_h/*.nc')\n",
    "# get gauge id's\n",
    "with open('./delete_me_test.txt', 'r') as f:\n",
    "    res = [line.strip() for line in f]\n",
    "f.close()\n",
    "\n",
    "# write files for test procedure\n",
    "print(f'test data for {hydro_target} with {nc_variable} initial data')\n",
    "test_rewriter(train_with_obs=obs_pathes,\n",
    "              cmip_storage=cmip_path,\n",
    "              test_index=res,\n",
    "              predictors=meteo_inputs['ec_earth3_veg_lr'],\n",
    "              era_names=era_input,\n",
    "              ts_dir=ts_dir)"
   ]
  },
  {
   "cell_type": "markdown",
   "metadata": {},
   "source": [
    "Update config that we get from **train** procedure\n",
    "\n",
    "with new **dynamic_iputs** from selected **cmip** and and new **test_start_date** and **test_end_date**"
   ]
  },
  {
   "cell_type": "code",
   "execution_count": 20,
   "metadata": {},
   "outputs": [],
   "source": [
    "cfg = Config(Path('./model_runs/cudalstm_lvl_sm_0809_073042/config.yml'))\n",
    "# cfg.update_config(yml_path_or_dict = {'test_basin_file': '/workspaces/my_dissertation/neural_forecast/delete_me_test.txt',\n",
    "#                                       'test_start_date': '01/01/2018',\n",
    "#                                       'test_end_date': '31/12/2020',\n",
    "#                                       'dynamic_inputs': meteo_inputs['ec_earth3_veg_lr']})\n",
    "cfg.update_config(yml_path_or_dict = {'test_basin_file': '/workspaces/my_dissertation/neural_forecast/delete_me_test.txt',\n",
    "                                      'test_start_date': '01/01/2018',\n",
    "                                      'test_end_date': '31/12/2025'})\n"
   ]
  },
  {
   "cell_type": "markdown",
   "metadata": {},
   "source": [
    "Run **test** on selected gauge"
   ]
  },
  {
   "cell_type": "code",
   "execution_count": 21,
   "metadata": {},
   "outputs": [
    {
     "name": "stdout",
     "output_type": "stream",
     "text": [
      "# Evaluation:   0%|          | 0/3 [00:00<?, ?it/s]"
     ]
    },
    {
     "name": "stdout",
     "output_type": "stream",
     "text": [
      "# Evaluation: 100%|██████████| 3/3 [00:01<00:00,  1.90it/s]\n"
     ]
    }
   ],
   "source": [
    "tester = get_tester(cfg=cfg,\n",
    "                    run_dir=cfg.run_dir,\n",
    "                    period = 'test',\n",
    "                    init_model=True)\n",
    "pred_results = tester.evaluate(epoch=22, save_results=False)"
   ]
  },
  {
   "cell_type": "code",
   "execution_count": 23,
   "metadata": {},
   "outputs": [
    {
     "data": {
      "image/png": "[encoded data removed]",
      "text/plain": [
       "<Figure size 640x480 with 1 Axes>"
      ]
     },
     "metadata": {},
     "output_type": "display_data"
    }
   ],
   "source": [
    "pred_results['1151']['1D']['xr'].to_dataframe().droplevel(1).plot();"
   ]
  }
 ],
 "metadata": {
  "kernelspec": {
   "display_name": "base",
   "language": "python",
   "name": "python3"
  },
  "language_info": {
   "codemirror_mode": {
    "name": "ipython",
    "version": 3
   },
   "file_extension": ".py",
   "mimetype": "text/x-python",
   "name": "python",
   "nbconvert_exporter": "python",
   "pygments_lexer": "ipython3",
   "version": "3.9.12"
  },
  "orig_nbformat": 4
 },
 "nbformat": 4,
 "nbformat_minor": 2
}
