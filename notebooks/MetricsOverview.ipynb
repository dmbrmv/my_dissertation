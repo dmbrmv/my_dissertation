{
 "cells": [
  {
   "cell_type": "markdown",
   "id": "56a6fd3a",
   "metadata": {},
   "source": [
    "# Model Metrics Overview: GR4J, HBV, RFR with Different Meteo Sources\n",
    "\n",
    "Overview of performance metrics for different hydrological models trained with different meteorological data sources."
   ]
  },
  {
   "cell_type": "code",
   "execution_count": 23,
   "id": "3d212522",
   "metadata": {},
   "outputs": [],
   "source": [
    "import json\n",
    "from pathlib import Path\n",
    "\n",
    "import numpy as np\n",
    "import pandas as pd\n",
    "\n",
    "# Base paths for optimization results\n",
    "BASE_PATHS = {\n",
    "    \"GR4J\": Path(\"/home/dmbrmv/Development/Dissertation/data/optimization/gr4j_simple\"),\n",
    "    \"HBV\": Path(\"/home/dmbrmv/Development/Dissertation/data/optimization/hbv_simple\"),\n",
    "    \"RFR\": Path(\"/home/dmbrmv/Development/Dissertation/data/optimization/rfr_simple\"),\n",
    "}"
   ]
  },
  {
   "cell_type": "markdown",
   "id": "b6f12e2e",
   "metadata": {},
   "source": [
    "## Load Model Results and Metrics\n",
    "\n",
    "Extract performance metrics from all model directories across different meteorological sources."
   ]
  },
  {
   "cell_type": "code",
   "execution_count": 24,
   "id": "e89f862d",
   "metadata": {},
   "outputs": [
    {
     "name": "stdout",
     "output_type": "stream",
     "text": [
      "Loading GR4J results from /home/dmbrmv/Development/Dissertation/data/optimization/gr4j_simple...\n",
      "  Found 996 gauges\n",
      "Loading HBV results from /home/dmbrmv/Development/Dissertation/data/optimization/hbv_simple...\n",
      "  Found 996 gauges\n",
      "Loading RFR results from /home/dmbrmv/Development/Dissertation/data/optimization/rfr_simple...\n",
      "  Found 996 gauges\n",
      "\n",
      "Sample meteo sources found:\n",
      "  GR4J: ['mswep', 'gpcp', 'e5l', 'e5']\n",
      "  HBV: ['mswep', 'gpcp', 'e5l', 'e5']\n",
      "  RFR: ['mswep', 'gpcp', 'e5l', 'e5']\n"
     ]
    }
   ],
   "source": [
    "def load_metrics_from_directory(base_path: Path) -> dict:\n",
    "    \"\"\"Load all metrics from model optimization directory.\n",
    "\n",
    "    Args:\n",
    "        base_path: Path to model optimization directory.\n",
    "\n",
    "    Returns:\n",
    "        Dictionary with structure {gauge_id: {meteo_source: metrics_dict}}.\n",
    "    \"\"\"\n",
    "    results = {}\n",
    "\n",
    "    for gauge_dir in base_path.iterdir():\n",
    "        if not gauge_dir.is_dir():\n",
    "            continue\n",
    "\n",
    "        gauge_id = gauge_dir.name\n",
    "        results[gauge_id] = {}\n",
    "\n",
    "        # Find all metrics files\n",
    "        for metrics_file in gauge_dir.glob(\"*_metrics.json\"):\n",
    "            # Extract meteo source from filename (e.g., \"10042_e5_metrics.json\")\n",
    "            parts = metrics_file.stem.split(\"_\")\n",
    "            meteo_source = \"_\".join(parts[1:-1])  # Get middle part(s)\n",
    "\n",
    "            try:\n",
    "                with open(metrics_file, encoding=\"utf-8-sig\") as f:\n",
    "                    metrics = json.load(f)\n",
    "                    results[gauge_id][meteo_source] = metrics\n",
    "            except (UnicodeDecodeError, json.JSONDecodeError):\n",
    "                # Try with latin1 encoding if utf-8 fails\n",
    "                try:\n",
    "                    with open(metrics_file, encoding=\"latin1\") as f:\n",
    "                        metrics = json.load(f)\n",
    "                        results[gauge_id][meteo_source] = metrics\n",
    "                except (UnicodeDecodeError, json.JSONDecodeError, FileNotFoundError):\n",
    "                    continue\n",
    "            except FileNotFoundError:\n",
    "                continue\n",
    "\n",
    "    return results\n",
    "\n",
    "\n",
    "# Load data for all models\n",
    "model_data = {}\n",
    "for model_name, base_path in BASE_PATHS.items():\n",
    "    print(f\"Loading {model_name} results from {base_path}...\")\n",
    "    model_data[model_name] = load_metrics_from_directory(base_path)\n",
    "    print(f\"  Found {len(model_data[model_name])} gauges\")\n",
    "\n",
    "print(\"\\nSample meteo sources found:\")\n",
    "for model_name, data in model_data.items():\n",
    "    if data:\n",
    "        first_gauge = next(iter(data.values()))\n",
    "        print(f\"  {model_name}: {list(first_gauge.keys())}\")"
   ]
  },
  {
   "cell_type": "markdown",
   "id": "6c13051f",
   "metadata": {},
   "source": [
    "## Parse Meteorological Sources\n",
    "\n",
    "Identify and extract meteorological source information from the model results."
   ]
  },
  {
   "cell_type": "code",
   "execution_count": 25,
   "id": "df9a3b20",
   "metadata": {},
   "outputs": [
    {
     "name": "stdout",
     "output_type": "stream",
     "text": [
      "All meteorological sources found: ['e5', 'e5l', 'gpcp', 'mswep']\n",
      "Total sources: 4\n"
     ]
    }
   ],
   "source": [
    "# Identify all unique meteo sources across all models\n",
    "all_meteo_sources = set()\n",
    "for model_data_dict in model_data.values():\n",
    "    for gauge_metrics in model_data_dict.values():\n",
    "        all_meteo_sources.update(gauge_metrics.keys())\n",
    "\n",
    "all_meteo_sources = sorted(list(all_meteo_sources))\n",
    "print(f\"All meteorological sources found: {all_meteo_sources}\")\n",
    "print(f\"Total sources: {len(all_meteo_sources)}\")"
   ]
  },
  {
   "cell_type": "markdown",
   "id": "50b94e2f",
   "metadata": {},
   "source": [
    "## Aggregate Metrics by Model and Source\n",
    "\n",
    "Group metrics by model type and meteorological source. Calculate mean and median values."
   ]
  },
  {
   "cell_type": "code",
   "execution_count": 26,
   "id": "42f7519d",
   "metadata": {},
   "outputs": [
    {
     "name": "stdout",
     "output_type": "stream",
     "text": [
      "Aggregation complete.\n",
      "\n",
      "Metrics available for each source:\n",
      "  GR4J: ['NSE', 'KGE', 'PBIAS', 'RMSE', 'MAE', 'logNSE', 'R2', 'r', 'PFE']\n",
      "  HBV: ['NSE', 'KGE', 'PBIAS', 'RMSE', 'MAE', 'logNSE', 'R2', 'r', 'PFE']\n",
      "  RFR: ['NSE', 'KGE', 'PBIAS', 'RMSE', 'MAE', 'logNSE', 'R2', 'r', 'PFE']\n"
     ]
    }
   ],
   "source": [
    "def aggregate_metrics(model_data_dict: dict) -> dict:\n",
    "    \"\"\"Aggregate metrics by meteo source.\n",
    "\n",
    "    Args:\n",
    "        model_data_dict: Dictionary {gauge_id: {meteo_source: metrics}}.\n",
    "\n",
    "    Returns:\n",
    "        Dictionary {meteo_source: {metric_name: list_of_values}}.\n",
    "    \"\"\"\n",
    "    aggregated = {}\n",
    "\n",
    "    for gauge_id, sources_dict in model_data_dict.items():\n",
    "        for meteo_source, metrics in sources_dict.items():\n",
    "            if meteo_source not in aggregated:\n",
    "                aggregated[meteo_source] = {}\n",
    "\n",
    "            for metric_name, metric_value in metrics.items():\n",
    "                if metric_name not in aggregated[meteo_source]:\n",
    "                    aggregated[meteo_source][metric_name] = []\n",
    "\n",
    "                # Only add numeric values\n",
    "                if isinstance(metric_value, (int, float)):\n",
    "                    aggregated[meteo_source][metric_name].append(metric_value)\n",
    "\n",
    "    return aggregated\n",
    "\n",
    "\n",
    "# Aggregate metrics for each model\n",
    "aggregated_data = {}\n",
    "for model_name, model_dict in model_data.items():\n",
    "    aggregated_data[model_name] = aggregate_metrics(model_dict)\n",
    "\n",
    "print(\"Aggregation complete.\")\n",
    "print(\"\\nMetrics available for each source:\")\n",
    "for model_name in aggregated_data:\n",
    "    sample_source = next(iter(aggregated_data[model_name].keys()), None)\n",
    "    if sample_source:\n",
    "        metrics = aggregated_data[model_name][sample_source]\n",
    "        print(f\"  {model_name}: {list(metrics.keys())}\")"
   ]
  },
  {
   "cell_type": "markdown",
   "id": "afe0aeed",
   "metadata": {},
   "source": [
    "## Create Summary Statistics Table\n",
    "\n",
    "Build a summary table with mean and median values for all metrics."
   ]
  },
  {
   "cell_type": "code",
   "execution_count": 27,
   "id": "85150891",
   "metadata": {},
   "outputs": [
    {
     "name": "stdout",
     "output_type": "stream",
     "text": [
      "Summary table shape: (12, 20)\n",
      "Columns: ['Model', 'Source', 'NSE_median', 'NSE_mean', 'KGE_median', 'KGE_mean', 'PBIAS_median', 'PBIAS_mean', 'RMSE_median', 'RMSE_mean', 'MAE_median', 'MAE_mean', 'logNSE_median', 'logNSE_mean', 'R2_median', 'R2_mean', 'r_median', 'r_mean', 'PFE_median', 'PFE_mean']\n"
     ]
    }
   ],
   "source": [
    "def build_summary_table(aggregated_data: dict) -> pd.DataFrame:\n",
    "    \"\"\"Build summary statistics table.\n",
    "\n",
    "    Args:\n",
    "        aggregated_data: Dictionary {model: {source: {metric: [values]}}}.\n",
    "\n",
    "    Returns:\n",
    "        DataFrame with rows as Model-Source combinations and columns as metrics.\n",
    "    \"\"\"\n",
    "    rows = []\n",
    "\n",
    "    for model_name, sources_dict in aggregated_data.items():\n",
    "        for meteo_source, metrics_dict in sources_dict.items():\n",
    "            row = {\"Model\": model_name, \"Source\": meteo_source}\n",
    "\n",
    "            for metric_name, values in metrics_dict.items():\n",
    "                if values:\n",
    "                    values_array = np.array(values)\n",
    "                    row[f\"{metric_name}_median\"] = np.nanmedian(values_array)\n",
    "                    row[f\"{metric_name}_mean\"] = np.nanmean(values_array)\n",
    "\n",
    "            rows.append(row)\n",
    "\n",
    "    return pd.DataFrame(rows)\n",
    "\n",
    "\n",
    "# Build the summary table\n",
    "summary_df = build_summary_table(aggregated_data)\n",
    "print(f\"Summary table shape: {summary_df.shape}\")\n",
    "print(f\"Columns: {list(summary_df.columns)}\")"
   ]
  },
  {
   "cell_type": "markdown",
   "id": "9c2fe56e",
   "metadata": {},
   "source": [
    "## Display Comparison Results\n",
    "\n",
    "Show the summary statistics table with performance metrics for all model and meteo source combinations."
   ]
  },
  {
   "cell_type": "code",
   "execution_count": 28,
   "id": "4ee5f619",
   "metadata": {},
   "outputs": [
    {
     "name": "stdout",
     "output_type": "stream",
     "text": [
      "========================================================================================================================\n",
      "SUMMARY STATISTICS: Model Performance by Meteorological Source\n",
      "========================================================================================================================\n",
      "Model Source  NSE_median   NSE_mean  KGE_median  KGE_mean  PBIAS_median  PBIAS_mean  RMSE_median  RMSE_mean  MAE_median  MAE_mean  logNSE_median  logNSE_mean  R2_median  R2_mean  r_median   r_mean  PFE_median   PFE_mean\n",
      " GR4J  mswep    0.433104  -9.484771    0.573100  0.105300      1.418380    8.831593     0.560860   0.795136    0.292671  0.427413       0.403930    -0.344899   0.591467 0.559474  0.769069 0.726081  -15.204965   4.494943\n",
      " GR4J   gpcp    0.144486 -11.418281    0.188650 -0.094648     -0.219563    7.810242     0.634779   0.967090    0.369473  0.569227       0.036558    -0.442657   0.371571 0.383700  0.609566 0.560232  -48.165801 -28.337858\n",
      " GR4J    e5l    0.519452 -16.816246    0.631828  0.078432      0.784877    8.220490     0.524875   0.736739    0.268617  0.379189       0.531372    -0.377496   0.670565 0.614791  0.818880 0.763937   -9.999065   8.269210\n",
      " GR4J     e5    0.453777  -6.046459    0.605103  0.134706      0.442614    7.831564     0.544902   0.770088    0.277563  0.407362       0.481822    -0.282329   0.622509 0.584270  0.788992 0.740593  -14.030559   7.055198\n",
      "  HBV  mswep    0.495201  -4.498195    0.613320  0.260708     -3.722912   -1.771870     0.517562   0.772677    0.282577  0.429238      -0.067119    -1.576646   0.649584 0.603914  0.805968 0.758704  -13.657006   1.340171\n",
      "  HBV   gpcp   -0.037840  -9.120528    0.139215 -0.107344    -45.223533  -37.717727     0.679910   1.079744    0.400942  0.647309      -2.560562    -8.550362   0.528758 0.519163  0.727157 0.700196  -38.898736 -27.870602\n",
      "  HBV    e5l    0.562586  -4.033122    0.657819  0.306541     -1.421874    1.174953     0.492108   0.707716    0.265429  0.381511       0.084456    -1.011824   0.689935 0.626646  0.830623 0.770682  -12.433247  -0.393189\n",
      "  HBV     e5    0.515901  -4.766255    0.636024  0.261909     -3.448822   -1.712977     0.507364   0.756766    0.267807  0.417365       0.000933    -1.641401   0.670701 0.612067  0.818963 0.761897  -14.259365  -0.747655\n",
      "  RFR  mswep    0.569548 -11.048928    0.640550  0.386446      5.390078   16.220712     0.500292   0.685240    0.279925  0.349721       0.660564     0.225334   0.649281 0.609731  0.805780 0.766706  -22.031636  -8.745607\n",
      "  RFR   gpcp    0.544313  -9.733518    0.628692  0.382337      6.352456   16.978708     0.508409   0.708506    0.284916  0.363878       0.632790     0.205088   0.627756 0.595723  0.792311 0.757947  -22.015321  -9.651407\n",
      "  RFR    e5l    0.556575 -10.504048    0.632672  0.377757      4.263848   15.977918     0.502752   0.694053    0.275476  0.353750       0.662719     0.225048   0.642930 0.603828  0.801829 0.762326  -22.188908  -9.650147\n",
      "  RFR     e5    0.556505 -10.312057    0.633500  0.378971      4.459504   15.898036     0.505291   0.694216    0.276887  0.353706       0.665860     0.227260   0.645260 0.604195  0.803281 0.762773  -22.152860  -9.630597\n",
      "========================================================================================================================\n",
      "\n",
      "\n",
      "KEY FINDINGS:\n",
      "------------------------------------------------------------------------------------------------------------------------\n",
      "Total model-source combinations: 12\n",
      "Unique metrics tracked: 9\n",
      "Metrics: ['KGE', 'MAE', 'NSE', 'PBIAS', 'PFE', 'R2', 'RMSE', 'logNSE', 'r']\n",
      "\n",
      "Models: ['GR4J', 'HBV', 'RFR']\n",
      "Data sources: ['mswep', 'gpcp', 'e5l', 'e5']\n",
      "========================================================================================================================\n"
     ]
    }
   ],
   "source": [
    "# Display full summary table\n",
    "print(\"=\" * 120)\n",
    "print(\"SUMMARY STATISTICS: Model Performance by Meteorological Source\")\n",
    "print(\"=\" * 120)\n",
    "\n",
    "if len(summary_df) > 0:\n",
    "    print(summary_df.to_string(index=False))\n",
    "    print(\"=\" * 120)\n",
    "\n",
    "    # Create a pivot view for better comparison\n",
    "    print(\"\\n\\nKEY FINDINGS:\")\n",
    "    print(\"-\" * 120)\n",
    "\n",
    "    # Get unique metrics\n",
    "    all_columns = summary_df.columns.tolist()\n",
    "    metric_names = set()\n",
    "    for col in all_columns:\n",
    "        if \"_median\" in col:\n",
    "            metric_names.add(col.replace(\"_median\", \"\"))\n",
    "\n",
    "    print(f\"Total model-source combinations: {len(summary_df)}\")\n",
    "    print(f\"Unique metrics tracked: {len(metric_names)}\")\n",
    "    print(f\"Metrics: {sorted(metric_names)}\")\n",
    "    print(f\"\\nModels: {summary_df['Model'].unique().tolist()}\")\n",
    "    print(f\"Data sources: {summary_df['Source'].unique().tolist()}\")\n",
    "else:\n",
    "    print(\"\\n⚠️  No data loaded. Please ensure metrics files exist in:\")\n",
    "    for model_name, base_path in BASE_PATHS.items():\n",
    "        print(f\"   - {model_name}: {base_path}\")\n",
    "    print(\n",
    "        \"\\nExpected file structure: {model_dir}/{gauge_id}/{gauge_id}_{source}_metrics.json\"\n",
    "    )\n",
    "print(\"=\" * 120)"
   ]
  }
 ],
 "metadata": {
  "kernelspec": {
   "display_name": "camels_ru",
   "language": "python",
   "name": "python3"
  },
  "language_info": {
   "codemirror_mode": {
    "name": "ipython",
    "version": 3
   },
   "file_extension": ".py",
   "mimetype": "text/x-python",
   "name": "python",
   "nbconvert_exporter": "python",
   "pygments_lexer": "ipython3",
   "version": "3.12.11"
  }
 },
 "nbformat": 4,
 "nbformat_minor": 5
}
