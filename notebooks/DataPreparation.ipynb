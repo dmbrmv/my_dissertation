{
 "cells": [
  {
   "cell_type": "code",
   "execution_count": 1,
   "id": "ea4cfbfe",
   "metadata": {},
   "outputs": [],
   "source": [
    "import geopandas as gpd\n",
    "import pandas as pd\n"
   ]
  },
  {
   "cell_type": "code",
   "execution_count": null,
   "id": "0c48acc0",
   "metadata": {},
   "outputs": [],
   "source": [
    "gauges_file = gpd.read_file(\"../data/geometry/russia_gauges.gpkg\")\n",
    "gauges_file[\"gauge_id\"] = gauges_file[\"gauge_id\"].astype(str)\n",
    "gauges_file = gauges_file.set_index(\"gauge_id\")\n",
    "ws_file = gpd.read_file(\"../data/geometry/russia_ws.gpkg\")\n",
    "ws_file = ws_file.set_index(\"gauge_id\")\n",
    "ws_file = ws_file[ws_file[\"new_area\"] <= 50000]\n",
    "ws_file = ws_file.rename(columns={\"new_area\": \"area_km2\"})\n",
    "gauges_file = gauges_file.loc[ws_file.index, :]\n",
    "\n",
    "\n",
    "def lim_definer(area: float):\n",
    "    lim_1, lim_2, lim_3, lim_4 = 100, 2000, 10000, 50000\n",
    "\n",
    "    if area < lim_1:\n",
    "        return \"а) < 100 $км^2$\"\n",
    "    elif (area >= lim_1) & (area <= lim_2):\n",
    "        return \"б) 100 $км^2$ - 2 000 $км^2$\"\n",
    "    elif (area > lim_2) & (area <= lim_3):\n",
    "        return \"в) 2 000 $км^2$ - 10 000 $км^2$\"\n",
    "    elif (area > lim_3) & (area <= lim_4):\n",
    "        return \"г) 10 000 $км^2$ - 50 000 $км^2$\"\n",
    "    else:\n",
    "        return \"> 50 000 $км^2$\"\n",
    "\n",
    "\n",
    "ws_file[\"size\"] = ws_file.loc[:, \"area_km2\"].apply(lambda x: lim_definer(x))\n",
    "ws_file[\"size\"] = pd.Categorical(\n",
    "    ws_file[\"size\"],\n",
    "    [\n",
    "        \"а) < 100 $км^2$\",\n",
    "        \"б) 100 $км^2$ - 2 000 $км^2$\",\n",
    "        \"в) 2 000 $км^2$ - 10 000 $км^2$\",\n",
    "        \"г) 10 000 $км^2$ - 50 000 $км^2$\",\n",
    "    ],\n",
    ")\n",
    "\n",
    "hbv_table = pd.read_csv(\n",
    "    \"../archive/conclusions/tables/HBV_res_mle_NSE.csv\",\n",
    "    index_col=\"gauge_id\",\n",
    "    dtype={\"gauge_id\": str},\n",
    ")\n",
    "gr4j_table = pd.read_csv(\n",
    "    \"../archive/conclusions/tables/GR4J_res_mle_NSE.csv\",\n",
    "    index_col=\"gauge_id\",\n",
    "    dtype={\"gauge_id\": str},\n",
    ")\n",
    "rfr_table = pd.read_csv(\n",
    "    \"../archive/conclusions/tables/res_rfr_cv.csv\",\n",
    "    index_col=\"gauge_id\",\n",
    "    dtype={\"gauge_id\": str},\n",
    ")\n",
    "lstm_table = pd.read_csv(\n",
    "    \"../archive/conclusions/tables/cudalstm_q_mm_day_mswep_res.csv\",\n",
    "    index_col=\"gauge_id\",\n",
    "    dtype={\"gauge_id\": str},\n",
    ")\n",
    "lstm_table.index = lstm_table.index.astype(str)\n",
    "\n",
    "common_index = (\n",
    "    hbv_table.index.intersection(gr4j_table.index)\n",
    "    .intersection(rfr_table.index)\n",
    "    .intersection(lstm_table.index)\n",
    "    .intersection(ws_file.index)\n",
    ")\n",
    "\n",
    "\n",
    "ws_file = ws_file.loc[common_index, :]\n",
    "gauges_file = gauges_file.loc[common_index, :]\n",
    "\n",
    "gauges_file.to_file(\"../data/geometry/russia_50k_gauges.gpkg\", driver=\"GPKG\")\n",
    "ws_file.to_file(\"../data/geometry/russia_50k_ws.gpkg\", driver=\"GPKG\")"
   ]
  },
  {
   "cell_type": "code",
   "execution_count": 8,
   "id": "3bebd68a",
   "metadata": {},
   "outputs": [
    {
     "data": {
      "text/plain": [
       "NSE      0.435474\n",
       "KGE      0.526287\n",
       "PBIAS    3.513584\n",
       "dtype: float64"
      ]
     },
     "execution_count": 8,
     "metadata": {},
     "output_type": "execute_result"
    }
   ],
   "source": [
    "pd.read_csv(\n",
    "    \"/home/dmbrmv/Development/Dissertation/data/optimization/gr4j_optuna_summary.csv\"\n",
    ")[[\"NSE\", \"KGE\", \"PBIAS\"]].median()"
   ]
  }
 ],
 "metadata": {
  "kernelspec": {
   "display_name": "camels_ru",
   "language": "python",
   "name": "python3"
  },
  "language_info": {
   "codemirror_mode": {
    "name": "ipython",
    "version": 3
   },
   "file_extension": ".py",
   "mimetype": "text/x-python",
   "name": "python",
   "nbconvert_exporter": "python",
   "pygments_lexer": "ipython3",
   "version": "3.12.11"
  }
 },
 "nbformat": 4,
 "nbformat_minor": 5
}
