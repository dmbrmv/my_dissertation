{
 "cells": [
  {
   "cell_type": "code",
   "execution_count": 2,
   "metadata": {},
   "outputs": [],
   "source": [
    "%load_ext autoreload\n",
    "%autoreload 2"
   ]
  },
  {
   "cell_type": "code",
   "execution_count": 3,
   "metadata": {},
   "outputs": [
    {
     "name": "stdout",
     "output_type": "stream",
     "text": [
      "Using device: cuda\n",
      "\n",
      "NVIDIA GeForce RTX 4080 SUPER\n",
      "Memory Usage:\n",
      "Allocated: 0.0 GB\n",
      "Cached:    0.0 GB\n"
     ]
    }
   ],
   "source": [
    "import geopandas as gpd\n",
    "from pathlib import Path\n",
    "\n",
    "import matplotlib.pyplot as plt\n",
    "import numpy as np\n",
    "import pandas as pd\n",
    "import shap\n",
    "import torch\n",
    "import xarray as xr\n",
    "from neuralhydrology.datasetzoo import get_dataset\n",
    "from neuralhydrology.datautils.utils import load_scaler\n",
    "from neuralhydrology.modelzoo.cudalstm import CudaLSTM\n",
    "from neuralhydrology.modelzoo.customlstm import CustomLSTM\n",
    "from neuralhydrology.modelzoo.ealstm import EALSTM\n",
    "from neuralhydrology.utils.config import Config\n",
    "from torch.utils.data import DataLoader\n",
    "from tqdm.notebook import tqdm\n",
    "\n",
    "# setting device on GPU if available, else CPU\n",
    "device = torch.device(\"cuda\" if torch.cuda.is_available() else \"cpu\")\n",
    "print(\"Using device:\", device)\n",
    "print()\n",
    "\n",
    "# Additional Info when using cuda\n",
    "if device.type == \"cuda\":\n",
    "    print(torch.cuda.get_device_name(0))\n",
    "    print(\"Memory Usage:\")\n",
    "    print(\"Allocated:\", round(torch.cuda.memory_allocated(0) / 1024**3, 1), \"GB\")\n",
    "    print(\"Cached:   \", round(torch.cuda.memory_reserved(0) / 1024**3, 1), \"GB\")"
   ]
  },
  {
   "cell_type": "markdown",
   "metadata": {},
   "source": [
    "### Prepare model"
   ]
  },
  {
   "cell_type": "code",
   "execution_count": null,
   "metadata": {},
   "outputs": [],
   "source": [
    "config_file = Path(\n",
    "    \"./model_runs/cudalstm_q_mm_day_mswep_no_autocorr_static_1103_191754/config.yml\"\n",
    ")\n",
    "\n",
    "cudalstm_config = Config(config_file)\n",
    "\n",
    "# create a new model instance with random weights\n",
    "cuda_lstm = CudaLSTM(cfg=cudalstm_config)\n",
    "\n",
    "# load the trained weights into the new model.\n",
    "model_path = cudalstm_config.run_dir / \"model_epoch024.pt\"\n",
    "model_weights = torch.load(\n",
    "    str(model_path), map_location=\"cpu\"\n",
    ")  # load the weights from the file, creating the weight tensors on CPU\n",
    "cuda_lstm.load_state_dict(\n",
    "    model_weights\n",
    ")  # set the new model's weights to the values loaded from file\n",
    "custom_lstm = CustomLSTM(\n",
    "    cfg=cudalstm_config\n",
    ")  # create a new CustomLSTM (with random weights)\n",
    "custom_lstm.copy_weights(cuda_lstm)  # copy the CudaLSTM weights into the CustomLSTM\n",
    "# make sure we're in eval mode where dropout is deactivated\n",
    "custom_lstm.eval()\n",
    "\n",
    "# load the dataset\n",
    "scaler = load_scaler(cudalstm_config.run_dir)\n",
    "dataset = get_dataset(cudalstm_config, is_train=False, period=\"test\", scaler=scaler)\n",
    "dataloader = DataLoader(\n",
    "    dataset, batch_size=731, shuffle=False, collate_fn=dataset.collate_fn\n",
    ")\n",
    "\n",
    "example_states = custom_lstm(next(iter(dataloader)))\n",
    "example_states.keys()"
   ]
  },
  {
   "cell_type": "markdown",
   "metadata": {},
   "source": [
    "### Read geometry and model data results"
   ]
  },
  {
   "cell_type": "code",
   "execution_count": null,
   "metadata": {},
   "outputs": [],
   "source": []
  },
  {
   "cell_type": "markdown",
   "metadata": {},
   "source": [
    "### Metrics by Geo Cluster"
   ]
  },
  {
   "cell_type": "code",
   "execution_count": null,
   "metadata": {},
   "outputs": [],
   "source": []
  },
  {
   "cell_type": "markdown",
   "metadata": {},
   "source": [
    "### Metrics by Hydro Cluster"
   ]
  },
  {
   "cell_type": "code",
   "execution_count": null,
   "metadata": {},
   "outputs": [],
   "source": []
  },
  {
   "cell_type": "markdown",
   "metadata": {},
   "source": [
    "### Metrics by area"
   ]
  },
  {
   "cell_type": "code",
   "execution_count": null,
   "metadata": {},
   "outputs": [],
   "source": []
  },
  {
   "cell_type": "markdown",
   "metadata": {},
   "source": [
    "### Cell states vs Evaporation"
   ]
  },
  {
   "cell_type": "code",
   "execution_count": null,
   "metadata": {},
   "outputs": [],
   "source": []
  },
  {
   "cell_type": "markdown",
   "metadata": {},
   "source": [
    "### Cell states vs Snow Depth"
   ]
  },
  {
   "cell_type": "code",
   "execution_count": null,
   "metadata": {},
   "outputs": [],
   "source": []
  },
  {
   "cell_type": "markdown",
   "metadata": {},
   "source": [
    "### Cell states vs Sub Surface Flow"
   ]
  },
  {
   "cell_type": "code",
   "execution_count": null,
   "metadata": {},
   "outputs": [],
   "source": []
  },
  {
   "cell_type": "markdown",
   "metadata": {},
   "source": [
    "### Cell states vs SWE"
   ]
  },
  {
   "cell_type": "code",
   "execution_count": null,
   "metadata": {},
   "outputs": [],
   "source": []
  }
 ],
 "metadata": {
  "kernelspec": {
   "display_name": "base",
   "language": "python",
   "name": "python3"
  },
  "language_info": {
   "codemirror_mode": {
    "name": "ipython",
    "version": 3
   },
   "file_extension": ".py",
   "mimetype": "text/x-python",
   "name": "python",
   "nbconvert_exporter": "python",
   "pygments_lexer": "ipython3",
   "version": "3.10.13"
  }
 },
 "nbformat": 4,
 "nbformat_minor": 2
}
