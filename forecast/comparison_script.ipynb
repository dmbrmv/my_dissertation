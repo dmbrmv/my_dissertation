{
 "cells": [
  {
   "cell_type": "code",
   "execution_count": 1,
   "metadata": {
    "ExecuteTime": {
     "end_time": "2024-03-10T07:40:39.790991Z",
     "start_time": "2024-03-10T07:40:39.777250Z"
    }
   },
   "outputs": [],
   "source": [
    "%load_ext autoreload\n",
    "%autoreload 2"
   ]
  },
  {
   "cell_type": "code",
   "execution_count": 1,
   "metadata": {},
   "outputs": [],
   "source": [
    "import glob\n",
    "from sklearn.metrics import mean_absolute_error\n",
    "from comparison import gauge_cmip\n",
    "import pandas as pd\n",
    "import numpy as np\n",
    "import json\n"
   ]
  },
  {
   "cell_type": "code",
   "execution_count": 4,
   "metadata": {},
   "outputs": [
    {
     "data": {
      "text/plain": [
       "False"
      ]
     },
     "execution_count": 4,
     "metadata": {},
     "output_type": "execute_result"
    }
   ],
   "source": [
    "not pd.DataFrame().empty"
   ]
  },
  {
   "cell_type": "code",
   "execution_count": null,
   "metadata": {},
   "outputs": [],
   "source": [
    "compare_list = list()\n",
    "for f in glob.glob('../geo_data/great_db/nc_concat/*.nc'):\n",
    "    gauge_id = f.split('/')[-1][:-3]\n",
    "    model_order = gauge_cmip(gauge_id=gauge_id)[1]\n",
    "    compare_list.append(gauge_cmip(gauge_id=gauge_id)[0])\n"
   ]
  },
  {
   "cell_type": "code",
   "execution_count": 55,
   "metadata": {},
   "outputs": [],
   "source": []
  },
  {
   "cell_type": "code",
   "execution_count": 22,
   "metadata": {},
   "outputs": [],
   "source": [
    "number_df = pd.concat([i['number'].reset_index(drop=True)\n",
    "                       for i in compare_list],\n",
    "                      axis=1)\n",
    "error_df = pd.concat([i['error'].reset_index(drop=True)\n",
    "                      for i in compare_list],\n",
    "                     axis=1)\n",
    "res_models = np.unique(number_df.mode(axis=1).iloc[:6, 0].values)\n",
    "\n",
    "fin_res = {}\n",
    "for order in res_models:\n",
    "    fin_res[order] = model_order[order]\n",
    "\n",
    "with open('./cmip_ranks.json', 'w') as outfile:\n",
    "    json.dump(fin_res, outfile)"
   ]
  },
  {
   "cell_type": "code",
   "execution_count": 18,
   "metadata": {},
   "outputs": [
    {
     "name": "stdout",
     "output_type": "stream",
     "text": [
      "access_cm2\n",
      "awi_cm_1_1_mr\n",
      "cmcc_esm2\n",
      "ec_earth3_veg_lr\n"
     ]
    }
   ],
   "source": []
  },
  {
   "cell_type": "code",
   "execution_count": 15,
   "metadata": {},
   "outputs": [
    {
     "data": {
      "text/plain": [
       "{1: 'access_cm2',\n",
       " 2: 'awi_cm_1_1_mr',\n",
       " 3: 'bcc_csm2_mr',\n",
       " 4: 'cesm2',\n",
       " 5: 'cmcc_esm2',\n",
       " 6: 'ec_earth3_veg_lr',\n",
       " 7: 'inm_cm4_8',\n",
       " 8: 'inm_cm5_0',\n",
       " 9: 'kace_1_0_g',\n",
       " 10: 'miroc6',\n",
       " 11: 'miroc_es2l',\n",
       " 12: 'mpi_esm1_2_lr',\n",
       " 13: 'mri_esm2_0',\n",
       " 14: 'noresm2_lm',\n",
       " 15: 'noresm2_mm',\n",
       " 16: 'ukesm1_0_ll'}"
      ]
     },
     "execution_count": 15,
     "metadata": {},
     "output_type": "execute_result"
    }
   ],
   "source": [
    "model_order"
   ]
  },
  {
   "cell_type": "code",
   "execution_count": null,
   "metadata": {},
   "outputs": [],
   "source": []
  },
  {
   "cell_type": "code",
   "execution_count": null,
   "metadata": {},
   "outputs": [],
   "source": []
  },
  {
   "cell_type": "code",
   "execution_count": null,
   "metadata": {},
   "outputs": [],
   "source": []
  },
  {
   "cell_type": "code",
   "execution_count": 7,
   "metadata": {},
   "outputs": [],
   "source": [
    "# select range from era5l\n",
    "era_prcp = era_gauge[['prcp_e5l']].rename({'index': 'date'}).sel(\n",
    "    date=slice('2018-01-01', '2020-01-01')).to_dataframe().droplevel(level=1)"
   ]
  },
  {
   "cell_type": "code",
   "execution_count": 4,
   "metadata": {},
   "outputs": [
    {
     "data": {
      "text/plain": [
       "{'access_cm2': 'precipitation_access_cm2',\n",
       " 'awi_cm_1_1_mr': 'precipitation_awi_cm_1_1_mr',\n",
       " 'bcc_csm2_mr': 'precipitation_bcc_csm2_mr',\n",
       " 'cesm2': 'precipitation_cesm2',\n",
       " 'cmcc_esm2': 'precipitation_cmcc_esm2',\n",
       " 'ec_earth3_veg_lr': 'precipitation_ec_earth3_veg_lr',\n",
       " 'inm_cm4_8': 'precipitation_inm_cm4_8',\n",
       " 'inm_cm5_0': 'precipitation_inm_cm5_0',\n",
       " 'kace_1_0_g': 'precipitation_kace_1_0_g',\n",
       " 'miroc6': 'precipitation_miroc6',\n",
       " 'miroc_es2l': 'precipitation_miroc_es2l',\n",
       " 'mpi_esm1_2_lr': 'precipitation_mpi_esm1_2_lr',\n",
       " 'mri_esm2_0': 'precipitation_mri_esm2_0',\n",
       " 'noresm2_lm': 'precipitation_noresm2_lm',\n",
       " 'noresm2_mm': 'precipitation_noresm2_mm',\n",
       " 'ukesm1_0_ll': 'precipitation_ukesm1_0_ll'}"
      ]
     },
     "execution_count": 4,
     "metadata": {},
     "output_type": "execute_result"
    }
   ],
   "source": [
    "model_names = {'_'.join(v.split('_')[1:]): v\n",
    "               for v in cmip_gauge.data_vars if 'precipitation' in v}\n",
    "model_names"
   ]
  },
  {
   "cell_type": "code",
   "execution_count": 8,
   "metadata": {},
   "outputs": [],
   "source": [
    "for model_name, model_column in model_names.items():\n",
    "    cmip_p = cmip_gauge[[model_column]].sel(\n",
    "        date=slice('2018-01-01', '2020-01-01')).to_dataframe()\n",
    "    cmip_p /= 10\n",
    "    cmip_p = cmip_p.rename(columns={model_column: model_name})\n",
    "    \n",
    "    era_prcp = era_prcp.join(cmip_p)"
   ]
  },
  {
   "cell_type": "code",
   "execution_count": 9,
   "metadata": {},
   "outputs": [
    {
     "data": {
      "text/html": [
       "<div>\n",
       "<style scoped>\n",
       "    .dataframe tbody tr th:only-of-type {\n",
       "        vertical-align: middle;\n",
       "    }\n",
       "\n",
       "    .dataframe tbody tr th {\n",
       "        vertical-align: top;\n",
       "    }\n",
       "\n",
       "    .dataframe thead th {\n",
       "        text-align: right;\n",
       "    }\n",
       "</style>\n",
       "<table border=\"1\" class=\"dataframe\">\n",
       "  <thead>\n",
       "    <tr style=\"text-align: right;\">\n",
       "      <th></th>\n",
       "      <th>prcp_e5l</th>\n",
       "      <th>access_cm2</th>\n",
       "      <th>awi_cm_1_1_mr</th>\n",
       "      <th>bcc_csm2_mr</th>\n",
       "      <th>cesm2</th>\n",
       "      <th>cmcc_esm2</th>\n",
       "      <th>ec_earth3_veg_lr</th>\n",
       "      <th>inm_cm4_8</th>\n",
       "      <th>inm_cm5_0</th>\n",
       "      <th>kace_1_0_g</th>\n",
       "      <th>miroc6</th>\n",
       "      <th>miroc_es2l</th>\n",
       "      <th>mpi_esm1_2_lr</th>\n",
       "      <th>mri_esm2_0</th>\n",
       "      <th>noresm2_lm</th>\n",
       "      <th>noresm2_mm</th>\n",
       "      <th>ukesm1_0_ll</th>\n",
       "    </tr>\n",
       "    <tr>\n",
       "      <th>date</th>\n",
       "      <th></th>\n",
       "      <th></th>\n",
       "      <th></th>\n",
       "      <th></th>\n",
       "      <th></th>\n",
       "      <th></th>\n",
       "      <th></th>\n",
       "      <th></th>\n",
       "      <th></th>\n",
       "      <th></th>\n",
       "      <th></th>\n",
       "      <th></th>\n",
       "      <th></th>\n",
       "      <th></th>\n",
       "      <th></th>\n",
       "      <th></th>\n",
       "      <th></th>\n",
       "    </tr>\n",
       "  </thead>\n",
       "  <tbody>\n",
       "    <tr>\n",
       "      <th>2018-01-01</th>\n",
       "      <td>0.027686</td>\n",
       "      <td>1.828077</td>\n",
       "      <td>0.030457</td>\n",
       "      <td>0.061016</td>\n",
       "      <td>NaN</td>\n",
       "      <td>0.067852</td>\n",
       "      <td>0.036703</td>\n",
       "      <td>0.681195</td>\n",
       "      <td>14.289569</td>\n",
       "      <td>NaN</td>\n",
       "      <td>NaN</td>\n",
       "      <td>2.381394</td>\n",
       "      <td>0.151428</td>\n",
       "      <td>NaN</td>\n",
       "      <td>0.342760</td>\n",
       "      <td>NaN</td>\n",
       "      <td>NaN</td>\n",
       "    </tr>\n",
       "    <tr>\n",
       "      <th>2018-01-02</th>\n",
       "      <td>0.149084</td>\n",
       "      <td>1.142546</td>\n",
       "      <td>1.280544</td>\n",
       "      <td>0.063395</td>\n",
       "      <td>NaN</td>\n",
       "      <td>0.199292</td>\n",
       "      <td>0.173512</td>\n",
       "      <td>0.486026</td>\n",
       "      <td>9.243484</td>\n",
       "      <td>NaN</td>\n",
       "      <td>NaN</td>\n",
       "      <td>2.051793</td>\n",
       "      <td>0.982222</td>\n",
       "      <td>NaN</td>\n",
       "      <td>0.611081</td>\n",
       "      <td>NaN</td>\n",
       "      <td>NaN</td>\n",
       "    </tr>\n",
       "    <tr>\n",
       "      <th>2018-01-03</th>\n",
       "      <td>0.278119</td>\n",
       "      <td>0.005271</td>\n",
       "      <td>3.464992</td>\n",
       "      <td>0.031690</td>\n",
       "      <td>NaN</td>\n",
       "      <td>0.040121</td>\n",
       "      <td>0.401723</td>\n",
       "      <td>0.347296</td>\n",
       "      <td>3.851303</td>\n",
       "      <td>NaN</td>\n",
       "      <td>NaN</td>\n",
       "      <td>1.144750</td>\n",
       "      <td>0.094485</td>\n",
       "      <td>NaN</td>\n",
       "      <td>0.874655</td>\n",
       "      <td>NaN</td>\n",
       "      <td>NaN</td>\n",
       "    </tr>\n",
       "    <tr>\n",
       "      <th>2018-01-04</th>\n",
       "      <td>0.019612</td>\n",
       "      <td>0.031994</td>\n",
       "      <td>1.145494</td>\n",
       "      <td>0.058853</td>\n",
       "      <td>NaN</td>\n",
       "      <td>0.051777</td>\n",
       "      <td>0.168197</td>\n",
       "      <td>0.434607</td>\n",
       "      <td>4.374561</td>\n",
       "      <td>NaN</td>\n",
       "      <td>NaN</td>\n",
       "      <td>1.932730</td>\n",
       "      <td>0.015712</td>\n",
       "      <td>NaN</td>\n",
       "      <td>0.600241</td>\n",
       "      <td>NaN</td>\n",
       "      <td>NaN</td>\n",
       "    </tr>\n",
       "    <tr>\n",
       "      <th>2018-01-05</th>\n",
       "      <td>0.007236</td>\n",
       "      <td>0.058170</td>\n",
       "      <td>13.103180</td>\n",
       "      <td>0.124640</td>\n",
       "      <td>NaN</td>\n",
       "      <td>0.565580</td>\n",
       "      <td>0.007867</td>\n",
       "      <td>0.271701</td>\n",
       "      <td>14.033071</td>\n",
       "      <td>NaN</td>\n",
       "      <td>NaN</td>\n",
       "      <td>10.213562</td>\n",
       "      <td>0.114074</td>\n",
       "      <td>NaN</td>\n",
       "      <td>0.278239</td>\n",
       "      <td>NaN</td>\n",
       "      <td>NaN</td>\n",
       "    </tr>\n",
       "    <tr>\n",
       "      <th>...</th>\n",
       "      <td>...</td>\n",
       "      <td>...</td>\n",
       "      <td>...</td>\n",
       "      <td>...</td>\n",
       "      <td>...</td>\n",
       "      <td>...</td>\n",
       "      <td>...</td>\n",
       "      <td>...</td>\n",
       "      <td>...</td>\n",
       "      <td>...</td>\n",
       "      <td>...</td>\n",
       "      <td>...</td>\n",
       "      <td>...</td>\n",
       "      <td>...</td>\n",
       "      <td>...</td>\n",
       "      <td>...</td>\n",
       "      <td>...</td>\n",
       "    </tr>\n",
       "    <tr>\n",
       "      <th>2019-12-28</th>\n",
       "      <td>0.775285</td>\n",
       "      <td>0.525414</td>\n",
       "      <td>0.781746</td>\n",
       "      <td>0.001333</td>\n",
       "      <td>NaN</td>\n",
       "      <td>0.110943</td>\n",
       "      <td>5.671542</td>\n",
       "      <td>3.188172</td>\n",
       "      <td>0.123225</td>\n",
       "      <td>NaN</td>\n",
       "      <td>NaN</td>\n",
       "      <td>NaN</td>\n",
       "      <td>0.287516</td>\n",
       "      <td>NaN</td>\n",
       "      <td>0.396635</td>\n",
       "      <td>NaN</td>\n",
       "      <td>NaN</td>\n",
       "    </tr>\n",
       "    <tr>\n",
       "      <th>2019-12-29</th>\n",
       "      <td>0.052356</td>\n",
       "      <td>0.528226</td>\n",
       "      <td>0.007188</td>\n",
       "      <td>0.333532</td>\n",
       "      <td>NaN</td>\n",
       "      <td>0.055371</td>\n",
       "      <td>8.761183</td>\n",
       "      <td>0.892293</td>\n",
       "      <td>0.045934</td>\n",
       "      <td>NaN</td>\n",
       "      <td>NaN</td>\n",
       "      <td>NaN</td>\n",
       "      <td>1.132134</td>\n",
       "      <td>NaN</td>\n",
       "      <td>0.092871</td>\n",
       "      <td>NaN</td>\n",
       "      <td>NaN</td>\n",
       "    </tr>\n",
       "    <tr>\n",
       "      <th>2019-12-30</th>\n",
       "      <td>0.015510</td>\n",
       "      <td>0.014342</td>\n",
       "      <td>0.015196</td>\n",
       "      <td>0.092729</td>\n",
       "      <td>NaN</td>\n",
       "      <td>0.109075</td>\n",
       "      <td>0.506238</td>\n",
       "      <td>0.016178</td>\n",
       "      <td>0.096249</td>\n",
       "      <td>NaN</td>\n",
       "      <td>NaN</td>\n",
       "      <td>NaN</td>\n",
       "      <td>7.337712</td>\n",
       "      <td>NaN</td>\n",
       "      <td>0.016862</td>\n",
       "      <td>NaN</td>\n",
       "      <td>NaN</td>\n",
       "    </tr>\n",
       "    <tr>\n",
       "      <th>2019-12-31</th>\n",
       "      <td>0.562491</td>\n",
       "      <td>0.006826</td>\n",
       "      <td>0.000710</td>\n",
       "      <td>0.117825</td>\n",
       "      <td>NaN</td>\n",
       "      <td>0.114331</td>\n",
       "      <td>5.588966</td>\n",
       "      <td>0.542665</td>\n",
       "      <td>0.112649</td>\n",
       "      <td>NaN</td>\n",
       "      <td>NaN</td>\n",
       "      <td>NaN</td>\n",
       "      <td>4.558806</td>\n",
       "      <td>NaN</td>\n",
       "      <td>0.013726</td>\n",
       "      <td>NaN</td>\n",
       "      <td>NaN</td>\n",
       "    </tr>\n",
       "    <tr>\n",
       "      <th>2020-01-01</th>\n",
       "      <td>6.392877</td>\n",
       "      <td>0.020669</td>\n",
       "      <td>0.004506</td>\n",
       "      <td>0.085236</td>\n",
       "      <td>NaN</td>\n",
       "      <td>0.119844</td>\n",
       "      <td>9.566041</td>\n",
       "      <td>1.997803</td>\n",
       "      <td>1.398335</td>\n",
       "      <td>NaN</td>\n",
       "      <td>NaN</td>\n",
       "      <td>1.919651</td>\n",
       "      <td>1.812023</td>\n",
       "      <td>NaN</td>\n",
       "      <td>0.033420</td>\n",
       "      <td>0.007827</td>\n",
       "      <td>NaN</td>\n",
       "    </tr>\n",
       "  </tbody>\n",
       "</table>\n",
       "<p>731 rows × 17 columns</p>\n",
       "</div>"
      ],
      "text/plain": [
       "            prcp_e5l  access_cm2  awi_cm_1_1_mr  bcc_csm2_mr  cesm2  \\\n",
       "date                                                                  \n",
       "2018-01-01  0.027686    1.828077       0.030457     0.061016    NaN   \n",
       "2018-01-02  0.149084    1.142546       1.280544     0.063395    NaN   \n",
       "2018-01-03  0.278119    0.005271       3.464992     0.031690    NaN   \n",
       "2018-01-04  0.019612    0.031994       1.145494     0.058853    NaN   \n",
       "2018-01-05  0.007236    0.058170      13.103180     0.124640    NaN   \n",
       "...              ...         ...            ...          ...    ...   \n",
       "2019-12-28  0.775285    0.525414       0.781746     0.001333    NaN   \n",
       "2019-12-29  0.052356    0.528226       0.007188     0.333532    NaN   \n",
       "2019-12-30  0.015510    0.014342       0.015196     0.092729    NaN   \n",
       "2019-12-31  0.562491    0.006826       0.000710     0.117825    NaN   \n",
       "2020-01-01  6.392877    0.020669       0.004506     0.085236    NaN   \n",
       "\n",
       "            cmcc_esm2  ec_earth3_veg_lr  inm_cm4_8  inm_cm5_0  kace_1_0_g  \\\n",
       "date                                                                        \n",
       "2018-01-01   0.067852          0.036703   0.681195  14.289569         NaN   \n",
       "2018-01-02   0.199292          0.173512   0.486026   9.243484         NaN   \n",
       "2018-01-03   0.040121          0.401723   0.347296   3.851303         NaN   \n",
       "2018-01-04   0.051777          0.168197   0.434607   4.374561         NaN   \n",
       "2018-01-05   0.565580          0.007867   0.271701  14.033071         NaN   \n",
       "...               ...               ...        ...        ...         ...   \n",
       "2019-12-28   0.110943          5.671542   3.188172   0.123225         NaN   \n",
       "2019-12-29   0.055371          8.761183   0.892293   0.045934         NaN   \n",
       "2019-12-30   0.109075          0.506238   0.016178   0.096249         NaN   \n",
       "2019-12-31   0.114331          5.588966   0.542665   0.112649         NaN   \n",
       "2020-01-01   0.119844          9.566041   1.997803   1.398335         NaN   \n",
       "\n",
       "            miroc6  miroc_es2l  mpi_esm1_2_lr  mri_esm2_0  noresm2_lm  \\\n",
       "date                                                                    \n",
       "2018-01-01     NaN    2.381394       0.151428         NaN    0.342760   \n",
       "2018-01-02     NaN    2.051793       0.982222         NaN    0.611081   \n",
       "2018-01-03     NaN    1.144750       0.094485         NaN    0.874655   \n",
       "2018-01-04     NaN    1.932730       0.015712         NaN    0.600241   \n",
       "2018-01-05     NaN   10.213562       0.114074         NaN    0.278239   \n",
       "...            ...         ...            ...         ...         ...   \n",
       "2019-12-28     NaN         NaN       0.287516         NaN    0.396635   \n",
       "2019-12-29     NaN         NaN       1.132134         NaN    0.092871   \n",
       "2019-12-30     NaN         NaN       7.337712         NaN    0.016862   \n",
       "2019-12-31     NaN         NaN       4.558806         NaN    0.013726   \n",
       "2020-01-01     NaN    1.919651       1.812023         NaN    0.033420   \n",
       "\n",
       "            noresm2_mm  ukesm1_0_ll  \n",
       "date                                 \n",
       "2018-01-01         NaN          NaN  \n",
       "2018-01-02         NaN          NaN  \n",
       "2018-01-03         NaN          NaN  \n",
       "2018-01-04         NaN          NaN  \n",
       "2018-01-05         NaN          NaN  \n",
       "...                ...          ...  \n",
       "2019-12-28         NaN          NaN  \n",
       "2019-12-29         NaN          NaN  \n",
       "2019-12-30         NaN          NaN  \n",
       "2019-12-31         NaN          NaN  \n",
       "2020-01-01    0.007827          NaN  \n",
       "\n",
       "[731 rows x 17 columns]"
      ]
     },
     "execution_count": 9,
     "metadata": {},
     "output_type": "execute_result"
    }
   ],
   "source": [
    "era_prcp"
   ]
  },
  {
   "cell_type": "code",
   "execution_count": 14,
   "metadata": {},
   "outputs": [],
   "source": [
    "era_p = era_prcp['prcp_e5l']\n",
    "model_p = era_prcp['access_cm2']"
   ]
  },
  {
   "cell_type": "code",
   "execution_count": 15,
   "metadata": {},
   "outputs": [
    {
     "data": {
      "text/plain": [
       "0.06620672796355641"
      ]
     },
     "execution_count": 15,
     "metadata": {},
     "output_type": "execute_result"
    }
   ],
   "source": [
    "pearsonr(x=era_p, y=model_p)[0]\n"
   ]
  },
  {
   "cell_type": "code",
   "execution_count": 21,
   "metadata": {},
   "outputs": [
    {
     "data": {
      "text/plain": [
       "-30.60289111648834"
      ]
     },
     "execution_count": 21,
     "metadata": {},
     "output_type": "execute_result"
    }
   ],
   "source": [
    "\n",
    "\n",
    "percent_diff(era_p, model_p)"
   ]
  },
  {
   "cell_type": "code",
   "execution_count": 11,
   "metadata": {},
   "outputs": [
    {
     "data": {
      "text/plain": [
       "2.986442827587067"
      ]
     },
     "execution_count": 11,
     "metadata": {},
     "output_type": "execute_result"
    }
   ],
   "source": [
    "\n",
    "mean_absolute_error(y_true=era_p, y_pred=model_p)"
   ]
  },
  {
   "cell_type": "code",
   "execution_count": 24,
   "metadata": {},
   "outputs": [
    {
     "data": {
      "text/html": [
       "<div>\n",
       "<style scoped>\n",
       "    .dataframe tbody tr th:only-of-type {\n",
       "        vertical-align: middle;\n",
       "    }\n",
       "\n",
       "    .dataframe tbody tr th {\n",
       "        vertical-align: top;\n",
       "    }\n",
       "\n",
       "    .dataframe thead th {\n",
       "        text-align: right;\n",
       "    }\n",
       "</style>\n",
       "<table border=\"1\" class=\"dataframe\">\n",
       "  <thead>\n",
       "    <tr style=\"text-align: right;\">\n",
       "      <th></th>\n",
       "      <th>r</th>\n",
       "      <th>error</th>\n",
       "    </tr>\n",
       "  </thead>\n",
       "  <tbody>\n",
       "    <tr>\n",
       "      <th>ec_earth3_veg_lr</th>\n",
       "      <td>0.061806</td>\n",
       "      <td>6.447755</td>\n",
       "    </tr>\n",
       "    <tr>\n",
       "      <th>noresm2_lm</th>\n",
       "      <td>0.076563</td>\n",
       "      <td>-9.595899</td>\n",
       "    </tr>\n",
       "    <tr>\n",
       "      <th>bcc_csm2_mr</th>\n",
       "      <td>0.090335</td>\n",
       "      <td>-23.535877</td>\n",
       "    </tr>\n",
       "    <tr>\n",
       "      <th>cmcc_esm2</th>\n",
       "      <td>0.131374</td>\n",
       "      <td>-24.892107</td>\n",
       "    </tr>\n",
       "    <tr>\n",
       "      <th>awi_cm_1_1_mr</th>\n",
       "      <td>0.151997</td>\n",
       "      <td>-30.572703</td>\n",
       "    </tr>\n",
       "    <tr>\n",
       "      <th>access_cm2</th>\n",
       "      <td>0.066207</td>\n",
       "      <td>-30.602891</td>\n",
       "    </tr>\n",
       "    <tr>\n",
       "      <th>mpi_esm1_2_lr</th>\n",
       "      <td>0.142016</td>\n",
       "      <td>-44.990548</td>\n",
       "    </tr>\n",
       "    <tr>\n",
       "      <th>inm_cm4_8</th>\n",
       "      <td>0.184828</td>\n",
       "      <td>-48.158451</td>\n",
       "    </tr>\n",
       "    <tr>\n",
       "      <th>inm_cm5_0</th>\n",
       "      <td>0.062849</td>\n",
       "      <td>-66.778051</td>\n",
       "    </tr>\n",
       "  </tbody>\n",
       "</table>\n",
       "</div>"
      ],
      "text/plain": [
       "                         r      error\n",
       "ec_earth3_veg_lr  0.061806   6.447755\n",
       "noresm2_lm        0.076563  -9.595899\n",
       "bcc_csm2_mr       0.090335 -23.535877\n",
       "cmcc_esm2         0.131374 -24.892107\n",
       "awi_cm_1_1_mr     0.151997 -30.572703\n",
       "access_cm2        0.066207 -30.602891\n",
       "mpi_esm1_2_lr     0.142016 -44.990548\n",
       "inm_cm4_8         0.184828 -48.158451\n",
       "inm_cm5_0         0.062849 -66.778051"
      ]
     },
     "execution_count": 24,
     "metadata": {},
     "output_type": "execute_result"
    }
   ],
   "source": [
    "res_df = pd.DataFrame()\n",
    "era_p = era_prcp['prcp_e5l']\n",
    "\n",
    "for model_name in model_names.keys():\n",
    "    model_p = era_prcp.loc[:, model_name]\n",
    "    if any(model_p.isna()):\n",
    "        pass\n",
    "    else:\n",
    "        res_df.loc[model_name, 'r'] = pearsonr(x=era_p, y=model_p)[0]\n",
    "        res_df.loc[model_name, 'error'] = percent_diff(era_data=era_p,\n",
    "                                                       cmip_data=model_p)\n",
    "res_df.sort_values(by=['error', 'r'], ascending=False)"
   ]
  },
  {
   "cell_type": "code",
   "execution_count": null,
   "metadata": {},
   "outputs": [],
   "source": []
  }
 ],
 "metadata": {
  "kernelspec": {
   "display_name": "geo",
   "language": "python",
   "name": "python3"
  },
  "language_info": {
   "codemirror_mode": {
    "name": "ipython",
    "version": 3
   },
   "file_extension": ".py",
   "mimetype": "text/x-python",
   "name": "python",
   "nbconvert_exporter": "python",
   "pygments_lexer": "ipython3",
   "version": "3.9.12"
  },
  "orig_nbformat": 4
 },
 "nbformat": 4,
 "nbformat_minor": 2
}
