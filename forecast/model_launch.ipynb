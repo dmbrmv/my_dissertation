{
 "cells": [
  {
   "cell_type": "code",
   "execution_count": 1,
   "metadata": {},
   "outputs": [],
   "source": [
    "%load_ext autoreload\n",
    "%autoreload 2\n",
    "%load_ext tensorboard\n",
    "\n",
    "import warnings\n",
    "warnings.filterwarnings(\"ignore\")"
   ]
  },
  {
   "cell_type": "code",
   "execution_count": 2,
   "metadata": {},
   "outputs": [
    {
     "name": "stdout",
     "output_type": "stream",
     "text": [
      "Using device: cpu\n",
      "\n"
     ]
    }
   ],
   "source": [
    "from scripts.data_builder import HydroForecastData\n",
    "\n",
    "import glob\n",
    "import pandas as pd\n",
    "import xarray as xr\n",
    "import numpy as np\n",
    "from tqdm.notebook import tqdm\n",
    "\n",
    "from copy import deepcopy\n",
    "\n",
    "import torch\n",
    "import torch.nn as nn\n",
    "from torch.utils.data import DataLoader\n",
    "\n",
    "import pytorch_lightning as pl\n",
    "from pytorch_lightning.callbacks import EarlyStopping, LearningRateMonitor\n",
    "from pytorch_forecasting import (TimeSeriesDataSet, TemporalFusionTransformer,\n",
    "                                 Baseline)\n",
    "from pytorch_lightning.loggers import TensorBoardLogger\n",
    "\n",
    "from pytorch_forecasting.data import GroupNormalizer\n",
    "from pytorch_forecasting.metrics import QuantileLoss, SMAPE, RMSE, MASE\n",
    "from pytorch_forecasting.metrics.base_metrics import MultiHorizonMetric\n",
    "from sklearn.preprocessing import RobustScaler, MinMaxScaler\n",
    "\n",
    "torch.set_float32_matmul_precision('medium')\n",
    "# setting device on GPU if available, else CPU\n",
    "device = torch.device('cuda' if torch.cuda.is_available() else 'cpu')\n",
    "print('Using device:', device)\n",
    "print()\n",
    "\n",
    "#Additional Info when using cuda\n",
    "if device.type == 'cuda':\n",
    "    print(torch.cuda.get_device_name(0))\n",
    "    print('Memory Usage:')\n",
    "    print('Allocated:', round(torch.cuda.memory_allocated(0)/1024**3,1), 'GB')\n",
    "    print('Cached:   ', round(torch.cuda.memory_reserved(0)/1024**3,1), 'GB')"
   ]
  },
  {
   "attachments": {},
   "cell_type": "markdown",
   "metadata": {},
   "source": [
    "### Model"
   ]
  },
  {
   "cell_type": "code",
   "execution_count": 4,
   "metadata": {},
   "outputs": [
    {
     "data": {
      "application/vnd.jupyter.widget-view+json": {
       "model_id": "725ac6cc7bb74476bcaada2e186368e1",
       "version_major": 2,
       "version_minor": 0
      },
      "text/plain": [
       "  0%|          | 0/2 [00:00<?, ?it/s]"
      ]
     },
     "metadata": {},
     "output_type": "display_data"
    }
   ],
   "source": [
    "def file_checker(file_path: str,\n",
    "                 meteo_predictors: list,\n",
    "                 hydro_target: str):\n",
    "    condition = xr.open_dataset(\n",
    "        file_path).to_dataframe()[\n",
    "            [hydro_target,\n",
    "             *meteo_predictors]].isna().sum().sum() != 0\n",
    "    return condition\n",
    "\n",
    "\n",
    "meteo_input = ['prcp_e5l',  't_max_e5l', 't_min_e5l']\n",
    "hydro_target = 'q_mm_day'\n",
    "\n",
    "\n",
    "def open_for_tft(nc_files: list,\n",
    "                 static_path: str,\n",
    "                 meteo_predictors: list,\n",
    "                 hydro_target: str) -> pd.DataFrame:\n",
    "\n",
    "    static_attributes = pd.read_csv(static_path,\n",
    "                                    index_col='gauge_id')\n",
    "    static_attributes.index = static_attributes.index.astype(str)\n",
    "    \n",
    "    res_file = list()\n",
    "    for file_path in tqdm(nc_files):\n",
    "        gauge_id = file_path.split('/')[-1][:-3]\n",
    "        try:\n",
    "            gauge_static = static_attributes.loc[[gauge_id], :]\n",
    "        except KeyError:\n",
    "            print(f'No data for {gauge_id} !')\n",
    "            continue\n",
    "        cond = file_checker(file_path=file_path,\n",
    "                            meteo_predictors=meteo_predictors,\n",
    "                            hydro_target=hydro_target)\n",
    "        if cond:\n",
    "            continue\n",
    "        else:\n",
    "            file = xr.open_dataset(file_path)\n",
    "            file = file.to_dataframe()\n",
    "            # file['date'] = file.index\n",
    "            file = file.reset_index()\n",
    "            file['time_idx'] = file.index\n",
    "\n",
    "            for col in gauge_static.columns:\n",
    "                file[col] = gauge_static.loc[gauge_id, col]\n",
    "\n",
    "            res_file.append(file)\n",
    "\n",
    "    file = pd.concat(res_file, axis=0)\n",
    "    file = file.reset_index(drop=True)\n",
    "    return file\n",
    "\n",
    "file = open_for_tft(\n",
    "    nc_files=glob.glob('../geo_data/great_db/nc_all_q/*.nc')[:2],\n",
    "    static_path='../geo_data/static_attributes/geo_vector.csv',\n",
    "    meteo_predictors=meteo_input,\n",
    "    hydro_target=hydro_target)"
   ]
  },
  {
   "cell_type": "code",
   "execution_count": 7,
   "metadata": {},
   "outputs": [
    {
     "data": {
      "text/html": [
       "<div>\n",
       "<style scoped>\n",
       "    .dataframe tbody tr th:only-of-type {\n",
       "        vertical-align: middle;\n",
       "    }\n",
       "\n",
       "    .dataframe tbody tr th {\n",
       "        vertical-align: top;\n",
       "    }\n",
       "\n",
       "    .dataframe thead th {\n",
       "        text-align: right;\n",
       "    }\n",
       "</style>\n",
       "<table border=\"1\" class=\"dataframe\">\n",
       "  <thead>\n",
       "    <tr style=\"text-align: right;\">\n",
       "      <th></th>\n",
       "      <th>date</th>\n",
       "      <th>time_idx</th>\n",
       "      <th>gauge_id</th>\n",
       "      <th>q_mm_day</th>\n",
       "      <th>prcp_e5l</th>\n",
       "      <th>t_max_e5l</th>\n",
       "      <th>t_min_e5l</th>\n",
       "      <th>for_pc_sse</th>\n",
       "      <th>crp_pc_sse</th>\n",
       "      <th>inu_pc_ult</th>\n",
       "      <th>...</th>\n",
       "      <th>snd_pc_sav</th>\n",
       "      <th>kar_pc_sse</th>\n",
       "      <th>urb_pc_sse</th>\n",
       "      <th>gwt_cm_sav</th>\n",
       "      <th>lkv_mc_usu</th>\n",
       "      <th>rev_mc_usu</th>\n",
       "      <th>sgr_dk_sav</th>\n",
       "      <th>slp_dg_sav</th>\n",
       "      <th>ws_area</th>\n",
       "      <th>ele_mt_sav</th>\n",
       "    </tr>\n",
       "  </thead>\n",
       "  <tbody>\n",
       "    <tr>\n",
       "      <th>0</th>\n",
       "      <td>2008-01-01</td>\n",
       "      <td>0</td>\n",
       "      <td>12554</td>\n",
       "      <td>0.005875</td>\n",
       "      <td>0.037406</td>\n",
       "      <td>-12.545556</td>\n",
       "      <td>-20.230078</td>\n",
       "      <td>4.879185</td>\n",
       "      <td>33.656477</td>\n",
       "      <td>4.368996</td>\n",
       "      <td>...</td>\n",
       "      <td>40.552804</td>\n",
       "      <td>3.371179</td>\n",
       "      <td>0.572780</td>\n",
       "      <td>31.014556</td>\n",
       "      <td>349.373362</td>\n",
       "      <td>116.345706</td>\n",
       "      <td>20.567055</td>\n",
       "      <td>0.539884</td>\n",
       "      <td>155581.725624</td>\n",
       "      <td>211.755459</td>\n",
       "    </tr>\n",
       "    <tr>\n",
       "      <th>1</th>\n",
       "      <td>2008-01-02</td>\n",
       "      <td>1</td>\n",
       "      <td>12554</td>\n",
       "      <td>0.005875</td>\n",
       "      <td>1.579651</td>\n",
       "      <td>-9.159125</td>\n",
       "      <td>-22.872621</td>\n",
       "      <td>4.879185</td>\n",
       "      <td>33.656477</td>\n",
       "      <td>4.368996</td>\n",
       "      <td>...</td>\n",
       "      <td>40.552804</td>\n",
       "      <td>3.371179</td>\n",
       "      <td>0.572780</td>\n",
       "      <td>31.014556</td>\n",
       "      <td>349.373362</td>\n",
       "      <td>116.345706</td>\n",
       "      <td>20.567055</td>\n",
       "      <td>0.539884</td>\n",
       "      <td>155581.725624</td>\n",
       "      <td>211.755459</td>\n",
       "    </tr>\n",
       "    <tr>\n",
       "      <th>2</th>\n",
       "      <td>2008-01-03</td>\n",
       "      <td>2</td>\n",
       "      <td>12554</td>\n",
       "      <td>0.005875</td>\n",
       "      <td>0.169902</td>\n",
       "      <td>-21.139508</td>\n",
       "      <td>-28.211074</td>\n",
       "      <td>4.879185</td>\n",
       "      <td>33.656477</td>\n",
       "      <td>4.368996</td>\n",
       "      <td>...</td>\n",
       "      <td>40.552804</td>\n",
       "      <td>3.371179</td>\n",
       "      <td>0.572780</td>\n",
       "      <td>31.014556</td>\n",
       "      <td>349.373362</td>\n",
       "      <td>116.345706</td>\n",
       "      <td>20.567055</td>\n",
       "      <td>0.539884</td>\n",
       "      <td>155581.725624</td>\n",
       "      <td>211.755459</td>\n",
       "    </tr>\n",
       "    <tr>\n",
       "      <th>3</th>\n",
       "      <td>2008-01-04</td>\n",
       "      <td>3</td>\n",
       "      <td>12554</td>\n",
       "      <td>0.005875</td>\n",
       "      <td>0.360237</td>\n",
       "      <td>-14.468015</td>\n",
       "      <td>-25.438305</td>\n",
       "      <td>4.879185</td>\n",
       "      <td>33.656477</td>\n",
       "      <td>4.368996</td>\n",
       "      <td>...</td>\n",
       "      <td>40.552804</td>\n",
       "      <td>3.371179</td>\n",
       "      <td>0.572780</td>\n",
       "      <td>31.014556</td>\n",
       "      <td>349.373362</td>\n",
       "      <td>116.345706</td>\n",
       "      <td>20.567055</td>\n",
       "      <td>0.539884</td>\n",
       "      <td>155581.725624</td>\n",
       "      <td>211.755459</td>\n",
       "    </tr>\n",
       "    <tr>\n",
       "      <th>4</th>\n",
       "      <td>2008-01-05</td>\n",
       "      <td>4</td>\n",
       "      <td>12554</td>\n",
       "      <td>0.005875</td>\n",
       "      <td>0.346289</td>\n",
       "      <td>-12.684122</td>\n",
       "      <td>-17.142788</td>\n",
       "      <td>4.879185</td>\n",
       "      <td>33.656477</td>\n",
       "      <td>4.368996</td>\n",
       "      <td>...</td>\n",
       "      <td>40.552804</td>\n",
       "      <td>3.371179</td>\n",
       "      <td>0.572780</td>\n",
       "      <td>31.014556</td>\n",
       "      <td>349.373362</td>\n",
       "      <td>116.345706</td>\n",
       "      <td>20.567055</td>\n",
       "      <td>0.539884</td>\n",
       "      <td>155581.725624</td>\n",
       "      <td>211.755459</td>\n",
       "    </tr>\n",
       "    <tr>\n",
       "      <th>...</th>\n",
       "      <td>...</td>\n",
       "      <td>...</td>\n",
       "      <td>...</td>\n",
       "      <td>...</td>\n",
       "      <td>...</td>\n",
       "      <td>...</td>\n",
       "      <td>...</td>\n",
       "      <td>...</td>\n",
       "      <td>...</td>\n",
       "      <td>...</td>\n",
       "      <td>...</td>\n",
       "      <td>...</td>\n",
       "      <td>...</td>\n",
       "      <td>...</td>\n",
       "      <td>...</td>\n",
       "      <td>...</td>\n",
       "      <td>...</td>\n",
       "      <td>...</td>\n",
       "      <td>...</td>\n",
       "      <td>...</td>\n",
       "      <td>...</td>\n",
       "    </tr>\n",
       "    <tr>\n",
       "      <th>9493</th>\n",
       "      <td>2020-12-27</td>\n",
       "      <td>4744</td>\n",
       "      <td>5746</td>\n",
       "      <td>0.141412</td>\n",
       "      <td>0.001481</td>\n",
       "      <td>-17.242404</td>\n",
       "      <td>-25.553516</td>\n",
       "      <td>46.000000</td>\n",
       "      <td>0.361111</td>\n",
       "      <td>7.611111</td>\n",
       "      <td>...</td>\n",
       "      <td>46.166667</td>\n",
       "      <td>39.583333</td>\n",
       "      <td>0.583333</td>\n",
       "      <td>44.944444</td>\n",
       "      <td>0.416667</td>\n",
       "      <td>0.000000</td>\n",
       "      <td>38.972222</td>\n",
       "      <td>2.761111</td>\n",
       "      <td>2398.907739</td>\n",
       "      <td>158.722222</td>\n",
       "    </tr>\n",
       "    <tr>\n",
       "      <th>9494</th>\n",
       "      <td>2020-12-28</td>\n",
       "      <td>4745</td>\n",
       "      <td>5746</td>\n",
       "      <td>0.133496</td>\n",
       "      <td>0.000970</td>\n",
       "      <td>-20.990406</td>\n",
       "      <td>-28.335297</td>\n",
       "      <td>46.000000</td>\n",
       "      <td>0.361111</td>\n",
       "      <td>7.611111</td>\n",
       "      <td>...</td>\n",
       "      <td>46.166667</td>\n",
       "      <td>39.583333</td>\n",
       "      <td>0.583333</td>\n",
       "      <td>44.944444</td>\n",
       "      <td>0.416667</td>\n",
       "      <td>0.000000</td>\n",
       "      <td>38.972222</td>\n",
       "      <td>2.761111</td>\n",
       "      <td>2398.907739</td>\n",
       "      <td>158.722222</td>\n",
       "    </tr>\n",
       "    <tr>\n",
       "      <th>9495</th>\n",
       "      <td>2020-12-29</td>\n",
       "      <td>4746</td>\n",
       "      <td>5746</td>\n",
       "      <td>0.125580</td>\n",
       "      <td>0.011305</td>\n",
       "      <td>-22.119870</td>\n",
       "      <td>-27.855944</td>\n",
       "      <td>46.000000</td>\n",
       "      <td>0.361111</td>\n",
       "      <td>7.611111</td>\n",
       "      <td>...</td>\n",
       "      <td>46.166667</td>\n",
       "      <td>39.583333</td>\n",
       "      <td>0.583333</td>\n",
       "      <td>44.944444</td>\n",
       "      <td>0.416667</td>\n",
       "      <td>0.000000</td>\n",
       "      <td>38.972222</td>\n",
       "      <td>2.761111</td>\n",
       "      <td>2398.907739</td>\n",
       "      <td>158.722222</td>\n",
       "    </tr>\n",
       "    <tr>\n",
       "      <th>9496</th>\n",
       "      <td>2020-12-30</td>\n",
       "      <td>4747</td>\n",
       "      <td>5746</td>\n",
       "      <td>0.117664</td>\n",
       "      <td>0.021765</td>\n",
       "      <td>-21.696292</td>\n",
       "      <td>-28.507316</td>\n",
       "      <td>46.000000</td>\n",
       "      <td>0.361111</td>\n",
       "      <td>7.611111</td>\n",
       "      <td>...</td>\n",
       "      <td>46.166667</td>\n",
       "      <td>39.583333</td>\n",
       "      <td>0.583333</td>\n",
       "      <td>44.944444</td>\n",
       "      <td>0.416667</td>\n",
       "      <td>0.000000</td>\n",
       "      <td>38.972222</td>\n",
       "      <td>2.761111</td>\n",
       "      <td>2398.907739</td>\n",
       "      <td>158.722222</td>\n",
       "    </tr>\n",
       "    <tr>\n",
       "      <th>9497</th>\n",
       "      <td>2020-12-31</td>\n",
       "      <td>4748</td>\n",
       "      <td>5746</td>\n",
       "      <td>0.114425</td>\n",
       "      <td>0.004311</td>\n",
       "      <td>-21.967249</td>\n",
       "      <td>-28.856505</td>\n",
       "      <td>46.000000</td>\n",
       "      <td>0.361111</td>\n",
       "      <td>7.611111</td>\n",
       "      <td>...</td>\n",
       "      <td>46.166667</td>\n",
       "      <td>39.583333</td>\n",
       "      <td>0.583333</td>\n",
       "      <td>44.944444</td>\n",
       "      <td>0.416667</td>\n",
       "      <td>0.000000</td>\n",
       "      <td>38.972222</td>\n",
       "      <td>2.761111</td>\n",
       "      <td>2398.907739</td>\n",
       "      <td>158.722222</td>\n",
       "    </tr>\n",
       "  </tbody>\n",
       "</table>\n",
       "<p>9498 rows × 26 columns</p>\n",
       "</div>"
      ],
      "text/plain": [
       "           date  time_idx gauge_id  q_mm_day  prcp_e5l  t_max_e5l  t_min_e5l  \\\n",
       "0    2008-01-01         0    12554  0.005875  0.037406 -12.545556 -20.230078   \n",
       "1    2008-01-02         1    12554  0.005875  1.579651  -9.159125 -22.872621   \n",
       "2    2008-01-03         2    12554  0.005875  0.169902 -21.139508 -28.211074   \n",
       "3    2008-01-04         3    12554  0.005875  0.360237 -14.468015 -25.438305   \n",
       "4    2008-01-05         4    12554  0.005875  0.346289 -12.684122 -17.142788   \n",
       "...         ...       ...      ...       ...       ...        ...        ...   \n",
       "9493 2020-12-27      4744     5746  0.141412  0.001481 -17.242404 -25.553516   \n",
       "9494 2020-12-28      4745     5746  0.133496  0.000970 -20.990406 -28.335297   \n",
       "9495 2020-12-29      4746     5746  0.125580  0.011305 -22.119870 -27.855944   \n",
       "9496 2020-12-30      4747     5746  0.117664  0.021765 -21.696292 -28.507316   \n",
       "9497 2020-12-31      4748     5746  0.114425  0.004311 -21.967249 -28.856505   \n",
       "\n",
       "      for_pc_sse  crp_pc_sse  inu_pc_ult  ...  snd_pc_sav  kar_pc_sse  \\\n",
       "0       4.879185   33.656477    4.368996  ...   40.552804    3.371179   \n",
       "1       4.879185   33.656477    4.368996  ...   40.552804    3.371179   \n",
       "2       4.879185   33.656477    4.368996  ...   40.552804    3.371179   \n",
       "3       4.879185   33.656477    4.368996  ...   40.552804    3.371179   \n",
       "4       4.879185   33.656477    4.368996  ...   40.552804    3.371179   \n",
       "...          ...         ...         ...  ...         ...         ...   \n",
       "9493   46.000000    0.361111    7.611111  ...   46.166667   39.583333   \n",
       "9494   46.000000    0.361111    7.611111  ...   46.166667   39.583333   \n",
       "9495   46.000000    0.361111    7.611111  ...   46.166667   39.583333   \n",
       "9496   46.000000    0.361111    7.611111  ...   46.166667   39.583333   \n",
       "9497   46.000000    0.361111    7.611111  ...   46.166667   39.583333   \n",
       "\n",
       "      urb_pc_sse  gwt_cm_sav  lkv_mc_usu  rev_mc_usu  sgr_dk_sav  slp_dg_sav  \\\n",
       "0       0.572780   31.014556  349.373362  116.345706   20.567055    0.539884   \n",
       "1       0.572780   31.014556  349.373362  116.345706   20.567055    0.539884   \n",
       "2       0.572780   31.014556  349.373362  116.345706   20.567055    0.539884   \n",
       "3       0.572780   31.014556  349.373362  116.345706   20.567055    0.539884   \n",
       "4       0.572780   31.014556  349.373362  116.345706   20.567055    0.539884   \n",
       "...          ...         ...         ...         ...         ...         ...   \n",
       "9493    0.583333   44.944444    0.416667    0.000000   38.972222    2.761111   \n",
       "9494    0.583333   44.944444    0.416667    0.000000   38.972222    2.761111   \n",
       "9495    0.583333   44.944444    0.416667    0.000000   38.972222    2.761111   \n",
       "9496    0.583333   44.944444    0.416667    0.000000   38.972222    2.761111   \n",
       "9497    0.583333   44.944444    0.416667    0.000000   38.972222    2.761111   \n",
       "\n",
       "            ws_area  ele_mt_sav  \n",
       "0     155581.725624  211.755459  \n",
       "1     155581.725624  211.755459  \n",
       "2     155581.725624  211.755459  \n",
       "3     155581.725624  211.755459  \n",
       "4     155581.725624  211.755459  \n",
       "...             ...         ...  \n",
       "9493    2398.907739  158.722222  \n",
       "9494    2398.907739  158.722222  \n",
       "9495    2398.907739  158.722222  \n",
       "9496    2398.907739  158.722222  \n",
       "9497    2398.907739  158.722222  \n",
       "\n",
       "[9498 rows x 26 columns]"
      ]
     },
     "execution_count": 7,
     "metadata": {},
     "output_type": "execute_result"
    }
   ],
   "source": [
    "# define dataset\n",
    "encoder_length = 365\n",
    "prediction_length = 7\n",
    "train_end = \"2017-12-31\"  # day for cutoff\n",
    "train_start = \"2008-01-01\"\n",
    "static_parameters = ['for_pc_sse', 'crp_pc_sse',\n",
    "                     'inu_pc_ult', 'ire_pc_sse',\n",
    "                     'lka_pc_use', 'prm_pc_sse',\n",
    "                     'pst_pc_sse', 'cly_pc_sav',\n",
    "                     'slt_pc_sav', 'snd_pc_sav',\n",
    "                     'kar_pc_sse', 'urb_pc_sse',\n",
    "                     'gwt_cm_sav', 'lkv_mc_usu',\n",
    "                     'rev_mc_usu', 'sgr_dk_sav',\n",
    "                     'slp_dg_sav', 'ws_area',\n",
    "                     'ele_mt_sav']\n",
    "\n",
    "file = file[['date', 'time_idx', 'gauge_id',\n",
    "             hydro_target, *meteo_input, *static_parameters]]\n",
    "file = file.dropna().reset_index(drop=True)\n",
    "file"
   ]
  },
  {
   "cell_type": "code",
   "execution_count": 8,
   "metadata": {},
   "outputs": [],
   "source": [
    "scaler = MinMaxScaler(feature_range=(1, 10))\n",
    "file[[hydro_target, *meteo_input, *static_parameters]] = scaler.fit_transform(\n",
    "    file[[hydro_target, *meteo_input, *static_parameters]])\n",
    "\n",
    "train_df = file[lambda x:\n",
    "                (train_start <= x.date) & (x.date <= train_end)].reset_index(drop=True)  # type: ignore\n",
    "# set time_idx in according to slice with range from 0 to max for each gauge\n",
    "train_df['time_idx'] -= train_df['time_idx'].min()\n",
    "val_df = file[lambda x:\n",
    "              x.date > train_end].reset_index(drop=True)  # type: ignore\n",
    "# set time_idx in according to slice with range from 0 to max for each gauge\n",
    "val_df['time_idx'] -= val_df['time_idx'].min()\n",
    "\n",
    "training = TimeSeriesDataSet(\n",
    "    data=train_df,\n",
    "    time_idx=\"time_idx\",\n",
    "    target=hydro_target,\n",
    "    group_ids=[\"gauge_id\"],\n",
    "    time_varying_unknown_reals=[hydro_target],\n",
    "    max_encoder_length=encoder_length,\n",
    "    max_prediction_length=prediction_length,\n",
    "    static_reals=static_parameters,\n",
    "    time_varying_known_reals=meteo_input,\n",
    "    scalers={'name': 'None'})\n",
    "\n",
    "validation = TimeSeriesDataSet.from_dataset(training,\n",
    "                                            val_df)\n",
    "# create dataloaders for model\n",
    "batch_size = 128\n",
    "\n",
    "train_dataloader = training.to_dataloader(train=True,\n",
    "                                          batch_size=batch_size,\n",
    "                                          num_workers=15)\n",
    "val_dataloader = validation.to_dataloader(train=False,\n",
    "                                          batch_size=batch_size,\n",
    "                                          num_workers=15)\n"
   ]
  },
  {
   "attachments": {},
   "cell_type": "markdown",
   "metadata": {},
   "source": [
    "### Baseline model"
   ]
  },
  {
   "cell_type": "code",
   "execution_count": 9,
   "metadata": {},
   "outputs": [
    {
     "data": {
      "text/plain": [
       "0.15684884786605835"
      ]
     },
     "execution_count": 9,
     "metadata": {},
     "output_type": "execute_result"
    }
   ],
   "source": [
    "# calculate baseline mean absolute error, i.e. predict next value as the last available value from the history\n",
    "actuals = torch.cat([y for x, (y, weight) in iter(val_dataloader)])\n",
    "baseline_predictions = Baseline().predict(val_dataloader)\n",
    "(actuals - baseline_predictions).abs().mean().item()"
   ]
  },
  {
   "attachments": {},
   "cell_type": "markdown",
   "metadata": {},
   "source": [
    "### Train model"
   ]
  },
  {
   "cell_type": "code",
   "execution_count": 14,
   "metadata": {},
   "outputs": [],
   "source": [
    "class male_loss(MultiHorizonMetric):\n",
    "        \n",
    "    def loss(self, pred, target):\n",
    "        \n",
    "        pred = self.to_prediction(pred)\n",
    "\n",
    "        return torch.mean(torch.abs(torch.log(pred) - torch.log(target)))\n",
    "    \n",
    "class nnse(MultiHorizonMetric):\n",
    "    \n",
    "    def loss(self, pred, target):\n",
    "        \n",
    "        pred = self.to_prediction(pred)\n",
    "        denom = torch.sum((target-pred)**2)\n",
    "        divsr = torch.sum((target - torch.mean(target)**2))\n",
    "        nse = 1 - (denom/divsr)\n",
    "        nnse = 1 / (2 - nse)\n",
    "        \n",
    "        return nnse"
   ]
  },
  {
   "cell_type": "code",
   "execution_count": 26,
   "metadata": {},
   "outputs": [
    {
     "name": "stderr",
     "output_type": "stream",
     "text": [
      "GPU available: False, used: False\n",
      "TPU available: False, using: 0 TPU cores\n",
      "IPU available: False, using: 0 IPUs\n",
      "HPU available: False, using: 0 HPUs\n",
      "\n",
      "   | Name                               | Type                            | Params\n",
      "----------------------------------------------------------------------------------------\n",
      "0  | loss                               | nnse                            | 0     \n",
      "1  | logging_metrics                    | ModuleList                      | 0     \n",
      "2  | input_embeddings                   | MultiEmbedding                  | 0     \n",
      "3  | prescalers                         | ModuleDict                      | 2.9 K \n",
      "4  | static_variable_selection          | VariableSelectionNetwork        | 42.6 K\n",
      "5  | encoder_variable_selection         | VariableSelectionNetwork        | 6.9 K \n",
      "6  | decoder_variable_selection         | VariableSelectionNetwork        | 5.0 K \n",
      "7  | static_context_variable_selection  | GatedResidualNetwork            | 648   \n",
      "8  | static_context_initial_hidden_lstm | GatedResidualNetwork            | 648   \n",
      "9  | static_context_initial_cell_lstm   | GatedResidualNetwork            | 648   \n",
      "10 | static_context_enrichment          | GatedResidualNetwork            | 648   \n",
      "11 | lstm_encoder                       | LSTM                            | 1.2 K \n",
      "12 | lstm_decoder                       | LSTM                            | 1.2 K \n",
      "13 | post_lstm_gate_encoder             | GatedLinearUnit                 | 312   \n",
      "14 | post_lstm_add_norm_encoder         | AddNorm                         | 24    \n",
      "15 | static_enrichment                  | GatedResidualNetwork            | 792   \n",
      "16 | multihead_attn                     | InterpretableMultiHeadAttention | 387   \n",
      "17 | post_attn_gate_norm                | GateAddNorm                     | 336   \n",
      "18 | pos_wise_ff                        | GatedResidualNetwork            | 648   \n",
      "19 | pre_output_gate_norm               | GateAddNorm                     | 336   \n",
      "20 | output_layer                       | Linear                          | 13    \n",
      "----------------------------------------------------------------------------------------\n",
      "62.1 K    Trainable params\n",
      "0         Non-trainable params\n",
      "62.1 K    Total params\n",
      "0.248     Total estimated model params size (MB)\n"
     ]
    },
    {
     "name": "stdout",
     "output_type": "stream",
     "text": [
      "Number of parameters in network: 62.1k\n"
     ]
    },
    {
     "data": {
      "application/vnd.jupyter.widget-view+json": {
       "model_id": "e602a8fb45b041cd8628010cd0840db2",
       "version_major": 2,
       "version_minor": 0
      },
      "text/plain": [
       "Sanity Checking: 0it [00:00, ?it/s]"
      ]
     },
     "metadata": {},
     "output_type": "display_data"
    },
    {
     "data": {
      "application/vnd.jupyter.widget-view+json": {
       "model_id": "9f329310469c4da59854e96d9b244552",
       "version_major": 2,
       "version_minor": 0
      },
      "text/plain": [
       "Training: 0it [00:00, ?it/s]"
      ]
     },
     "metadata": {},
     "output_type": "display_data"
    },
    {
     "name": "stderr",
     "output_type": "stream",
     "text": [
      "`Trainer.fit` stopped: `max_epochs=2` reached.\n"
     ]
    }
   ],
   "source": [
    "\n",
    "# configure network and trainer\n",
    "early_stop_callback = EarlyStopping(monitor=\"val_loss\",\n",
    "                                    min_delta=1e-4, patience=10,\n",
    "                                    verbose=True, mode=\"min\")\n",
    "lr_logger = LearningRateMonitor()  # log the learning rate\n",
    "logger = TensorBoardLogger(\"lightning_logs\")  # logging results to a tensorboard\n",
    "\n",
    "trainer = pl.Trainer(\n",
    "    max_epochs=2,\n",
    "    accelerator='cpu',\n",
    "    enable_model_summary=True,\n",
    "    check_val_every_n_epoch=3,\n",
    "    gradient_clip_val=0.2,\n",
    "    limit_train_batches=42,\n",
    "    log_every_n_steps=3,\n",
    "    callbacks=[lr_logger, early_stop_callback],\n",
    "    logger=logger)\n",
    "\n",
    "\n",
    "tft = TemporalFusionTransformer.from_dataset(\n",
    "    training,\n",
    "    learning_rate=1e-3,\n",
    "    hidden_size=12,\n",
    "    dropout=0.24,\n",
    "    hidden_continuous_size=64,\n",
    "    loss=nnse(),\n",
    "    reduce_on_plateau_patience=420,\n",
    "    optimizer='adam')\n",
    "print(f\"Number of parameters in network: {tft.size()/1e3:.1f}k\")\n",
    "\n",
    "# fit network\n",
    "trainer.fit(\n",
    "    tft,\n",
    "    train_dataloaders=train_dataloader,\n",
    "    val_dataloaders=val_dataloader)"
   ]
  },
  {
   "attachments": {},
   "cell_type": "markdown",
   "metadata": {},
   "source": [
    "### Find optimal learning rate"
   ]
  },
  {
   "cell_type": "code",
   "execution_count": 20,
   "metadata": {},
   "outputs": [
    {
     "name": "stderr",
     "output_type": "stream",
     "text": [
      "Global seed set to 42\n",
      "GPU available: False, used: False\n",
      "TPU available: False, using: 0 TPU cores\n",
      "IPU available: False, using: 0 IPUs\n",
      "HPU available: False, using: 0 HPUs\n"
     ]
    },
    {
     "name": "stdout",
     "output_type": "stream",
     "text": [
      "Number of parameters in network: 672.5k\n"
     ]
    }
   ],
   "source": [
    "# configure network and trainer\n",
    "pl.seed_everything(42)\n",
    "trainer = pl.Trainer(\n",
    "    accelerator='cpu',\n",
    "    gradient_clip_val=0.1)\n",
    "\n",
    "\n",
    "tft = TemporalFusionTransformer.from_dataset(\n",
    "    training,\n",
    "    learning_rate=0.03,\n",
    "    hidden_size=64,\n",
    "    dropout=0.24,\n",
    "    hidden_continuous_size=64,\n",
    "    loss=nnse(),\n",
    "    reduce_on_plateau_patience=420,\n",
    "    optimizer='adam')\n",
    "\n",
    "print(f\"Number of parameters in network: {tft.size()/1e3:.1f}k\")\n"
   ]
  },
  {
   "attachments": {},
   "cell_type": "markdown",
   "metadata": {},
   "source": [
    "### Find optimal learning rate"
   ]
  },
  {
   "cell_type": "code",
   "execution_count": 31,
   "metadata": {},
   "outputs": [
    {
     "name": "stderr",
     "output_type": "stream",
     "text": [
      "`Trainer.fit` stopped: `max_epochs=2` reached.\n",
      "LR finder stopped early after 84 steps due to diverging loss.\n",
      "Restoring states from the checkpoint path at /workspaces/my_dissertation/forecast/.lr_find_0e5982ce-98af-492c-aafd-807ef2d6b00d.ckpt\n",
      "Restored all states from the checkpoint file at /workspaces/my_dissertation/forecast/.lr_find_0e5982ce-98af-492c-aafd-807ef2d6b00d.ckpt\n",
      "Failed to compute suggestion for learning rate because there are not enough points. Increase the loop iteration limits or the size of your dataset/dataloader.\n",
      "Failed to compute suggestion for learning rate because there are not enough points. Increase the loop iteration limits or the size of your dataset/dataloader.\n"
     ]
    },
    {
     "name": "stdout",
     "output_type": "stream",
     "text": [
      "suggested learning rate: None\n"
     ]
    },
    {
     "data": {
      "image/png": "[encoded data removed]",
      "text/plain": [
       "<Figure size 640x480 with 1 Axes>"
      ]
     },
     "metadata": {},
     "output_type": "display_data"
    }
   ],
   "source": [
    "res = trainer.tuner.lr_find(\n",
    "    tft,\n",
    "    train_dataloaders=train_dataloader,\n",
    "    val_dataloaders=val_dataloader,\n",
    "    max_lr=0.1,\n",
    "    min_lr=1e-6)\n",
    "print(f\"suggested learning rate: {res.suggestion()}\")\n",
    "fig = res.plot(show=True, suggest=True)\n",
    "fig.show()"
   ]
  },
  {
   "cell_type": "code",
   "execution_count": null,
   "metadata": {},
   "outputs": [],
   "source": [
    "import pickle\n",
    "\n",
    "from pytorch_forecasting.models.temporal_fusion_transformer.tuning import optimize_hyperparameters\n",
    "\n",
    "# create study\n",
    "study = optimize_hyperparameters(\n",
    "    train_dataloader,\n",
    "    val_dataloader,\n",
    "    model_path=\"optuna_test\",\n",
    "    n_trials=1,\n",
    "    max_epochs=6,\n",
    "    gradient_clip_val_range=(0.01, 1.0),\n",
    "    hidden_size_range=(8, 128),\n",
    "    hidden_continuous_size_range=(8, 128),\n",
    "    attention_head_size_range=(1, 4),\n",
    "    learning_rate_range=(0.001, 0.1),\n",
    "    dropout_range=(0.1, 0.3),\n",
    "    trainer_kwargs=dict(limit_train_batches=30),\n",
    "    reduce_on_plateau_patience=4,\n",
    "    use_learning_rate_finder=False,  # use Optuna to find ideal learning rate or use in-built learning rate finder\n",
    ")\n",
    "\n",
    "# save study results - also we can resume tuning at a later point in time\n",
    "with open(\"test_study.pkl\", \"wb\") as fout:\n",
    "    pickle.dump(study, fout)\n",
    "\n",
    "# show best hyperparameters\n",
    "print(study.best_trial.params)"
   ]
  },
  {
   "cell_type": "code",
   "execution_count": 27,
   "metadata": {},
   "outputs": [
    {
     "ename": "IsADirectoryError",
     "evalue": "[Errno 21] Is a directory: '/workspaces/my_dissertation/forecast'",
     "output_type": "error",
     "traceback": [
      "\u001b[0;31m---------------------------------------------------------------------------\u001b[0m",
      "\u001b[0;31mIsADirectoryError\u001b[0m                         Traceback (most recent call last)",
      "Cell \u001b[0;32mIn[27], line 4\u001b[0m\n\u001b[1;32m      1\u001b[0m \u001b[39m# load the best model according to the validation loss\u001b[39;00m\n\u001b[1;32m      2\u001b[0m \u001b[39m# (given that we use early stopping, this is not necessarily the last epoch)\u001b[39;00m\n\u001b[1;32m      3\u001b[0m best_model_path \u001b[39m=\u001b[39m trainer\u001b[39m.\u001b[39mcheckpoint_callback\u001b[39m.\u001b[39mbest_model_path\n\u001b[0;32m----> 4\u001b[0m best_tft \u001b[39m=\u001b[39m TemporalFusionTransformer\u001b[39m.\u001b[39;49mload_from_checkpoint(best_model_path)\n\u001b[1;32m      5\u001b[0m \u001b[39m# calcualte mean absolute error on validation set\u001b[39;00m\n\u001b[1;32m      6\u001b[0m actuals \u001b[39m=\u001b[39m torch\u001b[39m.\u001b[39mcat([y[\u001b[39m0\u001b[39m] \u001b[39mfor\u001b[39;00m x, y \u001b[39min\u001b[39;00m \u001b[39miter\u001b[39m(val_dataloader)])\n",
      "File \u001b[0;32m/opt/conda/lib/python3.10/site-packages/pytorch_lightning/core/saving.py:139\u001b[0m, in \u001b[0;36mModelIO.load_from_checkpoint\u001b[0;34m(cls, checkpoint_path, map_location, hparams_file, strict, **kwargs)\u001b[0m\n\u001b[1;32m     59\u001b[0m \u001b[39m@classmethod\u001b[39m\n\u001b[1;32m     60\u001b[0m \u001b[39mdef\u001b[39;00m \u001b[39mload_from_checkpoint\u001b[39m(\n\u001b[1;32m     61\u001b[0m     \u001b[39mcls\u001b[39m,\n\u001b[0;32m   (...)\u001b[0m\n\u001b[1;32m     66\u001b[0m     \u001b[39m*\u001b[39m\u001b[39m*\u001b[39mkwargs: Any,\n\u001b[1;32m     67\u001b[0m ) \u001b[39m-\u001b[39m\u001b[39m>\u001b[39m Self:  \u001b[39m# type: ignore[valid-type]\u001b[39;00m\n\u001b[1;32m     68\u001b[0m     \u001b[39mr\u001b[39m\u001b[39m\"\"\"\u001b[39;00m\n\u001b[1;32m     69\u001b[0m \u001b[39m    Primary way of loading a model from a checkpoint. When Lightning saves a checkpoint\u001b[39;00m\n\u001b[1;32m     70\u001b[0m \u001b[39m    it stores the arguments passed to ``__init__``  in the checkpoint under ``\"hyper_parameters\"``.\u001b[39;00m\n\u001b[0;32m   (...)\u001b[0m\n\u001b[1;32m    137\u001b[0m \u001b[39m        y_hat = pretrained_model(x)\u001b[39;00m\n\u001b[1;32m    138\u001b[0m \u001b[39m    \"\"\"\u001b[39;00m\n\u001b[0;32m--> 139\u001b[0m     \u001b[39mreturn\u001b[39;00m _load_from_checkpoint(\n\u001b[1;32m    140\u001b[0m         \u001b[39mcls\u001b[39;49m,\n\u001b[1;32m    141\u001b[0m         checkpoint_path,\n\u001b[1;32m    142\u001b[0m         map_location,\n\u001b[1;32m    143\u001b[0m         hparams_file,\n\u001b[1;32m    144\u001b[0m         strict,\n\u001b[1;32m    145\u001b[0m         \u001b[39m*\u001b[39;49m\u001b[39m*\u001b[39;49mkwargs,\n\u001b[1;32m    146\u001b[0m     )\n",
      "File \u001b[0;32m/opt/conda/lib/python3.10/site-packages/pytorch_lightning/core/saving.py:160\u001b[0m, in \u001b[0;36m_load_from_checkpoint\u001b[0;34m(cls, checkpoint_path, map_location, hparams_file, strict, **kwargs)\u001b[0m\n\u001b[1;32m    158\u001b[0m     map_location \u001b[39m=\u001b[39m cast(_MAP_LOCATION_TYPE, \u001b[39mlambda\u001b[39;00m storage, loc: storage)\n\u001b[1;32m    159\u001b[0m \u001b[39mwith\u001b[39;00m pl_legacy_patch():\n\u001b[0;32m--> 160\u001b[0m     checkpoint \u001b[39m=\u001b[39m pl_load(checkpoint_path, map_location\u001b[39m=\u001b[39;49mmap_location)\n\u001b[1;32m    162\u001b[0m \u001b[39m# convert legacy checkpoints to the new format\u001b[39;00m\n\u001b[1;32m    163\u001b[0m checkpoint \u001b[39m=\u001b[39m _pl_migrate_checkpoint(\n\u001b[1;32m    164\u001b[0m     checkpoint, checkpoint_path\u001b[39m=\u001b[39m(checkpoint_path \u001b[39mif\u001b[39;00m \u001b[39misinstance\u001b[39m(checkpoint_path, (\u001b[39mstr\u001b[39m, Path)) \u001b[39melse\u001b[39;00m \u001b[39mNone\u001b[39;00m)\n\u001b[1;32m    165\u001b[0m )\n",
      "File \u001b[0;32m/opt/conda/lib/python3.10/site-packages/lightning_fabric/utilities/cloud_io.py:47\u001b[0m, in \u001b[0;36m_load\u001b[0;34m(path_or_url, map_location)\u001b[0m\n\u001b[1;32m     42\u001b[0m     \u001b[39mreturn\u001b[39;00m torch\u001b[39m.\u001b[39mhub\u001b[39m.\u001b[39mload_state_dict_from_url(\n\u001b[1;32m     43\u001b[0m         \u001b[39mstr\u001b[39m(path_or_url),\n\u001b[1;32m     44\u001b[0m         map_location\u001b[39m=\u001b[39mmap_location,  \u001b[39m# type: ignore[arg-type] # upstream annotation is not correct\u001b[39;00m\n\u001b[1;32m     45\u001b[0m     )\n\u001b[1;32m     46\u001b[0m fs \u001b[39m=\u001b[39m get_filesystem(path_or_url)\n\u001b[0;32m---> 47\u001b[0m \u001b[39mwith\u001b[39;00m fs\u001b[39m.\u001b[39;49mopen(path_or_url, \u001b[39m\"\u001b[39;49m\u001b[39mrb\u001b[39;49m\u001b[39m\"\u001b[39;49m) \u001b[39mas\u001b[39;00m f:\n\u001b[1;32m     48\u001b[0m     \u001b[39mreturn\u001b[39;00m torch\u001b[39m.\u001b[39mload(f, map_location\u001b[39m=\u001b[39mmap_location)\n",
      "File \u001b[0;32m/opt/conda/lib/python3.10/site-packages/fsspec/spec.py:1151\u001b[0m, in \u001b[0;36mAbstractFileSystem.open\u001b[0;34m(self, path, mode, block_size, cache_options, compression, **kwargs)\u001b[0m\n\u001b[1;32m   1149\u001b[0m \u001b[39melse\u001b[39;00m:\n\u001b[1;32m   1150\u001b[0m     ac \u001b[39m=\u001b[39m kwargs\u001b[39m.\u001b[39mpop(\u001b[39m\"\u001b[39m\u001b[39mautocommit\u001b[39m\u001b[39m\"\u001b[39m, \u001b[39mnot\u001b[39;00m \u001b[39mself\u001b[39m\u001b[39m.\u001b[39m_intrans)\n\u001b[0;32m-> 1151\u001b[0m     f \u001b[39m=\u001b[39m \u001b[39mself\u001b[39;49m\u001b[39m.\u001b[39;49m_open(\n\u001b[1;32m   1152\u001b[0m         path,\n\u001b[1;32m   1153\u001b[0m         mode\u001b[39m=\u001b[39;49mmode,\n\u001b[1;32m   1154\u001b[0m         block_size\u001b[39m=\u001b[39;49mblock_size,\n\u001b[1;32m   1155\u001b[0m         autocommit\u001b[39m=\u001b[39;49mac,\n\u001b[1;32m   1156\u001b[0m         cache_options\u001b[39m=\u001b[39;49mcache_options,\n\u001b[1;32m   1157\u001b[0m         \u001b[39m*\u001b[39;49m\u001b[39m*\u001b[39;49mkwargs,\n\u001b[1;32m   1158\u001b[0m     )\n\u001b[1;32m   1159\u001b[0m     \u001b[39mif\u001b[39;00m compression \u001b[39mis\u001b[39;00m \u001b[39mnot\u001b[39;00m \u001b[39mNone\u001b[39;00m:\n\u001b[1;32m   1160\u001b[0m         \u001b[39mfrom\u001b[39;00m \u001b[39mfsspec\u001b[39;00m\u001b[39m.\u001b[39;00m\u001b[39mcompression\u001b[39;00m \u001b[39mimport\u001b[39;00m compr\n",
      "File \u001b[0;32m/opt/conda/lib/python3.10/site-packages/fsspec/implementations/local.py:183\u001b[0m, in \u001b[0;36mLocalFileSystem._open\u001b[0;34m(self, path, mode, block_size, **kwargs)\u001b[0m\n\u001b[1;32m    181\u001b[0m \u001b[39mif\u001b[39;00m \u001b[39mself\u001b[39m\u001b[39m.\u001b[39mauto_mkdir \u001b[39mand\u001b[39;00m \u001b[39m\"\u001b[39m\u001b[39mw\u001b[39m\u001b[39m\"\u001b[39m \u001b[39min\u001b[39;00m mode:\n\u001b[1;32m    182\u001b[0m     \u001b[39mself\u001b[39m\u001b[39m.\u001b[39mmakedirs(\u001b[39mself\u001b[39m\u001b[39m.\u001b[39m_parent(path), exist_ok\u001b[39m=\u001b[39m\u001b[39mTrue\u001b[39;00m)\n\u001b[0;32m--> 183\u001b[0m \u001b[39mreturn\u001b[39;00m LocalFileOpener(path, mode, fs\u001b[39m=\u001b[39;49m\u001b[39mself\u001b[39;49m, \u001b[39m*\u001b[39;49m\u001b[39m*\u001b[39;49mkwargs)\n",
      "File \u001b[0;32m/opt/conda/lib/python3.10/site-packages/fsspec/implementations/local.py:285\u001b[0m, in \u001b[0;36mLocalFileOpener.__init__\u001b[0;34m(self, path, mode, autocommit, fs, compression, **kwargs)\u001b[0m\n\u001b[1;32m    283\u001b[0m \u001b[39mself\u001b[39m\u001b[39m.\u001b[39mcompression \u001b[39m=\u001b[39m get_compression(path, compression)\n\u001b[1;32m    284\u001b[0m \u001b[39mself\u001b[39m\u001b[39m.\u001b[39mblocksize \u001b[39m=\u001b[39m io\u001b[39m.\u001b[39mDEFAULT_BUFFER_SIZE\n\u001b[0;32m--> 285\u001b[0m \u001b[39mself\u001b[39;49m\u001b[39m.\u001b[39;49m_open()\n",
      "File \u001b[0;32m/opt/conda/lib/python3.10/site-packages/fsspec/implementations/local.py:290\u001b[0m, in \u001b[0;36mLocalFileOpener._open\u001b[0;34m(self)\u001b[0m\n\u001b[1;32m    288\u001b[0m \u001b[39mif\u001b[39;00m \u001b[39mself\u001b[39m\u001b[39m.\u001b[39mf \u001b[39mis\u001b[39;00m \u001b[39mNone\u001b[39;00m \u001b[39mor\u001b[39;00m \u001b[39mself\u001b[39m\u001b[39m.\u001b[39mf\u001b[39m.\u001b[39mclosed:\n\u001b[1;32m    289\u001b[0m     \u001b[39mif\u001b[39;00m \u001b[39mself\u001b[39m\u001b[39m.\u001b[39mautocommit \u001b[39mor\u001b[39;00m \u001b[39m\"\u001b[39m\u001b[39mw\u001b[39m\u001b[39m\"\u001b[39m \u001b[39mnot\u001b[39;00m \u001b[39min\u001b[39;00m \u001b[39mself\u001b[39m\u001b[39m.\u001b[39mmode:\n\u001b[0;32m--> 290\u001b[0m         \u001b[39mself\u001b[39m\u001b[39m.\u001b[39mf \u001b[39m=\u001b[39m \u001b[39mopen\u001b[39;49m(\u001b[39mself\u001b[39;49m\u001b[39m.\u001b[39;49mpath, mode\u001b[39m=\u001b[39;49m\u001b[39mself\u001b[39;49m\u001b[39m.\u001b[39;49mmode)\n\u001b[1;32m    291\u001b[0m         \u001b[39mif\u001b[39;00m \u001b[39mself\u001b[39m\u001b[39m.\u001b[39mcompression:\n\u001b[1;32m    292\u001b[0m             compress \u001b[39m=\u001b[39m compr[\u001b[39mself\u001b[39m\u001b[39m.\u001b[39mcompression]\n",
      "\u001b[0;31mIsADirectoryError\u001b[0m: [Errno 21] Is a directory: '/workspaces/my_dissertation/forecast'"
     ]
    }
   ],
   "source": [
    "# load the best model according to the validation loss\n",
    "# (given that we use early stopping, this is not necessarily the last epoch)\n",
    "best_model_path = trainer.checkpoint_callback.best_model_path\n",
    "best_tft = TemporalFusionTransformer.load_from_checkpoint(best_model_path)\n",
    "# calcualte mean absolute error on validation set\n",
    "actuals = torch.cat([y[0] for x, y in iter(val_dataloader)])\n",
    "predictions = best_tft.predict(val_dataloader)\n",
    "(actuals - predictions).abs().mean()"
   ]
  },
  {
   "cell_type": "code",
   "execution_count": 39,
   "metadata": {},
   "outputs": [
    {
     "data": {
      "text/plain": [
       "array(['10015', '78519', '3293', '49128'], dtype=object)"
      ]
     },
     "execution_count": 39,
     "metadata": {},
     "output_type": "execute_result"
    }
   ],
   "source": [
    "val_df.gauge_id.unique()"
   ]
  },
  {
   "cell_type": "code",
   "execution_count": 89,
   "metadata": {},
   "outputs": [],
   "source": [
    "gauge = '49128'"
   ]
  },
  {
   "cell_type": "code",
   "execution_count": 90,
   "metadata": {},
   "outputs": [
    {
     "data": {
      "image/png": "[encoded data removed]",
      "text/plain": [
       "<Figure size 640x480 with 1 Axes>"
      ]
     },
     "metadata": {},
     "output_type": "display_data"
    }
   ],
   "source": [
    "raw_prediction, x, idx = best_tft.predict(\n",
    "    validation.filter(lambda x: x.gauge_id==gauge),\n",
    "    mode=\"raw\",\n",
    "    return_x=True,\n",
    "    return_index=True)\n",
    "select_rule = (val_df.gauge_id == gauge) & \\\n",
    "    (val_df.time_idx.isin(idx['time_idx']))  #type: ignore\n",
    "\n",
    "idx.loc[:, 'date'] = val_df['date'][select_rule].values  #type: ignore\n",
    "\n",
    "res = np.array([])\n",
    "size_pred = len(raw_prediction['prediction'])  #type: ignore\n",
    "for i, prediction in enumerate(raw_prediction['prediction']):  #type: ignore\n",
    "    if i+6 == size_pred:\n",
    "        break\n",
    "    prediction = prediction.squeeze()  #type: ignore\n",
    "    res = np.concatenate([res[:i], prediction])\n",
    "idx.loc[:, 'pred'] = res    #type: ignore\n",
    "idx.loc[:, 'obs'] = val_df['q_cms_s'][select_rule].values  #type: ignore\n",
    "\n",
    "idx[['obs', 'pred']].plot();  #type: ignore"
   ]
  },
  {
   "cell_type": "code",
   "execution_count": null,
   "metadata": {},
   "outputs": [],
   "source": []
  },
  {
   "cell_type": "code",
   "execution_count": null,
   "metadata": {},
   "outputs": [],
   "source": []
  },
  {
   "cell_type": "code",
   "execution_count": null,
   "metadata": {},
   "outputs": [],
   "source": []
  },
  {
   "cell_type": "code",
   "execution_count": null,
   "metadata": {},
   "outputs": [],
   "source": []
  },
  {
   "cell_type": "code",
   "execution_count": 32,
   "metadata": {},
   "outputs": [
    {
     "ename": "NameError",
     "evalue": "name 'best_tft' is not defined",
     "output_type": "error",
     "traceback": [
      "\u001b[0;31m---------------------------------------------------------------------------\u001b[0m",
      "\u001b[0;31mNameError\u001b[0m                                 Traceback (most recent call last)",
      "Cell \u001b[0;32mIn[32], line 1\u001b[0m\n\u001b[0;32m----> 1\u001b[0m predictions, x \u001b[39m=\u001b[39m best_tft\u001b[39m.\u001b[39mpredict(val_dataloader, return_x\u001b[39m=\u001b[39m\u001b[39mTrue\u001b[39;00m)\n\u001b[1;32m      2\u001b[0m predictions_vs_actuals \u001b[39m=\u001b[39m best_tft\u001b[39m.\u001b[39mcalculate_prediction_actual_by_variable(x, predictions)\n\u001b[1;32m      3\u001b[0m best_tft\u001b[39m.\u001b[39mplot_prediction_actual_by_variable(predictions_vs_actuals)\n",
      "\u001b[0;31mNameError\u001b[0m: name 'best_tft' is not defined"
     ]
    }
   ],
   "source": [
    "predictions, x = best_tft.predict(val_dataloader, return_x=True)\n",
    "predictions_vs_actuals = best_tft.calculate_prediction_actual_by_variable(x, predictions)\n",
    "best_tft.plot_prediction_actual_by_variable(predictions_vs_actuals);"
   ]
  },
  {
   "cell_type": "code",
   "execution_count": 92,
   "metadata": {},
   "outputs": [
    {
     "data": {
      "image/png": "[encoded data removed]",
      "text/plain": [
       "<Figure size 640x480 with 1 Axes>"
      ]
     },
     "metadata": {},
     "output_type": "display_data"
    },
    {
     "data": {
      "image/png": "[encoded data removed]",
      "text/plain": [
       "<Figure size 700x675 with 1 Axes>"
      ]
     },
     "metadata": {},
     "output_type": "display_data"
    },
    {
     "data": {
      "image/png": "[encoded data removed]",
      "text/plain": [
       "<Figure size 700x300 with 1 Axes>"
      ]
     },
     "metadata": {},
     "output_type": "display_data"
    },
    {
     "data": {
      "image/png": "[encoded data removed]",
      "text/plain": [
       "<Figure size 700x275 with 1 Axes>"
      ]
     },
     "metadata": {},
     "output_type": "display_data"
    }
   ],
   "source": [
    "interpretation = best_tft.interpret_output(raw_prediction, reduction=\"sum\")\n",
    "best_tft.plot_interpretation(interpretation);"
   ]
  },
  {
   "cell_type": "code",
   "execution_count": null,
   "metadata": {},
   "outputs": [],
   "source": []
  },
  {
   "cell_type": "code",
   "execution_count": null,
   "metadata": {},
   "outputs": [],
   "source": []
  },
  {
   "cell_type": "code",
   "execution_count": null,
   "metadata": {},
   "outputs": [],
   "source": []
  },
  {
   "cell_type": "code",
   "execution_count": null,
   "metadata": {},
   "outputs": [],
   "source": []
  },
  {
   "cell_type": "code",
   "execution_count": null,
   "metadata": {},
   "outputs": [],
   "source": []
  },
  {
   "cell_type": "code",
   "execution_count": null,
   "metadata": {},
   "outputs": [],
   "source": []
  },
  {
   "cell_type": "code",
   "execution_count": null,
   "metadata": {},
   "outputs": [],
   "source": []
  },
  {
   "cell_type": "code",
   "execution_count": null,
   "metadata": {},
   "outputs": [
    {
     "name": "stdout",
     "output_type": "stream",
     "text": [
      "We'll utlize cpu in further calculations\n"
     ]
    }
   ],
   "source": [
    "geo_folder = '../geo_data/great_db'\n",
    "\n",
    "forecast_data = HydroForecastData(\n",
    "    nc_files=glob.glob(f'{geo_folder}/nc_concat/*.nc')[:5],\n",
    "    gauges=['5746', '3159', '8376'],\n",
    "    predictors=['t_max_e5l', 't_min_e5l', 'prcp_e5l'],\n",
    "    target=['lvl_sm'],\n",
    "    hydroatlas_path='../geo_data/static_attributes/geo_vector.csv',\n",
    "    hydroatlas=['for_pc_sse', 'crp_pc_sse', 'inu_pc_ult',\n",
    "                'ire_pc_sse', 'lka_pc_use', 'prm_pc_sse',\n",
    "                'pst_pc_sse', 'cly_pc_sav', 'slt_pc_sav',\n",
    "                'snd_pc_sav', 'kar_pc_sse', 'urb_pc_sse',\n",
    "                'gwt_cm_sav', 'lkv_mc_usu', 'rev_mc_usu',\n",
    "                'sgr_dk_sav', 'slp_dg_sav', 'ws_area',\n",
    "                'ele_mt_sav'],\n",
    "    h_bs_file='../ais_parsers/data/height_gauge.csv',\n",
    "    future_interval=7, past_interval=365,\n",
    "    train_start='01/01/2008', train_end='12/31/2015',\n",
    "    val_start='01/01/2016', val_end='12/31/2018',\n",
    "    test_start='01/01/2019', test_end='12/31/2020')\n",
    "# store static data for further concat in decoder\n",
    "static_attributes = forecast_data.static_attributes\n",
    "# Here we are defining properties for our model\n",
    "\n",
    "# Training batch size\n",
    "BATCH_SIZE = 128\n",
    "# so called torch Datasets\n",
    "train_ds, val_ds, test_ds = forecast_data.train_val_test()\n",
    "# Split the data according to our split ratio and load each subset into a\n",
    "# separate DataLoader object\n",
    "train_loader = DataLoader(train_ds, batch_size=BATCH_SIZE, drop_last=True)\n",
    "val_loader = DataLoader(val_ds, batch_size=BATCH_SIZE, drop_last=True)\n",
    "test_loader = DataLoader(test_ds, batch_size=BATCH_SIZE, drop_last=True)\n",
    "\n",
    "dataloaders = {x: dl for x, dl\n",
    "               in zip(['train', 'val', 'test'],\n",
    "                      [train_loader, val_loader, test_loader])}\n",
    "datasizes = {x: len(dl) for x, dl in dataloaders.items()}\n",
    "# Observe that all parameters are being optimized\n",
    "# Device selection (CPU | GPU)\n",
    "USE_CUDA = torch.cuda.is_available()\n",
    "device = 'cuda' if USE_CUDA else 'cpu'\n",
    "print(f\"We'll utlize {device} in further calculations\")"
   ]
  },
  {
   "cell_type": "code",
   "execution_count": null,
   "metadata": {},
   "outputs": [],
   "source": []
  },
  {
   "cell_type": "code",
   "execution_count": null,
   "metadata": {},
   "outputs": [],
   "source": []
  },
  {
   "cell_type": "code",
   "execution_count": null,
   "metadata": {},
   "outputs": [],
   "source": []
  },
  {
   "cell_type": "code",
   "execution_count": null,
   "metadata": {},
   "outputs": [],
   "source": []
  },
  {
   "cell_type": "code",
   "execution_count": null,
   "metadata": {},
   "outputs": [],
   "source": []
  }
 ],
 "metadata": {
  "kernelspec": {
   "display_name": "base",
   "language": "python",
   "name": "python3"
  },
  "language_info": {
   "codemirror_mode": {
    "name": "ipython",
    "version": 3
   },
   "file_extension": ".py",
   "mimetype": "text/x-python",
   "name": "python",
   "nbconvert_exporter": "python",
   "pygments_lexer": "ipython3",
   "version": "3.10.8"
  },
  "orig_nbformat": 4
 },
 "nbformat": 4,
 "nbformat_minor": 2
}
