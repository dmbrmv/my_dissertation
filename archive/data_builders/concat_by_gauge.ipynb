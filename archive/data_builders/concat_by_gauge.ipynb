{
 "cells": [
  {
   "cell_type": "code",
   "execution_count": 1,
   "metadata": {},
   "outputs": [],
   "source": [
    "%load_ext autoreload\n",
    "%autoreload 2"
   ]
  },
  {
   "cell_type": "code",
   "execution_count": 2,
   "metadata": {},
   "outputs": [],
   "source": [
    "import glob\n",
    "from pathlib import Path\n",
    "from tqdm.notebook import tqdm\n",
    "import pandas as pd\n",
    "import xarray as xr\n",
    "import geopandas as gpd\n",
    "from datetime import timedelta"
   ]
  },
  {
   "cell_type": "code",
   "execution_count": 4,
   "metadata": {},
   "outputs": [],
   "source": [
    "ws_file = gpd.read_file('../data/great_db/geometry/russia_ws.gpkg')\n",
    "ws_file = ws_file.set_index('gauge_id')"
   ]
  },
  {
   "cell_type": "code",
   "execution_count": 5,
   "metadata": {},
   "outputs": [],
   "source": [
    "def read_with_date_index(file_path: str):\n",
    "\n",
    "    data = pd.read_csv(file_path)\n",
    "    data['date'] = pd.to_datetime(data['date'])\n",
    "    data = data.set_index('date')\n",
    "\n",
    "    return data"
   ]
  },
  {
   "cell_type": "code",
   "execution_count": 6,
   "metadata": {},
   "outputs": [
    {
     "data": {
      "application/vnd.jupyter.widget-view+json": {
       "model_id": "2588c508a8ad4a13a5ceaac1d92434ae",
       "version_major": 2,
       "version_minor": 0
      },
      "text/plain": [
       "A Jupyter Widget"
      ]
     },
     "metadata": {},
     "output_type": "display_data"
    }
   ],
   "source": [
    "cmip_dir = '../data/cmip_result_585/'\n",
    "\n",
    "datasets = [meteo_path\n",
    "            for meteo_path in glob.glob(f'{cmip_dir}/*')\n",
    "            if 'weights' not in meteo_path]\n",
    "\n",
    "variables = {ds.split('/')[-1]: {meteo_vars.split('/')[-1]: meteo_vars\n",
    "                                 for meteo_vars\n",
    "                                 in glob.glob(f'{ds}/*')}\n",
    "\n",
    "             for ds in datasets}\n",
    "\n",
    "by_gauge = dict()\n",
    "res_folder = Path('../data/cmip_concat_21_09/cmip_585/')\n",
    "res_folder.mkdir(exist_ok=True, parents=True)\n",
    "for gauge in tqdm(ws_file.index):\n",
    "    ds_res = dict()\n",
    "    for ds_name, var in variables.items():\n",
    "        ds_res[ds_name] = list()\n",
    "        for var_name, var_path in var.items():\n",
    "            df = read_with_date_index(f'{var_path}/{gauge}.csv')\n",
    "            if (('t2m' in df.columns) |\n",
    "                any('tas'\n",
    "                    in col for col in df.columns)):\n",
    "                df -= 273.15\n",
    "            elif 'pr' in df.columns:\n",
    "                df *= 1e5\n",
    "            df.columns = [f'{var_name}_{ds_name}']\n",
    "            if df.index[0].hour == 12:\n",
    "                # print(ds_name)\n",
    "                df.index += timedelta(hours=12)\n",
    "            # df = df.dropna(axis=0)\n",
    "\n",
    "            df = df.interpolate()\n",
    "            ds_res[ds_name].append(df)\n",
    "        res_xr = pd.concat(ds_res[ds_name], axis=1).to_xarray()\n",
    "        res_xr = res_xr.assign_coords(gauge_id=('gauge_id', [gauge]))\n",
    "        ds_res[ds_name] = res_xr\n",
    "        by_gauge[gauge] = ds_res\n",
    "    by_gauge[gauge] = xr.merge([xr for xr in by_gauge[gauge].values()])\n",
    "    by_gauge[gauge].to_netcdf(f'{res_folder}/{gauge}.nc')"
   ]
  },
  {
   "cell_type": "code",
   "execution_count": null,
   "metadata": {},
   "outputs": [],
   "source": []
  }
 ],
 "metadata": {
  "kernelspec": {
   "display_name": "base",
   "language": "python",
   "name": "python3"
  },
  "language_info": {
   "codemirror_mode": {
    "name": "ipython",
    "version": 3
   },
   "file_extension": ".py",
   "mimetype": "text/x-python",
   "name": "python",
   "nbconvert_exporter": "python",
   "pygments_lexer": "ipython3",
   "version": "3.9.12"
  },
  "orig_nbformat": 4
 },
 "nbformat": 4,
 "nbformat_minor": 2
}
