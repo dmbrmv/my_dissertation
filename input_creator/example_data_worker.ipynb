{
 "cells": [
  {
   "cell_type": "code",
   "execution_count": 6,
   "metadata": {},
   "outputs": [],
   "source": [
    "import xarray as xr\n",
    "import glob\n",
    "import pandas as pd\n",
    "import numpy as np\n",
    "import torch\n",
    "import torch.nn as nn"
   ]
  },
  {
   "cell_type": "code",
   "execution_count": 3,
   "metadata": {},
   "outputs": [],
   "source": [
    "# little helper function\n",
    "def xr_opener(file):\n",
    "    ds = xr.open_dataset(file)\n",
    "    if 'index' in ds.coords:\n",
    "        ds = ds.rename({'index': 'date'}) \n",
    "    return ds"
   ]
  },
  {
   "attachments": {},
   "cell_type": "markdown",
   "metadata": {},
   "source": [
    "#### Read all files"
   ]
  },
  {
   "cell_type": "code",
   "execution_count": 4,
   "metadata": {},
   "outputs": [],
   "source": [
    "geo_folder = '../geo_data/great_db'"
   ]
  },
  {
   "cell_type": "code",
   "execution_count": 7,
   "metadata": {},
   "outputs": [],
   "source": [
    "files = glob.glob(f'{geo_folder}/nc_concat/*.nc')\n",
    "big_file = xr.concat([xr_opener(file) for file in files],\n",
    "                     dim='gauge_id')\n",
    "big_file\n"
   ]
  },
  {
   "attachments": {},
   "cell_type": "markdown",
   "metadata": {},
   "source": [
    "##### Select by gauge"
   ]
  },
  {
   "cell_type": "code",
   "execution_count": null,
   "metadata": {},
   "outputs": [],
   "source": [
    "gauges = ['5746']\n",
    "ds = big_file.sel(gauge_id=gauges)\n",
    "ds"
   ]
  },
  {
   "attachments": {},
   "cell_type": "markdown",
   "metadata": {},
   "source": [
    "#### Select by other variables and split data"
   ]
  },
  {
   "cell_type": "code",
   "execution_count": null,
   "metadata": {},
   "outputs": [],
   "source": [
    "predictors = ['t_max_e5l', 't_max_e5', 't_min_e5l', 't_min_e5', 'prcp_e5l',\n",
    "             'prcp_e5', 'prcp_gpcp', 'prcp_imerg', 'prcp_mswep', 'Eb', 'Es',\n",
    "             'Et', 'SMsurf', 'SMroot', 'Ew', 'Ei', 'S', 'E', 'Ep']\n",
    "target = ['lvl_sm', 'q_cms_s', 'lvl_mbs', 'q_mm_day']\n",
    "\n",
    "future_window = 7\n",
    "past_window = 365\n",
    "\n",
    "train_start = '01/01/2008'\n",
    "train_end = '12/31/2015'\n",
    "\n",
    "val_start = '01/01/2016'\n",
    "val_end = '12/31/2018'\n",
    "\n",
    "test_start = '01/01/2019'\n",
    "test_end = '12/31/2020'"
   ]
  },
  {
   "cell_type": "code",
   "execution_count": null,
   "metadata": {},
   "outputs": [],
   "source": [
    "def split_ds(ds: xr.Dataset) -> dict:\n",
    "    past_predictors = list()\n",
    "    future_targets = list()\n",
    "\n",
    "    for i in range(past_window, len(ds['date'])-future_window):\n",
    "        \n",
    "        t = ds['date'].isel(date=i).values\n",
    "        t = pd.to_datetime(t).strftime('%Y-%m-%d')\n",
    "        \n",
    "        past_predictors.append(\n",
    "            (ds.to_array().values[:, :, i-past_window:i]))\n",
    "        \n",
    "        future_targets.append(\n",
    "            (ds[target].to_array().values[:, :, i:i+future_window]))\n",
    "\n",
    "    past_predictors = np.array(past_predictors)\n",
    "    future_targets = np.array(future_targets)\n",
    "    \n",
    "    data = {'past_seq': torch.tensor(past_predictors, dtype=torch.float),\n",
    "            'future_seq': torch.tensor(future_targets, dtype=torch.float)}\n",
    "    \n",
    "    return data\n"
   ]
  },
  {
   "cell_type": "code",
   "execution_count": null,
   "metadata": {},
   "outputs": [],
   "source": [
    "# train\n",
    "train_past, train_future = split_ds(train_ds)\n",
    "# validation\n",
    "val_past, val_future = split_ds(val_ds)\n",
    "# test\n",
    "test_past, test_future = split_ds(test_ds)"
   ]
  }
 ],
 "metadata": {
  "kernelspec": {
   "display_name": "geo",
   "language": "python",
   "name": "python3"
  },
  "language_info": {
   "codemirror_mode": {
    "name": "ipython",
    "version": 3
   },
   "file_extension": ".py",
   "mimetype": "text/x-python",
   "name": "python",
   "nbconvert_exporter": "python",
   "pygments_lexer": "ipython3",
   "version": "3.10.9"
  },
  "orig_nbformat": 4
 },
 "nbformat": 4,
 "nbformat_minor": 2
}
