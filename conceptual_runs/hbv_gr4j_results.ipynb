{
 "cells": [
  {
   "cell_type": "code",
   "execution_count": 1,
   "metadata": {},
   "outputs": [],
   "source": [
    "%load_ext autoreload\n",
    "%autoreload 2"
   ]
  },
  {
   "cell_type": "code",
   "execution_count": 2,
   "metadata": {},
   "outputs": [],
   "source": [
    "import glob\n",
    "import pandas as pd\n",
    "from scripts.data_readers import read_gauge, get_params\n",
    "from pathlib import Path\n",
    "from hydro_models import hbv, gr4j_cema_neige\n",
    "\n",
    "calibration_place = Path('./cal_res')\n",
    "hbv_calibration = Path(f'{calibration_place}/hbv_full')\n",
    "hbv_calibration.mkdir(exist_ok=True, parents=True)\n",
    "gr4j_calibration = Path(f'{calibration_place}/hbv_full')\n",
    "gr4j_calibration.mkdir(exist_ok=True, parents=True)\n",
    "\n",
    "\n",
    "ready_hbv = [i.split('/')[-1][:-4]\n",
    "             for i in glob.glob('./cal_res/hbv_full/*.csv')]\n",
    "ready_gr4j = [i.split('/')[-1][:-4]\n",
    "              for i in glob.glob('./cal_res/gr4j_full/*')]\n",
    "hbv_df = pd.DataFrame()\n",
    "gr4j_df = pd.DataFrame()"
   ]
  },
  {
   "cell_type": "code",
   "execution_count": 2,
   "metadata": {},
   "outputs": [],
   "source": [
    "train, test = read_gauge(gauge_id='12554',\n",
    "                         simple=False)"
   ]
  },
  {
   "cell_type": "code",
   "execution_count": 1,
   "metadata": {},
   "outputs": [],
   "source": [
    "import glob\n",
    "import pandas as pd\n",
    "from scripts.data_readers import read_gauge, get_params\n",
    "from pathlib import Path\n",
    "\n",
    "calibration_place = Path('./cal_res')\n",
    "hbv_calibration = Path(f'{calibration_place}/hbv_full')\n",
    "hbv_calibration.mkdir(exist_ok=True, parents=True)\n",
    "\n",
    "ready_hbv = [i.split('/')[-1][:-4]\n",
    "             for i in glob.glob('./cal_res/hbv_full/*.csv')]\n",
    "\n",
    "gr4j_df = pd.DataFrame()\n",
    "\n",
    "for i, gauge in enumerate([i.split('/')[-1][:-3]\n",
    "                           for i in\n",
    "                           glob.glob('../geo_data/great_db/nc_all_q/*.nc')]):\n",
    "    \n"
   ]
  },
  {
   "cell_type": "code",
   "execution_count": 4,
   "metadata": {},
   "outputs": [],
   "source": [
    "from typing import Optional\n",
    "import numpy as np\n",
    "\n",
    "\n",
    "def result_calibrator(calibration_folder: str,\n",
    "                      meteo_folder: list,\n",
    "                      model_name: str):\n",
    "\n",
    "    res_df = pd.DataFrame()\n",
    "    for i, gauge in enumerate([i.split('/')[-1][:-3]\n",
    "                               for i in\n",
    "                               meteo_folder]):\n",
    "        train, test = read_gauge(gauge_id=gauge, simple=False)\n",
    "        res_df.loc[i, 'gauge_id'] = gauge\n",
    "\n",
    "        try:\n",
    "            nse_val, _ = get_params(gauge_id=gauge,\n",
    "                                    iter_number=0,\n",
    "                                    model_name=model_name,\n",
    "                                    params_path=Path(f'{calibration_folder}'),\n",
    "                                    train=train, test=test,\n",
    "                                    calibrate=False,\n",
    "                                    with_plot=False)\n",
    "            res_df.loc[i, f'nse_{model_name}'] = nse_val\n",
    "        except FileNotFoundError:\n",
    "            res_df.loc[i, f'nse_{model_name}'] = np.NaN\n",
    "\n",
    "    return res_df"
   ]
  },
  {
   "cell_type": "code",
   "execution_count": 5,
   "metadata": {},
   "outputs": [],
   "source": [
    "test_df_gr4j = result_calibrator(calibration_folder='./cal_res/gr4j_full/',\n",
    "                                 meteo_folder=glob.glob(\n",
    "                                     '../geo_data/great_db/nc_all_q/*.nc'),\n",
    "                                 model_name='gr4j')"
   ]
  },
  {
   "cell_type": "code",
   "execution_count": 7,
   "metadata": {},
   "outputs": [
    {
     "data": {
      "text/plain": [
       "gauge_id    19122.50000\n",
       "nse_gr4j        0.45773\n",
       "dtype: float64"
      ]
     },
     "execution_count": 7,
     "metadata": {},
     "output_type": "execute_result"
    }
   ],
   "source": [
    "test_df.dropna().median()"
   ]
  },
  {
   "cell_type": "code",
   "execution_count": 8,
   "metadata": {},
   "outputs": [],
   "source": [
    "test_df_hbv = result_calibrator(calibration_folder='./cal_res/hbv_full/',\n",
    "                                meteo_folder=glob.glob(\n",
    "                                    '../geo_data/great_db/nc_all_q/*.nc'),\n",
    "                                model_name='hbv')"
   ]
  },
  {
   "cell_type": "code",
   "execution_count": 15,
   "metadata": {},
   "outputs": [
    {
     "data": {
      "text/html": [
       "<div>\n",
       "<style scoped>\n",
       "    .dataframe tbody tr th:only-of-type {\n",
       "        vertical-align: middle;\n",
       "    }\n",
       "\n",
       "    .dataframe tbody tr th {\n",
       "        vertical-align: top;\n",
       "    }\n",
       "\n",
       "    .dataframe thead th {\n",
       "        text-align: right;\n",
       "    }\n",
       "</style>\n",
       "<table border=\"1\" class=\"dataframe\">\n",
       "  <thead>\n",
       "    <tr style=\"text-align: right;\">\n",
       "      <th></th>\n",
       "      <th>gauge_id</th>\n",
       "      <th>nse_gr4j</th>\n",
       "    </tr>\n",
       "  </thead>\n",
       "  <tbody>\n",
       "    <tr>\n",
       "      <th>0</th>\n",
       "      <td>12554</td>\n",
       "      <td>0.386866</td>\n",
       "    </tr>\n",
       "    <tr>\n",
       "      <th>1</th>\n",
       "      <td>5746</td>\n",
       "      <td>0.725668</td>\n",
       "    </tr>\n",
       "    <tr>\n",
       "      <th>2</th>\n",
       "      <td>8376</td>\n",
       "      <td>-6.364886</td>\n",
       "    </tr>\n",
       "    <tr>\n",
       "      <th>3</th>\n",
       "      <td>3159</td>\n",
       "      <td>0.623936</td>\n",
       "    </tr>\n",
       "    <tr>\n",
       "      <th>4</th>\n",
       "      <td>74438</td>\n",
       "      <td>-0.114834</td>\n",
       "    </tr>\n",
       "    <tr>\n",
       "      <th>...</th>\n",
       "      <td>...</td>\n",
       "      <td>...</td>\n",
       "    </tr>\n",
       "    <tr>\n",
       "      <th>1109</th>\n",
       "      <td>9079</td>\n",
       "      <td>-0.169758</td>\n",
       "    </tr>\n",
       "    <tr>\n",
       "      <th>1110</th>\n",
       "      <td>72519</td>\n",
       "      <td>0.548018</td>\n",
       "    </tr>\n",
       "    <tr>\n",
       "      <th>1111</th>\n",
       "      <td>70827</td>\n",
       "      <td>0.709750</td>\n",
       "    </tr>\n",
       "    <tr>\n",
       "      <th>1112</th>\n",
       "      <td>4107</td>\n",
       "      <td>0.163530</td>\n",
       "    </tr>\n",
       "    <tr>\n",
       "      <th>1113</th>\n",
       "      <td>3001</td>\n",
       "      <td>0.590017</td>\n",
       "    </tr>\n",
       "  </tbody>\n",
       "</table>\n",
       "<p>1114 rows × 2 columns</p>\n",
       "</div>"
      ],
      "text/plain": [
       "     gauge_id  nse_gr4j\n",
       "0       12554  0.386866\n",
       "1        5746  0.725668\n",
       "2        8376 -6.364886\n",
       "3        3159  0.623936\n",
       "4       74438 -0.114834\n",
       "...       ...       ...\n",
       "1109     9079 -0.169758\n",
       "1110    72519  0.548018\n",
       "1111    70827  0.709750\n",
       "1112     4107  0.163530\n",
       "1113     3001  0.590017\n",
       "\n",
       "[1114 rows x 2 columns]"
      ]
     },
     "execution_count": 15,
     "metadata": {},
     "output_type": "execute_result"
    }
   ],
   "source": []
  },
  {
   "cell_type": "code",
   "execution_count": 22,
   "metadata": {},
   "outputs": [
    {
     "data": {
      "text/plain": [
       "nse_hbv     0.268075\n",
       "nse_gr4j    0.457730\n",
       "dtype: float64"
      ]
     },
     "execution_count": 22,
     "metadata": {},
     "output_type": "execute_result"
    }
   ],
   "source": [
    "test_df_hbv.set_index('gauge_id').join(test_df.set_index('gauge_id')).median()"
   ]
  },
  {
   "cell_type": "code",
   "execution_count": null,
   "metadata": {},
   "outputs": [],
   "source": []
  },
  {
   "cell_type": "code",
   "execution_count": 30,
   "metadata": {},
   "outputs": [
    {
     "ename": "SyntaxError",
     "evalue": "'[' was never closed (<string>, line 1)",
     "output_type": "error",
     "traceback": [
      "Traceback \u001b[0;36m(most recent call last)\u001b[0m:\n",
      "\u001b[0m  File \u001b[1;32m~/miniconda3/envs/geo/lib/python3.10/site-packages/IPython/core/interactiveshell.py:3460\u001b[0m in \u001b[1;35mrun_code\u001b[0m\n    exec(code_obj, self.user_global_ns, self.user_ns)\u001b[0m\n",
      "\u001b[0m  Cell \u001b[1;32mIn[30], line 7\u001b[0m\n    nse_val, _ = get_params(gauge_id=gauge,\u001b[0m\n",
      "\u001b[0;36m  File \u001b[0;32m~/dima_experiments/my_dissertation/conceptual_runs/scripts/data_readers.py:111\u001b[0;36m in \u001b[0;35mget_params\u001b[0;36m\n\u001b[0;31m    try:\u001b[0;36m\n",
      "\u001b[0;36m  File \u001b[0;32m<string>:1\u001b[0;36m\u001b[0m\n\u001b[0;31m    [(62.119675, -1.1597477, 103.14968 , 5.4663434, 0.7635524 , 4.708287 , 2.4600852)\u001b[0m\n\u001b[0m    ^\u001b[0m\n\u001b[0;31mSyntaxError\u001b[0m\u001b[0;31m:\u001b[0m '[' was never closed\n"
     ]
    }
   ],
   "source": [
    "res_df = pd.DataFrame()\n",
    "for i, gauge in enumerate([i.split('/')[-1][:-3]\n",
    "                            for i in\n",
    "                            glob.glob('../geo_data/great_db/nc_all_q/*.nc')]):\n",
    "    train, test = read_gauge(gauge_id=gauge, simple=False)\n",
    "\n",
    "    nse_val, _ = get_params(gauge_id=gauge,\n",
    "                            iter_number=0,\n",
    "                            model_name='gr4j',\n",
    "                            params_path=Path('./cal_res/gr4j_full/'),\n",
    "                            train=train, test=test,\n",
    "                            calibrate=False,\n",
    "                            with_plot=False)\n",
    "    res_df.loc[i, 'gauge_id'] = gauge\n",
    "    res_df.loc[i, f'nse_gr4j'] = nse_val"
   ]
  },
  {
   "cell_type": "code",
   "execution_count": 32,
   "metadata": {},
   "outputs": [],
   "source": [
    "folder = Path('./cal_res/gr4j_full/')\n",
    "lines = open(f'{folder}/{gauge}', 'r').read().splitlines()\n",
    "\n",
    "edited_line = lines[3].split(':')[1] + ']'\n",
    "params = eval(edited_line)[0]\n",
    "        \n",
    "        \n",
    "# params = eval(lines[3].split(':')[1])[0]"
   ]
  },
  {
   "cell_type": "code",
   "execution_count": 34,
   "metadata": {},
   "outputs": [
    {
     "data": {
      "text/plain": [
       "(62.119675, -1.1597477, 103.14968, 5.4663434, 0.7635524, 4.708287, 2.4600852)"
      ]
     },
     "execution_count": 34,
     "metadata": {},
     "output_type": "execute_result"
    }
   ],
   "source": [
    "params"
   ]
  },
  {
   "cell_type": "code",
   "execution_count": 33,
   "metadata": {},
   "outputs": [
    {
     "data": {
      "text/plain": [
       "['gr4j: ',\n",
       " '',\n",
       " 'RMSE: 0.7856725',\n",
       " 'params: [(62.119675, -1.1597477, 103.14968 , 5.4663434, 0.7635524 , 4.708287 , 2.4600852)',\n",
       " ' (62.102016, -1.1589255, 103.18681 , 5.4668927, 0.7636597 , 4.709492 , 2.4597344)',\n",
       " ' (62.09919 , -1.1585698, 103.20115 , 5.466416 , 0.7637372 , 4.7094984, 2.4595454)',\n",
       " ' (62.08009 , -1.160021 , 103.180954, 5.4663973, 0.76354766, 4.7082596, 2.4600174)',\n",
       " ' (62.089455, -1.1594112, 103.16455 , 5.4663553, 0.7637673 , 4.707796 , 2.4598334)',\n",
       " ' (62.12278 , -1.1593876, 103.13172 , 5.466452 , 0.763384  , 4.7079687, 2.4604177)]',\n",
       " '',\n",
       " '-------------------------',\n",
       " '']"
      ]
     },
     "execution_count": 33,
     "metadata": {},
     "output_type": "execute_result"
    }
   ],
   "source": [
    "lines"
   ]
  },
  {
   "cell_type": "code",
   "execution_count": 7,
   "metadata": {},
   "outputs": [
    {
     "data": {
      "image/png": "[encoded data removed]",
      "text/plain": [
       "<Figure size 640x480 with 1 Axes>"
      ]
     },
     "metadata": {},
     "output_type": "display_data"
    },
    {
     "data": {
      "text/plain": [
       "0.3868656622308886"
      ]
     },
     "execution_count": 7,
     "metadata": {},
     "output_type": "execute_result"
    }
   ],
   "source": [
    "get_params(\n",
    "    gauge_id='12554',\n",
    "    model_name='gr4j',\n",
    "    iter_number=6,\n",
    "    params_path=Path('./cal_res/gr4j_full/'),\n",
    "    train=train, test=test,\n",
    "    calibrate=False,\n",
    "    with_plot=True)[0]"
   ]
  }
 ],
 "metadata": {
  "kernelspec": {
   "display_name": "geo",
   "language": "python",
   "name": "python3"
  },
  "language_info": {
   "codemirror_mode": {
    "name": "ipython",
    "version": 3
   },
   "file_extension": ".py",
   "mimetype": "text/x-python",
   "name": "python",
   "nbconvert_exporter": "python",
   "pygments_lexer": "ipython3",
   "version": "3.10.9"
  },
  "orig_nbformat": 4
 },
 "nbformat": 4,
 "nbformat_minor": 2
}
