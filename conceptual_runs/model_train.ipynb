{
 "cells": [
  {
   "cell_type": "code",
   "execution_count": 1,
   "id": "initial_id",
   "metadata": {
    "ExecuteTime": {
     "end_time": "2024-03-12T11:44:42.487886Z",
     "start_time": "2024-03-12T11:44:42.474142Z"
    },
    "collapsed": true
   },
   "outputs": [],
   "source": [
    "%load_ext autoreload\n",
    "%autoreload 2"
   ]
  },
  {
   "cell_type": "markdown",
   "id": "e1699011d1bdc21a",
   "metadata": {
    "collapsed": false
   },
   "source": [
    "### Run some stuff"
   ]
  },
  {
   "cell_type": "code",
   "execution_count": 16,
   "id": "529efa70",
   "metadata": {},
   "outputs": [
    {
     "data": {
      "application/vnd.jupyter.widget-view+json": {
       "model_id": "e3c9af522a094307bb199e2f75cfa3e6",
       "version_major": 2,
       "version_minor": 0
      },
      "text/plain": [
       "  0%|          | 0/1114 [00:00<?, ?it/s]"
      ]
     },
     "metadata": {},
     "output_type": "display_data"
    }
   ],
   "source": [
    "import pathlib\n",
    "import numpy as np\n",
    "import pandas as pd\n",
    "import xarray as xr\n",
    "from tqdm.notebook import tqdm\n",
    "from scripts.data_readers import metric_df, model_ready_file\n",
    "from model_scripts import hbv, gr4j_cema_neige\n",
    "\n",
    "\n",
    "gauges = [i.stem for i in pathlib.Path(\"./hbv_calibrated/\").glob(\"*.npy\")]\n",
    "\n",
    "hbv_res_df = list()\n",
    "for gauge_id in tqdm(gauges):\n",
    "    with xr.open_dataset(f\"../geo_data/ws_related_meteo/nc_all_q/{gauge_id}.nc\") as f:\n",
    "        example_df = f.to_pandas()\n",
    "        example_df = example_df.drop(\"gauge_id\", axis=1)\n",
    "        test_df = model_ready_file(example_df[\"2019-01-01\":])\n",
    "\n",
    "    with open(f\"./hbv_calibrated/{gauge_id}.npy\", \"rb\") as f:\n",
    "        gauge_params = np.load(f)[0]\n",
    "\n",
    "    res_df = pd.DataFrame()\n",
    "    res_df[\"obs\"] = test_df[\"Q_mm\"]\n",
    "    res_df[\"pred\"] = hbv.simulation(test_df, params=gauge_params)\n",
    "    hbv_res_df.append(\n",
    "        metric_df(gauge_id=gauge_id, predictions=res_df[\"pred\"], targets=res_df[\"obs\"])\n",
    "    )\n",
    "hbv_res_df = pd.concat(hbv_res_df)"
   ]
  },
  {
   "cell_type": "code",
   "execution_count": 23,
   "id": "4a9711e2",
   "metadata": {},
   "outputs": [
    {
     "data": {
      "application/vnd.jupyter.widget-view+json": {
       "model_id": "1568ad60fdf949d986612f25144af035",
       "version_major": 2,
       "version_minor": 0
      },
      "text/plain": [
       "  0%|          | 0/1105 [00:00<?, ?it/s]"
      ]
     },
     "metadata": {},
     "output_type": "display_data"
    }
   ],
   "source": [
    "gauges = [i.stem for i in pathlib.Path(\"./gr4j_calibrated/\").glob(\"*.npy\")]\n",
    "\n",
    "gr4j_res_df = list()\n",
    "for gauge_id in tqdm(gauges):\n",
    "    with xr.open_dataset(f\"../geo_data/ws_related_meteo/nc_all_q/{gauge_id}.nc\") as f:\n",
    "        example_df = f.to_pandas()\n",
    "        example_df = example_df.drop(\"gauge_id\", axis=1)\n",
    "        test_df = model_ready_file(example_df[\"2019-01-01\":])\n",
    "\n",
    "    with open(f\"./gr4j_calibrated/{gauge_id}.npy\", \"rb\") as f:\n",
    "        gauge_params = np.load(f)[0]\n",
    "\n",
    "    res_df = pd.DataFrame()\n",
    "    res_df[\"obs\"] = test_df[\"Q_mm\"]\n",
    "    res_df[\"pred\"] = gr4j_cema_neige.simulation(test_df, params=gauge_params)\n",
    "    gr4j_res_df.append(\n",
    "        metric_df(gauge_id=gauge_id, predictions=res_df[\"pred\"], targets=res_df[\"obs\"])\n",
    "    )\n",
    "gr4j_res_df = pd.concat(gr4j_res_df)"
   ]
  }
 ],
 "metadata": {
  "kernelspec": {
   "display_name": "Python 3",
   "language": "python",
   "name": "python3"
  },
  "language_info": {
   "codemirror_mode": {
    "name": "ipython",
    "version": 3
   },
   "file_extension": ".py",
   "mimetype": "text/x-python",
   "name": "python",
   "nbconvert_exporter": "python",
   "pygments_lexer": "ipython3",
   "version": "3.10.13"
  }
 },
 "nbformat": 4,
 "nbformat_minor": 5
}
