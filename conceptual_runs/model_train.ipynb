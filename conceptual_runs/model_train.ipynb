{
 "cells": [
  {
   "cell_type": "code",
   "execution_count": 2,
   "id": "initial_id",
   "metadata": {
    "ExecuteTime": {
     "end_time": "2024-03-12T11:44:42.487886Z",
     "start_time": "2024-03-12T11:44:42.474142Z"
    },
    "collapsed": true
   },
   "outputs": [
    {
     "name": "stdout",
     "output_type": "stream",
     "text": [
      "The autoreload extension is already loaded. To reload it, use:\n",
      "  %reload_ext autoreload\n"
     ]
    }
   ],
   "source": [
    "%load_ext autoreload\n",
    "%autoreload 2"
   ]
  },
  {
   "cell_type": "markdown",
   "id": "e1699011d1bdc21a",
   "metadata": {
    "collapsed": false
   },
   "source": [
    "### Run some stuff"
   ]
  },
  {
   "cell_type": "code",
   "execution_count": 3,
   "id": "529efa70",
   "metadata": {},
   "outputs": [],
   "source": [
    "import pathlib\n",
    "\n",
    "import numpy as np\n",
    "import pandas as pd\n",
    "import xarray as xr\n",
    "from model_scripts import gr4j_cema_neige, hbv\n",
    "from scripts.data_readers import metric_df, model_ready_file\n",
    "from tqdm.notebook import tqdm"
   ]
  },
  {
   "cell_type": "markdown",
   "id": "70384340",
   "metadata": {},
   "source": [
    "### Get unique composition based on alghoritm and metric"
   ]
  },
  {
   "cell_type": "markdown",
   "id": "fd8fe842",
   "metadata": {},
   "source": [
    "#### GR4J"
   ]
  },
  {
   "cell_type": "code",
   "execution_count": 37,
   "id": "cf7c8ede",
   "metadata": {},
   "outputs": [
    {
     "data": {
      "application/vnd.jupyter.widget-view+json": {
       "model_id": "1a29463315a74d4982c9e202c35b0553",
       "version_major": 2,
       "version_minor": 0
      },
      "text/plain": [
       "  0%|          | 0/1112 [00:00<?, ?it/s]"
      ]
     },
     "metadata": {},
     "output_type": "display_data"
    },
    {
     "data": {
      "application/vnd.jupyter.widget-view+json": {
       "model_id": "6a59da5de6d6467e84f81754243c10de",
       "version_major": 2,
       "version_minor": 0
      },
      "text/plain": [
       "  0%|          | 0/1112 [00:00<?, ?it/s]"
      ]
     },
     "metadata": {},
     "output_type": "display_data"
    },
    {
     "data": {
      "application/vnd.jupyter.widget-view+json": {
       "model_id": "0737e90b2a2945ddbbfa27ea821d98d1",
       "version_major": 2,
       "version_minor": 0
      },
      "text/plain": [
       "  0%|          | 0/1112 [00:00<?, ?it/s]"
      ]
     },
     "metadata": {},
     "output_type": "display_data"
    },
    {
     "data": {
      "application/vnd.jupyter.widget-view+json": {
       "model_id": "5a1b9a8062dd4621a81bb5bd83c51048",
       "version_major": 2,
       "version_minor": 0
      },
      "text/plain": [
       "  0%|          | 0/1112 [00:00<?, ?it/s]"
      ]
     },
     "metadata": {},
     "output_type": "display_data"
    },
    {
     "data": {
      "application/vnd.jupyter.widget-view+json": {
       "model_id": "8e31c6b79b334931ba00ef0a9e48e344",
       "version_major": 2,
       "version_minor": 0
      },
      "text/plain": [
       "  0%|          | 0/1105 [00:00<?, ?it/s]"
      ]
     },
     "metadata": {},
     "output_type": "display_data"
    },
    {
     "data": {
      "application/vnd.jupyter.widget-view+json": {
       "model_id": "6249d7520a9c417d9ea604f06309c2fa",
       "version_major": 2,
       "version_minor": 0
      },
      "text/plain": [
       "  0%|          | 0/1112 [00:00<?, ?it/s]"
      ]
     },
     "metadata": {},
     "output_type": "display_data"
    }
   ],
   "source": [
    "gr4j_models = list(pathlib.Path(\"./\").glob(\"gr4j_calibration*\"))\n",
    "\n",
    "for gr4j_mdl in gr4j_models:\n",
    "    algh, metric = str(gr4j_mdl).split(\"_\")[-2], str(gr4j_mdl).split(\"_\")[-1]\n",
    "\n",
    "    gauges = [i.stem for i in pathlib.Path(f\"./{gr4j_mdl}/\").glob(\"*.npy\")]\n",
    "\n",
    "    gr4j_res_df = list()\n",
    "    for gauge_id in tqdm(gauges):\n",
    "        with xr.open_dataset(\n",
    "            f\"../geo_data/ws_related_meteo/nc_all_q/{gauge_id}.nc\"\n",
    "        ) as f:\n",
    "            example_df = f.to_pandas()\n",
    "            example_df = example_df.drop(\"gauge_id\", axis=1)\n",
    "            test_df = model_ready_file(example_df[\"2019-01-01\":])\n",
    "\n",
    "        with open(f\"./{gr4j_mdl}/{gauge_id}.npy\", \"rb\") as f:\n",
    "            gauge_params = np.load(f)[0]\n",
    "\n",
    "        res_df = pd.DataFrame()\n",
    "        res_df[\"obs\"] = test_df[\"Q_mm\"]\n",
    "        res_df[\"pred\"] = gr4j_cema_neige.simulation(\n",
    "            test_df, params=gauge_params)\n",
    "        gr4j_res_df.append(\n",
    "            metric_df(\n",
    "                gauge_id=gauge_id, predictions=res_df[\"pred\"], targets=res_df[\"obs\"]\n",
    "            )\n",
    "        )\n",
    "    gr4j_res_df = pd.concat(gr4j_res_df)\n",
    "    gr4j_res_df.index.name = \"gauge_id\"\n",
    "    gr4j_res_df.to_csv(f\"./cal_res/gr4j/GR4J_res_{algh}_{metric}.csv\")"
   ]
  },
  {
   "cell_type": "markdown",
   "id": "3bc923c3",
   "metadata": {},
   "source": [
    "#### HBV"
   ]
  },
  {
   "cell_type": "code",
   "execution_count": 39,
   "id": "4aa6b62e",
   "metadata": {},
   "outputs": [
    {
     "data": {
      "application/vnd.jupyter.widget-view+json": {
       "model_id": "a1ac7473ca10452bb2f4f7f608ab0b77",
       "version_major": 2,
       "version_minor": 0
      },
      "text/plain": [
       "  0%|          | 0/1114 [00:00<?, ?it/s]"
      ]
     },
     "metadata": {},
     "output_type": "display_data"
    },
    {
     "data": {
      "application/vnd.jupyter.widget-view+json": {
       "model_id": "b8c7ab788bb540908893278f112bfad7",
       "version_major": 2,
       "version_minor": 0
      },
      "text/plain": [
       "  0%|          | 0/1114 [00:00<?, ?it/s]"
      ]
     },
     "metadata": {},
     "output_type": "display_data"
    },
    {
     "data": {
      "application/vnd.jupyter.widget-view+json": {
       "model_id": "ddbe874d82df431b9f89241b841a7caa",
       "version_major": 2,
       "version_minor": 0
      },
      "text/plain": [
       "  0%|          | 0/1114 [00:00<?, ?it/s]"
      ]
     },
     "metadata": {},
     "output_type": "display_data"
    },
    {
     "data": {
      "application/vnd.jupyter.widget-view+json": {
       "model_id": "6e88f21ed802419880ff527ece11bc65",
       "version_major": 2,
       "version_minor": 0
      },
      "text/plain": [
       "  0%|          | 0/1114 [00:00<?, ?it/s]"
      ]
     },
     "metadata": {},
     "output_type": "display_data"
    },
    {
     "data": {
      "application/vnd.jupyter.widget-view+json": {
       "model_id": "6a97a2555d67407da9fc403e47bd6948",
       "version_major": 2,
       "version_minor": 0
      },
      "text/plain": [
       "  0%|          | 0/1114 [00:00<?, ?it/s]"
      ]
     },
     "metadata": {},
     "output_type": "display_data"
    },
    {
     "data": {
      "application/vnd.jupyter.widget-view+json": {
       "model_id": "ec29aee3667347c69ec587fab8f29112",
       "version_major": 2,
       "version_minor": 0
      },
      "text/plain": [
       "  0%|          | 0/1114 [00:00<?, ?it/s]"
      ]
     },
     "metadata": {},
     "output_type": "display_data"
    }
   ],
   "source": [
    "hbv_models = list(pathlib.Path(\"./\").glob(\"hbv_calibration*\"))\n",
    "\n",
    "for hbv_mdl in hbv_models:\n",
    "    algh, metric = str(hbv_mdl).split(\"_\")[-2], str(hbv_mdl).split(\"_\")[-1]\n",
    "\n",
    "    gauges = [i.stem for i in pathlib.Path(f\"./{hbv_mdl}/\").glob(\"*.npy\")]\n",
    "\n",
    "    hbv_res_df = list()\n",
    "    for gauge_id in tqdm(gauges):\n",
    "        with xr.open_dataset(\n",
    "            f\"../geo_data/ws_related_meteo/nc_all_q/{gauge_id}.nc\"\n",
    "        ) as f:\n",
    "            example_df = f.to_pandas()\n",
    "            example_df = example_df.drop(\"gauge_id\", axis=1)\n",
    "            test_df = model_ready_file(example_df[\"2019-01-01\":])\n",
    "\n",
    "        with open(f\"./{hbv_mdl}/{gauge_id}.npy\", \"rb\") as f:\n",
    "            gauge_params = np.load(f)[0]\n",
    "\n",
    "        res_df = pd.DataFrame()\n",
    "        res_df[\"obs\"] = test_df[\"Q_mm\"]\n",
    "        res_df[\"pred\"] = hbv.simulation(test_df, params=gauge_params)\n",
    "        hbv_res_df.append(\n",
    "            metric_df(\n",
    "                gauge_id=gauge_id, predictions=res_df[\"pred\"], targets=res_df[\"obs\"]\n",
    "            )\n",
    "        )\n",
    "    hbv_res_df = pd.concat(hbv_res_df)\n",
    "    hbv_res_df.index.name = \"gauge_id\"\n",
    "    hbv_res_df.to_csv(f\"./cal_res/hbv/HBV_res_{algh}_{metric}.csv\")"
   ]
  }
 ],
 "metadata": {
  "kernelspec": {
   "display_name": "Python 3",
   "language": "python",
   "name": "python3"
  },
  "language_info": {
   "codemirror_mode": {
    "name": "ipython",
    "version": 3
   },
   "file_extension": ".py",
   "mimetype": "text/x-python",
   "name": "python",
   "nbconvert_exporter": "python",
   "pygments_lexer": "ipython3",
   "version": "3.10.13"
  }
 },
 "nbformat": 4,
 "nbformat_minor": 5
}
